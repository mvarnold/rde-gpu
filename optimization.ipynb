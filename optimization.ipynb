{
 "cells": [
  {
   "cell_type": "code",
   "execution_count": 3,
   "metadata": {
    "collapsed": false
   },
   "outputs": [],
   "source": [
    "import matplotlib.pyplot as plt\n",
    "import numpy as np\n",
    "from PIL import Image\n",
    "import skimage\n",
    "from skimage import data\n",
    "import subprocess\n",
    "import shlex\n",
    "import time\n",
    "import progressbar\n",
    "from shutil import copyfile\n",
    "colors = [\"#2078B5\", \"#FF7F0F\", \"#2CA12C\", \"#D72827\", \"#9467BE\", \"#8C574B\",\n",
    "            \"#E478C2\", \"#808080\", \"#BCBE20\", \"#17BED0\", \"#AEC8E9\", \"#FFBC79\", \n",
    "            \"#98E08B\", \"#FF9896\", \"#C6B1D6\", \"#C59D94\", \"#F8B7D3\", \"#C8C8C8\", \n",
    "           \"#DCDC8E\", \"#9EDAE6\"]"
   ]
  },
  {
   "cell_type": "code",
   "execution_count": 126,
   "metadata": {
    "collapsed": false
   },
   "outputs": [
    {
     "name": "stderr",
     "output_type": "stream",
     "text": [
      "//anaconda/lib/python3.5/site-packages/skimage/exposure/exposure.py:63: UserWarning: This might be a color image. The histogram will be computed on the flattened image. You can instead apply this function to each color channel.\n",
      "  warn(\"This might be a color image. The histogram will be \"\n"
     ]
    },
    {
     "data": {
      "text/plain": [
       "(array([7612,    0,    0,    0,    0,    0,    0,    0,    0,    0,    0,\n",
       "           0,    0,    0,    0,    0,    0,    0,    0,    0,    0,    0,\n",
       "           0,    0,    0,    0,    0,    0,    0,    0,    0,    0,    0,\n",
       "           0,    0,    0,    0,    0,    0,    0,    0,    0,    0,    0,\n",
       "           0,    0,    0,    0,    0,    0,    0,    0,    0,    0,    0,\n",
       "           0,    0,    0,    0,    0,    0,    0,    0,    0,    0,    0,\n",
       "           0,    0,    0,    0,    0,    0,    0,    0,    0,    0,    0,\n",
       "           0,    0,    0,    0,    0,    0,    0,    0,    0,    0,    0,\n",
       "           0,    0,    0,    0,    0,    0,    0,    0,    0,    0,    0,\n",
       "           0,    0,    0,    0,    0,    0,    0,    0,    0,    0,    0,\n",
       "           0,    0,    0,    0,    0,    0,    0,    0,    0,    0,    0,\n",
       "           0,    0,    0,    0,    0,    0,  350,    0,    0,    0,    0,\n",
       "           0,    0,    0,    0,    0,    0,    0,    0,    0,    0,    0,\n",
       "           0,    0,    0,    0,    0,    0,    0,    0,    0,    0,    0,\n",
       "           0,    0,    0,    0,    0,    0,    0,    0,    0,    0,    0,\n",
       "           0,    0,    0,    0,    0,    0,    0,    0,    0,    0,    0,\n",
       "           0,    0,    0,    0,    0,    0,    0,    0,    0,    0,    0,\n",
       "           0,    0,    0,    0,    0,    0,    0,    0,    0,    0,    0,\n",
       "           0,    0,    0,    0,    0,    0,    0,    0,    0,    0,    0,\n",
       "           0,    0,    0,    0,    0,    0,    0,    0,    0,    0,    0,\n",
       "           0,    0,    0,    0,    0,    0,    0,    0,    0,    0,    0,\n",
       "           0,    0,    0,    0,    0,    0,    0,    0,    0,    0,    0,\n",
       "           0,    0,    0,    0,    0,    0,    0,    0,    0,    0,    0,\n",
       "           0,    0,  150]),\n",
       " array([  0,   1,   2,   3,   4,   5,   6,   7,   8,   9,  10,  11,  12,\n",
       "         13,  14,  15,  16,  17,  18,  19,  20,  21,  22,  23,  24,  25,\n",
       "         26,  27,  28,  29,  30,  31,  32,  33,  34,  35,  36,  37,  38,\n",
       "         39,  40,  41,  42,  43,  44,  45,  46,  47,  48,  49,  50,  51,\n",
       "         52,  53,  54,  55,  56,  57,  58,  59,  60,  61,  62,  63,  64,\n",
       "         65,  66,  67,  68,  69,  70,  71,  72,  73,  74,  75,  76,  77,\n",
       "         78,  79,  80,  81,  82,  83,  84,  85,  86,  87,  88,  89,  90,\n",
       "         91,  92,  93,  94,  95,  96,  97,  98,  99, 100, 101, 102, 103,\n",
       "        104, 105, 106, 107, 108, 109, 110, 111, 112, 113, 114, 115, 116,\n",
       "        117, 118, 119, 120, 121, 122, 123, 124, 125, 126, 127, 128, 129,\n",
       "        130, 131, 132, 133, 134, 135, 136, 137, 138, 139, 140, 141, 142,\n",
       "        143, 144, 145, 146, 147, 148, 149, 150, 151, 152, 153, 154, 155,\n",
       "        156, 157, 158, 159, 160, 161, 162, 163, 164, 165, 166, 167, 168,\n",
       "        169, 170, 171, 172, 173, 174, 175, 176, 177, 178, 179, 180, 181,\n",
       "        182, 183, 184, 185, 186, 187, 188, 189, 190, 191, 192, 193, 194,\n",
       "        195, 196, 197, 198, 199, 200, 201, 202, 203, 204, 205, 206, 207,\n",
       "        208, 209, 210, 211, 212, 213, 214, 215, 216, 217, 218, 219, 220,\n",
       "        221, 222, 223, 224, 225, 226, 227, 228, 229, 230, 231, 232, 233,\n",
       "        234, 235, 236, 237, 238, 239, 240, 241, 242, 243, 244, 245, 246,\n",
       "        247, 248, 249, 250, 251, 252, 253, 254, 255]))"
      ]
     },
     "execution_count": 126,
     "metadata": {},
     "output_type": "execute_result"
    }
   ],
   "source": [
    "subprocess.call(shlex.split('./gpudep -b -g 50 -f 1 -t 7056'))\n",
    "path = '/Users/Winston/test/gpudep-master/OUTPUT/'\n",
    "image = 'output_000003.bmp'\n",
    "\n",
    "im = Image.open(path+image)\n",
    "im.load()\n",
    "height, width = im.size\n",
    "\n",
    "data = np.array(im)\n",
    "hist = skimage.exposure.histogram(data)\n",
    "hist"
   ]
  },
  {
   "cell_type": "code",
   "execution_count": 6,
   "metadata": {
    "collapsed": false,
    "scrolled": true
   },
   "outputs": [
    {
     "name": "stderr",
     "output_type": "stream",
     "text": [
      "  0% (  0 of 100) |                                          | Elapsed Time: 0:00:00 ETA:  --:--:--//anaconda/lib/python3.5/site-packages/skimage/exposure/exposure.py:63: UserWarning: This might be a color image. The histogram will be computed on the flattened image. You can instead apply this function to each color channel.\n",
      "  warn(\"This might be a color image. The histogram will be \"\n",
      "  0% (  0 of 100) |                                            | Elapsed Time: 0:01:36 ETA: 3:11:53"
     ]
    },
    {
     "name": "stdout",
     "output_type": "stream",
     "text": [
      "pattern\n",
      "a = 0.0039978, c = 0.08, alpha = 0.01000\n"
     ]
    },
    {
     "name": "stderr",
     "output_type": "stream",
     "text": [
      "\r",
      "                                                                                                   \r",
      "\r",
      "  0% (  0 of 100) |                                            | Elapsed Time: 0:01:55 ETA: 3:49:25"
     ]
    },
    {
     "name": "stdout",
     "output_type": "stream",
     "text": [
      "pattern\n",
      "a = 0.0139923, c = 0.09, alpha = 0.01000\n"
     ]
    },
    {
     "name": "stderr",
     "output_type": "stream",
     "text": [
      "\r",
      "                                                                                                   \r",
      "\r",
      "  0% (  0 of 100) |                                            | Elapsed Time: 0:02:15 ETA: 4:28:36"
     ]
    },
    {
     "name": "stdout",
     "output_type": "stream",
     "text": [
      "pattern\n",
      "a = 0.0239868, c = 0.10, alpha = 0.01000\n"
     ]
    },
    {
     "name": "stderr",
     "output_type": "stream",
     "text": [
      "\r",
      "                                                                                                   \r",
      "\r",
      "  0% (  0 of 100) |                                            | Elapsed Time: 0:02:33 ETA: 5:24:04"
     ]
    },
    {
     "name": "stdout",
     "output_type": "stream",
     "text": [
      "pattern\n",
      "a = 0.0339966, c = 0.11, alpha = 0.01000\n"
     ]
    },
    {
     "name": "stderr",
     "output_type": "stream",
     "text": [
      "\r",
      "                                                                                                   \r",
      "\r",
      "  0% (  0 of 100) |                                            | Elapsed Time: 0:02:53 ETA: 6:44:41"
     ]
    },
    {
     "name": "stdout",
     "output_type": "stream",
     "text": [
      "pattern\n",
      "a = 0.0439606, c = 0.12, alpha = 0.01000\n"
     ]
    },
    {
     "name": "stderr",
     "output_type": "stream",
     "text": [
      "\r",
      "                                                                                                   \r",
      "\r",
      "  0% (  0 of 100) |                                            | Elapsed Time: 0:03:16 ETA: 8:56:44"
     ]
    },
    {
     "name": "stdout",
     "output_type": "stream",
     "text": [
      "pattern\n",
      "a = 0.0511780, c = 0.13, alpha = 0.01000\n"
     ]
    },
    {
     "name": "stderr",
     "output_type": "stream",
     "text": [
      "  1% (  1 of 100) |                                           | Elapsed Time: 0:05:53 ETA: 10:02:30"
     ]
    },
    {
     "name": "stdout",
     "output_type": "stream",
     "text": [
      "pattern\n",
      "a = 0.0533657, c = 0.19, alpha = 0.01000\n"
     ]
    },
    {
     "name": "stderr",
     "output_type": "stream",
     "text": [
      "\r",
      "                                                                                                   \r",
      "\r",
      "  1% (  1 of 100) |                                           | Elapsed Time: 0:06:20 ETA: 10:24:43"
     ]
    },
    {
     "name": "stdout",
     "output_type": "stream",
     "text": [
      "pattern\n",
      "a = 0.0534210, c = 0.20, alpha = 0.01000\n"
     ]
    },
    {
     "name": "stderr",
     "output_type": "stream",
     "text": [
      "\r",
      "                                                                                                   \r",
      "\r",
      "  1% (  1 of 100) |                                           | Elapsed Time: 0:06:41 ETA: 10:30:14"
     ]
    },
    {
     "name": "stdout",
     "output_type": "stream",
     "text": [
      "pattern\n",
      "a = 0.0534725, c = 0.21, alpha = 0.01000\n"
     ]
    },
    {
     "name": "stderr",
     "output_type": "stream",
     "text": [
      "  1% (  1 of 100) |                                            | Elapsed Time: 0:07:35 ETA: 9:07:37"
     ]
    },
    {
     "name": "stdout",
     "output_type": "stream",
     "text": [
      "pattern\n",
      "a = 0.0535641, c = 0.23, alpha = 0.01000\n"
     ]
    },
    {
     "name": "stderr",
     "output_type": "stream",
     "text": [
      "\r",
      "                                                                                                   \r",
      "\r",
      "  1% (  1 of 100) |                                           | Elapsed Time: 0:08:01 ETA: 10:52:22"
     ]
    },
    {
     "name": "stdout",
     "output_type": "stream",
     "text": [
      "pattern\n",
      "a = 0.0536060, c = 0.24, alpha = 0.01000\n"
     ]
    },
    {
     "name": "stderr",
     "output_type": "stream",
     "text": [
      "  1% (  1 of 100) |                                           | Elapsed Time: 0:09:20 ETA: 13:25:00"
     ]
    },
    {
     "name": "stdout",
     "output_type": "stream",
     "text": [
      "pattern\n",
      "a = 0.0537167, c = 0.27, alpha = 0.01000\n"
     ]
    },
    {
     "name": "stderr",
     "output_type": "stream",
     "text": [
      "\r",
      "                                                                                                   \r",
      "\r",
      "  1% (  1 of 100) |                                           | Elapsed Time: 0:09:48 ETA: 17:55:47"
     ]
    },
    {
     "name": "stdout",
     "output_type": "stream",
     "text": [
      "pattern\n",
      "a = 0.0537491, c = 0.28, alpha = 0.01000\n"
     ]
    },
    {
     "name": "stderr",
     "output_type": "stream",
     "text": [
      "  1% (  1 of 100) |                                           | Elapsed Time: 0:10:40 ETA: 13:39:36"
     ]
    },
    {
     "name": "stdout",
     "output_type": "stream",
     "text": [
      "pattern\n",
      "a = 0.0538101, c = 0.30, alpha = 0.01000\n"
     ]
    },
    {
     "name": "stderr",
     "output_type": "stream",
     "text": [
      "\r",
      "                                                                                                   \r",
      "\r",
      "  1% (  1 of 100) |                                           | Elapsed Time: 0:11:04 ETA: 13:27:11"
     ]
    },
    {
     "name": "stdout",
     "output_type": "stream",
     "text": [
      "pattern\n",
      "a = 0.0538387, c = 0.31, alpha = 0.01000\n"
     ]
    },
    {
     "name": "stderr",
     "output_type": "stream",
     "text": [
      "\r",
      "                                                                                                   \r",
      "\r",
      "  1% (  1 of 100) |                                           | Elapsed Time: 0:11:31 ETA: 17:59:27"
     ]
    },
    {
     "name": "stdout",
     "output_type": "stream",
     "text": [
      "pattern\n",
      "a = 0.0538654, c = 0.32, alpha = 0.01000\n"
     ]
    },
    {
     "name": "stderr",
     "output_type": "stream",
     "text": [
      "  2% (  2 of 100) |#                                          | Elapsed Time: 0:13:44 ETA: 10:45:54"
     ]
    },
    {
     "name": "stdout",
     "output_type": "stream",
     "text": [
      "pattern\n",
      "a = 0.0539837, c = 0.37, alpha = 0.01000\n"
     ]
    },
    {
     "name": "stderr",
     "output_type": "stream",
     "text": [
      "  2% (  2 of 100) |#                                           | Elapsed Time: 0:15:31 ETA: 7:48:08"
     ]
    },
    {
     "name": "stdout",
     "output_type": "stream",
     "text": [
      "pattern\n",
      "a = 0.0540619, c = 0.41, alpha = 0.01000\n"
     ]
    },
    {
     "name": "stderr",
     "output_type": "stream",
     "text": [
      "  3% (  3 of 100) |#                                           | Elapsed Time: 0:17:40 ETA: 7:35:51"
     ]
    },
    {
     "name": "stdout",
     "output_type": "stream",
     "text": [
      "pattern\n",
      "a = 0.0541458, c = 0.46, alpha = 0.01000\n"
     ]
    },
    {
     "name": "stderr",
     "output_type": "stream",
     "text": [
      "  3% (  3 of 100) |#                                           | Elapsed Time: 0:18:54 ETA: 7:22:09"
     ]
    },
    {
     "name": "stdout",
     "output_type": "stream",
     "text": [
      "pattern\n",
      "a = 0.0541897, c = 0.49, alpha = 0.01000\n"
     ]
    },
    {
     "name": "stderr",
     "output_type": "stream",
     "text": [
      "\r",
      "                                                                                                   \r",
      "\r",
      "  3% (  3 of 100) |#                                           | Elapsed Time: 0:19:18 ETA: 8:31:26"
     ]
    },
    {
     "name": "stdout",
     "output_type": "stream",
     "text": [
      "pattern\n",
      "a = 0.0542030, c = 0.50, alpha = 0.01000\n"
     ]
    },
    {
     "name": "stderr",
     "output_type": "stream",
     "text": [
      "\r",
      "                                                                                                   \r",
      "\r",
      "  3% (  3 of 100) |#                                           | Elapsed Time: 0:19:44 ETA: 8:42:57"
     ]
    },
    {
     "name": "stdout",
     "output_type": "stream",
     "text": [
      "pattern\n",
      "a = 0.0542164, c = 0.51, alpha = 0.01000\n"
     ]
    },
    {
     "name": "stderr",
     "output_type": "stream",
     "text": [
      "  3% (  3 of 100) |#                                          | Elapsed Time: 0:21:32 ETA: 10:25:56"
     ]
    },
    {
     "name": "stdout",
     "output_type": "stream",
     "text": [
      "pattern\n",
      "a = 0.0542660, c = 0.55, alpha = 0.01000\n"
     ]
    },
    {
     "name": "stderr",
     "output_type": "stream",
     "text": [
      "\r",
      "                                                                                                   \r",
      "\r",
      "  3% (  3 of 100) |#                                          | Elapsed Time: 0:21:59 ETA: 10:36:04"
     ]
    },
    {
     "name": "stdout",
     "output_type": "stream",
     "text": [
      "pattern\n",
      "a = 0.0542774, c = 0.56, alpha = 0.01000\n"
     ]
    },
    {
     "name": "stderr",
     "output_type": "stream",
     "text": [
      "\r",
      "                                                                                                   \r",
      "\r",
      "  3% (  3 of 100) |#                                          | Elapsed Time: 0:22:25 ETA: 13:17:35"
     ]
    },
    {
     "name": "stdout",
     "output_type": "stream",
     "text": [
      "pattern\n",
      "a = 0.0542889, c = 0.57, alpha = 0.01000\n"
     ]
    },
    {
     "name": "stderr",
     "output_type": "stream",
     "text": [
      "  4% (  4 of 100) |#                                           | Elapsed Time: 0:24:09 ETA: 8:50:15"
     ]
    },
    {
     "name": "stdout",
     "output_type": "stream",
     "text": [
      "pattern\n",
      "a = 0.0543308, c = 0.61, alpha = 0.01000\n"
     ]
    },
    {
     "name": "stderr",
     "output_type": "stream",
     "text": [
      "\r",
      "                                                                                                   \r",
      "\r",
      "  4% (  4 of 100) |#                                          | Elapsed Time: 0:24:35 ETA: 10:36:33"
     ]
    },
    {
     "name": "stdout",
     "output_type": "stream",
     "text": [
      "pattern\n",
      "a = 0.0543404, c = 0.62, alpha = 0.01000\n"
     ]
    },
    {
     "name": "stderr",
     "output_type": "stream",
     "text": [
      "\r",
      "                                                                                                   \r",
      "\r",
      "  4% (  4 of 100) |#                                          | Elapsed Time: 0:25:00 ETA: 13:06:47"
     ]
    },
    {
     "name": "stdout",
     "output_type": "stream",
     "text": [
      "pattern\n",
      "a = 0.0543499, c = 0.63, alpha = 0.01000\n"
     ]
    },
    {
     "name": "stderr",
     "output_type": "stream",
     "text": [
      "\r",
      "                                                                                                   \r",
      "\r",
      "  4% (  4 of 100) |#                                          | Elapsed Time: 0:25:25 ETA: 17:21:06"
     ]
    },
    {
     "name": "stdout",
     "output_type": "stream",
     "text": [
      "pattern\n",
      "a = 0.0543594, c = 0.64, alpha = 0.01000\n"
     ]
    },
    {
     "name": "stderr",
     "output_type": "stream",
     "text": [
      "\r",
      "                                                                                                   \r",
      "\r",
      "  4% (  4 of 100) |#                                          | Elapsed Time: 0:25:48 ETA: 17:03:52"
     ]
    },
    {
     "name": "stdout",
     "output_type": "stream",
     "text": [
      "pattern\n",
      "a = 0.0543690, c = 0.65, alpha = 0.01000\n"
     ]
    },
    {
     "name": "stderr",
     "output_type": "stream",
     "text": [
      "  4% (  4 of 100) |#                                          | Elapsed Time: 0:26:39 ETA: 12:47:17"
     ]
    },
    {
     "name": "stdout",
     "output_type": "stream",
     "text": [
      "pattern\n",
      "a = 0.0543861, c = 0.67, alpha = 0.01000\n"
     ]
    },
    {
     "name": "stderr",
     "output_type": "stream",
     "text": [
      "  4% (  4 of 100) |#                                          | Elapsed Time: 0:27:30 ETA: 16:50:25"
     ]
    },
    {
     "name": "stdout",
     "output_type": "stream",
     "text": [
      "pattern\n",
      "a = 0.0544033, c = 0.69, alpha = 0.01000\n"
     ]
    },
    {
     "name": "stderr",
     "output_type": "stream",
     "text": [
      "\r",
      "                                                                                                   \r",
      "\r",
      "  4% (  4 of 100) |#                                    | Elapsed Time: 0:27:55 ETA: 1 day, 1:16:20"
     ]
    },
    {
     "name": "stdout",
     "output_type": "stream",
     "text": [
      "pattern\n",
      "a = 0.0544109, c = 0.70, alpha = 0.01000\n"
     ]
    },
    {
     "name": "stderr",
     "output_type": "stream",
     "text": [
      "  4% (  4 of 100) |##                                          | Elapsed Time: 0:30:01 ETA: 8:24:12"
     ]
    },
    {
     "name": "stdout",
     "output_type": "stream",
     "text": [
      "pattern\n",
      "a = 0.0544491, c = 0.75, alpha = 0.01000\n"
     ]
    },
    {
     "name": "stderr",
     "output_type": "stream",
     "text": [
      "  5% (  5 of 100) |##                                          | Elapsed Time: 0:31:21 ETA: 8:31:11"
     ]
    },
    {
     "name": "stdout",
     "output_type": "stream",
     "text": [
      "pattern\n",
      "a = 0.0544701, c = 0.78, alpha = 0.01000\n"
     ]
    },
    {
     "name": "stderr",
     "output_type": "stream",
     "text": [
      "  5% (  5 of 100) |##                                          | Elapsed Time: 0:32:12 ETA: 7:19:59"
     ]
    },
    {
     "name": "stdout",
     "output_type": "stream",
     "text": [
      "pattern\n",
      "a = 0.0544834, c = 0.80, alpha = 0.01000\n"
     ]
    },
    {
     "name": "stderr",
     "output_type": "stream",
     "text": [
      "  5% (  5 of 100) |##                                          | Elapsed Time: 0:33:56 ETA: 8:38:02"
     ]
    },
    {
     "name": "stdout",
     "output_type": "stream",
     "text": [
      "pattern\n",
      "a = 0.0545082, c = 0.84, alpha = 0.01000\n"
     ]
    },
    {
     "name": "stderr",
     "output_type": "stream",
     "text": [
      "\r",
      "                                                                                                   \r",
      "\r",
      "  5% (  5 of 100) |##                                          | Elapsed Time: 0:34:20 ETA: 8:33:26"
     ]
    },
    {
     "name": "stdout",
     "output_type": "stream",
     "text": [
      "pattern\n",
      "a = 0.0545139, c = 0.85, alpha = 0.01000\n"
     ]
    },
    {
     "name": "stderr",
     "output_type": "stream",
     "text": [
      "\r",
      "                                                                                                   \r",
      "\r",
      "  5% (  5 of 100) |##                                         | Elapsed Time: 0:34:46 ETA: 10:12:06"
     ]
    },
    {
     "name": "stdout",
     "output_type": "stream",
     "text": [
      "pattern\n",
      "a = 0.0545197, c = 0.86, alpha = 0.01000\n"
     ]
    },
    {
     "name": "stderr",
     "output_type": "stream",
     "text": [
      "\r",
      "                                                                                                   \r",
      "\r",
      "  5% (  5 of 100) |##                                         | Elapsed Time: 0:35:06 ETA: 12:24:16"
     ]
    },
    {
     "name": "stdout",
     "output_type": "stream",
     "text": [
      "pattern\n",
      "a = 0.0545254, c = 0.87, alpha = 0.01000\n"
     ]
    },
    {
     "name": "stderr",
     "output_type": "stream",
     "text": [
      "\r",
      "                                                                                                   \r",
      "\r",
      "  5% (  5 of 100) |##                                         | Elapsed Time: 0:35:31 ETA: 12:25:45"
     ]
    },
    {
     "name": "stdout",
     "output_type": "stream",
     "text": [
      "pattern\n",
      "a = 0.0545311, c = 0.88, alpha = 0.01000\n"
     ]
    },
    {
     "name": "stderr",
     "output_type": "stream",
     "text": [
      "  5% (  5 of 100) |##                                         | Elapsed Time: 0:37:13 ETA: 12:15:52"
     ]
    },
    {
     "name": "stdout",
     "output_type": "stream",
     "text": [
      "pattern\n",
      "a = 0.0545521, c = 0.92, alpha = 0.01000\n"
     ]
    },
    {
     "name": "stderr",
     "output_type": "stream",
     "text": [
      "  6% (  6 of 100) |##                                          | Elapsed Time: 0:38:32 ETA: 9:53:34"
     ]
    },
    {
     "name": "stdout",
     "output_type": "stream",
     "text": [
      "pattern\n",
      "a = 0.0545673, c = 0.95, alpha = 0.01000\n"
     ]
    },
    {
     "name": "stderr",
     "output_type": "stream",
     "text": [
      "  6% (  6 of 100) |##                                          | Elapsed Time: 0:39:24 ETA: 8:29:44"
     ]
    },
    {
     "name": "stdout",
     "output_type": "stream",
     "text": [
      "pattern\n",
      "a = 0.0545769, c = 0.97, alpha = 0.01000\n"
     ]
    },
    {
     "name": "stderr",
     "output_type": "stream",
     "text": [
      "  6% (  6 of 100) |##                                          | Elapsed Time: 0:40:42 ETA: 8:29:40"
     ]
    },
    {
     "name": "stdout",
     "output_type": "stream",
     "text": [
      "pattern\n",
      "a = 0.0545902, c = 1.00, alpha = 0.01000\n"
     ]
    },
    {
     "name": "stderr",
     "output_type": "stream",
     "text": [
      "  6% (  6 of 100) |###                                         | Elapsed Time: 0:42:22 ETA: 8:21:24"
     ]
    },
    {
     "name": "stdout",
     "output_type": "stream",
     "text": [
      "pattern\n",
      "a = 0.0546074, c = 1.04, alpha = 0.01000\n"
     ]
    },
    {
     "name": "stderr",
     "output_type": "stream",
     "text": [
      "\r",
      "                                                                                                   \r",
      "\r",
      "  6% (  6 of 100) |###                                         | Elapsed Time: 0:42:46 ETA: 8:14:20"
     ]
    },
    {
     "name": "stdout",
     "output_type": "stream",
     "text": [
      "pattern\n",
      "a = 0.0546112, c = 1.05, alpha = 0.01000\n"
     ]
    },
    {
     "name": "stderr",
     "output_type": "stream",
     "text": [
      "  7% (  7 of 100) |###                                         | Elapsed Time: 0:45:42 ETA: 6:56:03"
     ]
    },
    {
     "name": "stdout",
     "output_type": "stream",
     "text": [
      "pattern\n",
      "a = 0.0546379, c = 1.12, alpha = 0.01000\n"
     ]
    },
    {
     "name": "stderr",
     "output_type": "stream",
     "text": [
      "\r",
      "                                                                                                   \r",
      "\r",
      "  7% (  7 of 100) |###                                         | Elapsed Time: 0:46:05 ETA: 8:00:31"
     ]
    },
    {
     "name": "stdout",
     "output_type": "stream",
     "text": [
      "pattern\n",
      "a = 0.0546417, c = 1.13, alpha = 0.01000\n"
     ]
    },
    {
     "name": "stderr",
     "output_type": "stream",
     "text": [
      "\r",
      "                                                                                                   \r",
      "\r",
      "  7% (  7 of 100) |###                                         | Elapsed Time: 0:46:25 ETA: 7:53:11"
     ]
    },
    {
     "name": "stdout",
     "output_type": "stream",
     "text": [
      "pattern\n",
      "a = 0.0546455, c = 1.14, alpha = 0.01000\n"
     ]
    },
    {
     "name": "stderr",
     "output_type": "stream",
     "text": [
      "  7% (  7 of 100) |###                                         | Elapsed Time: 0:48:04 ETA: 7:55:35"
     ]
    },
    {
     "name": "stdout",
     "output_type": "stream",
     "text": [
      "pattern\n",
      "a = 0.0546589, c = 1.18, alpha = 0.01000\n"
     ]
    },
    {
     "name": "stderr",
     "output_type": "stream",
     "text": [
      "  8% (  8 of 100) |###                                         | Elapsed Time: 0:49:21 ETA: 9:22:07"
     ]
    },
    {
     "name": "stdout",
     "output_type": "stream",
     "text": [
      "pattern\n",
      "a = 0.0546684, c = 1.21, alpha = 0.01000\n"
     ]
    },
    {
     "name": "stderr",
     "output_type": "stream",
     "text": [
      "  8% (  8 of 100) |###                                         | Elapsed Time: 0:51:24 ETA: 6:50:47"
     ]
    },
    {
     "name": "stdout",
     "output_type": "stream",
     "text": [
      "pattern\n",
      "a = 0.0546837, c = 1.26, alpha = 0.01000\n"
     ]
    },
    {
     "name": "stderr",
     "output_type": "stream",
     "text": [
      "  8% (  8 of 100) |###                                         | Elapsed Time: 0:52:10 ETA: 6:42:02"
     ]
    },
    {
     "name": "stdout",
     "output_type": "stream",
     "text": [
      "pattern\n",
      "a = 0.0546894, c = 1.28, alpha = 0.01000\n"
     ]
    },
    {
     "name": "stderr",
     "output_type": "stream",
     "text": [
      "  9% (  9 of 100) |####                                        | Elapsed Time: 0:54:37 ETA: 7:22:53"
     ]
    },
    {
     "name": "stdout",
     "output_type": "stream",
     "text": [
      "pattern\n",
      "a = 0.0547028, c = 1.33, alpha = 0.01000\n"
     ]
    },
    {
     "name": "stderr",
     "output_type": "stream",
     "text": [
      "  9% (  9 of 100) |####                                        | Elapsed Time: 0:56:00 ETA: 7:40:01"
     ]
    },
    {
     "name": "stdout",
     "output_type": "stream",
     "text": [
      "pattern\n",
      "a = 0.0547104, c = 1.36, alpha = 0.01000\n"
     ]
    },
    {
     "name": "stderr",
     "output_type": "stream",
     "text": [
      "  9% (  9 of 100) |####                                        | Elapsed Time: 0:57:52 ETA: 7:37:19"
     ]
    },
    {
     "name": "stdout",
     "output_type": "stream",
     "text": [
      "pattern\n",
      "a = 0.0547199, c = 1.40, alpha = 0.01000\n"
     ]
    },
    {
     "name": "stderr",
     "output_type": "stream",
     "text": [
      " 10% ( 10 of 100) |####                                        | Elapsed Time: 0:59:54 ETA: 7:52:50"
     ]
    },
    {
     "name": "stdout",
     "output_type": "stream",
     "text": [
      "pattern\n",
      "a = 0.0547295, c = 1.44, alpha = 0.01000\n"
     ]
    },
    {
     "name": "stderr",
     "output_type": "stream",
     "text": [
      "\r",
      "                                                                                                   \r",
      "\r",
      " 10% ( 10 of 100) |####                                        | Elapsed Time: 1:00:20 ETA: 9:05:20"
     ]
    },
    {
     "name": "stdout",
     "output_type": "stream",
     "text": [
      "pattern\n",
      "a = 0.0547314, c = 1.45, alpha = 0.01000\n"
     ]
    },
    {
     "name": "stderr",
     "output_type": "stream",
     "text": [
      "\r",
      "                                                                                                   \r",
      "\r",
      " 10% ( 10 of 100) |####                                        | Elapsed Time: 1:00:48 ETA: 9:10:11"
     ]
    },
    {
     "name": "stdout",
     "output_type": "stream",
     "text": [
      "pattern\n",
      "a = 0.0547333, c = 1.46, alpha = 0.01000\n"
     ]
    },
    {
     "name": "stderr",
     "output_type": "stream",
     "text": [
      " 12% ( 12 of 100) |#####                                       | Elapsed Time: 1:10:10 ETA: 6:10:46"
     ]
    },
    {
     "name": "stdout",
     "output_type": "stream",
     "text": [
      "pattern\n",
      "a = 0.0547695, c = 1.65, alpha = 0.01000\n"
     ]
    },
    {
     "name": "stderr",
     "output_type": "stream",
     "text": [
      "\r",
      "                                                                                                   \r",
      "\r",
      " 12% ( 12 of 100) |#####                                       | Elapsed Time: 1:10:38 ETA: 6:53:40"
     ]
    },
    {
     "name": "stdout",
     "output_type": "stream",
     "text": [
      "pattern\n",
      "a = 0.0547714, c = 1.66, alpha = 0.01000\n"
     ]
    },
    {
     "name": "stderr",
     "output_type": "stream",
     "text": [
      " 12% ( 12 of 100) |#####                                       | Elapsed Time: 1:13:32 ETA: 7:31:28"
     ]
    },
    {
     "name": "stdout",
     "output_type": "stream",
     "text": [
      "pattern\n",
      "a = 0.0547810, c = 1.72, alpha = 0.01000\n"
     ]
    },
    {
     "name": "stderr",
     "output_type": "stream",
     "text": [
      " 13% ( 13 of 100) |#####                                       | Elapsed Time: 1:15:50 ETA: 7:15:32"
     ]
    },
    {
     "name": "stdout",
     "output_type": "stream",
     "text": [
      "pattern\n",
      "a = 0.0547867, c = 1.76, alpha = 0.01000\n"
     ]
    },
    {
     "name": "stderr",
     "output_type": "stream",
     "text": [
      " 13% ( 13 of 100) |######                                      | Elapsed Time: 1:17:50 ETA: 8:19:07"
     ]
    },
    {
     "name": "stdout",
     "output_type": "stream",
     "text": [
      "pattern\n",
      "a = 0.0547924, c = 1.80, alpha = 0.01000\n"
     ]
    },
    {
     "name": "stderr",
     "output_type": "stream",
     "text": [
      " 13% ( 13 of 100) |######                                      | Elapsed Time: 1:19:15 ETA: 8:00:29"
     ]
    },
    {
     "name": "stdout",
     "output_type": "stream",
     "text": [
      "pattern\n",
      "a = 0.0547962, c = 1.83, alpha = 0.01000\n"
     ]
    },
    {
     "name": "stderr",
     "output_type": "stream",
     "text": [
      " 14% ( 14 of 100) |######                                      | Elapsed Time: 1:22:09 ETA: 7:22:54"
     ]
    },
    {
     "name": "stdout",
     "output_type": "stream",
     "text": [
      "pattern\n",
      "a = 0.0548038, c = 1.89, alpha = 0.01000\n"
     ]
    },
    {
     "name": "stderr",
     "output_type": "stream",
     "text": [
      " 14% ( 14 of 100) |######                                      | Elapsed Time: 1:23:32 ETA: 7:18:34"
     ]
    },
    {
     "name": "stdout",
     "output_type": "stream",
     "text": [
      "pattern\n",
      "a = 0.0548077, c = 1.92, alpha = 0.01000\n"
     ]
    },
    {
     "name": "stderr",
     "output_type": "stream",
     "text": [
      " 15% ( 15 of 100) |######                                      | Elapsed Time: 1:25:58 ETA: 7:18:17"
     ]
    },
    {
     "name": "stdout",
     "output_type": "stream",
     "text": [
      "pattern\n",
      "a = 0.0548134, c = 1.97, alpha = 0.01000\n"
     ]
    },
    {
     "name": "stderr",
     "output_type": "stream",
     "text": [
      " 15% ( 15 of 100) |#######                                     | Elapsed Time: 1:29:26 ETA: 6:34:46"
     ]
    },
    {
     "name": "stdout",
     "output_type": "stream",
     "text": [
      "pattern\n",
      "a = 0.0548210, c = 2.04, alpha = 0.01000\n"
     ]
    },
    {
     "name": "stderr",
     "output_type": "stream",
     "text": [
      " 16% ( 16 of 100) |#######                                     | Elapsed Time: 1:30:22 ETA: 7:23:02"
     ]
    },
    {
     "name": "stdout",
     "output_type": "stream",
     "text": [
      "pattern\n",
      "a = 0.0548229, c = 2.06, alpha = 0.01000\n"
     ]
    },
    {
     "name": "stderr",
     "output_type": "stream",
     "text": [
      " 16% ( 16 of 100) |#######                                     | Elapsed Time: 1:31:20 ETA: 7:21:21"
     ]
    },
    {
     "name": "stdout",
     "output_type": "stream",
     "text": [
      "pattern\n",
      "a = 0.0548248, c = 2.08, alpha = 0.01000\n"
     ]
    },
    {
     "name": "stderr",
     "output_type": "stream",
     "text": [
      " 16% ( 16 of 100) |#######                                     | Elapsed Time: 1:32:14 ETA: 8:24:40"
     ]
    },
    {
     "name": "stdout",
     "output_type": "stream",
     "text": [
      "pattern\n",
      "a = 0.0548267, c = 2.10, alpha = 0.01000\n",
      "[  1.90734863e-06   1.90734863e-06   1.90734863e-06   1.90734863e-06\n",
      "   1.90734863e-06   1.90734863e-06   1.90734863e-06   5.29937744e-02\n",
      "   5.30891418e-02   5.31692505e-02   5.32417297e-02   5.33065796e-02\n",
      "   5.35202026e-02   5.36460876e-02   5.36823273e-02   5.37815094e-02\n",
      "   5.38921356e-02   5.39169312e-02   5.39398193e-02   5.39627075e-02\n",
      "   5.40046692e-02   5.40256500e-02   5.40447235e-02   5.40809631e-02\n",
      "   5.40981293e-02   5.41152954e-02   5.41305542e-02   5.41610718e-02\n",
      "   5.41763306e-02   5.42297363e-02   5.42430878e-02   5.42545319e-02\n",
      "   5.43003082e-02   5.43117523e-02   5.43212891e-02   5.43785095e-02\n",
      "   5.43956757e-02   5.44204712e-02   5.44281006e-02   5.44357300e-02\n",
      "   5.44433594e-02   5.44567108e-02   5.44643402e-02   5.44776917e-02\n",
      "   5.44910431e-02   5.44967651e-02   5.45024872e-02   5.45368195e-02\n",
      "   5.45425415e-02   5.45482635e-02   5.45578003e-02   5.45635223e-02\n",
      "   5.45730591e-02   5.45825958e-02   5.45864105e-02   5.45959473e-02\n",
      "   5.45997620e-02   5.46035767e-02   5.46169281e-02   5.46207428e-02\n",
      "   5.46245575e-02   5.46283722e-02   5.46321869e-02   5.46360016e-02\n",
      "   5.46493530e-02   5.46531677e-02   5.46569824e-02   5.46627045e-02\n",
      "   5.46665192e-02   5.46722412e-02   5.46760559e-02   5.46779633e-02\n",
      "   5.46817780e-02   5.46875000e-02   5.46932220e-02   5.46951294e-02\n",
      "   5.46989441e-02   5.47008514e-02   5.47065735e-02   5.47084808e-02\n",
      "   5.47142029e-02   5.47161102e-02   5.47180176e-02   5.47237396e-02\n",
      "   5.47256470e-02   5.47275543e-02   5.47370911e-02   5.47389984e-02\n",
      "   5.47409058e-02   5.47428131e-02   5.47447205e-02   5.47466278e-02\n",
      "   5.47485352e-02   5.47504425e-02   5.47523499e-02   5.47542572e-02\n",
      "   5.47561646e-02   5.47580719e-02   5.47599792e-02   5.47618866e-02\n",
      "   5.47637939e-02   5.47657013e-02   5.47676086e-02   5.47695160e-02\n",
      "   5.47733307e-02   5.47752380e-02   5.47771454e-02   5.47790527e-02\n",
      "   5.47809601e-02   5.47828674e-02   5.47847748e-02   5.47866821e-02\n",
      "   5.47885895e-02   5.47904968e-02   5.47924042e-02   5.47943115e-02\n",
      "   5.47962189e-02   5.47981262e-02   5.48000336e-02   5.48019409e-02\n",
      "   5.48019409e-02   5.48038483e-02   5.48057556e-02   5.48076630e-02\n",
      "   5.48095703e-02   5.48114777e-02   5.48114777e-02   5.48133850e-02\n",
      "   5.48152924e-02   5.48171997e-02   5.48171997e-02   5.48191071e-02\n",
      "   5.48191071e-02   5.48210144e-02   5.48229218e-02   5.48248291e-02\n",
      "   5.48267365e-02   0.00000000e+00   0.00000000e+00   0.00000000e+00\n",
      "   0.00000000e+00   0.00000000e+00   0.00000000e+00   0.00000000e+00\n",
      "   0.00000000e+00   0.00000000e+00   0.00000000e+00   0.00000000e+00\n",
      "   0.00000000e+00   0.00000000e+00   0.00000000e+00   0.00000000e+00\n",
      "   0.00000000e+00   0.00000000e+00   0.00000000e+00   0.00000000e+00\n",
      "   0.00000000e+00   0.00000000e+00   0.00000000e+00   0.00000000e+00\n",
      "   0.00000000e+00   0.00000000e+00   0.00000000e+00   0.00000000e+00\n",
      "   0.00000000e+00   0.00000000e+00   0.00000000e+00   0.00000000e+00\n",
      "   0.00000000e+00   0.00000000e+00   0.00000000e+00   0.00000000e+00\n",
      "   0.00000000e+00   0.00000000e+00   0.00000000e+00   0.00000000e+00\n",
      "   0.00000000e+00   0.00000000e+00   0.00000000e+00   0.00000000e+00\n",
      "   0.00000000e+00   0.00000000e+00   0.00000000e+00   0.00000000e+00\n",
      "   0.00000000e+00   0.00000000e+00   0.00000000e+00   0.00000000e+00\n",
      "   0.00000000e+00   0.00000000e+00   0.00000000e+00   0.00000000e+00\n",
      "   0.00000000e+00   0.00000000e+00   0.00000000e+00   0.00000000e+00\n",
      "   0.00000000e+00   0.00000000e+00   0.00000000e+00   0.00000000e+00\n",
      "   0.00000000e+00   0.00000000e+00   0.00000000e+00   0.00000000e+00\n",
      "   0.00000000e+00   0.00000000e+00   0.00000000e+00   0.00000000e+00\n",
      "   0.00000000e+00   0.00000000e+00]\n"
     ]
    },
    {
     "name": "stderr",
     "output_type": "stream",
     "text": [
      " 25% ( 25 of 100) |###########                                 | Elapsed Time: 1:34:22 ETA: 0:20:14"
     ]
    },
    {
     "name": "stdout",
     "output_type": "stream",
     "text": [
      "pattern\n",
      "a = 0.0039978, c = 0.08, alpha = 0.06000\n"
     ]
    },
    {
     "name": "stderr",
     "output_type": "stream",
     "text": [
      "\r",
      "                                                                                                   \r",
      "\r",
      " 25% ( 25 of 100) |###########                                 | Elapsed Time: 1:34:41 ETA: 0:19:02"
     ]
    },
    {
     "name": "stdout",
     "output_type": "stream",
     "text": [
      "pattern\n",
      "a = 0.0139923, c = 0.09, alpha = 0.06000\n"
     ]
    },
    {
     "name": "stderr",
     "output_type": "stream",
     "text": [
      "\r",
      "                                                                                                   \r",
      "\r",
      " 25% ( 25 of 100) |###########                                 | Elapsed Time: 1:35:02 ETA: 3:25:36"
     ]
    },
    {
     "name": "stdout",
     "output_type": "stream",
     "text": [
      "pattern\n",
      "a = 0.0239868, c = 0.10, alpha = 0.06000\n"
     ]
    },
    {
     "name": "stderr",
     "output_type": "stream",
     "text": [
      "\r",
      "                                                                                                   \r",
      "\r",
      " 25% ( 25 of 100) |###########                                 | Elapsed Time: 1:35:21 ETA: 4:09:17"
     ]
    },
    {
     "name": "stdout",
     "output_type": "stream",
     "text": [
      "pattern\n",
      "a = 0.0339966, c = 0.11, alpha = 0.06000\n"
     ]
    },
    {
     "name": "stderr",
     "output_type": "stream",
     "text": [
      "\r",
      "                                                                                                   \r",
      "\r",
      " 25% ( 25 of 100) |###########                                 | Elapsed Time: 1:35:41 ETA: 5:10:49"
     ]
    },
    {
     "name": "stdout",
     "output_type": "stream",
     "text": [
      "pattern\n",
      "a = 0.0438538, c = 0.12, alpha = 0.06000\n"
     ]
    },
    {
     "name": "stderr",
     "output_type": "stream",
     "text": [
      "\r",
      "                                                                                                   \r",
      "\r",
      " 25% ( 25 of 100) |###########                                 | Elapsed Time: 1:36:01 ETA: 6:45:43"
     ]
    },
    {
     "name": "stdout",
     "output_type": "stream",
     "text": [
      "pattern\n",
      "a = 0.0498352, c = 0.13, alpha = 0.06000\n"
     ]
    },
    {
     "name": "stderr",
     "output_type": "stream",
     "text": [
      "\r",
      "                                                                                                   \r",
      "\r",
      " 25% ( 25 of 100) |###########                                 | Elapsed Time: 1:36:23 ETA: 9:26:47"
     ]
    },
    {
     "name": "stdout",
     "output_type": "stream",
     "text": [
      "pattern\n",
      "a = 0.0530891, c = 0.14, alpha = 0.06000\n"
     ]
    },
    {
     "name": "stderr",
     "output_type": "stream",
     "text": [
      "\r",
      "                                                                                                   \r",
      "\r",
      " 25% ( 25 of 100) |###########                                | Elapsed Time: 1:36:48 ETA: 15:10:45"
     ]
    },
    {
     "name": "stdout",
     "output_type": "stream",
     "text": [
      "pattern\n",
      "a = 0.0563564, c = 0.15, alpha = 0.06000\n"
     ]
    },
    {
     "name": "stderr",
     "output_type": "stream",
     "text": [
      "\r",
      "                                                                                                   \r",
      "\r",
      " 25% ( 25 of 100) |#########                            | Elapsed Time: 1:37:15 ETA: 1 day, 8:23:33"
     ]
    },
    {
     "name": "stdout",
     "output_type": "stream",
     "text": [
      "pattern\n",
      "a = 0.0598736, c = 0.16, alpha = 0.06000\n"
     ]
    },
    {
     "name": "stderr",
     "output_type": "stream",
     "text": [
      " 26% ( 26 of 100) |###########                                 | Elapsed Time: 1:41:39 ETA: 5:38:54"
     ]
    },
    {
     "name": "stdout",
     "output_type": "stream",
     "text": [
      "pattern\n",
      "a = 0.0751152, c = 0.25, alpha = 0.06000\n"
     ]
    },
    {
     "name": "stderr",
     "output_type": "stream",
     "text": [
      " 27% ( 27 of 100) |############                                | Elapsed Time: 1:45:30 ETA: 5:30:29"
     ]
    },
    {
     "name": "stdout",
     "output_type": "stream",
     "text": [
      "pattern\n",
      "a = 0.0760193, c = 0.33, alpha = 0.06000\n"
     ]
    },
    {
     "name": "stderr",
     "output_type": "stream",
     "text": [
      " 27% ( 27 of 100) |############                                | Elapsed Time: 1:46:19 ETA: 5:20:05"
     ]
    },
    {
     "name": "stdout",
     "output_type": "stream",
     "text": [
      "pattern\n",
      "a = 0.0761967, c = 0.35, alpha = 0.06000\n"
     ]
    },
    {
     "name": "stderr",
     "output_type": "stream",
     "text": [
      " 28% ( 28 of 100) |############                                | Elapsed Time: 1:50:44 ETA: 5:31:07"
     ]
    },
    {
     "name": "stdout",
     "output_type": "stream",
     "text": [
      "pattern\n",
      "a = 0.0768528, c = 0.44, alpha = 0.06000\n"
     ]
    },
    {
     "name": "stderr",
     "output_type": "stream",
     "text": [
      " 31% ( 31 of 100) |#############                               | Elapsed Time: 2:03:02 ETA: 4:29:09"
     ]
    },
    {
     "name": "stdout",
     "output_type": "stream",
     "text": [
      "pattern\n",
      "a = 0.0780602, c = 0.70, alpha = 0.06000\n"
     ]
    },
    {
     "name": "stderr",
     "output_type": "stream",
     "text": [
      " 31% ( 31 of 100) |#############                               | Elapsed Time: 2:03:55 ETA: 4:58:18"
     ]
    },
    {
     "name": "stdout",
     "output_type": "stream",
     "text": [
      "pattern\n",
      "a = 0.0781288, c = 0.72, alpha = 0.06000\n"
     ]
    },
    {
     "name": "stderr",
     "output_type": "stream",
     "text": [
      " 32% ( 32 of 100) |##############                              | Elapsed Time: 2:06:31 ETA: 5:58:48"
     ]
    },
    {
     "name": "stdout",
     "output_type": "stream",
     "text": [
      "pattern\n",
      "a = 0.0782909, c = 0.77, alpha = 0.06000\n"
     ]
    },
    {
     "name": "stderr",
     "output_type": "stream",
     "text": [
      " 33% ( 33 of 100) |##############                              | Elapsed Time: 2:12:36 ETA: 4:44:50"
     ]
    },
    {
     "name": "stdout",
     "output_type": "stream",
     "text": [
      "pattern\n",
      "a = 0.0786324, c = 0.89, alpha = 0.06000\n"
     ]
    },
    {
     "name": "stderr",
     "output_type": "stream",
     "text": [
      " 33% ( 33 of 100) |##############                              | Elapsed Time: 2:14:06 ETA: 5:15:57"
     ]
    },
    {
     "name": "stdout",
     "output_type": "stream",
     "text": [
      "pattern\n",
      "a = 0.0787086, c = 0.92, alpha = 0.06000\n"
     ]
    },
    {
     "name": "stderr",
     "output_type": "stream",
     "text": [
      " 34% ( 34 of 100) |###############                             | Elapsed Time: 2:19:05 ETA: 4:34:38"
     ]
    },
    {
     "name": "stdout",
     "output_type": "stream",
     "text": [
      "pattern\n",
      "a = 0.0789433, c = 1.02, alpha = 0.06000\n"
     ]
    },
    {
     "name": "stderr",
     "output_type": "stream",
     "text": [
      " 35% ( 35 of 100) |###############                             | Elapsed Time: 2:21:04 ETA: 5:06:02"
     ]
    },
    {
     "name": "stdout",
     "output_type": "stream",
     "text": [
      "pattern\n",
      "a = 0.0790291, c = 1.06, alpha = 0.06000\n"
     ]
    },
    {
     "name": "stderr",
     "output_type": "stream",
     "text": [
      " 35% ( 35 of 100) |###############                             | Elapsed Time: 2:22:59 ETA: 5:40:33"
     ]
    },
    {
     "name": "stdout",
     "output_type": "stream",
     "text": [
      "pattern\n",
      "a = 0.0791111, c = 1.10, alpha = 0.06000\n"
     ]
    },
    {
     "name": "stderr",
     "output_type": "stream",
     "text": [
      " 35% ( 35 of 100) |###############                             | Elapsed Time: 2:24:30 ETA: 5:41:04"
     ]
    },
    {
     "name": "stdout",
     "output_type": "stream",
     "text": [
      "pattern\n",
      "a = 0.0791702, c = 1.13, alpha = 0.06000\n"
     ]
    },
    {
     "name": "stderr",
     "output_type": "stream",
     "text": [
      " 35% ( 35 of 100) |###############                             | Elapsed Time: 2:25:27 ETA: 6:33:17"
     ]
    },
    {
     "name": "stdout",
     "output_type": "stream",
     "text": [
      "pattern\n",
      "a = 0.0792084, c = 1.15, alpha = 0.06000\n"
     ]
    },
    {
     "name": "stderr",
     "output_type": "stream",
     "text": [
      "\r",
      "                                                                                                   \r",
      "\r",
      " 35% ( 35 of 100) |###############                             | Elapsed Time: 2:25:52 ETA: 6:29:24"
     ]
    },
    {
     "name": "stdout",
     "output_type": "stream",
     "text": [
      "pattern\n",
      "a = 0.0792274, c = 1.16, alpha = 0.06000\n"
     ]
    },
    {
     "name": "stderr",
     "output_type": "stream",
     "text": [
      " 36% ( 36 of 100) |###############                             | Elapsed Time: 2:27:22 ETA: 7:49:12"
     ]
    },
    {
     "name": "stdout",
     "output_type": "stream",
     "text": [
      "pattern\n",
      "a = 0.0792828, c = 1.19, alpha = 0.06000\n"
     ]
    },
    {
     "name": "stderr",
     "output_type": "stream",
     "text": [
      " 37% ( 37 of 100) |################                            | Elapsed Time: 2:31:54 ETA: 4:59:30"
     ]
    },
    {
     "name": "stdout",
     "output_type": "stream",
     "text": [
      "pattern\n",
      "a = 0.0794392, c = 1.28, alpha = 0.06000\n"
     ]
    },
    {
     "name": "stderr",
     "output_type": "stream",
     "text": [
      " 37% ( 37 of 100) |################                            | Elapsed Time: 2:35:24 ETA: 4:54:24"
     ]
    },
    {
     "name": "stdout",
     "output_type": "stream",
     "text": [
      "pattern\n",
      "a = 0.0795517, c = 1.35, alpha = 0.06000\n"
     ]
    },
    {
     "name": "stderr",
     "output_type": "stream",
     "text": [
      "\r",
      "                                                                                                   \r",
      "\r",
      " 37% ( 37 of 100) |################                            | Elapsed Time: 2:35:49 ETA: 5:31:04"
     ]
    },
    {
     "name": "stdout",
     "output_type": "stream",
     "text": [
      "pattern\n",
      "a = 0.0795670, c = 1.36, alpha = 0.06000\n"
     ]
    },
    {
     "name": "stderr",
     "output_type": "stream",
     "text": [
      "\r",
      "                                                                                                   \r",
      "\r",
      " 37% ( 37 of 100) |################                            | Elapsed Time: 2:36:13 ETA: 6:16:13"
     ]
    },
    {
     "name": "stdout",
     "output_type": "stream",
     "text": [
      "pattern\n",
      "a = 0.0795822, c = 1.37, alpha = 0.06000\n"
     ]
    },
    {
     "name": "stderr",
     "output_type": "stream",
     "text": [
      "\r",
      "                                                                                                   \r",
      "\r",
      " 37% ( 37 of 100) |################                            | Elapsed Time: 2:36:39 ETA: 6:10:55"
     ]
    },
    {
     "name": "stdout",
     "output_type": "stream",
     "text": [
      "pattern\n",
      "a = 0.0795975, c = 1.38, alpha = 0.06000\n"
     ]
    },
    {
     "name": "stderr",
     "output_type": "stream",
     "text": [
      "\r",
      "                                                                                                   \r",
      "\r",
      " 37% ( 37 of 100) |################                            | Elapsed Time: 2:37:06 ETA: 7:20:59"
     ]
    },
    {
     "name": "stdout",
     "output_type": "stream",
     "text": [
      "pattern\n",
      "a = 0.0796127, c = 1.39, alpha = 0.06000\n"
     ]
    },
    {
     "name": "stderr",
     "output_type": "stream",
     "text": [
      " 41% ( 41 of 100) |##################                          | Elapsed Time: 2:52:46 ETA: 3:58:49"
     ]
    },
    {
     "name": "stdout",
     "output_type": "stream",
     "text": [
      "pattern\n",
      "a = 0.0800095, c = 1.69, alpha = 0.06000\n"
     ]
    },
    {
     "name": "stderr",
     "output_type": "stream",
     "text": [
      " 42% ( 42 of 100) |##################                          | Elapsed Time: 2:56:07 ETA: 4:22:04"
     ]
    },
    {
     "name": "stdout",
     "output_type": "stream",
     "text": [
      "pattern\n",
      "a = 0.0800896, c = 1.76, alpha = 0.06000\n"
     ]
    },
    {
     "name": "stderr",
     "output_type": "stream",
     "text": [
      " 42% ( 42 of 100) |##################                          | Elapsed Time: 2:58:07 ETA: 4:30:03"
     ]
    },
    {
     "name": "stdout",
     "output_type": "stream",
     "text": [
      "pattern\n",
      "a = 0.0801334, c = 1.80, alpha = 0.06000\n"
     ]
    },
    {
     "name": "stderr",
     "output_type": "stream",
     "text": [
      " 43% ( 43 of 100) |###################                         | Elapsed Time: 3:02:12 ETA: 4:32:36"
     ]
    },
    {
     "name": "stdout",
     "output_type": "stream",
     "text": [
      "pattern\n",
      "a = 0.0802174, c = 1.88, alpha = 0.06000\n"
     ]
    },
    {
     "name": "stderr",
     "output_type": "stream",
     "text": [
      " 43% ( 43 of 100) |###################                         | Elapsed Time: 3:03:43 ETA: 4:32:07"
     ]
    },
    {
     "name": "stdout",
     "output_type": "stream",
     "text": [
      "pattern\n",
      "a = 0.0802479, c = 1.91, alpha = 0.06000\n"
     ]
    },
    {
     "name": "stderr",
     "output_type": "stream",
     "text": [
      " 44% ( 44 of 100) |###################                         | Elapsed Time: 3:07:12 ETA: 4:23:40"
     ]
    },
    {
     "name": "stdout",
     "output_type": "stream",
     "text": [
      "pattern\n",
      "a = 0.0803165, c = 1.98, alpha = 0.06000\n"
     ]
    },
    {
     "name": "stderr",
     "output_type": "stream",
     "text": [
      "\r",
      "                                                                                                   \r",
      "\r",
      " 44% ( 44 of 100) |###################                         | Elapsed Time: 3:07:41 ETA: 4:59:22"
     ]
    },
    {
     "name": "stdout",
     "output_type": "stream",
     "text": [
      "pattern\n",
      "a = 0.0803261, c = 1.99, alpha = 0.06000\n"
     ]
    },
    {
     "name": "stderr",
     "output_type": "stream",
     "text": [
      "\r",
      "                                                                                                   \r",
      "\r",
      " 44% ( 44 of 100) |###################                         | Elapsed Time: 3:08:10 ETA: 5:47:24"
     ]
    },
    {
     "name": "stdout",
     "output_type": "stream",
     "text": [
      "pattern\n",
      "a = 0.0803356, c = 2.00, alpha = 0.06000\n"
     ]
    },
    {
     "name": "stderr",
     "output_type": "stream",
     "text": [
      " 44% ( 44 of 100) |###################                         | Elapsed Time: 3:11:12 ETA: 5:46:26"
     ]
    },
    {
     "name": "stdout",
     "output_type": "stream",
     "text": [
      "pattern\n",
      "a = 0.0803909, c = 2.06, alpha = 0.06000\n"
     ]
    },
    {
     "name": "stderr",
     "output_type": "stream",
     "text": [
      " 45% ( 45 of 100) |###################                         | Elapsed Time: 3:13:10 ETA: 4:19:28"
     ]
    },
    {
     "name": "stdout",
     "output_type": "stream",
     "text": [
      "[  1.90734863e-06   1.90734863e-06   1.90734863e-06   1.90734863e-06\n",
      "   1.90734863e-06   1.90734863e-06   1.90734863e-06   6.35128021e-02\n",
      "   6.71901703e-02   7.08808899e-02   7.41939545e-02   7.44400024e-02\n",
      "   7.46364594e-02   7.48119354e-02   7.49702454e-02   7.52525330e-02\n",
      "   7.53803253e-02   7.55004883e-02   7.56149292e-02   7.57236481e-02\n",
      "   7.58266449e-02   7.59258270e-02   7.61108398e-02   7.62805939e-02\n",
      "   7.63607025e-02   7.64389038e-02   7.65132904e-02   7.65857697e-02\n",
      "   7.66563416e-02   7.67250061e-02   7.67898560e-02   7.69157410e-02\n",
      "   7.69767761e-02   7.70339966e-02   7.70912170e-02   7.71465302e-02\n",
      "   7.72018433e-02   7.72533417e-02   7.73048401e-02   7.73544312e-02\n",
      "   7.74040222e-02   7.74517059e-02   7.74993896e-02   7.75451660e-02\n",
      "   7.75890350e-02   7.76329041e-02   7.76767731e-02   7.77187347e-02\n",
      "   7.77587891e-02   7.77988434e-02   7.78388977e-02   7.78770447e-02\n",
      "   7.79151917e-02   7.79533386e-02   7.79895782e-02   7.80258179e-02\n",
      "   7.80963898e-02   7.81631470e-02   7.81955719e-02   7.82279968e-02\n",
      "   7.82604218e-02   7.83233643e-02   7.83538818e-02   7.83824921e-02\n",
      "   7.84130096e-02   7.84416199e-02   7.84702301e-02   7.84988403e-02\n",
      "   7.85255432e-02   7.85541534e-02   7.85808563e-02   7.86075592e-02\n",
      "   7.86590576e-02   7.86838531e-02   7.87353516e-02   7.87582397e-02\n",
      "   7.87830353e-02   7.88078308e-02   7.88307190e-02   7.88536072e-02\n",
      "   7.88764954e-02   7.88993835e-02   7.89222717e-02   7.89661407e-02\n",
      "   7.89871216e-02   7.90081024e-02   7.90500641e-02   7.90710449e-02\n",
      "   7.90920258e-02   7.91320801e-02   7.91511536e-02   7.91912079e-02\n",
      "   7.92465210e-02   7.92655945e-02   7.93018341e-02   7.93190002e-02\n",
      "   7.93380737e-02   7.93552399e-02   7.93724060e-02   7.93895721e-02\n",
      "   7.94067383e-02   7.94239044e-02   7.94563293e-02   7.94734955e-02\n",
      "   7.94887543e-02   7.95059204e-02   7.95211792e-02   7.95364380e-02\n",
      "   7.96279907e-02   7.96432495e-02   7.96585083e-02   7.96718597e-02\n",
      "   7.96871185e-02   7.97004700e-02   7.97157288e-02   7.97290802e-02\n",
      "   7.97424316e-02   7.97576904e-02   7.97710419e-02   7.97843933e-02\n",
      "   7.97977448e-02   7.98110962e-02   7.98244476e-02   7.98377991e-02\n",
      "   7.98511505e-02   7.98625946e-02   7.98759460e-02   7.98892975e-02\n",
      "   7.99007416e-02   7.99140930e-02   7.99255371e-02   7.99388885e-02\n",
      "   7.99503326e-02   7.99636841e-02   7.99751282e-02   7.99865723e-02\n",
      "   7.99980164e-02   8.00228119e-02   8.00342560e-02   8.00457001e-02\n",
      "   8.00571442e-02   8.00685883e-02   8.00800323e-02   8.01010132e-02\n",
      "   8.01124573e-02   8.01239014e-02   8.01448822e-02   8.01563263e-02\n",
      "   8.01658630e-02   8.01773071e-02   8.01868439e-02   8.01982880e-02\n",
      "   8.02078247e-02   8.02288055e-02   8.02383423e-02   8.02593231e-02\n",
      "   8.02688599e-02   8.02783966e-02   8.02879333e-02   8.02974701e-02\n",
      "   8.03070068e-02   8.03451538e-02   8.03546906e-02   8.03642273e-02\n",
      "   8.03737640e-02   8.03833008e-02   8.04004669e-02   8.04100037e-02\n",
      "   8.04195404e-02   8.04271698e-02   0.00000000e+00   0.00000000e+00\n",
      "   0.00000000e+00   0.00000000e+00   0.00000000e+00   0.00000000e+00\n",
      "   0.00000000e+00   0.00000000e+00   0.00000000e+00   0.00000000e+00\n",
      "   0.00000000e+00   0.00000000e+00   0.00000000e+00   0.00000000e+00\n",
      "   0.00000000e+00   0.00000000e+00   0.00000000e+00   0.00000000e+00\n",
      "   0.00000000e+00   0.00000000e+00   0.00000000e+00   0.00000000e+00\n",
      "   0.00000000e+00   0.00000000e+00   0.00000000e+00   0.00000000e+00\n",
      "   0.00000000e+00   0.00000000e+00   0.00000000e+00   0.00000000e+00\n",
      "   0.00000000e+00   0.00000000e+00   0.00000000e+00   0.00000000e+00\n",
      "   0.00000000e+00   0.00000000e+00   0.00000000e+00   0.00000000e+00\n",
      "   0.00000000e+00   0.00000000e+00]\n"
     ]
    },
    {
     "name": "stderr",
     "output_type": "stream",
     "text": [
      " 50% ( 50 of 100) |######################                      | Elapsed Time: 3:15:19 ETA: 0:22:28"
     ]
    },
    {
     "name": "stdout",
     "output_type": "stream",
     "text": [
      "pattern\n",
      "a = 0.0039978, c = 0.08, alpha = 0.10000\n"
     ]
    },
    {
     "name": "stderr",
     "output_type": "stream",
     "text": [
      "\r",
      "                                                                                                   \r",
      "\r",
      " 50% ( 50 of 100) |######################                      | Elapsed Time: 3:15:38 ETA: 0:21:20"
     ]
    },
    {
     "name": "stdout",
     "output_type": "stream",
     "text": [
      "pattern\n",
      "a = 0.0139923, c = 0.09, alpha = 0.10000\n"
     ]
    },
    {
     "name": "stderr",
     "output_type": "stream",
     "text": [
      "\r",
      "                                                                                                   \r",
      "\r",
      " 50% ( 50 of 100) |######################                      | Elapsed Time: 3:15:59 ETA: 2:17:17"
     ]
    },
    {
     "name": "stdout",
     "output_type": "stream",
     "text": [
      "pattern\n",
      "a = 0.0239868, c = 0.10, alpha = 0.10000\n"
     ]
    },
    {
     "name": "stderr",
     "output_type": "stream",
     "text": [
      "\r",
      "                                                                                                   \r",
      "\r",
      " 50% ( 50 of 100) |######################                      | Elapsed Time: 3:16:19 ETA: 2:46:26"
     ]
    },
    {
     "name": "stdout",
     "output_type": "stream",
     "text": [
      "pattern\n",
      "a = 0.0339966, c = 0.11, alpha = 0.10000\n"
     ]
    },
    {
     "name": "stderr",
     "output_type": "stream",
     "text": [
      "\r",
      "                                                                                                   \r",
      "\r",
      " 50% ( 50 of 100) |######################                      | Elapsed Time: 3:16:39 ETA: 3:27:35"
     ]
    },
    {
     "name": "stdout",
     "output_type": "stream",
     "text": [
      "pattern\n",
      "a = 0.0437927, c = 0.12, alpha = 0.10000\n"
     ]
    },
    {
     "name": "stderr",
     "output_type": "stream",
     "text": [
      "\r",
      "                                                                                                   \r",
      "\r",
      " 50% ( 50 of 100) |######################                      | Elapsed Time: 3:17:00 ETA: 4:30:35"
     ]
    },
    {
     "name": "stdout",
     "output_type": "stream",
     "text": [
      "pattern\n",
      "a = 0.0495110, c = 0.13, alpha = 0.10000\n"
     ]
    },
    {
     "name": "stderr",
     "output_type": "stream",
     "text": [
      "\r",
      "                                                                                                   \r",
      "\r",
      " 50% ( 50 of 100) |######################                      | Elapsed Time: 3:17:25 ETA: 6:27:22"
     ]
    },
    {
     "name": "stdout",
     "output_type": "stream",
     "text": [
      "pattern\n",
      "a = 0.0528793, c = 0.14, alpha = 0.10000\n"
     ]
    },
    {
     "name": "stderr",
     "output_type": "stream",
     "text": [
      "\r",
      "                                                                                                   \r",
      "\r",
      " 50% ( 50 of 100) |#####################                      | Elapsed Time: 3:17:50 ETA: 10:18:27"
     ]
    },
    {
     "name": "stdout",
     "output_type": "stream",
     "text": [
      "pattern\n",
      "a = 0.0562706, c = 0.15, alpha = 0.10000\n"
     ]
    },
    {
     "name": "stderr",
     "output_type": "stream",
     "text": [
      " 54% ( 54 of 100) |#######################                     | Elapsed Time: 3:33:25 ETA: 3:02:33"
     ]
    },
    {
     "name": "stdout",
     "output_type": "stream",
     "text": [
      "pattern\n",
      "a = 0.1048031, c = 0.47, alpha = 0.10000\n"
     ]
    },
    {
     "name": "stderr",
     "output_type": "stream",
     "text": [
      " 54% ( 54 of 100) |########################                    | Elapsed Time: 3:34:48 ETA: 3:21:10"
     ]
    },
    {
     "name": "stdout",
     "output_type": "stream",
     "text": [
      "pattern\n",
      "a = 0.1050396, c = 0.50, alpha = 0.10000\n"
     ]
    },
    {
     "name": "stderr",
     "output_type": "stream",
     "text": [
      " 55% ( 55 of 100) |########################                    | Elapsed Time: 3:37:08 ETA: 3:43:55"
     ]
    },
    {
     "name": "stdout",
     "output_type": "stream",
     "text": [
      "pattern\n",
      "a = 0.1053982, c = 0.55, alpha = 0.10000\n"
     ]
    },
    {
     "name": "stderr",
     "output_type": "stream",
     "text": [
      " 58% ( 58 of 100) |#########################                   | Elapsed Time: 3:50:11 ETA: 2:49:03"
     ]
    },
    {
     "name": "stdout",
     "output_type": "stream",
     "text": [
      "pattern\n",
      "a = 0.1068363, c = 0.82, alpha = 0.10000\n"
     ]
    },
    {
     "name": "stderr",
     "output_type": "stream",
     "text": [
      " 58% ( 58 of 100) |#########################                   | Elapsed Time: 3:51:07 ETA: 3:09:06"
     ]
    },
    {
     "name": "stdout",
     "output_type": "stream",
     "text": [
      "pattern\n",
      "a = 0.1069202, c = 0.84, alpha = 0.10000\n"
     ]
    },
    {
     "name": "stderr",
     "output_type": "stream",
     "text": [
      " 59% ( 59 of 100) |##########################                  | Elapsed Time: 3:55:52 ETA: 2:42:21"
     ]
    },
    {
     "name": "stdout",
     "output_type": "stream",
     "text": [
      "pattern\n",
      "a = 0.1073074, c = 0.94, alpha = 0.10000\n"
     ]
    },
    {
     "name": "stderr",
     "output_type": "stream",
     "text": [
      "\r",
      "                                                                                                   \r",
      "\r",
      " 59% ( 59 of 100) |##########################                  | Elapsed Time: 3:56:17 ETA: 2:59:40"
     ]
    },
    {
     "name": "stdout",
     "output_type": "stream",
     "text": [
      "pattern\n",
      "a = 0.1073437, c = 0.95, alpha = 0.10000\n"
     ]
    },
    {
     "name": "stderr",
     "output_type": "stream",
     "text": [
      " 60% ( 60 of 100) |##########################                  | Elapsed Time: 4:02:37 ETA: 2:43:26"
     ]
    },
    {
     "name": "stdout",
     "output_type": "stream",
     "text": [
      "pattern\n",
      "a = 0.1077766, c = 1.08, alpha = 0.10000\n"
     ]
    },
    {
     "name": "stderr",
     "output_type": "stream",
     "text": [
      " 61% ( 61 of 100) |##########################                  | Elapsed Time: 4:04:00 ETA: 2:55:08"
     ]
    },
    {
     "name": "stdout",
     "output_type": "stream",
     "text": [
      "pattern\n",
      "a = 0.1078682, c = 1.11, alpha = 0.10000\n"
     ]
    },
    {
     "name": "stderr",
     "output_type": "stream",
     "text": [
      " 62% ( 62 of 100) |###########################                 | Elapsed Time: 4:09:40 ETA: 2:29:42"
     ]
    },
    {
     "name": "stdout",
     "output_type": "stream",
     "text": [
      "pattern\n",
      "a = 0.1082077, c = 1.23, alpha = 0.10000\n"
     ]
    },
    {
     "name": "stderr",
     "output_type": "stream",
     "text": [
      " 63% ( 63 of 100) |############################                | Elapsed Time: 4:15:16 ETA: 2:24:30"
     ]
    },
    {
     "name": "stdout",
     "output_type": "stream",
     "text": [
      "pattern\n",
      "a = 0.1085110, c = 1.35, alpha = 0.10000\n"
     ]
    },
    {
     "name": "stderr",
     "output_type": "stream",
     "text": [
      " 63% ( 63 of 100) |############################                | Elapsed Time: 4:16:12 ETA: 2:41:27"
     ]
    },
    {
     "name": "stdout",
     "output_type": "stream",
     "text": [
      "pattern\n",
      "a = 0.1085587, c = 1.37, alpha = 0.10000\n"
     ]
    },
    {
     "name": "stderr",
     "output_type": "stream",
     "text": [
      " 64% ( 64 of 100) |############################                | Elapsed Time: 4:19:31 ETA: 3:00:13"
     ]
    },
    {
     "name": "stdout",
     "output_type": "stream",
     "text": [
      "pattern\n",
      "a = 0.1087189, c = 1.44, alpha = 0.10000\n"
     ]
    },
    {
     "name": "stderr",
     "output_type": "stream",
     "text": [
      " 65% ( 65 of 100) |############################                | Elapsed Time: 4:21:16 ETA: 2:32:43"
     ]
    },
    {
     "name": "stdout",
     "output_type": "stream",
     "text": [
      "pattern\n",
      "a = 0.1088066, c = 1.48, alpha = 0.10000\n"
     ]
    },
    {
     "name": "stderr",
     "output_type": "stream",
     "text": [
      " 65% ( 65 of 100) |############################                | Elapsed Time: 4:24:30 ETA: 2:29:23"
     ]
    },
    {
     "name": "stdout",
     "output_type": "stream",
     "text": [
      "pattern\n",
      "a = 0.1089535, c = 1.55, alpha = 0.10000\n"
     ]
    },
    {
     "name": "stderr",
     "output_type": "stream",
     "text": [
      " 66% ( 66 of 100) |#############################               | Elapsed Time: 4:27:17 ETA: 2:29:43"
     ]
    },
    {
     "name": "stdout",
     "output_type": "stream",
     "text": [
      "pattern\n",
      "a = 0.1090736, c = 1.61, alpha = 0.10000\n"
     ]
    },
    {
     "name": "stderr",
     "output_type": "stream",
     "text": [
      " 67% ( 67 of 100) |#############################               | Elapsed Time: 4:30:30 ETA: 2:23:04"
     ]
    },
    {
     "name": "stdout",
     "output_type": "stream",
     "text": [
      "pattern\n",
      "a = 0.1092072, c = 1.68, alpha = 0.10000\n"
     ]
    },
    {
     "name": "stderr",
     "output_type": "stream",
     "text": [
      " 67% ( 67 of 100) |#############################               | Elapsed Time: 4:31:46 ETA: 2:19:30"
     ]
    },
    {
     "name": "stdout",
     "output_type": "stream",
     "text": [
      "pattern\n",
      "a = 0.1092625, c = 1.71, alpha = 0.10000\n"
     ]
    },
    {
     "name": "stderr",
     "output_type": "stream",
     "text": [
      " 68% ( 68 of 100) |##############################              | Elapsed Time: 4:38:28 ETA: 2:10:21"
     ]
    },
    {
     "name": "stdout",
     "output_type": "stream",
     "text": [
      "pattern\n",
      "a = 0.1095066, c = 1.85, alpha = 0.10000\n"
     ]
    },
    {
     "name": "stderr",
     "output_type": "stream",
     "text": [
      " 69% ( 69 of 100) |##############################              | Elapsed Time: 4:39:59 ETA: 2:28:31"
     ]
    },
    {
     "name": "stdout",
     "output_type": "stream",
     "text": [
      "pattern\n",
      "a = 0.1095562, c = 1.88, alpha = 0.10000\n"
     ]
    },
    {
     "name": "stderr",
     "output_type": "stream",
     "text": [
      " 69% ( 69 of 100) |##############################              | Elapsed Time: 4:40:56 ETA: 2:46:16"
     ]
    },
    {
     "name": "stdout",
     "output_type": "stream",
     "text": [
      "pattern\n",
      "a = 0.1095886, c = 1.90, alpha = 0.10000\n"
     ]
    },
    {
     "name": "stderr",
     "output_type": "stream",
     "text": [
      " 69% ( 69 of 100) |##############################              | Elapsed Time: 4:43:52 ETA: 2:39:04"
     ]
    },
    {
     "name": "stdout",
     "output_type": "stream",
     "text": [
      "pattern\n",
      "a = 0.1096840, c = 1.96, alpha = 0.10000\n"
     ]
    },
    {
     "name": "stderr",
     "output_type": "stream",
     "text": [
      " 70% ( 70 of 100) |###############################             | Elapsed Time: 4:47:22 ETA: 2:20:07"
     ]
    },
    {
     "name": "stdout",
     "output_type": "stream",
     "text": [
      "pattern\n",
      "a = 0.1097908, c = 2.03, alpha = 0.10000\n"
     ]
    },
    {
     "name": "stderr",
     "output_type": "stream",
     "text": [
      " 70% ( 70 of 100) |###############################             | Elapsed Time: 4:49:18 ETA: 2:16:32"
     ]
    },
    {
     "name": "stdout",
     "output_type": "stream",
     "text": [
      "pattern\n",
      "a = 0.1098499, c = 2.07, alpha = 0.10000\n"
     ]
    },
    {
     "name": "stderr",
     "output_type": "stream",
     "text": [
      " 71% ( 71 of 100) |###############################             | Elapsed Time: 4:50:49 ETA: 2:34:08"
     ]
    },
    {
     "name": "stdout",
     "output_type": "stream",
     "text": [
      "[  1.90734863e-06   1.90734863e-06   1.90734863e-06   1.90734863e-06\n",
      "   1.90734863e-06   1.90734863e-06   1.90734863e-06   5.98468781e-02\n",
      "   6.35032654e-02   6.71863556e-02   7.08789825e-02   7.45735168e-02\n",
      "   7.82699585e-02   8.19664001e-02   8.56628418e-02   8.93592834e-02\n",
      "   9.30557251e-02   9.67521667e-02   1.00448608e-01   1.02607727e-01\n",
      "   1.02787018e-01   1.02947235e-01   1.03097916e-01   1.03239059e-01\n",
      "   1.03372574e-01   1.03500366e-01   1.03624344e-01   1.03740692e-01\n",
      "   1.03855133e-01   1.03963852e-01   1.04068756e-01   1.04171753e-01\n",
      "   1.04269028e-01   1.04364395e-01   1.04457855e-01   1.04547501e-01\n",
      "   1.04635239e-01   1.04721069e-01   1.04885101e-01   1.04963303e-01\n",
      "   1.05115891e-01   1.05188370e-01   1.05260849e-01   1.05331421e-01\n",
      "   1.05466843e-01   1.05531693e-01   1.05596542e-01   1.05659485e-01\n",
      "   1.05720520e-01   1.05781555e-01   1.05840683e-01   1.05899811e-01\n",
      "   1.05957031e-01   1.06012344e-01   1.06067657e-01   1.06121063e-01\n",
      "   1.06174469e-01   1.06227875e-01   1.06279373e-01   1.06328964e-01\n",
      "   1.06378555e-01   1.06428146e-01   1.06475830e-01   1.06523514e-01\n",
      "   1.06571198e-01   1.06616974e-01   1.06662750e-01   1.06706619e-01\n",
      "   1.06750488e-01   1.06794357e-01   1.06880188e-01   1.06962204e-01\n",
      "   1.07002258e-01   1.07042313e-01   1.07082367e-01   1.07120514e-01\n",
      "   1.07158661e-01   1.07196808e-01   1.07234955e-01   1.07271194e-01\n",
      "   1.07379913e-01   1.07416153e-01   1.07450485e-01   1.07484818e-01\n",
      "   1.07519150e-01   1.07551575e-01   1.07585907e-01   1.07618332e-01\n",
      "   1.07650757e-01   1.07683182e-01   1.07715607e-01   1.07746124e-01\n",
      "   1.07809067e-01   1.07839584e-01   1.07898712e-01   1.07929230e-01\n",
      "   1.07957840e-01   1.07986450e-01   1.08015060e-01   1.08043671e-01\n",
      "   1.08072281e-01   1.08098984e-01   1.08127594e-01   1.08154297e-01\n",
      "   1.08181000e-01   1.08234406e-01   1.08261108e-01   1.08287811e-01\n",
      "   1.08312607e-01   1.08339310e-01   1.08364105e-01   1.08388901e-01\n",
      "   1.08413696e-01   1.08438492e-01   1.08463287e-01   1.08488083e-01\n",
      "   1.08535767e-01   1.08583450e-01   1.08606339e-01   1.08629227e-01\n",
      "   1.08652115e-01   1.08675003e-01   1.08697891e-01   1.08741760e-01\n",
      "   1.08764648e-01   1.08785629e-01   1.08829498e-01   1.08850479e-01\n",
      "   1.08871460e-01   1.08892441e-01   1.08913422e-01   1.08934402e-01\n",
      "   1.08974457e-01   1.08995438e-01   1.09014511e-01   1.09035492e-01\n",
      "   1.09054565e-01   1.09094620e-01   1.09113693e-01   1.09132767e-01\n",
      "   1.09151840e-01   1.09170914e-01   1.09189987e-01   1.09226227e-01\n",
      "   1.09245300e-01   1.09281540e-01   1.09300613e-01   1.09317780e-01\n",
      "   1.09334946e-01   1.09354019e-01   1.09371185e-01   1.09388351e-01\n",
      "   1.09405518e-01   1.09422684e-01   1.09439850e-01   1.09457016e-01\n",
      "   1.09474182e-01   1.09491348e-01   1.09523773e-01   1.09540939e-01\n",
      "   1.09573364e-01   1.09605789e-01   1.09621048e-01   1.09638214e-01\n",
      "   1.09653473e-01   1.09668732e-01   1.09701157e-01   1.09716415e-01\n",
      "   1.09731674e-01   1.09746933e-01   1.09762192e-01   1.09777451e-01\n",
      "   1.09806061e-01   1.09821320e-01   1.09836578e-01   1.09865189e-01\n",
      "   1.09880447e-01   1.09893799e-01   0.00000000e+00   0.00000000e+00\n",
      "   0.00000000e+00   0.00000000e+00   0.00000000e+00   0.00000000e+00\n",
      "   0.00000000e+00   0.00000000e+00   0.00000000e+00   0.00000000e+00\n",
      "   0.00000000e+00   0.00000000e+00   0.00000000e+00   0.00000000e+00\n",
      "   0.00000000e+00   0.00000000e+00   0.00000000e+00   0.00000000e+00\n",
      "   0.00000000e+00   0.00000000e+00   0.00000000e+00   0.00000000e+00\n",
      "   0.00000000e+00   0.00000000e+00   0.00000000e+00   0.00000000e+00\n",
      "   0.00000000e+00   0.00000000e+00   0.00000000e+00   0.00000000e+00\n",
      "   0.00000000e+00   0.00000000e+00]\n"
     ]
    },
    {
     "name": "stderr",
     "output_type": "stream",
     "text": [
      " 75% ( 75 of 100) |#################################           | Elapsed Time: 4:52:56 ETA: 0:13:05"
     ]
    },
    {
     "name": "stdout",
     "output_type": "stream",
     "text": [
      "pattern\n",
      "a = 0.0039978, c = 0.08, alpha = 0.60000\n"
     ]
    },
    {
     "name": "stderr",
     "output_type": "stream",
     "text": [
      "\r",
      "                                                                                                   \r",
      "\r",
      " 75% ( 75 of 100) |#################################           | Elapsed Time: 4:53:15 ETA: 0:12:24"
     ]
    },
    {
     "name": "stdout",
     "output_type": "stream",
     "text": [
      "pattern\n",
      "a = 0.0139923, c = 0.09, alpha = 0.60000\n"
     ]
    },
    {
     "name": "stderr",
     "output_type": "stream",
     "text": [
      "\r",
      "                                                                                                   \r",
      "\r",
      " 75% ( 75 of 100) |#################################           | Elapsed Time: 4:53:36 ETA: 1:06:29"
     ]
    },
    {
     "name": "stdout",
     "output_type": "stream",
     "text": [
      "pattern\n",
      "a = 0.0239868, c = 0.10, alpha = 0.60000\n"
     ]
    },
    {
     "name": "stderr",
     "output_type": "stream",
     "text": [
      "\r",
      "                                                                                                   \r",
      "\r",
      " 75% ( 75 of 100) |#################################           | Elapsed Time: 4:53:55 ETA: 1:20:30"
     ]
    },
    {
     "name": "stdout",
     "output_type": "stream",
     "text": [
      "pattern\n",
      "a = 0.0339966, c = 0.11, alpha = 0.60000\n"
     ]
    },
    {
     "name": "stderr",
     "output_type": "stream",
     "text": [
      "\r",
      "                                                                                                   \r",
      "\r",
      " 75% ( 75 of 100) |#################################           | Elapsed Time: 4:54:15 ETA: 1:40:25"
     ]
    },
    {
     "name": "stdout",
     "output_type": "stream",
     "text": [
      "pattern\n",
      "a = 0.0434341, c = 0.12, alpha = 0.60000\n"
     ]
    },
    {
     "name": "stderr",
     "output_type": "stream",
     "text": [
      "\r",
      "                                                                                                   \r",
      "\r",
      " 75% ( 75 of 100) |#################################           | Elapsed Time: 4:54:39 ETA: 2:14:24"
     ]
    },
    {
     "name": "stdout",
     "output_type": "stream",
     "text": [
      "pattern\n",
      "a = 0.0487080, c = 0.13, alpha = 0.60000\n"
     ]
    },
    {
     "name": "stderr",
     "output_type": "stream",
     "text": [
      " 99% ( 99 of 100) |########################################### | Elapsed Time: 6:37:04 ETA: 0:03:52"
     ]
    },
    {
     "data": {
      "image/png": "[encoded data removed]",
      "text/plain": [
       "<matplotlib.figure.Figure at 0x10f9f7828>"
      ]
     },
     "metadata": {},
     "output_type": "display_data"
    }
   ],
   "source": [
    "def write_kernel(a,c,alpha):\n",
    "\n",
    "    kernel = open('kernels.cl','w+')\n",
    "    f1 = open('kernel1.cl','r')\n",
    "    for i in f1:\n",
    "        kernel.write(i)\n",
    "\n",
    "    f1.close()\n",
    "    kernel.write('    const float a   = ')\n",
    "    kernel.write(str(a))\n",
    "    \n",
    "    f2 = open('kernel2.cl','r')\n",
    "    for i in f2:\n",
    "        kernel.write(i)\n",
    "    \n",
    "    f2.close()\n",
    "    kernel.write('    const float c   =')\n",
    "    kernel.write(' '+str(c))\n",
    "    \n",
    "    f3 = open('kernel3.cl','r')\n",
    "    for i in f3:\n",
    "        kernel.write(i)\n",
    "    \n",
    "    kernel.write('    const float alpha =')\n",
    "    \n",
    "    f3.close()\n",
    "    kernel.write(' '+str(alpha))\n",
    "    \n",
    "    f4 = open('kernel4.cl','r')\n",
    "    for i in f4:\n",
    "        kernel.write(i)\n",
    "    \n",
    "    \n",
    "    f4.close()\n",
    "\n",
    "    kernel.close()\n",
    "    \n",
    "    \n",
    "    \n",
    "def check_pattern():\n",
    "    path = '/Users/Winston/test/gpudep-master/OUTPUT/'\n",
    "    image = 'output_000003.bmp'\n",
    "\n",
    "    im = Image.open(path+image)\n",
    "    im.load()\n",
    "    height, width = im.size\n",
    "\n",
    "    data = np.array(im)\n",
    "    hist = skimage.exposure.histogram(data)\n",
    "\n",
    "    if hist[0][0] > 7000:\n",
    "        return 'black'\n",
    "    elif hist[0][255] > 7000:\n",
    "        return 'white' \n",
    "    else:\n",
    "        return 'pattern'\n",
    "bar = progressbar.ProgressBar(redirect_stdout=True)\n",
    "c_list = np.arange(0.01,2.1,0.01)\n",
    "alpha_list = np.array([0.01,0.06,0.1,0.6])\n",
    "for alpha in range(len(alpha_list)):\n",
    "    \n",
    "    a_list = np.zeros(len(c_list))\n",
    "    count = 0\n",
    "    for c in c_list:  \n",
    "        bar.update(((alpha)*len(c_list)+count)*100/(len(alpha_list)*len(a_list)))\n",
    "        a = 4.0 \n",
    "        write_kernel(a,c,alpha_list[alpha])\n",
    "        subprocess.call(shlex.split('./gpudep -b -g 50 -f 1 -t 7056'))\n",
    "        code = 1\n",
    "        power = 2\n",
    "        while code:\n",
    "            pattern = check_pattern()\n",
    "            if pattern =='black':\n",
    "\n",
    "                if a-2**power> 0:\n",
    "                    a = a-2**power\n",
    "                    write_kernel(a,c,alpha_list[alpha])\n",
    "                    subprocess.call(shlex.split('./gpudep -b -g 50 -f 1 -t 7056'))\n",
    "                else:\n",
    "                    power = power - 1\n",
    "            elif pattern == 'white':\n",
    "\n",
    "                a = a+2**power  \n",
    "                power = power - 1\n",
    "                write_kernel(a,c,alpha_list[alpha])\n",
    "                subprocess.call(shlex.split('./gpudep -b -g 50 -f 1 -t 7056'))\n",
    "            elif pattern == 'pattern':\n",
    "                print('pattern')\n",
    "                print(\"a = %.7f, c = %.2f, alpha = %.5f\" %(a,c,alpha_list[alpha]))\n",
    "                code = 0\n",
    "             \n",
    "\n",
    "            if power == -20:\n",
    "                code = 0\n",
    "                a_list[count] = a\n",
    "                count +=1\n",
    "            \n",
    "    plt.plot(c_list,a_list,'o-', color = colors[alpha],label=\"alpha = %.3f\"%alpha_list[alpha])\n",
    "    print(a_list)\n",
    "    plt.legend()\n",
    "plt.xlabel('c')\n",
    "plt.ylabel('a')\n",
    "plt.show()\n"
   ]
  },
  {
   "cell_type": "code",
   "execution_count": 6,
   "metadata": {
    "collapsed": false,
    "scrolled": true
   },
   "outputs": [
    {
     "name": "stderr",
     "output_type": "stream",
     "text": [
      "  0% (  0 of 100) |                                          | Elapsed Time: 0:00:00 ETA:  --:--:--//anaconda/lib/python3.5/site-packages/skimage/exposure/exposure.py:63: UserWarning: This might be a color image. The histogram will be computed on the flattened image. You can instead apply this function to each color channel.\n",
      "  warn(\"This might be a color image. The histogram will be \"\n",
      "  1% (  1 of 100) |                                            | Elapsed Time: 0:00:28 ETA: 0:32:44"
     ]
    },
    {
     "name": "stdout",
     "output_type": "stream",
     "text": [
      "pattern\n",
      "a = 0.0339966, c = 0.11, alpha = 0.00100\n"
     ]
    },
    {
     "name": "stderr",
     "output_type": "stream",
     "text": [
      "\r",
      "                                                                                                   \r",
      "\r",
      "  1% (  1 of 100) |                                            | Elapsed Time: 0:00:47 ETA: 0:54:14"
     ]
    },
    {
     "name": "stdout",
     "output_type": "stream",
     "text": [
      "pattern\n",
      "a = 0.0518436, c = 0.16, alpha = 0.00100\n"
     ]
    },
    {
     "name": "stderr",
     "output_type": "stream",
     "text": [
      "  1% (  1 of 100) |                                            | Elapsed Time: 0:01:40 ETA: 1:26:34"
     ]
    },
    {
     "name": "stdout",
     "output_type": "stream",
     "text": [
      "pattern\n",
      "a = 0.0518227, c = 0.26, alpha = 0.00100\n"
     ]
    },
    {
     "name": "stderr",
     "output_type": "stream",
     "text": [
      "  2% (  2 of 100) |#                                           | Elapsed Time: 0:02:33 ETA: 1:44:56"
     ]
    },
    {
     "name": "stdout",
     "output_type": "stream",
     "text": [
      "pattern\n",
      "a = 0.0517941, c = 0.36, alpha = 0.00100\n"
     ]
    },
    {
     "name": "stderr",
     "output_type": "stream",
     "text": [
      "  3% (  3 of 100) |#                                           | Elapsed Time: 0:03:54 ETA: 2:29:12"
     ]
    },
    {
     "name": "stdout",
     "output_type": "stream",
     "text": [
      "pattern\n",
      "a = 0.0517464, c = 0.51, alpha = 0.00100\n"
     ]
    },
    {
     "name": "stderr",
     "output_type": "stream",
     "text": [
      "  3% (  3 of 100) |#                                           | Elapsed Time: 0:04:40 ETA: 2:37:03"
     ]
    },
    {
     "name": "stdout",
     "output_type": "stream",
     "text": [
      "pattern\n",
      "a = 0.0517139, c = 0.61, alpha = 0.00100\n"
     ]
    },
    {
     "name": "stderr",
     "output_type": "stream",
     "text": [
      "  5% (  5 of 100) |##                                          | Elapsed Time: 0:06:51 ETA: 1:49:14"
     ]
    },
    {
     "name": "stdout",
     "output_type": "stream",
     "text": [
      "pattern\n",
      "a = 0.0516376, c = 0.86, alpha = 0.00100\n"
     ]
    },
    {
     "name": "stderr",
     "output_type": "stream",
     "text": [
      "  7% (  7 of 100) |###                                         | Elapsed Time: 0:09:01 ETA: 1:35:13"
     ]
    },
    {
     "name": "stdout",
     "output_type": "stream",
     "text": [
      "pattern\n",
      "a = 0.0515671, c = 1.11, alpha = 0.00100\n"
     ]
    },
    {
     "name": "stderr",
     "output_type": "stream",
     "text": [
      "  8% (  8 of 100) |###                                         | Elapsed Time: 0:10:15 ETA: 1:45:22"
     ]
    },
    {
     "name": "stdout",
     "output_type": "stream",
     "text": [
      "pattern\n",
      "a = 0.0515289, c = 1.26, alpha = 0.00100\n"
     ]
    },
    {
     "name": "stderr",
     "output_type": "stream",
     "text": [
      "  9% (  9 of 100) |###                                         | Elapsed Time: 0:11:03 ETA: 1:42:55"
     ]
    },
    {
     "name": "stdout",
     "output_type": "stream",
     "text": [
      "pattern\n",
      "a = 0.0515041, c = 1.36, alpha = 0.00100\n"
     ]
    },
    {
     "name": "stderr",
     "output_type": "stream",
     "text": [
      " 10% ( 10 of 100) |####                                        | Elapsed Time: 0:12:46 ETA: 1:57:31"
     ]
    },
    {
     "name": "stdout",
     "output_type": "stream",
     "text": [
      "pattern\n",
      "a = 0.0514584, c = 1.56, alpha = 0.00100\n"
     ]
    },
    {
     "name": "stderr",
     "output_type": "stream",
     "text": [
      " 11% ( 11 of 100) |#####                                       | Elapsed Time: 0:14:30 ETA: 1:43:03"
     ]
    },
    {
     "name": "stdout",
     "output_type": "stream",
     "text": [
      "pattern\n",
      "a = 0.0514164, c = 1.76, alpha = 0.00100\n"
     ]
    },
    {
     "name": "stderr",
     "output_type": "stream",
     "text": [
      " 13% ( 13 of 100) |######                                      | Elapsed Time: 0:16:41 ETA: 1:41:27"
     ]
    },
    {
     "name": "stdout",
     "output_type": "stream",
     "text": [
      "pattern\n",
      "a = 0.0513687, c = 2.01, alpha = 0.00100\n"
     ]
    },
    {
     "name": "stderr",
     "output_type": "stream",
     "text": [
      "\r",
      "                                                                                                   \r",
      "\r",
      " 13% ( 13 of 100) |######                                      | Elapsed Time: 0:17:04 ETA: 1:40:02"
     ]
    },
    {
     "name": "stdout",
     "output_type": "stream",
     "text": [
      "[  1.90734863e-06   1.90734863e-06   5.18360138e-02   5.18093109e-02\n",
      "   5.17787933e-02   5.17635345e-02   5.17311096e-02   5.16986847e-02\n",
      "   5.16834259e-02   5.16681671e-02   5.16529083e-02   5.16242981e-02\n",
      "   5.16090393e-02   5.15956879e-02   5.15823364e-02   5.15556335e-02\n",
      "   5.15422821e-02   5.15174866e-02   5.14926910e-02   5.14812469e-02\n",
      "   5.14698029e-02   5.14488220e-02   5.14373779e-02   5.14278412e-02\n",
      "   5.14068604e-02   5.13973236e-02   5.13877869e-02   5.13782501e-02\n",
      "   5.13610840e-02   0.00000000e+00   0.00000000e+00   0.00000000e+00\n",
      "   0.00000000e+00   0.00000000e+00   0.00000000e+00   0.00000000e+00\n",
      "   0.00000000e+00   0.00000000e+00   0.00000000e+00   0.00000000e+00\n",
      "   0.00000000e+00   0.00000000e+00]\n"
     ]
    },
    {
     "name": "stderr",
     "output_type": "stream",
     "text": [
      " 21% ( 21 of 100) |#########                                   | Elapsed Time: 0:17:56 ETA: 0:28:16"
     ]
    },
    {
     "name": "stdout",
     "output_type": "stream",
     "text": [
      "pattern\n",
      "a = 0.0339966, c = 0.11, alpha = 0.00316\n"
     ]
    },
    {
     "name": "stderr",
     "output_type": "stream",
     "text": [
      " 23% ( 23 of 100) |##########                                  | Elapsed Time: 0:19:55 ETA: 0:26:04"
     ]
    },
    {
     "name": "stdout",
     "output_type": "stream",
     "text": [
      "pattern\n",
      "a = 0.0522518, c = 0.36, alpha = 0.00316\n"
     ]
    },
    {
     "name": "stderr",
     "output_type": "stream",
     "text": [
      " 23% ( 23 of 100) |##########                                  | Elapsed Time: 0:20:48 ETA: 1:15:46"
     ]
    },
    {
     "name": "stdout",
     "output_type": "stream",
     "text": [
      "pattern\n",
      "a = 0.0522728, c = 0.46, alpha = 0.00316\n"
     ]
    },
    {
     "name": "stderr",
     "output_type": "stream",
     "text": [
      "\r",
      "                                                                                                   \r",
      "\r",
      " 23% ( 23 of 100) |##########                                  | Elapsed Time: 0:21:13 ETA: 1:33:32"
     ]
    },
    {
     "name": "stdout",
     "output_type": "stream",
     "text": [
      "pattern\n",
      "a = 0.0522785, c = 0.51, alpha = 0.00316\n"
     ]
    },
    {
     "name": "stderr",
     "output_type": "stream",
     "text": [
      "\r",
      "                                                                                                   \r",
      "\r",
      " 23% ( 23 of 100) |##########                                  | Elapsed Time: 0:21:40 ETA: 1:59:53"
     ]
    },
    {
     "name": "stdout",
     "output_type": "stream",
     "text": [
      "pattern\n",
      "a = 0.0522823, c = 0.56, alpha = 0.00316\n"
     ]
    },
    {
     "name": "stderr",
     "output_type": "stream",
     "text": [
      "\r",
      "                                                                                                   \r",
      "\r",
      " 23% ( 23 of 100) |##########                                  | Elapsed Time: 0:22:07 ETA: 2:04:22"
     ]
    },
    {
     "name": "stdout",
     "output_type": "stream",
     "text": [
      "pattern\n",
      "a = 0.0522842, c = 0.61, alpha = 0.00316\n"
     ]
    },
    {
     "name": "stderr",
     "output_type": "stream",
     "text": [
      "\r",
      "                                                                                                   \r",
      "\r",
      " 23% ( 23 of 100) |##########                                  | Elapsed Time: 0:22:30 ETA: 2:33:57"
     ]
    },
    {
     "name": "stdout",
     "output_type": "stream",
     "text": [
      "pattern\n",
      "a = 0.0522842, c = 0.66, alpha = 0.00316\n"
     ]
    },
    {
     "name": "stderr",
     "output_type": "stream",
     "text": [
      "\r",
      "                                                                                                   \r",
      "\r",
      " 23% ( 23 of 100) |##########                                  | Elapsed Time: 0:22:53 ETA: 3:22:33"
     ]
    },
    {
     "name": "stdout",
     "output_type": "stream",
     "text": [
      "pattern\n",
      "a = 0.0522842, c = 0.71, alpha = 0.00316\n"
     ]
    },
    {
     "name": "stderr",
     "output_type": "stream",
     "text": [
      "\r",
      "                                                                                                   \r",
      "\r",
      " 23% ( 23 of 100) |##########                                  | Elapsed Time: 0:23:15 ETA: 4:59:28"
     ]
    },
    {
     "name": "stdout",
     "output_type": "stream",
     "text": [
      "pattern\n",
      "a = 0.0522823, c = 0.76, alpha = 0.00316\n"
     ]
    },
    {
     "name": "stderr",
     "output_type": "stream",
     "text": [
      "\r",
      "                                                                                                   \r",
      "\r",
      " 23% ( 23 of 100) |##########                                 | Elapsed Time: 0:23:41 ETA: 10:01:08"
     ]
    },
    {
     "name": "stdout",
     "output_type": "stream",
     "text": [
      "pattern\n",
      "a = 0.0522804, c = 0.81, alpha = 0.00316\n"
     ]
    },
    {
     "name": "stderr",
     "output_type": "stream",
     "text": [
      " 26% ( 26 of 100) |###########                                 | Elapsed Time: 0:26:19 ETA: 1:58:11"
     ]
    },
    {
     "name": "stdout",
     "output_type": "stream",
     "text": [
      "pattern\n",
      "a = 0.0522575, c = 1.11, alpha = 0.00316\n"
     ]
    },
    {
     "name": "stderr",
     "output_type": "stream",
     "text": [
      " 27% ( 27 of 100) |###########                                 | Elapsed Time: 0:27:38 ETA: 1:26:19"
     ]
    },
    {
     "name": "stdout",
     "output_type": "stream",
     "text": [
      "pattern\n",
      "a = 0.0522423, c = 1.26, alpha = 0.00316\n"
     ]
    },
    {
     "name": "stderr",
     "output_type": "stream",
     "text": [
      " 28% ( 28 of 100) |############                                | Elapsed Time: 0:28:50 ETA: 1:23:06"
     ]
    },
    {
     "name": "stdout",
     "output_type": "stream",
     "text": [
      "pattern\n",
      "a = 0.0522270, c = 1.41, alpha = 0.00316\n"
     ]
    },
    {
     "name": "stderr",
     "output_type": "stream",
     "text": [
      "\r",
      "                                                                                                   \r",
      "\r",
      " 28% ( 28 of 100) |############                                | Elapsed Time: 0:29:12 ETA: 1:34:57"
     ]
    },
    {
     "name": "stdout",
     "output_type": "stream",
     "text": [
      "pattern\n",
      "a = 0.0522213, c = 1.46, alpha = 0.00316\n"
     ]
    },
    {
     "name": "stderr",
     "output_type": "stream",
     "text": [
      " 29% ( 29 of 100) |############                                | Elapsed Time: 0:30:53 ETA: 1:31:43"
     ]
    },
    {
     "name": "stdout",
     "output_type": "stream",
     "text": [
      "pattern\n",
      "a = 0.0522003, c = 1.66, alpha = 0.00316\n"
     ]
    },
    {
     "name": "stderr",
     "output_type": "stream",
     "text": [
      "\r",
      "                                                                                                   \r",
      "\r",
      " 29% ( 29 of 100) |############                                | Elapsed Time: 0:31:14 ETA: 1:46:28"
     ]
    },
    {
     "name": "stdout",
     "output_type": "stream",
     "text": [
      "pattern\n",
      "a = 0.0521946, c = 1.71, alpha = 0.00316\n"
     ]
    },
    {
     "name": "stderr",
     "output_type": "stream",
     "text": [
      " 30% ( 30 of 100) |#############                               | Elapsed Time: 0:32:54 ETA: 1:29:31"
     ]
    },
    {
     "name": "stdout",
     "output_type": "stream",
     "text": [
      "pattern\n",
      "a = 0.0521736, c = 1.91, alpha = 0.00316\n"
     ]
    },
    {
     "name": "stderr",
     "output_type": "stream",
     "text": [
      " 31% ( 31 of 100) |##############                              | Elapsed Time: 0:34:09 ETA: 1:27:43"
     ]
    },
    {
     "name": "stdout",
     "output_type": "stream",
     "text": [
      "pattern\n",
      "a = 0.0521584, c = 2.06, alpha = 0.00316\n",
      "[  1.90734863e-06   1.90734863e-06   5.21183014e-02   5.21736145e-02\n",
      "   5.22098541e-02   5.22346497e-02   5.22651672e-02   5.22785187e-02\n",
      "   5.22747040e-02   5.22708893e-02   5.22670746e-02   5.22632599e-02\n",
      "   5.22537231e-02   5.22480011e-02   5.22384644e-02   5.22327423e-02\n",
      "   5.22174835e-02   5.22117615e-02   5.22060394e-02   5.21907806e-02\n",
      "   5.21850586e-02   5.21793365e-02   5.21697998e-02   5.21640778e-02\n",
      "   0.00000000e+00   0.00000000e+00   0.00000000e+00   0.00000000e+00\n",
      "   0.00000000e+00   0.00000000e+00   0.00000000e+00   0.00000000e+00\n",
      "   0.00000000e+00   0.00000000e+00   0.00000000e+00   0.00000000e+00\n",
      "   0.00000000e+00   0.00000000e+00   0.00000000e+00   0.00000000e+00\n",
      "   0.00000000e+00   0.00000000e+00]\n"
     ]
    },
    {
     "name": "stderr",
     "output_type": "stream",
     "text": [
      " 41% ( 41 of 100) |##################                          | Elapsed Time: 0:34:59 ETA: 0:16:28"
     ]
    },
    {
     "name": "stdout",
     "output_type": "stream",
     "text": [
      "pattern\n",
      "a = 0.0339966, c = 0.11, alpha = 0.01000\n"
     ]
    },
    {
     "name": "stderr",
     "output_type": "stream",
     "text": [
      " 41% ( 41 of 100) |##################                          | Elapsed Time: 0:35:43 ETA: 0:16:26"
     ]
    },
    {
     "name": "stdout",
     "output_type": "stream",
     "text": [
      "pattern\n",
      "a = 0.0534725, c = 0.21, alpha = 0.01000\n"
     ]
    },
    {
     "name": "stderr",
     "output_type": "stream",
     "text": [
      " 42% ( 42 of 100) |##################                          | Elapsed Time: 0:36:33 ETA: 0:16:27"
     ]
    },
    {
     "name": "stdout",
     "output_type": "stream",
     "text": [
      "pattern\n",
      "a = 0.0538387, c = 0.31, alpha = 0.01000\n"
     ]
    },
    {
     "name": "stderr",
     "output_type": "stream",
     "text": [
      " 42% ( 42 of 100) |##################                          | Elapsed Time: 0:37:25 ETA: 0:17:06"
     ]
    },
    {
     "name": "stdout",
     "output_type": "stream",
     "text": [
      "pattern\n",
      "a = 0.0540619, c = 0.41, alpha = 0.01000\n"
     ]
    },
    {
     "name": "stderr",
     "output_type": "stream",
     "text": [
      "\r",
      "                                                                                                   \r",
      "\r",
      " 42% ( 42 of 100) |##################                          | Elapsed Time: 0:37:45 ETA: 1:16:59"
     ]
    },
    {
     "name": "stdout",
     "output_type": "stream",
     "text": [
      "pattern\n",
      "a = 0.0541458, c = 0.46, alpha = 0.01000\n"
     ]
    },
    {
     "name": "stderr",
     "output_type": "stream",
     "text": [
      "\r",
      "                                                                                                   \r",
      "\r",
      " 42% ( 42 of 100) |##################                          | Elapsed Time: 0:38:06 ETA: 1:40:24"
     ]
    },
    {
     "name": "stdout",
     "output_type": "stream",
     "text": [
      "pattern\n",
      "a = 0.0542164, c = 0.51, alpha = 0.01000\n"
     ]
    },
    {
     "name": "stderr",
     "output_type": "stream",
     "text": [
      "\r",
      "                                                                                                   \r",
      "\r",
      " 42% ( 42 of 100) |##################                          | Elapsed Time: 0:38:32 ETA: 2:22:04"
     ]
    },
    {
     "name": "stdout",
     "output_type": "stream",
     "text": [
      "pattern\n",
      "a = 0.0542774, c = 0.56, alpha = 0.01000\n"
     ]
    },
    {
     "name": "stderr",
     "output_type": "stream",
     "text": [
      "\r",
      "                                                                                                   \r",
      "\r",
      " 42% ( 42 of 100) |##################                          | Elapsed Time: 0:38:57 ETA: 2:26:27"
     ]
    },
    {
     "name": "stdout",
     "output_type": "stream",
     "text": [
      "pattern\n",
      "a = 0.0543308, c = 0.61, alpha = 0.01000\n"
     ]
    },
    {
     "name": "stderr",
     "output_type": "stream",
     "text": [
      " 44% ( 44 of 100) |###################                         | Elapsed Time: 0:41:02 ETA: 1:44:35"
     ]
    },
    {
     "name": "stdout",
     "output_type": "stream",
     "text": [
      "pattern\n",
      "a = 0.0545197, c = 0.86, alpha = 0.01000\n"
     ]
    },
    {
     "name": "stderr",
     "output_type": "stream",
     "text": [
      " 47% ( 47 of 100) |####################                        | Elapsed Time: 0:43:48 ETA: 0:49:45"
     ]
    },
    {
     "name": "stdout",
     "output_type": "stream",
     "text": [
      "pattern\n",
      "a = 0.0546684, c = 1.21, alpha = 0.01000\n"
     ]
    },
    {
     "name": "stderr",
     "output_type": "stream",
     "text": [
      "\r",
      "                                                                                                   \r",
      "\r",
      " 47% ( 47 of 100) |####################                        | Elapsed Time: 0:44:09 ETA: 0:55:48"
     ]
    },
    {
     "name": "stdout",
     "output_type": "stream",
     "text": [
      "pattern\n",
      "a = 0.0546837, c = 1.26, alpha = 0.01000\n"
     ]
    },
    {
     "name": "stderr",
     "output_type": "stream",
     "text": [
      " 48% ( 48 of 100) |#####################                       | Elapsed Time: 0:44:58 ETA: 0:56:13"
     ]
    },
    {
     "name": "stdout",
     "output_type": "stream",
     "text": [
      "pattern\n",
      "a = 0.0547104, c = 1.36, alpha = 0.01000\n"
     ]
    },
    {
     "name": "stderr",
     "output_type": "stream",
     "text": [
      " 48% ( 48 of 100) |#####################                       | Elapsed Time: 0:45:50 ETA: 1:05:37"
     ]
    },
    {
     "name": "stdout",
     "output_type": "stream",
     "text": [
      "pattern\n",
      "a = 0.0547333, c = 1.46, alpha = 0.01000\n"
     ]
    },
    {
     "name": "stderr",
     "output_type": "stream",
     "text": [
      " 50% ( 50 of 100) |######################                      | Elapsed Time: 0:47:33 ETA: 1:18:48"
     ]
    },
    {
     "name": "stdout",
     "output_type": "stream",
     "text": [
      "pattern\n",
      "a = 0.0547714, c = 1.66, alpha = 0.01000\n"
     ]
    },
    {
     "name": "stderr",
     "output_type": "stream",
     "text": [
      " 50% ( 50 of 100) |######################                      | Elapsed Time: 0:48:24 ETA: 1:07:37"
     ]
    },
    {
     "name": "stdout",
     "output_type": "stream",
     "text": [
      "pattern\n",
      "a = 0.0547867, c = 1.76, alpha = 0.01000\n"
     ]
    },
    {
     "name": "stderr",
     "output_type": "stream",
     "text": [
      " 52% ( 52 of 100) |#######################                     | Elapsed Time: 0:51:02 ETA: 0:55:30"
     ]
    },
    {
     "name": "stdout",
     "output_type": "stream",
     "text": [
      "pattern\n",
      "a = 0.0548229, c = 2.06, alpha = 0.01000\n",
      "[  1.90734863e-06   1.90734863e-06   5.31692505e-02   5.36823273e-02\n",
      "   5.39627075e-02   5.43785095e-02   5.44204712e-02   5.44567108e-02\n",
      "   5.44910431e-02   5.45482635e-02   5.45730591e-02   5.45959473e-02\n",
      "   5.46169281e-02   5.46360016e-02   5.46531677e-02   5.46989441e-02\n",
      "   5.47237396e-02   5.47447205e-02   5.47542572e-02   5.47637939e-02\n",
      "   5.47809601e-02   5.47943115e-02   5.48019409e-02   5.48076630e-02\n",
      "   5.48133850e-02   5.48191071e-02   0.00000000e+00   0.00000000e+00\n",
      "   0.00000000e+00   0.00000000e+00   0.00000000e+00   0.00000000e+00\n",
      "   0.00000000e+00   0.00000000e+00   0.00000000e+00   0.00000000e+00\n",
      "   0.00000000e+00   0.00000000e+00   0.00000000e+00   0.00000000e+00\n",
      "   0.00000000e+00   0.00000000e+00]\n"
     ]
    },
    {
     "name": "stderr",
     "output_type": "stream",
     "text": [
      " 61% ( 61 of 100) |###########################                 | Elapsed Time: 0:51:54 ETA: 0:12:18"
     ]
    },
    {
     "name": "stdout",
     "output_type": "stream",
     "text": [
      "pattern\n",
      "a = 0.0339966, c = 0.11, alpha = 0.03162\n"
     ]
    },
    {
     "name": "stderr",
     "output_type": "stream",
     "text": [
      "\r",
      "                                                                                                   \r",
      "\r",
      " 61% ( 61 of 100) |###########################                 | Elapsed Time: 0:52:12 ETA: 0:12:01"
     ]
    },
    {
     "name": "stdout",
     "output_type": "stream",
     "text": [
      "pattern\n",
      "a = 0.0592918, c = 0.16, alpha = 0.03162\n"
     ]
    },
    {
     "name": "stderr",
     "output_type": "stream",
     "text": [
      " 62% ( 62 of 100) |###########################                 | Elapsed Time: 0:53:25 ETA: 0:11:56"
     ]
    },
    {
     "name": "stdout",
     "output_type": "stream",
     "text": [
      "pattern\n",
      "a = 0.0615005, c = 0.31, alpha = 0.03162\n"
     ]
    },
    {
     "name": "stderr",
     "output_type": "stream",
     "text": [
      " 66% ( 66 of 100) |#############################               | Elapsed Time: 0:57:27 ETA: 0:35:40"
     ]
    },
    {
     "name": "stdout",
     "output_type": "stream",
     "text": [
      "pattern\n",
      "a = 0.0632229, c = 0.76, alpha = 0.03162\n"
     ]
    },
    {
     "name": "stderr",
     "output_type": "stream",
     "text": [
      "\r",
      "                                                                                                   \r",
      "\r",
      " 66% ( 66 of 100) |#############################               | Elapsed Time: 0:57:53 ETA: 0:36:39"
     ]
    },
    {
     "name": "stdout",
     "output_type": "stream",
     "text": [
      "pattern\n",
      "a = 0.0633240, c = 0.81, alpha = 0.03162\n"
     ]
    },
    {
     "name": "stderr",
     "output_type": "stream",
     "text": [
      " 67% ( 67 of 100) |#############################               | Elapsed Time: 0:59:13 ETA: 0:41:40"
     ]
    },
    {
     "name": "stdout",
     "output_type": "stream",
     "text": [
      "pattern\n",
      "a = 0.0635815, c = 0.96, alpha = 0.03162\n"
     ]
    },
    {
     "name": "stderr",
     "output_type": "stream",
     "text": [
      " 67% ( 67 of 100) |#############################               | Elapsed Time: 1:00:08 ETA: 0:47:16"
     ]
    },
    {
     "name": "stdout",
     "output_type": "stream",
     "text": [
      "pattern\n",
      "a = 0.0637245, c = 1.06, alpha = 0.03162\n"
     ]
    },
    {
     "name": "stderr",
     "output_type": "stream",
     "text": [
      "\r",
      "                                                                                                   \r",
      "\r",
      " 67% ( 67 of 100) |#############################               | Elapsed Time: 1:00:36 ETA: 0:56:26"
     ]
    },
    {
     "name": "stdout",
     "output_type": "stream",
     "text": [
      "pattern\n",
      "a = 0.0637894, c = 1.11, alpha = 0.03162\n"
     ]
    },
    {
     "name": "stderr",
     "output_type": "stream",
     "text": [
      " 69% ( 69 of 100) |##############################              | Elapsed Time: 1:02:24 ETA: 0:44:58"
     ]
    },
    {
     "name": "stdout",
     "output_type": "stream",
     "text": [
      "pattern\n",
      "a = 0.0640125, c = 1.31, alpha = 0.03162\n"
     ]
    },
    {
     "name": "stderr",
     "output_type": "stream",
     "text": [
      " 71% ( 71 of 100) |###############################             | Elapsed Time: 1:05:13 ETA: 0:31:33"
     ]
    },
    {
     "name": "stdout",
     "output_type": "stream",
     "text": [
      "pattern\n",
      "a = 0.0642700, c = 1.61, alpha = 0.03162\n"
     ]
    },
    {
     "name": "stderr",
     "output_type": "stream",
     "text": [
      " 73% ( 73 of 100) |################################            | Elapsed Time: 1:07:48 ETA: 0:27:25"
     ]
    },
    {
     "name": "stdout",
     "output_type": "stream",
     "text": [
      "pattern\n",
      "a = 0.0644665, c = 1.91, alpha = 0.03162\n"
     ]
    },
    {
     "name": "stderr",
     "output_type": "stream",
     "text": [
      "\r",
      "                                                                                                   \r",
      "\r",
      " 73% ( 73 of 100) |################################            | Elapsed Time: 1:08:17 ETA: 0:31:19"
     ]
    },
    {
     "name": "stdout",
     "output_type": "stream",
     "text": [
      "pattern\n",
      "a = 0.0644951, c = 1.96, alpha = 0.03162\n"
     ]
    },
    {
     "name": "stderr",
     "output_type": "stream",
     "text": [
      " 74% ( 74 of 100) |################################            | Elapsed Time: 1:09:14 ETA: 0:36:03"
     ]
    },
    {
     "name": "stdout",
     "output_type": "stream",
     "text": [
      "pattern\n",
      "a = 0.0645485, c = 2.06, alpha = 0.03162\n",
      "[  1.90734863e-06   1.90734863e-06   6.04553223e-02   6.10675812e-02\n",
      "   6.18381500e-02   6.21109009e-02   6.23397827e-02   6.25362396e-02\n",
      "   6.27059937e-02   6.28566742e-02   6.29920959e-02   6.31141663e-02\n",
      "   6.34174347e-02   6.35032654e-02   6.36558533e-02   6.38504028e-02\n",
      "   6.39076233e-02   6.39629364e-02   6.40621185e-02   6.41078949e-02\n",
      "   6.41517639e-02   6.41937256e-02   6.42337799e-02   6.43081665e-02\n",
      "   6.43424988e-02   6.43749237e-02   6.44073486e-02   6.44378662e-02\n",
      "   6.45236969e-02   0.00000000e+00   0.00000000e+00   0.00000000e+00\n",
      "   0.00000000e+00   0.00000000e+00   0.00000000e+00   0.00000000e+00\n",
      "   0.00000000e+00   0.00000000e+00   0.00000000e+00   0.00000000e+00\n",
      "   0.00000000e+00   0.00000000e+00]\n"
     ]
    },
    {
     "name": "stderr",
     "output_type": "stream",
     "text": [
      " 81% ( 81 of 100) |###################################         | Elapsed Time: 1:10:07 ETA: 0:07:28"
     ]
    },
    {
     "name": "stdout",
     "output_type": "stream",
     "text": [
      "pattern\n",
      "a = 0.0339966, c = 0.11, alpha = 0.10000\n"
     ]
    },
    {
     "name": "stderr",
     "output_type": "stream",
     "text": [
      " 90% ( 90 of 100) |#######################################     | Elapsed Time: 1:18:56 ETA: 0:08:55"
     ]
    },
    {
     "name": "stdout",
     "output_type": "stream",
     "text": [
      "pattern\n",
      "a = 0.1078682, c = 1.11, alpha = 0.10000\n"
     ]
    },
    {
     "name": "stderr",
     "output_type": "stream",
     "text": [
      " 94% ( 94 of 100) |#########################################   | Elapsed Time: 1:23:11 ETA: 0:04:42"
     ]
    },
    {
     "name": "stdout",
     "output_type": "stream",
     "text": [
      "pattern\n",
      "a = 0.1090736, c = 1.61, alpha = 0.10000\n"
     ]
    },
    {
     "name": "stderr",
     "output_type": "stream",
     "text": [
      " 95% ( 95 of 100) |#########################################   | Elapsed Time: 1:24:01 ETA: 0:04:48"
     ]
    },
    {
     "name": "stdout",
     "output_type": "stream",
     "text": [
      "pattern\n",
      "a = 0.1092625, c = 1.71, alpha = 0.10000\n"
     ]
    },
    {
     "name": "stderr",
     "output_type": "stream",
     "text": [
      " 97% ( 97 of 100) |##########################################  | Elapsed Time: 1:26:16 ETA: 0:03:21"
     ]
    },
    {
     "name": "stdout",
     "output_type": "stream",
     "text": [
      "pattern\n",
      "a = 0.1096840, c = 1.96, alpha = 0.10000\n"
     ]
    },
    {
     "name": "stderr",
     "output_type": "stream",
     "text": [
      " 97% ( 97 of 100) |##########################################  | Elapsed Time: 1:27:10 ETA: 0:03:19"
     ]
    },
    {
     "data": {
      "image/png": "[encoded data removed]",
      "text/plain": [
       "<matplotlib.figure.Figure at 0x10f59fdd8>"
      ]
     },
     "metadata": {},
     "output_type": "display_data"
    }
   ],
   "source": [
    "def write_kernel(a,c,alpha):\n",
    "\n",
    "    kernel = open('kernels.cl','w+')\n",
    "    f1 = open('kernel1.cl','r')\n",
    "    for i in f1:\n",
    "        kernel.write(i)\n",
    "\n",
    "    f1.close()\n",
    "    kernel.write('    const float a   = ')\n",
    "    kernel.write(str(a))\n",
    "    \n",
    "    f2 = open('kernel2.cl','r')\n",
    "    for i in f2:\n",
    "        kernel.write(i)\n",
    "    \n",
    "    f2.close()\n",
    "    kernel.write('    const float c   =')\n",
    "    kernel.write(' '+str(c))\n",
    "    \n",
    "    f3 = open('kernel3.cl','r')\n",
    "    for i in f3:\n",
    "        kernel.write(i)\n",
    "    \n",
    "    kernel.write('    const float alpha =')\n",
    "    \n",
    "    f3.close()\n",
    "    kernel.write(' '+str(alpha))\n",
    "    \n",
    "    f4 = open('kernel4.cl','r')\n",
    "    for i in f4:\n",
    "        kernel.write(i)\n",
    "    \n",
    "    \n",
    "    f4.close()\n",
    "\n",
    "    kernel.close()\n",
    "    \n",
    "    \n",
    "    \n",
    "def check_pattern():\n",
    "    path = '/Users/Winston/test/gpudep-master/OUTPUT/'\n",
    "    image = 'output_000003.bmp'\n",
    "\n",
    "    im = Image.open(path+image)\n",
    "    im.load()\n",
    "    height, width = im.size\n",
    "\n",
    "    data = np.array(im)\n",
    "    hist = skimage.exposure.histogram(data)\n",
    "\n",
    "    if hist[0][0] > 7000:\n",
    "        return 'black'\n",
    "    elif hist[0][255] > 7000:\n",
    "        return 'white' \n",
    "    else:\n",
    "        return 'pattern'\n",
    "bar = progressbar.ProgressBar(redirect_stdout=True)\n",
    "c_list = np.arange(0.01,2.1,0.05)\n",
    "alpha_list = np.logspace(-3, -1, 5)\n",
    "for alpha in range(len(alpha_list)):\n",
    "    \n",
    "    a_list = np.zeros(len(c_list))\n",
    "    count = 0\n",
    "    for c in c_list:  \n",
    "        bar.update(((alpha)*len(c_list)+count+1)*100/(len(alpha_list)*len(a_list)))\n",
    "        a = 4.0 \n",
    "        write_kernel(a,c,alpha_list[alpha])\n",
    "        subprocess.call(shlex.split('./gpudep -b -g 50 -f 1 -t 7056'))\n",
    "        code = 1\n",
    "        power = 2\n",
    "        while code:\n",
    "            pattern = check_pattern()\n",
    "            if pattern =='black':\n",
    "\n",
    "                if a-2**power> 0:\n",
    "                    a = a-2**power\n",
    "                    write_kernel(a,c,alpha_list[alpha])\n",
    "                    subprocess.call(shlex.split('./gpudep -b -g 50 -f 1 -t 7056'))\n",
    "                else:\n",
    "                    power = power - 1\n",
    "            elif pattern == 'white':\n",
    "\n",
    "                a = a+2**power  \n",
    "                power = power - 1\n",
    "                write_kernel(a,c,alpha_list[alpha])\n",
    "                subprocess.call(shlex.split('./gpudep -b -g 50 -f 1 -t 7056'))\n",
    "            elif pattern == 'pattern':\n",
    "                print('pattern')\n",
    "                print(\"a = %.7f, c = %.2f, alpha = %.5f\" %(a,c,alpha_list[alpha]))\n",
    "                code = 0\n",
    "             \n",
    "\n",
    "            if power == -20:\n",
    "                code = 0\n",
    "                a_list[count] = a\n",
    "                count +=1\n",
    "            \n",
    "    plt.plot(c_list,a_list,'.-', color = colors[alpha],label=\"alpha = %.3f\"%alpha_list[alpha])\n",
    "    print(a_list)\n",
    "    plt.legend(bbox_to_anchor= (1.3,1) )\n",
    "plt.xlabel('c')\n",
    "plt.ylabel('a')\n",
    "plt.show()\n",
    "\n",
    "    "
   ]
  },
  {
   "cell_type": "code",
   "execution_count": 8,
   "metadata": {
    "collapsed": false
   },
   "outputs": [
    {
     "name": "stderr",
     "output_type": "stream",
     "text": [
      "  0% (  0 of 100) |                                          | Elapsed Time: 0:00:00 ETA:  --:--:--//anaconda/lib/python3.5/site-packages/skimage/exposure/exposure.py:63: UserWarning: This might be a color image. The histogram will be computed on the flattened image. You can instead apply this function to each color channel.\n",
      "  warn(\"This might be a color image. The histogram will be \"\n",
      " 99% ( 99 of 100) |########################################### | Elapsed Time: 8:48:06 ETA: 0:03:26"
     ]
    },
    {
     "data": {
      "image/png": "[encoded data removed]",
      "text/plain": [
       "<matplotlib.figure.Figure at 0x10fa37080>"
      ]
     },
     "metadata": {},
     "output_type": "display_data"
    }
   ],
   "source": [
    "def write_kernel(a,c,alpha):\n",
    "\n",
    "    kernel = open('kernels.cl','w+')\n",
    "    f1 = open('kernel1.cl','r')\n",
    "    for i in f1:\n",
    "        kernel.write(i)\n",
    "\n",
    "    f1.close()\n",
    "    kernel.write('    const float a   = ')\n",
    "    kernel.write(str(a))\n",
    "    \n",
    "    f2 = open('kernel2.cl','r')\n",
    "    for i in f2:\n",
    "        kernel.write(i)\n",
    "    \n",
    "    f2.close()\n",
    "    kernel.write('    const float c   =')\n",
    "    kernel.write(' '+str(c))\n",
    "    \n",
    "    f3 = open('kernel3.cl','r')\n",
    "    for i in f3:\n",
    "        kernel.write(i)\n",
    "    \n",
    "    kernel.write('    const float alpha =')\n",
    "    \n",
    "    f3.close()\n",
    "    kernel.write(' '+str(alpha))\n",
    "    \n",
    "    f4 = open('kernel4.cl','r')\n",
    "    for i in f4:\n",
    "        kernel.write(i)\n",
    "    \n",
    "    \n",
    "    f4.close()\n",
    "\n",
    "    kernel.close()\n",
    "    \n",
    "    \n",
    "    \n",
    "def check_pattern():\n",
    "    path = '/Users/Winston/test/gpudep-master/OUTPUT/'\n",
    "    image = 'output_000003.bmp'\n",
    "\n",
    "    im = Image.open(path+image)\n",
    "    im.load()\n",
    "    height, width = im.size\n",
    "\n",
    "    data = np.array(im)\n",
    "    hist = skimage.exposure.histogram(data)\n",
    "\n",
    "    if hist[0][0] > 7000:\n",
    "        return 'black'\n",
    "    elif hist[0][255] > 7000:\n",
    "        return 'white' \n",
    "    else:\n",
    "        return 'pattern'\n",
    "bar = progressbar.ProgressBar(redirect_stdout=True)\n",
    "c_list = np.arange(0.01,2.1,0.02)\n",
    "alpha_list = np.logspace(-4, 2, 10)\n",
    "for alpha in range(len(alpha_list)):\n",
    "    \n",
    "    a_list = np.zeros(len(c_list))\n",
    "    count = 0\n",
    "    for c in c_list:  \n",
    "        bar.update(((alpha)*len(c_list)+count+1)*100/(len(alpha_list)*len(a_list)))\n",
    "        a = 4.0 \n",
    "        write_kernel(a,c,alpha_list[alpha])\n",
    "        subprocess.call(shlex.split('./gpudep -b -g 50 -f 1 -t 7056'))\n",
    "        code = 1\n",
    "        power = 2\n",
    "        while code:\n",
    "            pattern = check_pattern()\n",
    "            if pattern =='black':\n",
    "\n",
    "                if a-2**power> 0:\n",
    "                    a = a-2**power\n",
    "                    write_kernel(a,c,alpha_list[alpha])\n",
    "                    subprocess.call(shlex.split('./gpudep -b -g 50 -f 1 -t 7056'))\n",
    "                else:\n",
    "                    power = power - 1\n",
    "            elif pattern == 'white':\n",
    "\n",
    "                a = a+2**power  \n",
    "                power = power - 1\n",
    "                write_kernel(a,c,alpha_list[alpha])\n",
    "                subprocess.call(shlex.split('./gpudep -b -g 50 -f 1 -t 7056'))\n",
    "            elif pattern == 'pattern':\n",
    "                print('pattern')\n",
    "                print(\"a = %.7f, c = %.2f, alpha = %.5f\" %(a,c,alpha_list[alpha]))\n",
    "                code = 0\n",
    "             \n",
    "\n",
    "            if power == -22:\n",
    "                code = 0\n",
    "                a_list[count] = a\n",
    "                count +=1\n",
    "            \n",
    "    plt.plot(c_list,a_list,'.-', color = colors[alpha],label=\"alpha = %.3f\"%alpha_list[alpha])\n",
    "    print(a_list)\n",
    "    plt.legend(bbox_to_anchor= (1.3,1) )\n",
    "plt.xlabel('c')\n",
    "plt.ylabel('a')\n",
    "plt.show()\n",
    "\n",
    "    "
   ]
  },
  {
   "cell_type": "code",
   "execution_count": 5,
   "metadata": {
    "collapsed": false
   },
   "outputs": [
    {
     "name": "stdout",
     "output_type": "stream",
     "text": [
      "[ 0.001       0.0016681   0.00278256  0.00464159  0.00774264  0.0129155\n",
      "  0.02154435  0.03593814  0.05994843  0.1       ]\n"
     ]
    }
   ],
   "source": [
    " \n",
    "print(np.logspace(-3, -1, 10))"
   ]
  },
  {
   "cell_type": "code",
   "execution_count": 10,
   "metadata": {
    "collapsed": false
   },
   "outputs": [
    {
     "name": "stderr",
     "output_type": "stream",
     "text": [
      "  0% (  0 of 100) |                                          | Elapsed Time: 0:00:00 ETA:  --:--:--//anaconda/lib/python3.5/site-packages/skimage/exposure/exposure.py:63: UserWarning: This might be a color image. The histogram will be computed on the flattened image. You can instead apply this function to each color channel.\n",
      "  warn(\"This might be a color image. The histogram will be \"\n",
      " 98% ( 98 of 100) |########################################## | Elapsed Time: 10:03:06 ETA: 0:10:49"
     ]
    },
    {
     "data": {
      "image/png": "[encoded data removed]",
      "text/plain": [
       "<matplotlib.figure.Figure at 0x10fc75908>"
      ]
     },
     "metadata": {},
     "output_type": "display_data"
    }
   ],
   "source": [
    "def write_kernel(a,c,alpha):\n",
    "\n",
    "    kernel = open('kernels.cl','w+')\n",
    "    f1 = open('kernel1.cl','r')\n",
    "    for i in f1:\n",
    "        kernel.write(i)\n",
    "\n",
    "    f1.close()\n",
    "    kernel.write('    const float a   = ')\n",
    "    kernel.write(str(a))\n",
    "    \n",
    "    f2 = open('kernel2.cl','r')\n",
    "    for i in f2:\n",
    "        kernel.write(i)\n",
    "    \n",
    "    f2.close()\n",
    "    kernel.write('    const float c   =')\n",
    "    kernel.write(' '+str(c))\n",
    "    \n",
    "    f3 = open('kernel3.cl','r')\n",
    "    for i in f3:\n",
    "        kernel.write(i)\n",
    "    \n",
    "    kernel.write('    const float alpha =')\n",
    "    \n",
    "    f3.close()\n",
    "    kernel.write(' '+str(alpha))\n",
    "    \n",
    "    f4 = open('kernel4.cl','r')\n",
    "    for i in f4:\n",
    "        kernel.write(i)\n",
    "    \n",
    "    \n",
    "    f4.close()\n",
    "\n",
    "    kernel.close()\n",
    "    \n",
    "    \n",
    "    \n",
    "def check_pattern():\n",
    "    path = '/Users/Winston/test/gpudep-master/OUTPUT/'\n",
    "    image = 'output_000003.bmp'\n",
    "\n",
    "    im = Image.open(path+image)\n",
    "    im.load()\n",
    "    height, width = im.size\n",
    "\n",
    "    data = np.array(im)\n",
    "    hist = skimage.exposure.histogram(data)\n",
    "\n",
    "    if hist[0][0] > 7000:\n",
    "        return 'black'\n",
    "    elif hist[0][255] > 7000:\n",
    "        return 'white' \n",
    "    else:\n",
    "        return 'pattern'\n",
    "bar = progressbar.ProgressBar(redirect_stdout=True)\n",
    "c_list = np.arange(0.01,2.1,0.02)\n",
    "alpha_list = np.logspace(-3.5, 1, 10)\n",
    "for alpha in range(len(alpha_list)):\n",
    "    \n",
    "    a_list = np.zeros(len(c_list))\n",
    "    count = 0\n",
    "    for c in c_list:  \n",
    "        bar.update(((alpha)*len(c_list)+count+1)*100/(len(alpha_list)*len(a_list)))\n",
    "        a = 4.0 \n",
    "        write_kernel(a,c,alpha_list[alpha])\n",
    "        subprocess.call(shlex.split('./gpudep -b -g 50 -f 1 -t 7056'))\n",
    "        code = 1\n",
    "        power = 2\n",
    "        while code:\n",
    "            pattern = check_pattern()\n",
    "            if pattern =='black':\n",
    "\n",
    "                if a-2**power> 0:\n",
    "                    a = a-2**power\n",
    "                    write_kernel(a,c,alpha_list[alpha])\n",
    "                    subprocess.call(shlex.split('./gpudep -b -g 50 -f 1 -t 7056'))\n",
    "                else:\n",
    "                    power = power - 1\n",
    "            elif pattern == 'white':\n",
    "\n",
    "                a = a+2**power  \n",
    "                power = power - 1\n",
    "                write_kernel(a,c,alpha_list[alpha])\n",
    "                subprocess.call(shlex.split('./gpudep -b -g 50 -f 1 -t 7056'))\n",
    "            elif pattern == 'pattern':\n",
    "                print('pattern')\n",
    "                print(\"a = %.7f, c = %.2f, alpha = %.5f\" %(a,c,alpha_list[alpha]))\n",
    "                code = 0\n",
    "             \n",
    "\n",
    "            if power == -22:\n",
    "                code = 0\n",
    "                a_list[count] = a\n",
    "                count +=1\n",
    "            \n",
    "    plt.plot(c_list,a_list,'.-', color = colors[alpha],label=\"alpha = %.3f\"%alpha_list[alpha])\n",
    "    print(a_list)\n",
    "    plt.legend(bbox_to_anchor= (1.3,1) )\n",
    "plt.xlabel('c')\n",
    "plt.ylabel('a')\n",
    "plt.title('d =0.004')\n",
    "plt.show()\n",
    "\n",
    "    "
   ]
  },
  {
   "cell_type": "code",
   "execution_count": 2,
   "metadata": {
    "collapsed": false,
    "scrolled": true
   },
   "outputs": [
    {
     "name": "stderr",
     "output_type": "stream",
     "text": [
      "  0% (  0 of 100) |                                          | Elapsed Time: 0:00:00 ETA:  --:--:--//anaconda/lib/python3.5/site-packages/skimage/exposure/exposure.py:63: UserWarning: This might be a color image. The histogram will be computed on the flattened image. You can instead apply this function to each color channel.\n",
      "  warn(\"This might be a color image. The histogram will be \"\n",
      "  0% (  0 of 100) |                                            | Elapsed Time: 0:00:59 ETA: 3:25:49"
     ]
    },
    {
     "name": "stdout",
     "output_type": "stream",
     "text": [
      "pattern\n",
      "a = 0.0139923, c = 0.09, alpha = 0.00032\n"
     ]
    },
    {
     "name": "stderr",
     "output_type": "stream",
     "text": [
      "\r",
      "                                                                                                   \r",
      "\r",
      "  0% (  0 of 100) |                                            | Elapsed Time: 0:01:18 ETA: 4:33:03"
     ]
    },
    {
     "name": "stdout",
     "output_type": "stream",
     "text": [
      "pattern\n",
      "a = 0.0339966, c = 0.11, alpha = 0.00032\n"
     ]
    },
    {
     "name": "stderr",
     "output_type": "stream",
     "text": [
      "\r",
      "                                                                                                   \r",
      "\r",
      "  0% (  0 of 100) |                                            | Elapsed Time: 0:01:37 ETA: 5:40:03"
     ]
    },
    {
     "name": "stdout",
     "output_type": "stream",
     "text": [
      "pattern\n",
      "a = 0.0517511, c = 0.13, alpha = 0.00032\n"
     ]
    },
    {
     "name": "stderr",
     "output_type": "stream",
     "text": [
      "\r",
      "                                                                                                   \r",
      "\r",
      "  0% (  0 of 100) |                                            | Elapsed Time: 0:02:03 ETA: 7:11:38"
     ]
    },
    {
     "name": "stdout",
     "output_type": "stream",
     "text": [
      "pattern\n",
      "a = 0.0517659, c = 0.15, alpha = 0.00032\n"
     ]
    },
    {
     "name": "stderr",
     "output_type": "stream",
     "text": [
      "\r",
      "                                                                                                   \r",
      "\r",
      "  0% (  0 of 100) |                                            | Elapsed Time: 0:02:34 ETA: 8:58:58"
     ]
    },
    {
     "name": "stdout",
     "output_type": "stream",
     "text": [
      "pattern\n",
      "a = 0.0517559, c = 0.17, alpha = 0.00032\n"
     ]
    },
    {
     "name": "stderr",
     "output_type": "stream",
     "text": [
      "\r",
      "                                                                                                   \r",
      "\r",
      "  0% (  0 of 100) |                                           | Elapsed Time: 0:02:58 ETA: 10:21:05"
     ]
    },
    {
     "name": "stdout",
     "output_type": "stream",
     "text": [
      "pattern\n",
      "a = 0.0517454, c = 0.19, alpha = 0.00032\n"
     ]
    },
    {
     "name": "stderr",
     "output_type": "stream",
     "text": [
      "\r",
      "                                                                                                   \r",
      "\r",
      "  0% (  0 of 100) |                                           | Elapsed Time: 0:03:24 ETA: 18:13:45"
     ]
    },
    {
     "name": "stdout",
     "output_type": "stream",
     "text": [
      "pattern\n",
      "a = 0.0517344, c = 0.21, alpha = 0.00032\n"
     ]
    },
    {
     "name": "stderr",
     "output_type": "stream",
     "text": [
      "\r",
      "                                                                                                   \r",
      "\r",
      "  0% (  0 of 100) |                                     | Elapsed Time: 0:03:50 ETA: 1 day, 5:06:14"
     ]
    },
    {
     "name": "stdout",
     "output_type": "stream",
     "text": [
      "pattern\n",
      "a = 0.0517235, c = 0.23, alpha = 0.00032\n"
     ]
    },
    {
     "name": "stderr",
     "output_type": "stream",
     "text": [
      "\r",
      "                                                                                                   \r",
      "\r",
      "  0% (  0 of 100) |                                   | Elapsed Time: 0:04:13 ETA: 2 days, 12:37:39"
     ]
    },
    {
     "name": "stdout",
     "output_type": "stream",
     "text": [
      "pattern\n",
      "a = 0.0517130, c = 0.25, alpha = 0.00032\n"
     ]
    },
    {
     "name": "stderr",
     "output_type": "stream",
     "text": [
      "\r",
      "                                                                                                   \r",
      "\r",
      "  0% (  0 of 100) |                                           | Elapsed Time: 0:04:40 ETA: --:--:--"
     ]
    },
    {
     "name": "stdout",
     "output_type": "stream",
     "text": [
      "pattern\n",
      "a = 0.0517025, c = 0.27, alpha = 0.00032\n"
     ]
    },
    {
     "name": "stderr",
     "output_type": "stream",
     "text": [
      "\r",
      "                                                                                                   \r",
      "\r",
      "  0% (  0 of 100) |                                           | Elapsed Time: 0:05:05 ETA: --:--:--"
     ]
    },
    {
     "name": "stdout",
     "output_type": "stream",
     "text": [
      "pattern\n",
      "a = 0.0516920, c = 0.29, alpha = 0.00032\n"
     ]
    },
    {
     "name": "stderr",
     "output_type": "stream",
     "text": [
      "\r",
      "                                                                                                   \r",
      "\r",
      "  0% (  0 of 100) |                                           | Elapsed Time: 0:05:31 ETA: --:--:--"
     ]
    },
    {
     "name": "stdout",
     "output_type": "stream",
     "text": [
      "pattern\n",
      "a = 0.0516820, c = 0.31, alpha = 0.00032\n"
     ]
    },
    {
     "name": "stderr",
     "output_type": "stream",
     "text": [
      "\r",
      "                                                                                                   \r",
      "\r",
      "  0% (  0 of 100) |                                           | Elapsed Time: 0:06:00 ETA: --:--:--"
     ]
    },
    {
     "name": "stdout",
     "output_type": "stream",
     "text": [
      "pattern\n",
      "a = 0.0516720, c = 0.33, alpha = 0.00032\n"
     ]
    },
    {
     "name": "stderr",
     "output_type": "stream",
     "text": [
      "\r",
      "                                                                                                   \r",
      "\r",
      "  0% (  0 of 100) |                                           | Elapsed Time: 0:06:26 ETA: --:--:--"
     ]
    },
    {
     "name": "stdout",
     "output_type": "stream",
     "text": [
      "pattern\n",
      "a = 0.0516615, c = 0.35, alpha = 0.00032\n"
     ]
    },
    {
     "name": "stderr",
     "output_type": "stream",
     "text": [
      "\r",
      "                                                                                                   \r",
      "\r",
      "  0% (  0 of 100) |                                           | Elapsed Time: 0:06:52 ETA: --:--:--"
     ]
    },
    {
     "name": "stdout",
     "output_type": "stream",
     "text": [
      "pattern\n",
      "a = 0.0516520, c = 0.37, alpha = 0.00032\n"
     ]
    },
    {
     "name": "stderr",
     "output_type": "stream",
     "text": [
      "\r",
      "                                                                                                   \r",
      "\r",
      "  0% (  0 of 100) |                                           | Elapsed Time: 0:07:20 ETA: --:--:--"
     ]
    },
    {
     "name": "stdout",
     "output_type": "stream",
     "text": [
      "pattern\n",
      "a = 0.0516424, c = 0.39, alpha = 0.00032\n"
     ]
    },
    {
     "name": "stderr",
     "output_type": "stream",
     "text": [
      "\r",
      "                                                                                                   \r",
      "\r",
      "  0% (  0 of 100) |                                           | Elapsed Time: 0:07:47 ETA: --:--:--"
     ]
    },
    {
     "name": "stdout",
     "output_type": "stream",
     "text": [
      "pattern\n",
      "a = 0.0516324, c = 0.41, alpha = 0.00032\n"
     ]
    },
    {
     "name": "stderr",
     "output_type": "stream",
     "text": [
      "\r",
      "                                                                                                   \r",
      "\r",
      "  0% (  0 of 100) |                                           | Elapsed Time: 0:08:14 ETA: --:--:--"
     ]
    },
    {
     "name": "stdout",
     "output_type": "stream",
     "text": [
      "pattern\n",
      "a = 0.0516229, c = 0.43, alpha = 0.00032\n"
     ]
    },
    {
     "name": "stderr",
     "output_type": "stream",
     "text": [
      "\r",
      "                                                                                                   \r",
      "\r",
      "  0% (  0 of 100) |                                           | Elapsed Time: 0:08:43 ETA: --:--:--"
     ]
    },
    {
     "name": "stdout",
     "output_type": "stream",
     "text": [
      "pattern\n",
      "a = 0.0516133, c = 0.45, alpha = 0.00032\n"
     ]
    },
    {
     "name": "stderr",
     "output_type": "stream",
     "text": [
      "\r",
      "                                                                                                   \r",
      "\r",
      "  0% (  0 of 100) |                                           | Elapsed Time: 0:09:11 ETA: --:--:--"
     ]
    },
    {
     "name": "stdout",
     "output_type": "stream",
     "text": [
      "pattern\n",
      "a = 0.0516043, c = 0.47, alpha = 0.00032\n"
     ]
    },
    {
     "name": "stderr",
     "output_type": "stream",
     "text": [
      "\r",
      "                                                                                                   \r",
      "\r",
      "  0% (  0 of 100) |                                           | Elapsed Time: 0:09:37 ETA: --:--:--"
     ]
    },
    {
     "name": "stdout",
     "output_type": "stream",
     "text": [
      "pattern\n",
      "a = 0.0515947, c = 0.49, alpha = 0.00032\n"
     ]
    },
    {
     "name": "stderr",
     "output_type": "stream",
     "text": [
      "\r",
      "                                                                                                   \r",
      "\r",
      "  0% (  0 of 100) |                                           | Elapsed Time: 0:10:04 ETA: --:--:--"
     ]
    },
    {
     "name": "stdout",
     "output_type": "stream",
     "text": [
      "pattern\n",
      "a = 0.0515857, c = 0.51, alpha = 0.00032\n"
     ]
    },
    {
     "name": "stderr",
     "output_type": "stream",
     "text": [
      "\r",
      "                                                                                                   \r",
      "\r",
      "  0% (  0 of 100) |                                           | Elapsed Time: 0:10:32 ETA: --:--:--"
     ]
    },
    {
     "name": "stdout",
     "output_type": "stream",
     "text": [
      "pattern\n",
      "a = 0.0515766, c = 0.53, alpha = 0.00032\n"
     ]
    },
    {
     "name": "stderr",
     "output_type": "stream",
     "text": [
      "\r",
      "                                                                                                   \r",
      "\r",
      "  0% (  0 of 100) |                                           | Elapsed Time: 0:10:59 ETA: --:--:--"
     ]
    },
    {
     "name": "stdout",
     "output_type": "stream",
     "text": [
      "pattern\n",
      "a = 0.0515680, c = 0.55, alpha = 0.00032\n"
     ]
    },
    {
     "name": "stderr",
     "output_type": "stream",
     "text": [
      "\r",
      "                                                                                                   \r",
      "\r",
      "  0% (  0 of 100) |                                           | Elapsed Time: 0:11:26 ETA: --:--:--"
     ]
    },
    {
     "name": "stdout",
     "output_type": "stream",
     "text": [
      "pattern\n",
      "a = 0.0515590, c = 0.57, alpha = 0.00032\n"
     ]
    },
    {
     "name": "stderr",
     "output_type": "stream",
     "text": [
      "\r",
      "                                                                                                   \r",
      "\r",
      "  0% (  0 of 100) |                                           | Elapsed Time: 0:11:54 ETA: --:--:--"
     ]
    },
    {
     "name": "stdout",
     "output_type": "stream",
     "text": [
      "pattern\n",
      "a = 0.0515504, c = 0.59, alpha = 0.00032\n"
     ]
    },
    {
     "name": "stderr",
     "output_type": "stream",
     "text": [
      "\r",
      "                                                                                                   \r",
      "\r",
      "  0% (  0 of 100) |                                           | Elapsed Time: 0:12:23 ETA: --:--:--"
     ]
    },
    {
     "name": "stdout",
     "output_type": "stream",
     "text": [
      "pattern\n",
      "a = 0.0515413, c = 0.61, alpha = 0.00032\n"
     ]
    },
    {
     "name": "stderr",
     "output_type": "stream",
     "text": [
      "\r",
      "                                                                                                   \r",
      "\r",
      "  0% (  0 of 100) |                                           | Elapsed Time: 0:12:50 ETA: --:--:--"
     ]
    },
    {
     "name": "stdout",
     "output_type": "stream",
     "text": [
      "pattern\n",
      "a = 0.0515332, c = 0.63, alpha = 0.00032\n"
     ]
    },
    {
     "name": "stderr",
     "output_type": "stream",
     "text": [
      "\r",
      "                                                                                                   \r",
      "\r",
      "  0% (  0 of 100) |                                           | Elapsed Time: 0:13:19 ETA: --:--:--"
     ]
    },
    {
     "name": "stdout",
     "output_type": "stream",
     "text": [
      "pattern\n",
      "a = 0.0515251, c = 0.65, alpha = 0.00032\n"
     ]
    },
    {
     "name": "stderr",
     "output_type": "stream",
     "text": [
      "\r",
      "                                                                                                   \r",
      "\r",
      "  0% (  0 of 100) |                                           | Elapsed Time: 0:13:44 ETA: --:--:--"
     ]
    },
    {
     "name": "stdout",
     "output_type": "stream",
     "text": [
      "pattern\n",
      "a = 0.0515165, c = 0.67, alpha = 0.00032\n"
     ]
    },
    {
     "name": "stderr",
     "output_type": "stream",
     "text": [
      "\r",
      "                                                                                                   \r",
      "\r",
      "  0% (  0 of 100) |                                           | Elapsed Time: 0:14:12 ETA: --:--:--"
     ]
    },
    {
     "name": "stdout",
     "output_type": "stream",
     "text": [
      "pattern\n",
      "a = 0.0515084, c = 0.69, alpha = 0.00032\n"
     ]
    },
    {
     "name": "stderr",
     "output_type": "stream",
     "text": [
      "\r",
      "                                                                                                   \r",
      "\r",
      "  0% (  0 of 100) |                                           | Elapsed Time: 0:14:40 ETA: --:--:--"
     ]
    },
    {
     "name": "stdout",
     "output_type": "stream",
     "text": [
      "pattern\n",
      "a = 0.0515003, c = 0.71, alpha = 0.00032\n"
     ]
    },
    {
     "name": "stderr",
     "output_type": "stream",
     "text": [
      "\r",
      "                                                                                                   \r",
      "\r",
      "  0% (  0 of 100) |                                           | Elapsed Time: 0:15:05 ETA: --:--:--"
     ]
    },
    {
     "name": "stdout",
     "output_type": "stream",
     "text": [
      "pattern\n",
      "a = 0.0514922, c = 0.73, alpha = 0.00032\n"
     ]
    },
    {
     "name": "stderr",
     "output_type": "stream",
     "text": [
      "\r",
      "                                                                                                   \r",
      "\r",
      "  0% (  0 of 100) |                                           | Elapsed Time: 0:15:34 ETA: --:--:--"
     ]
    },
    {
     "name": "stdout",
     "output_type": "stream",
     "text": [
      "pattern\n",
      "a = 0.0514841, c = 0.75, alpha = 0.00032\n"
     ]
    },
    {
     "name": "stderr",
     "output_type": "stream",
     "text": [
      "\r",
      "                                                                                                   \r",
      "\r",
      "  0% (  0 of 100) |                                           | Elapsed Time: 0:16:01 ETA: --:--:--"
     ]
    },
    {
     "name": "stdout",
     "output_type": "stream",
     "text": [
      "pattern\n",
      "a = 0.0514765, c = 0.77, alpha = 0.00032\n"
     ]
    },
    {
     "name": "stderr",
     "output_type": "stream",
     "text": [
      "\r",
      "                                                                                                   \r",
      "\r",
      "  0% (  0 of 100) |                                           | Elapsed Time: 0:16:29 ETA: --:--:--"
     ]
    },
    {
     "name": "stdout",
     "output_type": "stream",
     "text": [
      "pattern\n",
      "a = 0.0514688, c = 0.79, alpha = 0.00032\n"
     ]
    },
    {
     "name": "stderr",
     "output_type": "stream",
     "text": [
      "\r",
      "                                                                                                   \r",
      "\r",
      "  0% (  0 of 100) |                                           | Elapsed Time: 0:16:56 ETA: --:--:--"
     ]
    },
    {
     "name": "stdout",
     "output_type": "stream",
     "text": [
      "pattern\n",
      "a = 0.0514612, c = 0.81, alpha = 0.00032\n"
     ]
    },
    {
     "name": "stderr",
     "output_type": "stream",
     "text": [
      "\r",
      "                                                                                                   \r",
      "\r",
      "  0% (  0 of 100) |                                           | Elapsed Time: 0:17:24 ETA: --:--:--"
     ]
    },
    {
     "name": "stdout",
     "output_type": "stream",
     "text": [
      "pattern\n",
      "a = 0.0514536, c = 0.83, alpha = 0.00032\n"
     ]
    },
    {
     "name": "stderr",
     "output_type": "stream",
     "text": [
      "\r",
      "                                                                                                   \r",
      "\r",
      "  0% (  0 of 100) |                                           | Elapsed Time: 0:17:52 ETA: --:--:--"
     ]
    },
    {
     "name": "stdout",
     "output_type": "stream",
     "text": [
      "pattern\n",
      "a = 0.0514460, c = 0.85, alpha = 0.00032\n"
     ]
    },
    {
     "name": "stderr",
     "output_type": "stream",
     "text": [
      "\r",
      "                                                                                                   \r",
      "\r",
      "  0% (  0 of 100) |                                           | Elapsed Time: 0:18:19 ETA: --:--:--"
     ]
    },
    {
     "name": "stdout",
     "output_type": "stream",
     "text": [
      "pattern\n",
      "a = 0.0514383, c = 0.87, alpha = 0.00032\n"
     ]
    },
    {
     "name": "stderr",
     "output_type": "stream",
     "text": [
      "\r",
      "                                                                                                   \r",
      "\r",
      "  0% (  0 of 100) |                                           | Elapsed Time: 0:18:47 ETA: --:--:--"
     ]
    },
    {
     "name": "stdout",
     "output_type": "stream",
     "text": [
      "pattern\n",
      "a = 0.0514317, c = 0.89, alpha = 0.00032\n"
     ]
    },
    {
     "name": "stderr",
     "output_type": "stream",
     "text": [
      "\r",
      "                                                                                                   \r",
      "\r",
      "  0% (  0 of 100) |                                           | Elapsed Time: 0:19:13 ETA: --:--:--"
     ]
    },
    {
     "name": "stdout",
     "output_type": "stream",
     "text": [
      "pattern\n",
      "a = 0.0514240, c = 0.91, alpha = 0.00032\n"
     ]
    },
    {
     "name": "stderr",
     "output_type": "stream",
     "text": [
      "\r",
      "                                                                                                   \r",
      "\r",
      "  0% (  0 of 100) |                                           | Elapsed Time: 0:19:41 ETA: --:--:--"
     ]
    },
    {
     "name": "stdout",
     "output_type": "stream",
     "text": [
      "pattern\n",
      "a = 0.0514169, c = 0.93, alpha = 0.00032\n"
     ]
    },
    {
     "name": "stderr",
     "output_type": "stream",
     "text": [
      "\r",
      "                                                                                                   \r",
      "\r",
      "  0% (  0 of 100) |                                           | Elapsed Time: 0:20:10 ETA: --:--:--"
     ]
    },
    {
     "name": "stdout",
     "output_type": "stream",
     "text": [
      "pattern\n",
      "a = 0.0514097, c = 0.95, alpha = 0.00032\n"
     ]
    },
    {
     "name": "stderr",
     "output_type": "stream",
     "text": [
      "\r",
      "                                                                                                   \r",
      "\r",
      "  0% (  0 of 100) |                                           | Elapsed Time: 0:20:38 ETA: --:--:--"
     ]
    },
    {
     "name": "stdout",
     "output_type": "stream",
     "text": [
      "pattern\n",
      "a = 0.0514030, c = 0.97, alpha = 0.00032\n"
     ]
    },
    {
     "name": "stderr",
     "output_type": "stream",
     "text": [
      "\r",
      "                                                                                                   \r",
      "\r",
      "  0% (  0 of 100) |                                           | Elapsed Time: 0:21:02 ETA: --:--:--"
     ]
    },
    {
     "name": "stdout",
     "output_type": "stream",
     "text": [
      "pattern\n",
      "a = 0.0513959, c = 0.99, alpha = 0.00032\n"
     ]
    },
    {
     "name": "stderr",
     "output_type": "stream",
     "text": [
      "\r",
      "                                                                                                   \r",
      "\r",
      "  0% (  0 of 100) |                                           | Elapsed Time: 0:21:32 ETA: --:--:--"
     ]
    },
    {
     "name": "stdout",
     "output_type": "stream",
     "text": [
      "pattern\n",
      "a = 0.0513887, c = 1.01, alpha = 0.00032\n"
     ]
    },
    {
     "name": "stderr",
     "output_type": "stream",
     "text": [
      "\r",
      "                                                                                                   \r",
      "\r",
      "  0% (  0 of 100) |                                           | Elapsed Time: 0:21:59 ETA: --:--:--"
     ]
    },
    {
     "name": "stdout",
     "output_type": "stream",
     "text": [
      "pattern\n",
      "a = 0.0513821, c = 1.03, alpha = 0.00032\n"
     ]
    },
    {
     "name": "stderr",
     "output_type": "stream",
     "text": [
      "\r",
      "                                                                                                   \r",
      "\r",
      "  0% (  0 of 100) |                                           | Elapsed Time: 0:22:24 ETA: --:--:--"
     ]
    },
    {
     "name": "stdout",
     "output_type": "stream",
     "text": [
      "pattern\n",
      "a = 0.0513754, c = 1.05, alpha = 0.00032\n"
     ]
    },
    {
     "name": "stderr",
     "output_type": "stream",
     "text": [
      "\r",
      "                                                                                                   \r",
      "\r",
      "  0% (  0 of 100) |                                           | Elapsed Time: 0:22:51 ETA: --:--:--"
     ]
    },
    {
     "name": "stdout",
     "output_type": "stream",
     "text": [
      "pattern\n",
      "a = 0.0513687, c = 1.07, alpha = 0.00032\n"
     ]
    },
    {
     "name": "stderr",
     "output_type": "stream",
     "text": [
      "\r",
      "                                                                                                   \r",
      "\r",
      "  0% (  0 of 100) |                                           | Elapsed Time: 0:23:14 ETA: --:--:--"
     ]
    },
    {
     "name": "stdout",
     "output_type": "stream",
     "text": [
      "pattern\n",
      "a = 0.0513620, c = 1.09, alpha = 0.00032\n"
     ]
    },
    {
     "name": "stderr",
     "output_type": "stream",
     "text": [
      "\r",
      "                                                                                                   \r",
      "\r",
      "  0% (  0 of 100) |                                           | Elapsed Time: 0:23:42 ETA: --:--:--"
     ]
    },
    {
     "name": "stdout",
     "output_type": "stream",
     "text": [
      "pattern\n",
      "a = 0.0513558, c = 1.11, alpha = 0.00032\n"
     ]
    },
    {
     "name": "stderr",
     "output_type": "stream",
     "text": [
      "\r",
      "                                                                                                   \r",
      "\r",
      "  0% (  0 of 100) |                                           | Elapsed Time: 0:24:11 ETA: --:--:--"
     ]
    },
    {
     "name": "stdout",
     "output_type": "stream",
     "text": [
      "pattern\n",
      "a = 0.0513496, c = 1.13, alpha = 0.00032\n"
     ]
    },
    {
     "name": "stderr",
     "output_type": "stream",
     "text": [
      "\r",
      "                                                                                                   \r",
      "\r",
      "  0% (  0 of 100) |                                           | Elapsed Time: 0:24:36 ETA: --:--:--"
     ]
    },
    {
     "name": "stdout",
     "output_type": "stream",
     "text": [
      "pattern\n",
      "a = 0.0513430, c = 1.15, alpha = 0.00032\n"
     ]
    },
    {
     "name": "stderr",
     "output_type": "stream",
     "text": [
      "\r",
      "                                                                                                   \r",
      "\r",
      "  0% (  0 of 100) |                                           | Elapsed Time: 0:25:04 ETA: --:--:--"
     ]
    },
    {
     "name": "stdout",
     "output_type": "stream",
     "text": [
      "pattern\n",
      "a = 0.0513368, c = 1.17, alpha = 0.00032\n"
     ]
    },
    {
     "name": "stderr",
     "output_type": "stream",
     "text": [
      "\r",
      "                                                                                                   \r",
      "\r",
      "  0% (  0 of 100) |                                           | Elapsed Time: 0:25:34 ETA: --:--:--"
     ]
    },
    {
     "name": "stdout",
     "output_type": "stream",
     "text": [
      "pattern\n",
      "a = 0.0513306, c = 1.19, alpha = 0.00032\n"
     ]
    },
    {
     "name": "stderr",
     "output_type": "stream",
     "text": [
      "\r",
      "                                                                                                   \r",
      "\r",
      "  0% (  0 of 100) |                                           | Elapsed Time: 0:25:52 ETA: --:--:--"
     ]
    },
    {
     "name": "stdout",
     "output_type": "stream",
     "text": [
      "pattern\n",
      "a = 0.0513244, c = 1.21, alpha = 0.00032\n"
     ]
    },
    {
     "name": "stderr",
     "output_type": "stream",
     "text": [
      "\r",
      "                                                                                                   \r",
      "\r",
      "  0% (  0 of 100) |                                           | Elapsed Time: 0:26:21 ETA: --:--:--"
     ]
    },
    {
     "name": "stdout",
     "output_type": "stream",
     "text": [
      "pattern\n",
      "a = 0.0513182, c = 1.23, alpha = 0.00032\n"
     ]
    },
    {
     "name": "stderr",
     "output_type": "stream",
     "text": [
      "\r",
      "                                                                                                   \r",
      "\r",
      "  0% (  0 of 100) |                                           | Elapsed Time: 0:26:49 ETA: --:--:--"
     ]
    },
    {
     "name": "stdout",
     "output_type": "stream",
     "text": [
      "pattern\n",
      "a = 0.0513124, c = 1.25, alpha = 0.00032\n"
     ]
    },
    {
     "name": "stderr",
     "output_type": "stream",
     "text": [
      "\r",
      "                                                                                                   \r",
      "\r",
      "  0% (  0 of 100) |                                           | Elapsed Time: 0:27:17 ETA: --:--:--"
     ]
    },
    {
     "name": "stdout",
     "output_type": "stream",
     "text": [
      "pattern\n",
      "a = 0.0513058, c = 1.27, alpha = 0.00032\n"
     ]
    },
    {
     "name": "stderr",
     "output_type": "stream",
     "text": [
      "\r",
      "                                                                                                   \r",
      "\r",
      "  0% (  0 of 100) |                                           | Elapsed Time: 0:27:44 ETA: --:--:--"
     ]
    },
    {
     "name": "stdout",
     "output_type": "stream",
     "text": [
      "pattern\n",
      "a = 0.0513000, c = 1.29, alpha = 0.00032\n"
     ]
    },
    {
     "name": "stderr",
     "output_type": "stream",
     "text": [
      "\r",
      "                                                                                                   \r",
      "\r",
      "  0% (  0 of 100) |                                           | Elapsed Time: 0:28:04 ETA: --:--:--"
     ]
    },
    {
     "name": "stdout",
     "output_type": "stream",
     "text": [
      "pattern\n",
      "a = 0.0512943, c = 1.31, alpha = 0.00032\n"
     ]
    },
    {
     "name": "stderr",
     "output_type": "stream",
     "text": [
      "\r",
      "                                                                                                   \r",
      "\r",
      "  0% (  0 of 100) |                                           | Elapsed Time: 0:28:31 ETA: --:--:--"
     ]
    },
    {
     "name": "stdout",
     "output_type": "stream",
     "text": [
      "pattern\n",
      "a = 0.0512886, c = 1.33, alpha = 0.00032\n"
     ]
    },
    {
     "name": "stderr",
     "output_type": "stream",
     "text": [
      "\r",
      "                                                                                                   \r",
      "\r",
      "  0% (  0 of 100) |                                           | Elapsed Time: 0:28:56 ETA: --:--:--"
     ]
    },
    {
     "name": "stdout",
     "output_type": "stream",
     "text": [
      "pattern\n",
      "a = 0.0512829, c = 1.35, alpha = 0.00032\n"
     ]
    },
    {
     "name": "stderr",
     "output_type": "stream",
     "text": [
      "\r",
      "                                                                                                   \r",
      "\r",
      "  0% (  0 of 100) |                                           | Elapsed Time: 0:29:23 ETA: --:--:--"
     ]
    },
    {
     "name": "stdout",
     "output_type": "stream",
     "text": [
      "pattern\n",
      "a = 0.0512772, c = 1.37, alpha = 0.00032\n"
     ]
    },
    {
     "name": "stderr",
     "output_type": "stream",
     "text": [
      "\r",
      "                                                                                                   \r",
      "\r",
      "  0% (  0 of 100) |                                           | Elapsed Time: 0:29:47 ETA: --:--:--"
     ]
    },
    {
     "name": "stdout",
     "output_type": "stream",
     "text": [
      "pattern\n",
      "a = 0.0512714, c = 1.39, alpha = 0.00032\n"
     ]
    },
    {
     "name": "stderr",
     "output_type": "stream",
     "text": [
      "\r",
      "                                                                                                   \r",
      "\r",
      "  0% (  0 of 100) |                                           | Elapsed Time: 0:30:14 ETA: --:--:--"
     ]
    },
    {
     "name": "stdout",
     "output_type": "stream",
     "text": [
      "pattern\n",
      "a = 0.0512657, c = 1.41, alpha = 0.00032\n"
     ]
    },
    {
     "name": "stderr",
     "output_type": "stream",
     "text": [
      "\r",
      "                                                                                                   \r",
      "\r",
      "  0% (  0 of 100) |                                           | Elapsed Time: 0:30:37 ETA: --:--:--"
     ]
    },
    {
     "name": "stdout",
     "output_type": "stream",
     "text": [
      "pattern\n",
      "a = 0.0512600, c = 1.43, alpha = 0.00032\n"
     ]
    },
    {
     "name": "stderr",
     "output_type": "stream",
     "text": [
      "\r",
      "                                                                                                   \r",
      "\r",
      "  0% (  0 of 100) |                                           | Elapsed Time: 0:31:02 ETA: --:--:--"
     ]
    },
    {
     "name": "stdout",
     "output_type": "stream",
     "text": [
      "pattern\n",
      "a = 0.0512547, c = 1.45, alpha = 0.00032\n"
     ]
    },
    {
     "name": "stderr",
     "output_type": "stream",
     "text": [
      "\r",
      "                                                                                                   \r",
      "\r",
      "  0% (  0 of 100) |                                           | Elapsed Time: 0:31:31 ETA: --:--:--"
     ]
    },
    {
     "name": "stdout",
     "output_type": "stream",
     "text": [
      "pattern\n",
      "a = 0.0512495, c = 1.47, alpha = 0.00032\n"
     ]
    },
    {
     "name": "stderr",
     "output_type": "stream",
     "text": [
      "\r",
      "                                                                                                   \r",
      "\r",
      "  0% (  0 of 100) |                                           | Elapsed Time: 0:31:58 ETA: --:--:--"
     ]
    },
    {
     "name": "stdout",
     "output_type": "stream",
     "text": [
      "pattern\n",
      "a = 0.0512438, c = 1.49, alpha = 0.00032\n"
     ]
    },
    {
     "name": "stderr",
     "output_type": "stream",
     "text": [
      "\r",
      "                                                                                                   \r",
      "\r",
      "  0% (  0 of 100) |                                           | Elapsed Time: 0:32:25 ETA: --:--:--"
     ]
    },
    {
     "name": "stdout",
     "output_type": "stream",
     "text": [
      "pattern\n",
      "a = 0.0512390, c = 1.51, alpha = 0.00032\n"
     ]
    },
    {
     "name": "stderr",
     "output_type": "stream",
     "text": [
      "\r",
      "                                                                                                   \r",
      "\r",
      "  0% (  0 of 100) |                                           | Elapsed Time: 0:32:44 ETA: --:--:--"
     ]
    },
    {
     "name": "stdout",
     "output_type": "stream",
     "text": [
      "pattern\n",
      "a = 0.0512333, c = 1.53, alpha = 0.00032\n"
     ]
    },
    {
     "name": "stderr",
     "output_type": "stream",
     "text": [
      "\r",
      "                                                                                                   \r",
      "\r",
      "  0% (  0 of 100) |                                           | Elapsed Time: 0:33:10 ETA: --:--:--"
     ]
    },
    {
     "name": "stdout",
     "output_type": "stream",
     "text": [
      "pattern\n",
      "a = 0.0512285, c = 1.55, alpha = 0.00032\n"
     ]
    },
    {
     "name": "stderr",
     "output_type": "stream",
     "text": [
      "\r",
      "                                                                                                   \r",
      "\r",
      "  0% (  0 of 100) |                                           | Elapsed Time: 0:33:37 ETA: --:--:--"
     ]
    },
    {
     "name": "stdout",
     "output_type": "stream",
     "text": [
      "pattern\n",
      "a = 0.0512233, c = 1.57, alpha = 0.00032\n"
     ]
    },
    {
     "name": "stderr",
     "output_type": "stream",
     "text": [
      "\r",
      "                                                                                                   \r",
      "\r",
      "  0% (  0 of 100) |                                           | Elapsed Time: 0:34:05 ETA: --:--:--"
     ]
    },
    {
     "name": "stdout",
     "output_type": "stream",
     "text": [
      "pattern\n",
      "a = 0.0512180, c = 1.59, alpha = 0.00032\n"
     ]
    },
    {
     "name": "stderr",
     "output_type": "stream",
     "text": [
      "\r",
      "                                                                                                   \r",
      "\r",
      "  0% (  0 of 100) |                                           | Elapsed Time: 0:34:31 ETA: --:--:--"
     ]
    },
    {
     "name": "stdout",
     "output_type": "stream",
     "text": [
      "pattern\n",
      "a = 0.0512133, c = 1.61, alpha = 0.00032\n"
     ]
    },
    {
     "name": "stderr",
     "output_type": "stream",
     "text": [
      "\r",
      "                                                                                                   \r",
      "\r",
      "  0% (  0 of 100) |                                           | Elapsed Time: 0:34:58 ETA: --:--:--"
     ]
    },
    {
     "name": "stdout",
     "output_type": "stream",
     "text": [
      "pattern\n",
      "a = 0.0512080, c = 1.63, alpha = 0.00032\n"
     ]
    },
    {
     "name": "stderr",
     "output_type": "stream",
     "text": [
      "\r",
      "                                                                                                   \r",
      "\r",
      "  0% (  0 of 100) |                                           | Elapsed Time: 0:35:26 ETA: --:--:--"
     ]
    },
    {
     "name": "stdout",
     "output_type": "stream",
     "text": [
      "pattern\n",
      "a = 0.0512028, c = 1.65, alpha = 0.00032\n"
     ]
    },
    {
     "name": "stderr",
     "output_type": "stream",
     "text": [
      "\r",
      "                                                                                                   \r",
      "\r",
      "  0% (  0 of 100) |                                           | Elapsed Time: 0:35:51 ETA: --:--:--"
     ]
    },
    {
     "name": "stdout",
     "output_type": "stream",
     "text": [
      "pattern\n",
      "a = 0.0511980, c = 1.67, alpha = 0.00032\n"
     ]
    },
    {
     "name": "stderr",
     "output_type": "stream",
     "text": [
      "\r",
      "                                                                                                   \r",
      "\r",
      "  0% (  0 of 100) |                                           | Elapsed Time: 0:36:18 ETA: --:--:--"
     ]
    },
    {
     "name": "stdout",
     "output_type": "stream",
     "text": [
      "pattern\n",
      "a = 0.0511932, c = 1.69, alpha = 0.00032\n"
     ]
    },
    {
     "name": "stderr",
     "output_type": "stream",
     "text": [
      "\r",
      "                                                                                                   \r",
      "\r",
      "  0% (  0 of 100) |                                           | Elapsed Time: 0:36:40 ETA: --:--:--"
     ]
    },
    {
     "name": "stdout",
     "output_type": "stream",
     "text": [
      "pattern\n",
      "a = 0.0511885, c = 1.71, alpha = 0.00032\n"
     ]
    },
    {
     "name": "stderr",
     "output_type": "stream",
     "text": [
      "\r",
      "                                                                                                   \r",
      "\r",
      "  0% (  0 of 100) |                                           | Elapsed Time: 0:37:07 ETA: --:--:--"
     ]
    },
    {
     "name": "stdout",
     "output_type": "stream",
     "text": [
      "pattern\n",
      "a = 0.0511837, c = 1.73, alpha = 0.00032\n"
     ]
    },
    {
     "name": "stderr",
     "output_type": "stream",
     "text": [
      "\r",
      "                                                                                                   \r",
      "\r",
      "  0% (  0 of 100) |                                           | Elapsed Time: 0:37:33 ETA: --:--:--"
     ]
    },
    {
     "name": "stdout",
     "output_type": "stream",
     "text": [
      "pattern\n",
      "a = 0.0511789, c = 1.75, alpha = 0.00032\n"
     ]
    },
    {
     "name": "stderr",
     "output_type": "stream",
     "text": [
      "\r",
      "                                                                                                   \r",
      "\r",
      "  0% (  0 of 100) |                                           | Elapsed Time: 0:38:01 ETA: --:--:--"
     ]
    },
    {
     "name": "stdout",
     "output_type": "stream",
     "text": [
      "pattern\n",
      "a = 0.0511742, c = 1.77, alpha = 0.00032\n"
     ]
    },
    {
     "name": "stderr",
     "output_type": "stream",
     "text": [
      "\r",
      "                                                                                                   \r",
      "\r",
      "  0% (  0 of 100) |                                           | Elapsed Time: 0:38:25 ETA: --:--:--"
     ]
    },
    {
     "name": "stdout",
     "output_type": "stream",
     "text": [
      "pattern\n",
      "a = 0.0511699, c = 1.79, alpha = 0.00032\n"
     ]
    },
    {
     "name": "stderr",
     "output_type": "stream",
     "text": [
      "\r",
      "                                                                                                   \r",
      "\r",
      "  0% (  0 of 100) |                                           | Elapsed Time: 0:38:54 ETA: --:--:--"
     ]
    },
    {
     "name": "stdout",
     "output_type": "stream",
     "text": [
      "pattern\n",
      "a = 0.0511651, c = 1.81, alpha = 0.00032\n"
     ]
    },
    {
     "name": "stderr",
     "output_type": "stream",
     "text": [
      "\r",
      "                                                                                                   \r",
      "\r",
      "  0% (  0 of 100) |                                           | Elapsed Time: 0:39:23 ETA: --:--:--"
     ]
    },
    {
     "name": "stdout",
     "output_type": "stream",
     "text": [
      "pattern\n",
      "a = 0.0511608, c = 1.83, alpha = 0.00032\n"
     ]
    },
    {
     "name": "stderr",
     "output_type": "stream",
     "text": [
      "\r",
      "                                                                                                   \r",
      "\r",
      "  0% (  0 of 100) |                                           | Elapsed Time: 0:39:49 ETA: --:--:--"
     ]
    },
    {
     "name": "stdout",
     "output_type": "stream",
     "text": [
      "pattern\n",
      "a = 0.0511560, c = 1.85, alpha = 0.00032\n"
     ]
    },
    {
     "name": "stderr",
     "output_type": "stream",
     "text": [
      "\r",
      "                                                                                                   \r",
      "\r",
      "  0% (  0 of 100) |                                           | Elapsed Time: 0:40:18 ETA: --:--:--"
     ]
    },
    {
     "name": "stdout",
     "output_type": "stream",
     "text": [
      "pattern\n",
      "a = 0.0511518, c = 1.87, alpha = 0.00032\n"
     ]
    },
    {
     "name": "stderr",
     "output_type": "stream",
     "text": [
      "\r",
      "                                                                                                   \r",
      "\r",
      "  0% (  0 of 100) |                                           | Elapsed Time: 0:40:48 ETA: --:--:--"
     ]
    },
    {
     "name": "stdout",
     "output_type": "stream",
     "text": [
      "pattern\n",
      "a = 0.0511475, c = 1.89, alpha = 0.00032\n"
     ]
    },
    {
     "name": "stderr",
     "output_type": "stream",
     "text": [
      "\r",
      "                                                                                                   \r",
      "\r",
      "  0% (  0 of 100) |                                           | Elapsed Time: 0:41:05 ETA: --:--:--"
     ]
    },
    {
     "name": "stdout",
     "output_type": "stream",
     "text": [
      "pattern\n",
      "a = 0.0511427, c = 1.91, alpha = 0.00032\n"
     ]
    },
    {
     "name": "stderr",
     "output_type": "stream",
     "text": [
      "\r",
      "                                                                                                   \r",
      "\r",
      "  0% (  0 of 100) |                                           | Elapsed Time: 0:41:31 ETA: --:--:--"
     ]
    },
    {
     "name": "stdout",
     "output_type": "stream",
     "text": [
      "pattern\n",
      "a = 0.0511389, c = 1.93, alpha = 0.00032\n"
     ]
    },
    {
     "name": "stderr",
     "output_type": "stream",
     "text": [
      "\r",
      "                                                                                                   \r",
      "\r",
      "  0% (  0 of 100) |                                           | Elapsed Time: 0:41:58 ETA: --:--:--"
     ]
    },
    {
     "name": "stdout",
     "output_type": "stream",
     "text": [
      "pattern\n",
      "a = 0.0511341, c = 1.95, alpha = 0.00032\n"
     ]
    },
    {
     "name": "stderr",
     "output_type": "stream",
     "text": [
      "\r",
      "                                                                                                   \r",
      "\r",
      "  0% (  0 of 100) |                                           | Elapsed Time: 0:42:24 ETA: --:--:--"
     ]
    },
    {
     "name": "stdout",
     "output_type": "stream",
     "text": [
      "pattern\n",
      "a = 0.0511303, c = 1.97, alpha = 0.00032\n"
     ]
    },
    {
     "name": "stderr",
     "output_type": "stream",
     "text": [
      "\r",
      "                                                                                                   \r",
      "\r",
      "  0% (  0 of 100) |                                           | Elapsed Time: 0:42:49 ETA: --:--:--"
     ]
    },
    {
     "name": "stdout",
     "output_type": "stream",
     "text": [
      "pattern\n",
      "a = 0.0511260, c = 1.99, alpha = 0.00032\n"
     ]
    },
    {
     "name": "stderr",
     "output_type": "stream",
     "text": [
      "\r",
      "                                                                                                   \r",
      "\r",
      "  0% (  0 of 100) |                                           | Elapsed Time: 0:43:18 ETA: --:--:--"
     ]
    },
    {
     "name": "stdout",
     "output_type": "stream",
     "text": [
      "pattern\n",
      "a = 0.0511217, c = 2.01, alpha = 0.00032\n"
     ]
    },
    {
     "name": "stderr",
     "output_type": "stream",
     "text": [
      "\r",
      "                                                                                                   \r",
      "\r",
      "  0% (  0 of 100) |                                           | Elapsed Time: 0:43:45 ETA: --:--:--"
     ]
    },
    {
     "name": "stdout",
     "output_type": "stream",
     "text": [
      "pattern\n",
      "a = 0.0511179, c = 2.03, alpha = 0.00032\n"
     ]
    },
    {
     "name": "stderr",
     "output_type": "stream",
     "text": [
      "\r",
      "                                                                                                   \r",
      "\r",
      "  0% (  0 of 100) |                                           | Elapsed Time: 0:44:14 ETA: --:--:--"
     ]
    },
    {
     "name": "stdout",
     "output_type": "stream",
     "text": [
      "pattern\n",
      "a = 0.0511136, c = 2.05, alpha = 0.00032\n"
     ]
    },
    {
     "name": "stderr",
     "output_type": "stream",
     "text": [
      "\r",
      "                                                                                                   \r",
      "\r",
      "  0% (  0 of 100) |                                           | Elapsed Time: 0:44:43 ETA: --:--:--"
     ]
    },
    {
     "name": "stdout",
     "output_type": "stream",
     "text": [
      "pattern\n",
      "a = 0.0511093, c = 2.07, alpha = 0.00032\n"
     ]
    },
    {
     "name": "stderr",
     "output_type": "stream",
     "text": [
      "\r",
      "                                                                                                   \r",
      "\r",
      "  0% (  0 of 100) |                                           | Elapsed Time: 0:45:06 ETA: --:--:--"
     ]
    },
    {
     "name": "stdout",
     "output_type": "stream",
     "text": [
      "pattern\n",
      "a = 0.0511055, c = 2.09, alpha = 0.00032\n",
      "[  4.76837158e-07   4.76837158e-07   4.76837158e-07   4.76837158e-07\n",
      "   0.00000000e+00   0.00000000e+00   0.00000000e+00   0.00000000e+00\n",
      "   0.00000000e+00   0.00000000e+00   0.00000000e+00   0.00000000e+00\n",
      "   0.00000000e+00   0.00000000e+00   0.00000000e+00   0.00000000e+00\n",
      "   0.00000000e+00   0.00000000e+00   0.00000000e+00   0.00000000e+00\n",
      "   0.00000000e+00   0.00000000e+00   0.00000000e+00   0.00000000e+00\n",
      "   0.00000000e+00   0.00000000e+00   0.00000000e+00   0.00000000e+00\n",
      "   0.00000000e+00   0.00000000e+00   0.00000000e+00   0.00000000e+00\n",
      "   0.00000000e+00   0.00000000e+00   0.00000000e+00   0.00000000e+00\n",
      "   0.00000000e+00   0.00000000e+00   0.00000000e+00   0.00000000e+00\n",
      "   0.00000000e+00   0.00000000e+00   0.00000000e+00   0.00000000e+00\n",
      "   0.00000000e+00   0.00000000e+00   0.00000000e+00   0.00000000e+00\n",
      "   0.00000000e+00   0.00000000e+00   0.00000000e+00   0.00000000e+00\n",
      "   0.00000000e+00   0.00000000e+00   0.00000000e+00   0.00000000e+00\n",
      "   0.00000000e+00   0.00000000e+00   0.00000000e+00   0.00000000e+00\n",
      "   0.00000000e+00   0.00000000e+00   0.00000000e+00   0.00000000e+00\n",
      "   0.00000000e+00   0.00000000e+00   0.00000000e+00   0.00000000e+00\n",
      "   0.00000000e+00   0.00000000e+00   0.00000000e+00   0.00000000e+00\n",
      "   0.00000000e+00   0.00000000e+00   0.00000000e+00   0.00000000e+00\n",
      "   0.00000000e+00   0.00000000e+00   0.00000000e+00   0.00000000e+00\n",
      "   0.00000000e+00   0.00000000e+00   0.00000000e+00   0.00000000e+00\n",
      "   0.00000000e+00   0.00000000e+00   0.00000000e+00   0.00000000e+00\n",
      "   0.00000000e+00   0.00000000e+00   0.00000000e+00   0.00000000e+00\n",
      "   0.00000000e+00   0.00000000e+00   0.00000000e+00   0.00000000e+00\n",
      "   0.00000000e+00   0.00000000e+00   0.00000000e+00   0.00000000e+00\n",
      "   0.00000000e+00   0.00000000e+00   0.00000000e+00   0.00000000e+00\n",
      "   0.00000000e+00]\n"
     ]
    },
    {
     "name": "stderr",
     "output_type": "stream",
     "text": [
      " 10% ( 10 of 100) |####                                        | Elapsed Time: 0:46:29 ETA: 0:28:26"
     ]
    },
    {
     "name": "stdout",
     "output_type": "stream",
     "text": [
      "pattern\n",
      "a = 0.0139923, c = 0.09, alpha = 0.00100\n"
     ]
    },
    {
     "name": "stderr",
     "output_type": "stream",
     "text": [
      "\r",
      "                                                                                                   \r",
      "\r",
      " 10% ( 10 of 100) |####                                        | Elapsed Time: 0:46:48 ETA: 0:27:15"
     ]
    },
    {
     "name": "stdout",
     "output_type": "stream",
     "text": [
      "pattern\n",
      "a = 0.0339966, c = 0.11, alpha = 0.00100\n"
     ]
    },
    {
     "name": "stderr",
     "output_type": "stream",
     "text": [
      "\r",
      "                                                                                                   \r",
      "\r",
      " 10% ( 10 of 100) |####                                        | Elapsed Time: 0:47:07 ETA: 0:25:46"
     ]
    },
    {
     "name": "stdout",
     "output_type": "stream",
     "text": [
      "pattern\n",
      "a = 0.0518150, c = 0.13, alpha = 0.00100\n"
     ]
    },
    {
     "name": "stderr",
     "output_type": "stream",
     "text": [
      "\r",
      "                                                                                                   \r",
      "\r",
      " 10% ( 10 of 100) |####                                        | Elapsed Time: 0:47:31 ETA: 0:25:03"
     ]
    },
    {
     "name": "stdout",
     "output_type": "stream",
     "text": [
      "pattern\n",
      "a = 0.0518436, c = 0.15, alpha = 0.00100\n"
     ]
    },
    {
     "name": "stderr",
     "output_type": "stream",
     "text": [
      "\r",
      "                                                                                                   \r",
      "\r",
      " 10% ( 10 of 100) |####                                        | Elapsed Time: 0:47:57 ETA: 0:25:29"
     ]
    },
    {
     "name": "stdout",
     "output_type": "stream",
     "text": [
      "pattern\n",
      "a = 0.0518417, c = 0.17, alpha = 0.00100\n"
     ]
    },
    {
     "name": "stderr",
     "output_type": "stream",
     "text": [
      "\r",
      "                                                                                                   \r",
      "\r",
      " 10% ( 10 of 100) |####                                       | Elapsed Time: 0:48:20 ETA: 11:02:35"
     ]
    },
    {
     "name": "stdout",
     "output_type": "stream",
     "text": [
      "pattern\n",
      "a = 0.0518389, c = 0.19, alpha = 0.00100\n"
     ]
    },
    {
     "name": "stderr",
     "output_type": "stream",
     "text": [
      "\r",
      "                                                                                                   \r",
      "\r",
      " 10% ( 10 of 100) |####                                       | Elapsed Time: 0:48:48 ETA: 15:52:57"
     ]
    },
    {
     "name": "stdout",
     "output_type": "stream",
     "text": [
      "pattern\n",
      "a = 0.0518351, c = 0.21, alpha = 0.00100\n"
     ]
    },
    {
     "name": "stderr",
     "output_type": "stream",
     "text": [
      "\r",
      "                                                                                                   \r",
      "\r",
      " 10% ( 10 of 100) |###                                  | Elapsed Time: 0:49:16 ETA: 1 day, 1:39:06"
     ]
    },
    {
     "name": "stdout",
     "output_type": "stream",
     "text": [
      "pattern\n",
      "a = 0.0518303, c = 0.23, alpha = 0.00100\n"
     ]
    },
    {
     "name": "stderr",
     "output_type": "stream",
     "text": [
      "\r",
      "                                                                                                   \r",
      "\r",
      " 10% ( 10 of 100) |###                                 | Elapsed Time: 0:49:41 ETA: 2 days, 5:58:31"
     ]
    },
    {
     "name": "stdout",
     "output_type": "stream",
     "text": [
      "pattern\n",
      "a = 0.0518255, c = 0.25, alpha = 0.00100\n"
     ]
    },
    {
     "name": "stderr",
     "output_type": "stream",
     "text": [
      "\r",
      "                                                                                                   \r",
      "\r",
      " 10% ( 10 of 100) |####                                       | Elapsed Time: 0:50:09 ETA: --:--:--"
     ]
    },
    {
     "name": "stdout",
     "output_type": "stream",
     "text": [
      "pattern\n",
      "a = 0.0518198, c = 0.27, alpha = 0.00100\n"
     ]
    },
    {
     "name": "stderr",
     "output_type": "stream",
     "text": [
      "\r",
      "                                                                                                   \r",
      "\r",
      " 10% ( 10 of 100) |####                                       | Elapsed Time: 0:50:38 ETA: --:--:--"
     ]
    },
    {
     "name": "stdout",
     "output_type": "stream",
     "text": [
      "pattern\n",
      "a = 0.0518146, c = 0.29, alpha = 0.00100\n"
     ]
    },
    {
     "name": "stderr",
     "output_type": "stream",
     "text": [
      "\r",
      "                                                                                                   \r",
      "\r",
      " 10% ( 10 of 100) |####                                       | Elapsed Time: 0:51:06 ETA: --:--:--"
     ]
    },
    {
     "name": "stdout",
     "output_type": "stream",
     "text": [
      "pattern\n",
      "a = 0.0518088, c = 0.31, alpha = 0.00100\n"
     ]
    },
    {
     "name": "stderr",
     "output_type": "stream",
     "text": [
      "\r",
      "                                                                                                   \r",
      "\r",
      " 10% ( 10 of 100) |####                                       | Elapsed Time: 0:51:35 ETA: --:--:--"
     ]
    },
    {
     "name": "stdout",
     "output_type": "stream",
     "text": [
      "pattern\n",
      "a = 0.0518026, c = 0.33, alpha = 0.00100\n"
     ]
    },
    {
     "name": "stderr",
     "output_type": "stream",
     "text": [
      "\r",
      "                                                                                                   \r",
      "\r",
      " 10% ( 10 of 100) |####                                       | Elapsed Time: 0:52:02 ETA: --:--:--"
     ]
    },
    {
     "name": "stdout",
     "output_type": "stream",
     "text": [
      "pattern\n",
      "a = 0.0517969, c = 0.35, alpha = 0.00100\n"
     ]
    },
    {
     "name": "stderr",
     "output_type": "stream",
     "text": [
      "\r",
      "                                                                                                   \r",
      "\r",
      " 10% ( 10 of 100) |####                                       | Elapsed Time: 0:52:31 ETA: --:--:--"
     ]
    },
    {
     "name": "stdout",
     "output_type": "stream",
     "text": [
      "pattern\n",
      "a = 0.0517902, c = 0.37, alpha = 0.00100\n"
     ]
    },
    {
     "name": "stderr",
     "output_type": "stream",
     "text": [
      "\r",
      "                                                                                                   \r",
      "\r",
      " 10% ( 10 of 100) |####                                       | Elapsed Time: 0:52:58 ETA: --:--:--"
     ]
    },
    {
     "name": "stdout",
     "output_type": "stream",
     "text": [
      "pattern\n",
      "a = 0.0517845, c = 0.39, alpha = 0.00100\n"
     ]
    },
    {
     "name": "stderr",
     "output_type": "stream",
     "text": [
      "\r",
      "                                                                                                   \r",
      "\r",
      " 10% ( 10 of 100) |####                                       | Elapsed Time: 0:53:23 ETA: --:--:--"
     ]
    },
    {
     "name": "stdout",
     "output_type": "stream",
     "text": [
      "pattern\n",
      "a = 0.0517778, c = 0.41, alpha = 0.00100\n"
     ]
    },
    {
     "name": "stderr",
     "output_type": "stream",
     "text": [
      "\r",
      "                                                                                                   \r",
      "\r",
      " 10% ( 10 of 100) |####                                       | Elapsed Time: 0:53:51 ETA: --:--:--"
     ]
    },
    {
     "name": "stdout",
     "output_type": "stream",
     "text": [
      "pattern\n",
      "a = 0.0517716, c = 0.43, alpha = 0.00100\n"
     ]
    },
    {
     "name": "stderr",
     "output_type": "stream",
     "text": [
      "\r",
      "                                                                                                   \r",
      "\r",
      " 10% ( 10 of 100) |####                                       | Elapsed Time: 0:54:21 ETA: --:--:--"
     ]
    },
    {
     "name": "stdout",
     "output_type": "stream",
     "text": [
      "pattern\n",
      "a = 0.0517654, c = 0.45, alpha = 0.00100\n"
     ]
    },
    {
     "name": "stderr",
     "output_type": "stream",
     "text": [
      "\r",
      "                                                                                                   \r",
      "\r",
      " 10% ( 10 of 100) |####                                       | Elapsed Time: 0:54:45 ETA: --:--:--"
     ]
    },
    {
     "name": "stdout",
     "output_type": "stream",
     "text": [
      "pattern\n",
      "a = 0.0517588, c = 0.47, alpha = 0.00100\n"
     ]
    },
    {
     "name": "stderr",
     "output_type": "stream",
     "text": [
      "\r",
      "                                                                                                   \r",
      "\r",
      " 10% ( 10 of 100) |####                                       | Elapsed Time: 0:55:15 ETA: --:--:--"
     ]
    },
    {
     "name": "stdout",
     "output_type": "stream",
     "text": [
      "pattern\n",
      "a = 0.0517521, c = 0.49, alpha = 0.00100\n"
     ]
    },
    {
     "name": "stderr",
     "output_type": "stream",
     "text": [
      "\r",
      "                                                                                                   \r",
      "\r",
      " 10% ( 10 of 100) |####                                       | Elapsed Time: 0:55:39 ETA: --:--:--"
     ]
    },
    {
     "name": "stdout",
     "output_type": "stream",
     "text": [
      "pattern\n",
      "a = 0.0517464, c = 0.51, alpha = 0.00100\n"
     ]
    },
    {
     "name": "stderr",
     "output_type": "stream",
     "text": [
      "\r",
      "                                                                                                   \r",
      "\r",
      " 10% ( 10 of 100) |####                                       | Elapsed Time: 0:56:02 ETA: --:--:--"
     ]
    },
    {
     "name": "stdout",
     "output_type": "stream",
     "text": [
      "pattern\n",
      "a = 0.0517397, c = 0.53, alpha = 0.00100\n"
     ]
    },
    {
     "name": "stderr",
     "output_type": "stream",
     "text": [
      "\r",
      "                                                                                                   \r",
      "\r",
      " 10% ( 10 of 100) |####                                       | Elapsed Time: 0:56:28 ETA: --:--:--"
     ]
    },
    {
     "name": "stdout",
     "output_type": "stream",
     "text": [
      "pattern\n",
      "a = 0.0517330, c = 0.55, alpha = 0.00100\n"
     ]
    },
    {
     "name": "stderr",
     "output_type": "stream",
     "text": [
      "\r",
      "                                                                                                   \r",
      "\r",
      " 10% ( 10 of 100) |####                                       | Elapsed Time: 0:56:53 ETA: --:--:--"
     ]
    },
    {
     "name": "stdout",
     "output_type": "stream",
     "text": [
      "pattern\n",
      "a = 0.0517268, c = 0.57, alpha = 0.00100\n"
     ]
    },
    {
     "name": "stderr",
     "output_type": "stream",
     "text": [
      "\r",
      "                                                                                                   \r",
      "\r",
      " 10% ( 10 of 100) |####                                       | Elapsed Time: 0:57:19 ETA: --:--:--"
     ]
    },
    {
     "name": "stdout",
     "output_type": "stream",
     "text": [
      "pattern\n",
      "a = 0.0517206, c = 0.59, alpha = 0.00100\n"
     ]
    },
    {
     "name": "stderr",
     "output_type": "stream",
     "text": [
      "\r",
      "                                                                                                   \r",
      "\r",
      " 10% ( 10 of 100) |####                                       | Elapsed Time: 0:57:46 ETA: --:--:--"
     ]
    },
    {
     "name": "stdout",
     "output_type": "stream",
     "text": [
      "pattern\n",
      "a = 0.0517139, c = 0.61, alpha = 0.00100\n"
     ]
    },
    {
     "name": "stderr",
     "output_type": "stream",
     "text": [
      "\r",
      "                                                                                                   \r",
      "\r",
      " 10% ( 10 of 100) |####                                       | Elapsed Time: 0:58:12 ETA: --:--:--"
     ]
    },
    {
     "name": "stdout",
     "output_type": "stream",
     "text": [
      "pattern\n",
      "a = 0.0517077, c = 0.63, alpha = 0.00100\n"
     ]
    },
    {
     "name": "stderr",
     "output_type": "stream",
     "text": [
      "\r",
      "                                                                                                   \r",
      "\r",
      " 10% ( 10 of 100) |####                                       | Elapsed Time: 0:58:40 ETA: --:--:--"
     ]
    },
    {
     "name": "stdout",
     "output_type": "stream",
     "text": [
      "pattern\n",
      "a = 0.0517015, c = 0.65, alpha = 0.00100\n"
     ]
    },
    {
     "name": "stderr",
     "output_type": "stream",
     "text": [
      "\r",
      "                                                                                                   \r",
      "\r",
      " 10% ( 10 of 100) |####                                       | Elapsed Time: 0:59:07 ETA: --:--:--"
     ]
    },
    {
     "name": "stdout",
     "output_type": "stream",
     "text": [
      "pattern\n",
      "a = 0.0516949, c = 0.67, alpha = 0.00100\n"
     ]
    },
    {
     "name": "stderr",
     "output_type": "stream",
     "text": [
      "\r",
      "                                                                                                   \r",
      "\r",
      " 10% ( 10 of 100) |####                                       | Elapsed Time: 0:59:31 ETA: --:--:--"
     ]
    },
    {
     "name": "stdout",
     "output_type": "stream",
     "text": [
      "pattern\n",
      "a = 0.0516891, c = 0.69, alpha = 0.00100\n"
     ]
    },
    {
     "name": "stderr",
     "output_type": "stream",
     "text": [
      "\r",
      "                                                                                                   \r",
      "\r",
      " 10% ( 10 of 100) |####                                       | Elapsed Time: 0:59:53 ETA: --:--:--"
     ]
    },
    {
     "name": "stdout",
     "output_type": "stream",
     "text": [
      "pattern\n",
      "a = 0.0516825, c = 0.71, alpha = 0.00100\n"
     ]
    },
    {
     "name": "stderr",
     "output_type": "stream",
     "text": [
      "\r",
      "                                                                                                   \r",
      "\r",
      " 10% ( 10 of 100) |####                                       | Elapsed Time: 1:00:19 ETA: --:--:--"
     ]
    },
    {
     "name": "stdout",
     "output_type": "stream",
     "text": [
      "pattern\n",
      "a = 0.0516768, c = 0.73, alpha = 0.00100\n"
     ]
    },
    {
     "name": "stderr",
     "output_type": "stream",
     "text": [
      "\r",
      "                                                                                                   \r",
      "\r",
      " 10% ( 10 of 100) |####                                       | Elapsed Time: 1:00:46 ETA: --:--:--"
     ]
    },
    {
     "name": "stdout",
     "output_type": "stream",
     "text": [
      "pattern\n",
      "a = 0.0516701, c = 0.75, alpha = 0.00100\n"
     ]
    },
    {
     "name": "stderr",
     "output_type": "stream",
     "text": [
      "\r",
      "                                                                                                   \r",
      "\r",
      " 10% ( 10 of 100) |####                                       | Elapsed Time: 1:01:10 ETA: --:--:--"
     ]
    },
    {
     "name": "stdout",
     "output_type": "stream",
     "text": [
      "pattern\n",
      "a = 0.0516644, c = 0.77, alpha = 0.00100\n"
     ]
    },
    {
     "name": "stderr",
     "output_type": "stream",
     "text": [
      "\r",
      "                                                                                                   \r",
      "\r",
      " 10% ( 10 of 100) |####                                       | Elapsed Time: 1:01:35 ETA: --:--:--"
     ]
    },
    {
     "name": "stdout",
     "output_type": "stream",
     "text": [
      "pattern\n",
      "a = 0.0516586, c = 0.79, alpha = 0.00100\n"
     ]
    },
    {
     "name": "stderr",
     "output_type": "stream",
     "text": [
      "\r",
      "                                                                                                   \r",
      "\r",
      " 10% ( 10 of 100) |####                                       | Elapsed Time: 1:01:57 ETA: --:--:--"
     ]
    },
    {
     "name": "stdout",
     "output_type": "stream",
     "text": [
      "pattern\n",
      "a = 0.0516520, c = 0.81, alpha = 0.00100\n"
     ]
    },
    {
     "name": "stderr",
     "output_type": "stream",
     "text": [
      "\r",
      "                                                                                                   \r",
      "\r",
      " 10% ( 10 of 100) |####                                       | Elapsed Time: 1:02:24 ETA: --:--:--"
     ]
    },
    {
     "name": "stdout",
     "output_type": "stream",
     "text": [
      "pattern\n",
      "a = 0.0516462, c = 0.83, alpha = 0.00100\n"
     ]
    },
    {
     "name": "stderr",
     "output_type": "stream",
     "text": [
      "\r",
      "                                                                                                   \r",
      "\r",
      " 10% ( 10 of 100) |####                                       | Elapsed Time: 1:02:51 ETA: --:--:--"
     ]
    },
    {
     "name": "stdout",
     "output_type": "stream",
     "text": [
      "pattern\n",
      "a = 0.0516405, c = 0.85, alpha = 0.00100\n"
     ]
    },
    {
     "name": "stderr",
     "output_type": "stream",
     "text": [
      "\r",
      "                                                                                                   \r",
      "\r",
      " 10% ( 10 of 100) |####                                       | Elapsed Time: 1:03:19 ETA: --:--:--"
     ]
    },
    {
     "name": "stdout",
     "output_type": "stream",
     "text": [
      "pattern\n",
      "a = 0.0516348, c = 0.87, alpha = 0.00100\n"
     ]
    },
    {
     "name": "stderr",
     "output_type": "stream",
     "text": [
      "\r",
      "                                                                                                   \r",
      "\r",
      " 10% ( 10 of 100) |####                                       | Elapsed Time: 1:03:44 ETA: --:--:--"
     ]
    },
    {
     "name": "stdout",
     "output_type": "stream",
     "text": [
      "pattern\n",
      "a = 0.0516286, c = 0.89, alpha = 0.00100\n"
     ]
    },
    {
     "name": "stderr",
     "output_type": "stream",
     "text": [
      "\r",
      "                                                                                                   \r",
      "\r",
      " 10% ( 10 of 100) |####                                       | Elapsed Time: 1:04:13 ETA: --:--:--"
     ]
    },
    {
     "name": "stdout",
     "output_type": "stream",
     "text": [
      "pattern\n",
      "a = 0.0516229, c = 0.91, alpha = 0.00100\n"
     ]
    },
    {
     "name": "stderr",
     "output_type": "stream",
     "text": [
      "\r",
      "                                                                                                   \r",
      "\r",
      " 10% ( 10 of 100) |####                                       | Elapsed Time: 1:04:41 ETA: --:--:--"
     ]
    },
    {
     "name": "stdout",
     "output_type": "stream",
     "text": [
      "pattern\n",
      "a = 0.0516171, c = 0.93, alpha = 0.00100\n"
     ]
    },
    {
     "name": "stderr",
     "output_type": "stream",
     "text": [
      "\r",
      "                                                                                                   \r",
      "\r",
      " 10% ( 10 of 100) |####                                       | Elapsed Time: 1:05:09 ETA: --:--:--"
     ]
    },
    {
     "name": "stdout",
     "output_type": "stream",
     "text": [
      "pattern\n",
      "a = 0.0516114, c = 0.95, alpha = 0.00100\n"
     ]
    },
    {
     "name": "stderr",
     "output_type": "stream",
     "text": [
      "\r",
      "                                                                                                   \r",
      "\r",
      " 10% ( 10 of 100) |####                                       | Elapsed Time: 1:05:37 ETA: --:--:--"
     ]
    },
    {
     "name": "stdout",
     "output_type": "stream",
     "text": [
      "pattern\n",
      "a = 0.0516057, c = 0.97, alpha = 0.00100\n"
     ]
    },
    {
     "name": "stderr",
     "output_type": "stream",
     "text": [
      "\r",
      "                                                                                                   \r",
      "\r",
      " 10% ( 10 of 100) |####                                       | Elapsed Time: 1:06:07 ETA: --:--:--"
     ]
    },
    {
     "name": "stdout",
     "output_type": "stream",
     "text": [
      "pattern\n",
      "a = 0.0516005, c = 0.99, alpha = 0.00100\n"
     ]
    },
    {
     "name": "stderr",
     "output_type": "stream",
     "text": [
      "\r",
      "                                                                                                   \r",
      "\r",
      " 10% ( 10 of 100) |####                                       | Elapsed Time: 1:06:34 ETA: --:--:--"
     ]
    },
    {
     "name": "stdout",
     "output_type": "stream",
     "text": [
      "pattern\n",
      "a = 0.0515947, c = 1.01, alpha = 0.00100\n"
     ]
    },
    {
     "name": "stderr",
     "output_type": "stream",
     "text": [
      "\r",
      "                                                                                                   \r",
      "\r",
      " 10% ( 10 of 100) |####                                       | Elapsed Time: 1:07:01 ETA: --:--:--"
     ]
    },
    {
     "name": "stdout",
     "output_type": "stream",
     "text": [
      "pattern\n",
      "a = 0.0515890, c = 1.03, alpha = 0.00100\n"
     ]
    },
    {
     "name": "stderr",
     "output_type": "stream",
     "text": [
      "\r",
      "                                                                                                   \r",
      "\r",
      " 10% ( 10 of 100) |####                                       | Elapsed Time: 1:07:27 ETA: --:--:--"
     ]
    },
    {
     "name": "stdout",
     "output_type": "stream",
     "text": [
      "pattern\n",
      "a = 0.0515833, c = 1.05, alpha = 0.00100\n"
     ]
    },
    {
     "name": "stderr",
     "output_type": "stream",
     "text": [
      "\r",
      "                                                                                                   \r",
      "\r",
      " 10% ( 10 of 100) |####                                       | Elapsed Time: 1:07:55 ETA: --:--:--"
     ]
    },
    {
     "name": "stdout",
     "output_type": "stream",
     "text": [
      "pattern\n",
      "a = 0.0515780, c = 1.07, alpha = 0.00100\n"
     ]
    },
    {
     "name": "stderr",
     "output_type": "stream",
     "text": [
      "\r",
      "                                                                                                   \r",
      "\r",
      " 10% ( 10 of 100) |####                                       | Elapsed Time: 1:08:24 ETA: --:--:--"
     ]
    },
    {
     "name": "stdout",
     "output_type": "stream",
     "text": [
      "pattern\n",
      "a = 0.0515728, c = 1.09, alpha = 0.00100\n"
     ]
    },
    {
     "name": "stderr",
     "output_type": "stream",
     "text": [
      "\r",
      "                                                                                                   \r",
      "\r",
      " 10% ( 10 of 100) |####                                       | Elapsed Time: 1:08:49 ETA: --:--:--"
     ]
    },
    {
     "name": "stdout",
     "output_type": "stream",
     "text": [
      "pattern\n",
      "a = 0.0515671, c = 1.11, alpha = 0.00100\n"
     ]
    },
    {
     "name": "stderr",
     "output_type": "stream",
     "text": [
      "\r",
      "                                                                                                   \r",
      "\r",
      " 10% ( 10 of 100) |####                                       | Elapsed Time: 1:09:11 ETA: --:--:--"
     ]
    },
    {
     "name": "stdout",
     "output_type": "stream",
     "text": [
      "pattern\n",
      "a = 0.0515623, c = 1.13, alpha = 0.00100\n"
     ]
    },
    {
     "name": "stderr",
     "output_type": "stream",
     "text": [
      "\r",
      "                                                                                                   \r",
      "\r",
      " 10% ( 10 of 100) |####                                       | Elapsed Time: 1:09:38 ETA: --:--:--"
     ]
    },
    {
     "name": "stdout",
     "output_type": "stream",
     "text": [
      "pattern\n",
      "a = 0.0515566, c = 1.15, alpha = 0.00100\n"
     ]
    },
    {
     "name": "stderr",
     "output_type": "stream",
     "text": [
      "\r",
      "                                                                                                   \r",
      "\r",
      " 10% ( 10 of 100) |####                                       | Elapsed Time: 1:10:05 ETA: --:--:--"
     ]
    },
    {
     "name": "stdout",
     "output_type": "stream",
     "text": [
      "pattern\n",
      "a = 0.0515518, c = 1.17, alpha = 0.00100\n"
     ]
    },
    {
     "name": "stderr",
     "output_type": "stream",
     "text": [
      "\r",
      "                                                                                                   \r",
      "\r",
      " 10% ( 10 of 100) |####                                       | Elapsed Time: 1:10:28 ETA: --:--:--"
     ]
    },
    {
     "name": "stdout",
     "output_type": "stream",
     "text": [
      "pattern\n",
      "a = 0.0515461, c = 1.19, alpha = 0.00100\n"
     ]
    },
    {
     "name": "stderr",
     "output_type": "stream",
     "text": [
      "\r",
      "                                                                                                   \r",
      "\r",
      " 10% ( 10 of 100) |####                                       | Elapsed Time: 1:10:54 ETA: --:--:--"
     ]
    },
    {
     "name": "stdout",
     "output_type": "stream",
     "text": [
      "pattern\n",
      "a = 0.0515413, c = 1.21, alpha = 0.00100\n"
     ]
    },
    {
     "name": "stderr",
     "output_type": "stream",
     "text": [
      "\r",
      "                                                                                                   \r",
      "\r",
      " 10% ( 10 of 100) |####                                       | Elapsed Time: 1:11:22 ETA: --:--:--"
     ]
    },
    {
     "name": "stdout",
     "output_type": "stream",
     "text": [
      "pattern\n",
      "a = 0.0515361, c = 1.23, alpha = 0.00100\n"
     ]
    },
    {
     "name": "stderr",
     "output_type": "stream",
     "text": [
      "\r",
      "                                                                                                   \r",
      "\r",
      " 10% ( 10 of 100) |####                                       | Elapsed Time: 1:11:50 ETA: --:--:--"
     ]
    },
    {
     "name": "stdout",
     "output_type": "stream",
     "text": [
      "pattern\n",
      "a = 0.0515308, c = 1.25, alpha = 0.00100\n"
     ]
    },
    {
     "name": "stderr",
     "output_type": "stream",
     "text": [
      "\r",
      "                                                                                                   \r",
      "\r",
      " 10% ( 10 of 100) |####                                       | Elapsed Time: 1:12:17 ETA: --:--:--"
     ]
    },
    {
     "name": "stdout",
     "output_type": "stream",
     "text": [
      "pattern\n",
      "a = 0.0515261, c = 1.27, alpha = 0.00100\n"
     ]
    },
    {
     "name": "stderr",
     "output_type": "stream",
     "text": [
      "\r",
      "                                                                                                   \r",
      "\r",
      " 10% ( 10 of 100) |####                                       | Elapsed Time: 1:12:44 ETA: --:--:--"
     ]
    },
    {
     "name": "stdout",
     "output_type": "stream",
     "text": [
      "pattern\n",
      "a = 0.0515213, c = 1.29, alpha = 0.00100\n"
     ]
    },
    {
     "name": "stderr",
     "output_type": "stream",
     "text": [
      "\r",
      "                                                                                                   \r",
      "\r",
      " 10% ( 10 of 100) |####                                       | Elapsed Time: 1:13:08 ETA: --:--:--"
     ]
    },
    {
     "name": "stdout",
     "output_type": "stream",
     "text": [
      "pattern\n",
      "a = 0.0515165, c = 1.31, alpha = 0.00100\n"
     ]
    },
    {
     "name": "stderr",
     "output_type": "stream",
     "text": [
      "\r",
      "                                                                                                   \r",
      "\r",
      " 10% ( 10 of 100) |####                                       | Elapsed Time: 1:13:36 ETA: --:--:--"
     ]
    },
    {
     "name": "stdout",
     "output_type": "stream",
     "text": [
      "pattern\n",
      "a = 0.0515113, c = 1.33, alpha = 0.00100\n"
     ]
    },
    {
     "name": "stderr",
     "output_type": "stream",
     "text": [
      "\r",
      "                                                                                                   \r",
      "\r",
      " 10% ( 10 of 100) |####                                       | Elapsed Time: 1:14:03 ETA: --:--:--"
     ]
    },
    {
     "name": "stdout",
     "output_type": "stream",
     "text": [
      "pattern\n",
      "a = 0.0515065, c = 1.35, alpha = 0.00100\n"
     ]
    },
    {
     "name": "stderr",
     "output_type": "stream",
     "text": [
      "\r",
      "                                                                                                   \r",
      "\r",
      " 10% ( 10 of 100) |####                                       | Elapsed Time: 1:14:31 ETA: --:--:--"
     ]
    },
    {
     "name": "stdout",
     "output_type": "stream",
     "text": [
      "pattern\n",
      "a = 0.0515018, c = 1.37, alpha = 0.00100\n"
     ]
    },
    {
     "name": "stderr",
     "output_type": "stream",
     "text": [
      "\r",
      "                                                                                                   \r",
      "\r",
      " 10% ( 10 of 100) |####                                       | Elapsed Time: 1:14:59 ETA: --:--:--"
     ]
    },
    {
     "name": "stdout",
     "output_type": "stream",
     "text": [
      "pattern\n",
      "a = 0.0514970, c = 1.39, alpha = 0.00100\n"
     ]
    },
    {
     "name": "stderr",
     "output_type": "stream",
     "text": [
      "\r",
      "                                                                                                   \r",
      "\r",
      " 10% ( 10 of 100) |####                                       | Elapsed Time: 1:15:27 ETA: --:--:--"
     ]
    },
    {
     "name": "stdout",
     "output_type": "stream",
     "text": [
      "pattern\n",
      "a = 0.0514922, c = 1.41, alpha = 0.00100\n"
     ]
    },
    {
     "name": "stderr",
     "output_type": "stream",
     "text": [
      "\r",
      "                                                                                                   \r",
      "\r",
      " 10% ( 10 of 100) |####                                       | Elapsed Time: 1:15:56 ETA: --:--:--"
     ]
    },
    {
     "name": "stdout",
     "output_type": "stream",
     "text": [
      "pattern\n",
      "a = 0.0514879, c = 1.43, alpha = 0.00100\n"
     ]
    },
    {
     "name": "stderr",
     "output_type": "stream",
     "text": [
      "\r",
      "                                                                                                   \r",
      "\r",
      " 10% ( 10 of 100) |####                                       | Elapsed Time: 1:16:23 ETA: --:--:--"
     ]
    },
    {
     "name": "stdout",
     "output_type": "stream",
     "text": [
      "pattern\n",
      "a = 0.0514832, c = 1.45, alpha = 0.00100\n"
     ]
    },
    {
     "name": "stderr",
     "output_type": "stream",
     "text": [
      "\r",
      "                                                                                                   \r",
      "\r",
      " 10% ( 10 of 100) |####                                       | Elapsed Time: 1:16:42 ETA: --:--:--"
     ]
    },
    {
     "name": "stdout",
     "output_type": "stream",
     "text": [
      "pattern\n",
      "a = 0.0514784, c = 1.47, alpha = 0.00100\n"
     ]
    },
    {
     "name": "stderr",
     "output_type": "stream",
     "text": [
      "\r",
      "                                                                                                   \r",
      "\r",
      " 10% ( 10 of 100) |####                                       | Elapsed Time: 1:17:09 ETA: --:--:--"
     ]
    },
    {
     "name": "stdout",
     "output_type": "stream",
     "text": [
      "pattern\n",
      "a = 0.0514736, c = 1.49, alpha = 0.00100\n"
     ]
    },
    {
     "name": "stderr",
     "output_type": "stream",
     "text": [
      "\r",
      "                                                                                                   \r",
      "\r",
      " 10% ( 10 of 100) |####                                       | Elapsed Time: 1:17:34 ETA: --:--:--"
     ]
    },
    {
     "name": "stdout",
     "output_type": "stream",
     "text": [
      "pattern\n",
      "a = 0.0514693, c = 1.51, alpha = 0.00100\n"
     ]
    },
    {
     "name": "stderr",
     "output_type": "stream",
     "text": [
      "\r",
      "                                                                                                   \r",
      "\r",
      " 10% ( 10 of 100) |####                                       | Elapsed Time: 1:18:03 ETA: --:--:--"
     ]
    },
    {
     "name": "stdout",
     "output_type": "stream",
     "text": [
      "pattern\n",
      "a = 0.0514650, c = 1.53, alpha = 0.00100\n"
     ]
    },
    {
     "name": "stderr",
     "output_type": "stream",
     "text": [
      "\r",
      "                                                                                                   \r",
      "\r",
      " 10% ( 10 of 100) |####                                       | Elapsed Time: 1:18:31 ETA: --:--:--"
     ]
    },
    {
     "name": "stdout",
     "output_type": "stream",
     "text": [
      "pattern\n",
      "a = 0.0514603, c = 1.55, alpha = 0.00100\n"
     ]
    },
    {
     "name": "stderr",
     "output_type": "stream",
     "text": [
      "\r",
      "                                                                                                   \r",
      "\r",
      " 10% ( 10 of 100) |####                                       | Elapsed Time: 1:18:54 ETA: --:--:--"
     ]
    },
    {
     "name": "stdout",
     "output_type": "stream",
     "text": [
      "pattern\n",
      "a = 0.0514560, c = 1.57, alpha = 0.00100\n"
     ]
    },
    {
     "name": "stderr",
     "output_type": "stream",
     "text": [
      "\r",
      "                                                                                                   \r",
      "\r",
      " 10% ( 10 of 100) |####                                       | Elapsed Time: 1:19:23 ETA: --:--:--"
     ]
    },
    {
     "name": "stdout",
     "output_type": "stream",
     "text": [
      "pattern\n",
      "a = 0.0514517, c = 1.59, alpha = 0.00100\n"
     ]
    },
    {
     "name": "stderr",
     "output_type": "stream",
     "text": [
      "\r",
      "                                                                                                   \r",
      "\r",
      " 10% ( 10 of 100) |####                                       | Elapsed Time: 1:19:50 ETA: --:--:--"
     ]
    },
    {
     "name": "stdout",
     "output_type": "stream",
     "text": [
      "pattern\n",
      "a = 0.0514474, c = 1.61, alpha = 0.00100\n"
     ]
    },
    {
     "name": "stderr",
     "output_type": "stream",
     "text": [
      "\r",
      "                                                                                                   \r",
      "\r",
      " 10% ( 10 of 100) |####                                       | Elapsed Time: 1:20:19 ETA: --:--:--"
     ]
    },
    {
     "name": "stdout",
     "output_type": "stream",
     "text": [
      "pattern\n",
      "a = 0.0514431, c = 1.63, alpha = 0.00100\n"
     ]
    },
    {
     "name": "stderr",
     "output_type": "stream",
     "text": [
      "\r",
      "                                                                                                   \r",
      "\r",
      " 10% ( 10 of 100) |####                                       | Elapsed Time: 1:20:44 ETA: --:--:--"
     ]
    },
    {
     "name": "stdout",
     "output_type": "stream",
     "text": [
      "pattern\n",
      "a = 0.0514388, c = 1.65, alpha = 0.00100\n"
     ]
    },
    {
     "name": "stderr",
     "output_type": "stream",
     "text": [
      "\r",
      "                                                                                                   \r",
      "\r",
      " 10% ( 10 of 100) |####                                       | Elapsed Time: 1:21:14 ETA: --:--:--"
     ]
    },
    {
     "name": "stdout",
     "output_type": "stream",
     "text": [
      "pattern\n",
      "a = 0.0514345, c = 1.67, alpha = 0.00100\n"
     ]
    },
    {
     "name": "stderr",
     "output_type": "stream",
     "text": [
      "\r",
      "                                                                                                   \r",
      "\r",
      " 10% ( 10 of 100) |####                                       | Elapsed Time: 1:21:42 ETA: --:--:--"
     ]
    },
    {
     "name": "stdout",
     "output_type": "stream",
     "text": [
      "pattern\n",
      "a = 0.0514307, c = 1.69, alpha = 0.00100\n"
     ]
    },
    {
     "name": "stderr",
     "output_type": "stream",
     "text": [
      "\r",
      "                                                                                                   \r",
      "\r",
      " 10% ( 10 of 100) |####                                       | Elapsed Time: 1:22:10 ETA: --:--:--"
     ]
    },
    {
     "name": "stdout",
     "output_type": "stream",
     "text": [
      "pattern\n",
      "a = 0.0514264, c = 1.71, alpha = 0.00100\n"
     ]
    },
    {
     "name": "stderr",
     "output_type": "stream",
     "text": [
      "\r",
      "                                                                                                   \r",
      "\r",
      " 10% ( 10 of 100) |####                                       | Elapsed Time: 1:22:40 ETA: --:--:--"
     ]
    },
    {
     "name": "stdout",
     "output_type": "stream",
     "text": [
      "pattern\n",
      "a = 0.0514221, c = 1.73, alpha = 0.00100\n"
     ]
    },
    {
     "name": "stderr",
     "output_type": "stream",
     "text": [
      "\r",
      "                                                                                                   \r",
      "\r",
      " 10% ( 10 of 100) |####                                       | Elapsed Time: 1:23:01 ETA: --:--:--"
     ]
    },
    {
     "name": "stdout",
     "output_type": "stream",
     "text": [
      "pattern\n",
      "a = 0.0514183, c = 1.75, alpha = 0.00100\n"
     ]
    },
    {
     "name": "stderr",
     "output_type": "stream",
     "text": [
      "\r",
      "                                                                                                   \r",
      "\r",
      " 10% ( 10 of 100) |####                                       | Elapsed Time: 1:23:25 ETA: --:--:--"
     ]
    },
    {
     "name": "stdout",
     "output_type": "stream",
     "text": [
      "pattern\n",
      "a = 0.0514145, c = 1.77, alpha = 0.00100\n"
     ]
    },
    {
     "name": "stderr",
     "output_type": "stream",
     "text": [
      "\r",
      "                                                                                                   \r",
      "\r",
      " 10% ( 10 of 100) |####                                       | Elapsed Time: 1:23:49 ETA: --:--:--"
     ]
    },
    {
     "name": "stdout",
     "output_type": "stream",
     "text": [
      "pattern\n",
      "a = 0.0514102, c = 1.79, alpha = 0.00100\n"
     ]
    },
    {
     "name": "stderr",
     "output_type": "stream",
     "text": [
      "\r",
      "                                                                                                   \r",
      "\r",
      " 10% ( 10 of 100) |####                                       | Elapsed Time: 1:24:18 ETA: --:--:--"
     ]
    },
    {
     "name": "stdout",
     "output_type": "stream",
     "text": [
      "pattern\n",
      "a = 0.0514059, c = 1.81, alpha = 0.00100\n"
     ]
    },
    {
     "name": "stderr",
     "output_type": "stream",
     "text": [
      "\r",
      "                                                                                                   \r",
      "\r",
      " 10% ( 10 of 100) |####                                       | Elapsed Time: 1:24:46 ETA: --:--:--"
     ]
    },
    {
     "name": "stdout",
     "output_type": "stream",
     "text": [
      "pattern\n",
      "a = 0.0514021, c = 1.83, alpha = 0.00100\n"
     ]
    },
    {
     "name": "stderr",
     "output_type": "stream",
     "text": [
      "\r",
      "                                                                                                   \r",
      "\r",
      " 10% ( 10 of 100) |####                                       | Elapsed Time: 1:25:14 ETA: --:--:--"
     ]
    },
    {
     "name": "stdout",
     "output_type": "stream",
     "text": [
      "pattern\n",
      "a = 0.0513983, c = 1.85, alpha = 0.00100\n"
     ]
    },
    {
     "name": "stderr",
     "output_type": "stream",
     "text": [
      "\r",
      "                                                                                                   \r",
      "\r",
      " 10% ( 10 of 100) |####                                       | Elapsed Time: 1:25:42 ETA: --:--:--"
     ]
    },
    {
     "name": "stdout",
     "output_type": "stream",
     "text": [
      "pattern\n",
      "a = 0.0513945, c = 1.87, alpha = 0.00100\n"
     ]
    },
    {
     "name": "stderr",
     "output_type": "stream",
     "text": [
      "\r",
      "                                                                                                   \r",
      "\r",
      " 10% ( 10 of 100) |####                                       | Elapsed Time: 1:26:11 ETA: --:--:--"
     ]
    },
    {
     "name": "stdout",
     "output_type": "stream",
     "text": [
      "pattern\n",
      "a = 0.0513906, c = 1.89, alpha = 0.00100\n"
     ]
    },
    {
     "name": "stderr",
     "output_type": "stream",
     "text": [
      "\r",
      "                                                                                                   \r",
      "\r",
      " 10% ( 10 of 100) |####                                       | Elapsed Time: 1:26:38 ETA: --:--:--"
     ]
    },
    {
     "name": "stdout",
     "output_type": "stream",
     "text": [
      "pattern\n",
      "a = 0.0513868, c = 1.91, alpha = 0.00100\n"
     ]
    },
    {
     "name": "stderr",
     "output_type": "stream",
     "text": [
      "\r",
      "                                                                                                   \r",
      "\r",
      " 10% ( 10 of 100) |####                                       | Elapsed Time: 1:27:05 ETA: --:--:--"
     ]
    },
    {
     "name": "stdout",
     "output_type": "stream",
     "text": [
      "pattern\n",
      "a = 0.0513830, c = 1.93, alpha = 0.00100\n"
     ]
    },
    {
     "name": "stderr",
     "output_type": "stream",
     "text": [
      "\r",
      "                                                                                                   \r",
      "\r",
      " 10% ( 10 of 100) |####                                       | Elapsed Time: 1:27:32 ETA: --:--:--"
     ]
    },
    {
     "name": "stdout",
     "output_type": "stream",
     "text": [
      "pattern\n",
      "a = 0.0513792, c = 1.95, alpha = 0.00100\n"
     ]
    },
    {
     "name": "stderr",
     "output_type": "stream",
     "text": [
      "\r",
      "                                                                                                   \r",
      "\r",
      " 10% ( 10 of 100) |####                                       | Elapsed Time: 1:28:00 ETA: --:--:--"
     ]
    },
    {
     "name": "stdout",
     "output_type": "stream",
     "text": [
      "pattern\n",
      "a = 0.0513759, c = 1.97, alpha = 0.00100\n"
     ]
    },
    {
     "name": "stderr",
     "output_type": "stream",
     "text": [
      "\r",
      "                                                                                                   \r",
      "\r",
      " 10% ( 10 of 100) |####                                       | Elapsed Time: 1:28:28 ETA: --:--:--"
     ]
    },
    {
     "name": "stdout",
     "output_type": "stream",
     "text": [
      "pattern\n",
      "a = 0.0513721, c = 1.99, alpha = 0.00100\n"
     ]
    },
    {
     "name": "stderr",
     "output_type": "stream",
     "text": [
      "\r",
      "                                                                                                   \r",
      "\r",
      " 10% ( 10 of 100) |####                                       | Elapsed Time: 1:28:57 ETA: --:--:--"
     ]
    },
    {
     "name": "stdout",
     "output_type": "stream",
     "text": [
      "pattern\n",
      "a = 0.0513687, c = 2.01, alpha = 0.00100\n"
     ]
    },
    {
     "name": "stderr",
     "output_type": "stream",
     "text": [
      "\r",
      "                                                                                                   \r",
      "\r",
      " 10% ( 10 of 100) |####                                       | Elapsed Time: 1:29:20 ETA: --:--:--"
     ]
    },
    {
     "name": "stdout",
     "output_type": "stream",
     "text": [
      "pattern\n",
      "a = 0.0513649, c = 2.03, alpha = 0.00100\n"
     ]
    },
    {
     "name": "stderr",
     "output_type": "stream",
     "text": [
      "\r",
      "                                                                                                   \r",
      "\r",
      " 10% ( 10 of 100) |####                                       | Elapsed Time: 1:29:45 ETA: --:--:--"
     ]
    },
    {
     "name": "stdout",
     "output_type": "stream",
     "text": [
      "pattern\n",
      "a = 0.0513611, c = 2.05, alpha = 0.00100\n"
     ]
    },
    {
     "name": "stderr",
     "output_type": "stream",
     "text": [
      "\r",
      "                                                                                                   \r",
      "\r",
      " 10% ( 10 of 100) |####                                       | Elapsed Time: 1:30:06 ETA: --:--:--"
     ]
    },
    {
     "name": "stdout",
     "output_type": "stream",
     "text": [
      "pattern\n",
      "a = 0.0513577, c = 2.07, alpha = 0.00100\n"
     ]
    },
    {
     "name": "stderr",
     "output_type": "stream",
     "text": [
      "\r",
      "                                                                                                   \r",
      "\r",
      " 10% ( 10 of 100) |####                                       | Elapsed Time: 1:30:35 ETA: --:--:--"
     ]
    },
    {
     "name": "stdout",
     "output_type": "stream",
     "text": [
      "pattern\n",
      "a = 0.0513544, c = 2.09, alpha = 0.00100\n",
      "[  4.76837158e-07   4.76837158e-07   4.76837158e-07   4.76837158e-07\n",
      "   0.00000000e+00   0.00000000e+00   0.00000000e+00   0.00000000e+00\n",
      "   0.00000000e+00   0.00000000e+00   0.00000000e+00   0.00000000e+00\n",
      "   0.00000000e+00   0.00000000e+00   0.00000000e+00   0.00000000e+00\n",
      "   0.00000000e+00   0.00000000e+00   0.00000000e+00   0.00000000e+00\n",
      "   0.00000000e+00   0.00000000e+00   0.00000000e+00   0.00000000e+00\n",
      "   0.00000000e+00   0.00000000e+00   0.00000000e+00   0.00000000e+00\n",
      "   0.00000000e+00   0.00000000e+00   0.00000000e+00   0.00000000e+00\n",
      "   0.00000000e+00   0.00000000e+00   0.00000000e+00   0.00000000e+00\n",
      "   0.00000000e+00   0.00000000e+00   0.00000000e+00   0.00000000e+00\n",
      "   0.00000000e+00   0.00000000e+00   0.00000000e+00   0.00000000e+00\n",
      "   0.00000000e+00   0.00000000e+00   0.00000000e+00   0.00000000e+00\n",
      "   0.00000000e+00   0.00000000e+00   0.00000000e+00   0.00000000e+00\n",
      "   0.00000000e+00   0.00000000e+00   0.00000000e+00   0.00000000e+00\n",
      "   0.00000000e+00   0.00000000e+00   0.00000000e+00   0.00000000e+00\n",
      "   0.00000000e+00   0.00000000e+00   0.00000000e+00   0.00000000e+00\n",
      "   0.00000000e+00   0.00000000e+00   0.00000000e+00   0.00000000e+00\n",
      "   0.00000000e+00   0.00000000e+00   0.00000000e+00   0.00000000e+00\n",
      "   0.00000000e+00   0.00000000e+00   0.00000000e+00   0.00000000e+00\n",
      "   0.00000000e+00   0.00000000e+00   0.00000000e+00   0.00000000e+00\n",
      "   0.00000000e+00   0.00000000e+00   0.00000000e+00   0.00000000e+00\n",
      "   0.00000000e+00   0.00000000e+00   0.00000000e+00   0.00000000e+00\n",
      "   0.00000000e+00   0.00000000e+00   0.00000000e+00   0.00000000e+00\n",
      "   0.00000000e+00   0.00000000e+00   0.00000000e+00   0.00000000e+00\n",
      "   0.00000000e+00   0.00000000e+00   0.00000000e+00   0.00000000e+00\n",
      "   0.00000000e+00   0.00000000e+00   0.00000000e+00   0.00000000e+00\n",
      "   0.00000000e+00]\n"
     ]
    },
    {
     "name": "stderr",
     "output_type": "stream",
     "text": [
      " 20% ( 20 of 100) |#########                                   | Elapsed Time: 1:32:03 ETA: 0:24:39"
     ]
    },
    {
     "name": "stdout",
     "output_type": "stream",
     "text": [
      "pattern\n",
      "a = 0.0139923, c = 0.09, alpha = 0.00316\n"
     ]
    },
    {
     "name": "stderr",
     "output_type": "stream",
     "text": [
      "\r",
      "                                                                                                   \r",
      "\r",
      " 20% ( 20 of 100) |#########                                   | Elapsed Time: 1:32:23 ETA: 0:24:10"
     ]
    },
    {
     "name": "stdout",
     "output_type": "stream",
     "text": [
      "pattern\n",
      "a = 0.0339966, c = 0.11, alpha = 0.00316\n"
     ]
    },
    {
     "name": "stderr",
     "output_type": "stream",
     "text": [
      "\r",
      "                                                                                                   \r",
      "\r",
      " 20% ( 20 of 100) |#########                                   | Elapsed Time: 1:32:42 ETA: 0:23:21"
     ]
    },
    {
     "name": "stdout",
     "output_type": "stream",
     "text": [
      "pattern\n",
      "a = 0.0520153, c = 0.13, alpha = 0.00316\n"
     ]
    },
    {
     "name": "stderr",
     "output_type": "stream",
     "text": [
      "\r",
      "                                                                                                   \r",
      "\r",
      " 20% ( 20 of 100) |#########                                   | Elapsed Time: 1:33:08 ETA: 0:24:09"
     ]
    },
    {
     "name": "stdout",
     "output_type": "stream",
     "text": [
      "pattern\n",
      "a = 0.0521026, c = 0.15, alpha = 0.00316\n"
     ]
    },
    {
     "name": "stderr",
     "output_type": "stream",
     "text": [
      "\r",
      "                                                                                                   \r",
      "\r",
      " 20% ( 20 of 100) |#########                                   | Elapsed Time: 1:33:37 ETA: 0:24:04"
     ]
    },
    {
     "name": "stdout",
     "output_type": "stream",
     "text": [
      "pattern\n",
      "a = 0.0521307, c = 0.17, alpha = 0.00316\n"
     ]
    },
    {
     "name": "stderr",
     "output_type": "stream",
     "text": [
      "\r",
      "                                                                                                   \r",
      "\r",
      " 20% ( 20 of 100) |########                                   | Elapsed Time: 1:34:05 ETA: 10:29:42"
     ]
    },
    {
     "name": "stdout",
     "output_type": "stream",
     "text": [
      "pattern\n",
      "a = 0.0521536, c = 0.19, alpha = 0.00316\n"
     ]
    },
    {
     "name": "stderr",
     "output_type": "stream",
     "text": [
      "\r",
      "                                                                                                   \r",
      "\r",
      " 20% ( 20 of 100) |########                                   | Elapsed Time: 1:34:31 ETA: 14:53:48"
     ]
    },
    {
     "name": "stdout",
     "output_type": "stream",
     "text": [
      "pattern\n",
      "a = 0.0521727, c = 0.21, alpha = 0.00316\n"
     ]
    },
    {
     "name": "stderr",
     "output_type": "stream",
     "text": [
      "\r",
      "                                                                                                   \r",
      "\r",
      " 20% ( 20 of 100) |########                                   | Elapsed Time: 1:34:58 ETA: 23:45:37"
     ]
    },
    {
     "name": "stdout",
     "output_type": "stream",
     "text": [
      "pattern\n",
      "a = 0.0521889, c = 0.23, alpha = 0.00316\n"
     ]
    },
    {
     "name": "stderr",
     "output_type": "stream",
     "text": [
      "\r",
      "                                                                                                   \r",
      "\r",
      " 20% ( 20 of 100) |#######                             | Elapsed Time: 1:35:23 ETA: 2 days, 1:50:03"
     ]
    },
    {
     "name": "stdout",
     "output_type": "stream",
     "text": [
      "pattern\n",
      "a = 0.0522022, c = 0.25, alpha = 0.00316\n"
     ]
    },
    {
     "name": "stderr",
     "output_type": "stream",
     "text": [
      "\r",
      "                                                                                                   \r",
      "\r",
      " 20% ( 20 of 100) |########                                   | Elapsed Time: 1:35:49 ETA: --:--:--"
     ]
    },
    {
     "name": "stdout",
     "output_type": "stream",
     "text": [
      "pattern\n",
      "a = 0.0522146, c = 0.27, alpha = 0.00316\n"
     ]
    },
    {
     "name": "stderr",
     "output_type": "stream",
     "text": [
      "\r",
      "                                                                                                   \r",
      "\r",
      " 20% ( 20 of 100) |########                                   | Elapsed Time: 1:36:15 ETA: --:--:--"
     ]
    },
    {
     "name": "stdout",
     "output_type": "stream",
     "text": [
      "pattern\n",
      "a = 0.0522251, c = 0.29, alpha = 0.00316\n"
     ]
    },
    {
     "name": "stderr",
     "output_type": "stream",
     "text": [
      "\r",
      "                                                                                                   \r",
      "\r",
      " 20% ( 20 of 100) |########                                   | Elapsed Time: 1:36:40 ETA: --:--:--"
     ]
    },
    {
     "name": "stdout",
     "output_type": "stream",
     "text": [
      "pattern\n",
      "a = 0.0522337, c = 0.31, alpha = 0.00316\n"
     ]
    },
    {
     "name": "stderr",
     "output_type": "stream",
     "text": [
      "\r",
      "                                                                                                   \r",
      "\r",
      " 20% ( 20 of 100) |########                                   | Elapsed Time: 1:37:06 ETA: --:--:--"
     ]
    },
    {
     "name": "stdout",
     "output_type": "stream",
     "text": [
      "pattern\n",
      "a = 0.0522413, c = 0.33, alpha = 0.00316\n"
     ]
    },
    {
     "name": "stderr",
     "output_type": "stream",
     "text": [
      "\r",
      "                                                                                                   \r",
      "\r",
      " 20% ( 20 of 100) |########                                   | Elapsed Time: 1:37:32 ETA: --:--:--"
     ]
    },
    {
     "name": "stdout",
     "output_type": "stream",
     "text": [
      "pattern\n",
      "a = 0.0522485, c = 0.35, alpha = 0.00316\n"
     ]
    },
    {
     "name": "stderr",
     "output_type": "stream",
     "text": [
      "\r",
      "                                                                                                   \r",
      "\r",
      " 20% ( 20 of 100) |########                                   | Elapsed Time: 1:38:03 ETA: --:--:--"
     ]
    },
    {
     "name": "stdout",
     "output_type": "stream",
     "text": [
      "pattern\n",
      "a = 0.0522547, c = 0.37, alpha = 0.00316\n"
     ]
    },
    {
     "name": "stderr",
     "output_type": "stream",
     "text": [
      "\r",
      "                                                                                                   \r",
      "\r",
      " 20% ( 20 of 100) |########                                   | Elapsed Time: 1:38:32 ETA: --:--:--"
     ]
    },
    {
     "name": "stdout",
     "output_type": "stream",
     "text": [
      "pattern\n",
      "a = 0.0522594, c = 0.39, alpha = 0.00316\n"
     ]
    },
    {
     "name": "stderr",
     "output_type": "stream",
     "text": [
      "\r",
      "                                                                                                   \r",
      "\r",
      " 20% ( 20 of 100) |########                                   | Elapsed Time: 1:38:58 ETA: --:--:--"
     ]
    },
    {
     "name": "stdout",
     "output_type": "stream",
     "text": [
      "pattern\n",
      "a = 0.0522642, c = 0.41, alpha = 0.00316\n"
     ]
    },
    {
     "name": "stderr",
     "output_type": "stream",
     "text": [
      "\r",
      "                                                                                                   \r",
      "\r",
      " 20% ( 20 of 100) |########                                   | Elapsed Time: 1:39:26 ETA: --:--:--"
     ]
    },
    {
     "name": "stdout",
     "output_type": "stream",
     "text": [
      "pattern\n",
      "a = 0.0522680, c = 0.43, alpha = 0.00316\n"
     ]
    },
    {
     "name": "stderr",
     "output_type": "stream",
     "text": [
      "\r",
      "                                                                                                   \r",
      "\r",
      " 20% ( 20 of 100) |########                                   | Elapsed Time: 1:39:54 ETA: --:--:--"
     ]
    },
    {
     "name": "stdout",
     "output_type": "stream",
     "text": [
      "pattern\n",
      "a = 0.0522709, c = 0.45, alpha = 0.00316\n"
     ]
    },
    {
     "name": "stderr",
     "output_type": "stream",
     "text": [
      "\r",
      "                                                                                                   \r",
      "\r",
      " 20% ( 20 of 100) |########                                   | Elapsed Time: 1:40:21 ETA: --:--:--"
     ]
    },
    {
     "name": "stdout",
     "output_type": "stream",
     "text": [
      "pattern\n",
      "a = 0.0522738, c = 0.47, alpha = 0.00316\n"
     ]
    },
    {
     "name": "stderr",
     "output_type": "stream",
     "text": [
      "\r",
      "                                                                                                   \r",
      "\r",
      " 20% ( 20 of 100) |########                                   | Elapsed Time: 1:40:48 ETA: --:--:--"
     ]
    },
    {
     "name": "stdout",
     "output_type": "stream",
     "text": [
      "pattern\n",
      "a = 0.0522766, c = 0.49, alpha = 0.00316\n"
     ]
    },
    {
     "name": "stderr",
     "output_type": "stream",
     "text": [
      "\r",
      "                                                                                                   \r",
      "\r",
      " 20% ( 20 of 100) |########                                   | Elapsed Time: 1:41:09 ETA: --:--:--"
     ]
    },
    {
     "name": "stdout",
     "output_type": "stream",
     "text": [
      "pattern\n",
      "a = 0.0522785, c = 0.51, alpha = 0.00316\n"
     ]
    },
    {
     "name": "stderr",
     "output_type": "stream",
     "text": [
      "\r",
      "                                                                                                   \r",
      "\r",
      " 20% ( 20 of 100) |########                                   | Elapsed Time: 1:41:36 ETA: --:--:--"
     ]
    },
    {
     "name": "stdout",
     "output_type": "stream",
     "text": [
      "pattern\n",
      "a = 0.0522804, c = 0.53, alpha = 0.00316\n"
     ]
    },
    {
     "name": "stderr",
     "output_type": "stream",
     "text": [
      "\r",
      "                                                                                                   \r",
      "\r",
      " 20% ( 20 of 100) |########                                   | Elapsed Time: 1:42:01 ETA: --:--:--"
     ]
    },
    {
     "name": "stdout",
     "output_type": "stream",
     "text": [
      "pattern\n",
      "a = 0.0522814, c = 0.55, alpha = 0.00316\n"
     ]
    },
    {
     "name": "stderr",
     "output_type": "stream",
     "text": [
      "\r",
      "                                                                                                   \r",
      "\r",
      " 20% ( 20 of 100) |########                                   | Elapsed Time: 1:42:29 ETA: --:--:--"
     ]
    },
    {
     "name": "stdout",
     "output_type": "stream",
     "text": [
      "pattern\n",
      "a = 0.0522823, c = 0.57, alpha = 0.00316\n"
     ]
    },
    {
     "name": "stderr",
     "output_type": "stream",
     "text": [
      "\r",
      "                                                                                                   \r",
      "\r",
      " 20% ( 20 of 100) |########                                   | Elapsed Time: 1:42:56 ETA: --:--:--"
     ]
    },
    {
     "name": "stdout",
     "output_type": "stream",
     "text": [
      "pattern\n",
      "a = 0.0522833, c = 0.59, alpha = 0.00316\n"
     ]
    },
    {
     "name": "stderr",
     "output_type": "stream",
     "text": [
      "\r",
      "                                                                                                   \r",
      "\r",
      " 20% ( 20 of 100) |########                                   | Elapsed Time: 1:43:23 ETA: --:--:--"
     ]
    },
    {
     "name": "stdout",
     "output_type": "stream",
     "text": [
      "pattern\n",
      "a = 0.0522842, c = 0.61, alpha = 0.00316\n"
     ]
    },
    {
     "name": "stderr",
     "output_type": "stream",
     "text": [
      "\r",
      "                                                                                                   \r",
      "\r",
      " 20% ( 20 of 100) |########                                   | Elapsed Time: 1:43:47 ETA: --:--:--"
     ]
    },
    {
     "name": "stdout",
     "output_type": "stream",
     "text": [
      "pattern\n",
      "a = 0.0522842, c = 0.63, alpha = 0.00316\n"
     ]
    },
    {
     "name": "stderr",
     "output_type": "stream",
     "text": [
      "\r",
      "                                                                                                   \r",
      "\r",
      " 20% ( 20 of 100) |########                                   | Elapsed Time: 1:44:10 ETA: --:--:--"
     ]
    },
    {
     "name": "stdout",
     "output_type": "stream",
     "text": [
      "pattern\n",
      "a = 0.0522842, c = 0.65, alpha = 0.00316\n"
     ]
    },
    {
     "name": "stderr",
     "output_type": "stream",
     "text": [
      "\r",
      "                                                                                                   \r",
      "\r",
      " 20% ( 20 of 100) |########                                   | Elapsed Time: 1:44:34 ETA: --:--:--"
     ]
    },
    {
     "name": "stdout",
     "output_type": "stream",
     "text": [
      "pattern\n",
      "a = 0.0522842, c = 0.67, alpha = 0.00316\n"
     ]
    },
    {
     "name": "stderr",
     "output_type": "stream",
     "text": [
      "\r",
      "                                                                                                   \r",
      "\r",
      " 20% ( 20 of 100) |########                                   | Elapsed Time: 1:44:57 ETA: --:--:--"
     ]
    },
    {
     "name": "stdout",
     "output_type": "stream",
     "text": [
      "pattern\n",
      "a = 0.0522842, c = 0.69, alpha = 0.00316\n"
     ]
    },
    {
     "name": "stderr",
     "output_type": "stream",
     "text": [
      "\r",
      "                                                                                                   \r",
      "\r",
      " 20% ( 20 of 100) |########                                   | Elapsed Time: 1:45:21 ETA: --:--:--"
     ]
    },
    {
     "name": "stdout",
     "output_type": "stream",
     "text": [
      "pattern\n",
      "a = 0.0522842, c = 0.71, alpha = 0.00316\n"
     ]
    },
    {
     "name": "stderr",
     "output_type": "stream",
     "text": [
      "\r",
      "                                                                                                   \r",
      "\r",
      " 20% ( 20 of 100) |########                                   | Elapsed Time: 1:45:44 ETA: --:--:--"
     ]
    },
    {
     "name": "stdout",
     "output_type": "stream",
     "text": [
      "pattern\n",
      "a = 0.0522833, c = 0.73, alpha = 0.00316\n"
     ]
    },
    {
     "name": "stderr",
     "output_type": "stream",
     "text": [
      "\r",
      "                                                                                                   \r",
      "\r",
      " 20% ( 20 of 100) |########                                   | Elapsed Time: 1:46:12 ETA: --:--:--"
     ]
    },
    {
     "name": "stdout",
     "output_type": "stream",
     "text": [
      "pattern\n",
      "a = 0.0522828, c = 0.75, alpha = 0.00316\n"
     ]
    },
    {
     "name": "stderr",
     "output_type": "stream",
     "text": [
      "\r",
      "                                                                                                   \r",
      "\r",
      " 20% ( 20 of 100) |########                                   | Elapsed Time: 1:46:41 ETA: --:--:--"
     ]
    },
    {
     "name": "stdout",
     "output_type": "stream",
     "text": [
      "pattern\n",
      "a = 0.0522823, c = 0.77, alpha = 0.00316\n"
     ]
    },
    {
     "name": "stderr",
     "output_type": "stream",
     "text": [
      "\r",
      "                                                                                                   \r",
      "\r",
      " 20% ( 20 of 100) |########                                   | Elapsed Time: 1:47:08 ETA: --:--:--"
     ]
    },
    {
     "name": "stdout",
     "output_type": "stream",
     "text": [
      "pattern\n",
      "a = 0.0522814, c = 0.79, alpha = 0.00316\n"
     ]
    },
    {
     "name": "stderr",
     "output_type": "stream",
     "text": [
      "\r",
      "                                                                                                   \r",
      "\r",
      " 20% ( 20 of 100) |########                                   | Elapsed Time: 1:47:36 ETA: --:--:--"
     ]
    },
    {
     "name": "stdout",
     "output_type": "stream",
     "text": [
      "pattern\n",
      "a = 0.0522804, c = 0.81, alpha = 0.00316\n"
     ]
    },
    {
     "name": "stderr",
     "output_type": "stream",
     "text": [
      "\r",
      "                                                                                                   \r",
      "\r",
      " 20% ( 20 of 100) |########                                   | Elapsed Time: 1:48:01 ETA: --:--:--"
     ]
    },
    {
     "name": "stdout",
     "output_type": "stream",
     "text": [
      "pattern\n",
      "a = 0.0522795, c = 0.83, alpha = 0.00316\n"
     ]
    },
    {
     "name": "stderr",
     "output_type": "stream",
     "text": [
      "\r",
      "                                                                                                   \r",
      "\r",
      " 20% ( 20 of 100) |########                                   | Elapsed Time: 1:48:30 ETA: --:--:--"
     ]
    },
    {
     "name": "stdout",
     "output_type": "stream",
     "text": [
      "pattern\n",
      "a = 0.0522780, c = 0.85, alpha = 0.00316\n"
     ]
    },
    {
     "name": "stderr",
     "output_type": "stream",
     "text": [
      "\r",
      "                                                                                                   \r",
      "\r",
      " 20% ( 20 of 100) |########                                   | Elapsed Time: 1:49:00 ETA: --:--:--"
     ]
    },
    {
     "name": "stdout",
     "output_type": "stream",
     "text": [
      "pattern\n",
      "a = 0.0522766, c = 0.87, alpha = 0.00316\n"
     ]
    },
    {
     "name": "stderr",
     "output_type": "stream",
     "text": [
      "\r",
      "                                                                                                   \r",
      "\r",
      " 20% ( 20 of 100) |########                                   | Elapsed Time: 1:49:19 ETA: --:--:--"
     ]
    },
    {
     "name": "stdout",
     "output_type": "stream",
     "text": [
      "pattern\n",
      "a = 0.0522757, c = 0.89, alpha = 0.00316\n"
     ]
    },
    {
     "name": "stderr",
     "output_type": "stream",
     "text": [
      "\r",
      "                                                                                                   \r",
      "\r",
      " 20% ( 20 of 100) |########                                   | Elapsed Time: 1:49:46 ETA: --:--:--"
     ]
    },
    {
     "name": "stdout",
     "output_type": "stream",
     "text": [
      "pattern\n",
      "a = 0.0522738, c = 0.91, alpha = 0.00316\n"
     ]
    },
    {
     "name": "stderr",
     "output_type": "stream",
     "text": [
      "\r",
      "                                                                                                   \r",
      "\r",
      " 20% ( 20 of 100) |########                                   | Elapsed Time: 1:50:13 ETA: --:--:--"
     ]
    },
    {
     "name": "stdout",
     "output_type": "stream",
     "text": [
      "pattern\n",
      "a = 0.0522728, c = 0.93, alpha = 0.00316\n"
     ]
    },
    {
     "name": "stderr",
     "output_type": "stream",
     "text": [
      "\r",
      "                                                                                                   \r",
      "\r",
      " 20% ( 20 of 100) |########                                   | Elapsed Time: 1:50:37 ETA: --:--:--"
     ]
    },
    {
     "name": "stdout",
     "output_type": "stream",
     "text": [
      "pattern\n",
      "a = 0.0522709, c = 0.95, alpha = 0.00316\n"
     ]
    },
    {
     "name": "stderr",
     "output_type": "stream",
     "text": [
      "\r",
      "                                                                                                   \r",
      "\r",
      " 20% ( 20 of 100) |########                                   | Elapsed Time: 1:51:03 ETA: --:--:--"
     ]
    },
    {
     "name": "stdout",
     "output_type": "stream",
     "text": [
      "pattern\n",
      "a = 0.0522695, c = 0.97, alpha = 0.00316\n"
     ]
    },
    {
     "name": "stderr",
     "output_type": "stream",
     "text": [
      "\r",
      "                                                                                                   \r",
      "\r",
      " 20% ( 20 of 100) |########                                   | Elapsed Time: 1:51:33 ETA: --:--:--"
     ]
    },
    {
     "name": "stdout",
     "output_type": "stream",
     "text": [
      "pattern\n",
      "a = 0.0522680, c = 0.99, alpha = 0.00316\n"
     ]
    },
    {
     "name": "stderr",
     "output_type": "stream",
     "text": [
      "\r",
      "                                                                                                   \r",
      "\r",
      " 20% ( 20 of 100) |########                                   | Elapsed Time: 1:52:00 ETA: --:--:--"
     ]
    },
    {
     "name": "stdout",
     "output_type": "stream",
     "text": [
      "pattern\n",
      "a = 0.0522661, c = 1.01, alpha = 0.00316\n"
     ]
    },
    {
     "name": "stderr",
     "output_type": "stream",
     "text": [
      "\r",
      "                                                                                                   \r",
      "\r",
      " 20% ( 20 of 100) |########                                   | Elapsed Time: 1:52:28 ETA: --:--:--"
     ]
    },
    {
     "name": "stdout",
     "output_type": "stream",
     "text": [
      "pattern\n",
      "a = 0.0522642, c = 1.03, alpha = 0.00316\n"
     ]
    },
    {
     "name": "stderr",
     "output_type": "stream",
     "text": [
      "\r",
      "                                                                                                   \r",
      "\r",
      " 20% ( 20 of 100) |########                                   | Elapsed Time: 1:52:55 ETA: --:--:--"
     ]
    },
    {
     "name": "stdout",
     "output_type": "stream",
     "text": [
      "pattern\n",
      "a = 0.0522628, c = 1.05, alpha = 0.00316\n"
     ]
    },
    {
     "name": "stderr",
     "output_type": "stream",
     "text": [
      "\r",
      "                                                                                                   \r",
      "\r",
      " 20% ( 20 of 100) |########                                   | Elapsed Time: 1:53:25 ETA: --:--:--"
     ]
    },
    {
     "name": "stdout",
     "output_type": "stream",
     "text": [
      "pattern\n",
      "a = 0.0522609, c = 1.07, alpha = 0.00316\n"
     ]
    },
    {
     "name": "stderr",
     "output_type": "stream",
     "text": [
      "\r",
      "                                                                                                   \r",
      "\r",
      " 20% ( 20 of 100) |########                                   | Elapsed Time: 1:53:54 ETA: --:--:--"
     ]
    },
    {
     "name": "stdout",
     "output_type": "stream",
     "text": [
      "pattern\n",
      "a = 0.0522594, c = 1.09, alpha = 0.00316\n"
     ]
    },
    {
     "name": "stderr",
     "output_type": "stream",
     "text": [
      "\r",
      "                                                                                                   \r",
      "\r",
      " 20% ( 20 of 100) |########                                   | Elapsed Time: 1:54:20 ETA: --:--:--"
     ]
    },
    {
     "name": "stdout",
     "output_type": "stream",
     "text": [
      "pattern\n",
      "a = 0.0522575, c = 1.11, alpha = 0.00316\n"
     ]
    },
    {
     "name": "stderr",
     "output_type": "stream",
     "text": [
      "\r",
      "                                                                                                   \r",
      "\r",
      " 20% ( 20 of 100) |########                                   | Elapsed Time: 1:54:44 ETA: --:--:--"
     ]
    },
    {
     "name": "stdout",
     "output_type": "stream",
     "text": [
      "pattern\n",
      "a = 0.0522556, c = 1.13, alpha = 0.00316\n"
     ]
    },
    {
     "name": "stderr",
     "output_type": "stream",
     "text": [
      "\r",
      "                                                                                                   \r",
      "\r",
      " 20% ( 20 of 100) |########                                   | Elapsed Time: 1:55:11 ETA: --:--:--"
     ]
    },
    {
     "name": "stdout",
     "output_type": "stream",
     "text": [
      "pattern\n",
      "a = 0.0522537, c = 1.15, alpha = 0.00316\n"
     ]
    },
    {
     "name": "stderr",
     "output_type": "stream",
     "text": [
      "\r",
      "                                                                                                   \r",
      "\r",
      " 20% ( 20 of 100) |########                                   | Elapsed Time: 1:55:35 ETA: --:--:--"
     ]
    },
    {
     "name": "stdout",
     "output_type": "stream",
     "text": [
      "pattern\n",
      "a = 0.0522518, c = 1.17, alpha = 0.00316\n"
     ]
    },
    {
     "name": "stderr",
     "output_type": "stream",
     "text": [
      "\r",
      "                                                                                                   \r",
      "\r",
      " 20% ( 20 of 100) |########                                   | Elapsed Time: 1:56:01 ETA: --:--:--"
     ]
    },
    {
     "name": "stdout",
     "output_type": "stream",
     "text": [
      "pattern\n",
      "a = 0.0522494, c = 1.19, alpha = 0.00316\n"
     ]
    },
    {
     "name": "stderr",
     "output_type": "stream",
     "text": [
      "\r",
      "                                                                                                   \r",
      "\r",
      " 20% ( 20 of 100) |########                                   | Elapsed Time: 1:56:31 ETA: --:--:--"
     ]
    },
    {
     "name": "stdout",
     "output_type": "stream",
     "text": [
      "pattern\n",
      "a = 0.0522475, c = 1.21, alpha = 0.00316\n"
     ]
    },
    {
     "name": "stderr",
     "output_type": "stream",
     "text": [
      "\r",
      "                                                                                                   \r",
      "\r",
      " 20% ( 20 of 100) |########                                   | Elapsed Time: 1:57:01 ETA: --:--:--"
     ]
    },
    {
     "name": "stdout",
     "output_type": "stream",
     "text": [
      "pattern\n",
      "a = 0.0522456, c = 1.23, alpha = 0.00316\n"
     ]
    },
    {
     "name": "stderr",
     "output_type": "stream",
     "text": [
      "\r",
      "                                                                                                   \r",
      "\r",
      " 20% ( 20 of 100) |########                                   | Elapsed Time: 1:57:27 ETA: --:--:--"
     ]
    },
    {
     "name": "stdout",
     "output_type": "stream",
     "text": [
      "pattern\n",
      "a = 0.0522432, c = 1.25, alpha = 0.00316\n"
     ]
    },
    {
     "name": "stderr",
     "output_type": "stream",
     "text": [
      "\r",
      "                                                                                                   \r",
      "\r",
      " 20% ( 20 of 100) |########                                   | Elapsed Time: 1:57:53 ETA: --:--:--"
     ]
    },
    {
     "name": "stdout",
     "output_type": "stream",
     "text": [
      "pattern\n",
      "a = 0.0522413, c = 1.27, alpha = 0.00316\n"
     ]
    },
    {
     "name": "stderr",
     "output_type": "stream",
     "text": [
      "\r",
      "                                                                                                   \r",
      "\r",
      " 20% ( 20 of 100) |########                                   | Elapsed Time: 1:58:19 ETA: --:--:--"
     ]
    },
    {
     "name": "stdout",
     "output_type": "stream",
     "text": [
      "pattern\n",
      "a = 0.0522394, c = 1.29, alpha = 0.00316\n"
     ]
    },
    {
     "name": "stderr",
     "output_type": "stream",
     "text": [
      "\r",
      "                                                                                                   \r",
      "\r",
      " 20% ( 20 of 100) |########                                   | Elapsed Time: 1:58:45 ETA: --:--:--"
     ]
    },
    {
     "name": "stdout",
     "output_type": "stream",
     "text": [
      "pattern\n",
      "a = 0.0522375, c = 1.31, alpha = 0.00316\n"
     ]
    },
    {
     "name": "stderr",
     "output_type": "stream",
     "text": [
      "\r",
      "                                                                                                   \r",
      "\r",
      " 20% ( 20 of 100) |########                                   | Elapsed Time: 1:59:10 ETA: --:--:--"
     ]
    },
    {
     "name": "stdout",
     "output_type": "stream",
     "text": [
      "pattern\n",
      "a = 0.0522356, c = 1.33, alpha = 0.00316\n"
     ]
    },
    {
     "name": "stderr",
     "output_type": "stream",
     "text": [
      "\r",
      "                                                                                                   \r",
      "\r",
      " 20% ( 20 of 100) |########                                   | Elapsed Time: 1:59:36 ETA: --:--:--"
     ]
    },
    {
     "name": "stdout",
     "output_type": "stream",
     "text": [
      "pattern\n",
      "a = 0.0522332, c = 1.35, alpha = 0.00316\n"
     ]
    },
    {
     "name": "stderr",
     "output_type": "stream",
     "text": [
      "\r",
      "                                                                                                   \r",
      "\r",
      " 20% ( 20 of 100) |########                                   | Elapsed Time: 2:00:05 ETA: --:--:--"
     ]
    },
    {
     "name": "stdout",
     "output_type": "stream",
     "text": [
      "pattern\n",
      "a = 0.0522308, c = 1.37, alpha = 0.00316\n"
     ]
    },
    {
     "name": "stderr",
     "output_type": "stream",
     "text": [
      "\r",
      "                                                                                                   \r",
      "\r",
      " 20% ( 20 of 100) |########                                   | Elapsed Time: 2:00:24 ETA: --:--:--"
     ]
    },
    {
     "name": "stdout",
     "output_type": "stream",
     "text": [
      "pattern\n",
      "a = 0.0522289, c = 1.39, alpha = 0.00316\n"
     ]
    },
    {
     "name": "stderr",
     "output_type": "stream",
     "text": [
      "\r",
      "                                                                                                   \r",
      "\r",
      " 20% ( 20 of 100) |########                                   | Elapsed Time: 2:00:48 ETA: --:--:--"
     ]
    },
    {
     "name": "stdout",
     "output_type": "stream",
     "text": [
      "pattern\n",
      "a = 0.0522270, c = 1.41, alpha = 0.00316\n"
     ]
    },
    {
     "name": "stderr",
     "output_type": "stream",
     "text": [
      "\r",
      "                                                                                                   \r",
      "\r",
      " 20% ( 20 of 100) |########                                   | Elapsed Time: 2:01:11 ETA: --:--:--"
     ]
    },
    {
     "name": "stdout",
     "output_type": "stream",
     "text": [
      "pattern\n",
      "a = 0.0522246, c = 1.43, alpha = 0.00316\n"
     ]
    },
    {
     "name": "stderr",
     "output_type": "stream",
     "text": [
      "\r",
      "                                                                                                   \r",
      "\r",
      " 20% ( 20 of 100) |########                                   | Elapsed Time: 2:01:39 ETA: --:--:--"
     ]
    },
    {
     "name": "stdout",
     "output_type": "stream",
     "text": [
      "pattern\n",
      "a = 0.0522223, c = 1.45, alpha = 0.00316\n"
     ]
    },
    {
     "name": "stderr",
     "output_type": "stream",
     "text": [
      "\r",
      "                                                                                                   \r",
      "\r",
      " 20% ( 20 of 100) |########                                   | Elapsed Time: 2:02:05 ETA: --:--:--"
     ]
    },
    {
     "name": "stdout",
     "output_type": "stream",
     "text": [
      "pattern\n",
      "a = 0.0522203, c = 1.47, alpha = 0.00316\n"
     ]
    },
    {
     "name": "stderr",
     "output_type": "stream",
     "text": [
      "\r",
      "                                                                                                   \r",
      "\r",
      " 20% ( 20 of 100) |########                                   | Elapsed Time: 2:02:31 ETA: --:--:--"
     ]
    },
    {
     "name": "stdout",
     "output_type": "stream",
     "text": [
      "pattern\n",
      "a = 0.0522184, c = 1.49, alpha = 0.00316\n"
     ]
    },
    {
     "name": "stderr",
     "output_type": "stream",
     "text": [
      "\r",
      "                                                                                                   \r",
      "\r",
      " 20% ( 20 of 100) |########                                   | Elapsed Time: 2:02:58 ETA: --:--:--"
     ]
    },
    {
     "name": "stdout",
     "output_type": "stream",
     "text": [
      "pattern\n",
      "a = 0.0522161, c = 1.51, alpha = 0.00316\n"
     ]
    },
    {
     "name": "stderr",
     "output_type": "stream",
     "text": [
      "\r",
      "                                                                                                   \r",
      "\r",
      " 20% ( 20 of 100) |########                                   | Elapsed Time: 2:03:26 ETA: --:--:--"
     ]
    },
    {
     "name": "stdout",
     "output_type": "stream",
     "text": [
      "pattern\n",
      "a = 0.0522141, c = 1.53, alpha = 0.00316\n"
     ]
    },
    {
     "name": "stderr",
     "output_type": "stream",
     "text": [
      "\r",
      "                                                                                                   \r",
      "\r",
      " 20% ( 20 of 100) |########                                   | Elapsed Time: 2:03:54 ETA: --:--:--"
     ]
    },
    {
     "name": "stdout",
     "output_type": "stream",
     "text": [
      "pattern\n",
      "a = 0.0522118, c = 1.55, alpha = 0.00316\n"
     ]
    },
    {
     "name": "stderr",
     "output_type": "stream",
     "text": [
      "\r",
      "                                                                                                   \r",
      "\r",
      " 20% ( 20 of 100) |########                                   | Elapsed Time: 2:04:18 ETA: --:--:--"
     ]
    },
    {
     "name": "stdout",
     "output_type": "stream",
     "text": [
      "pattern\n",
      "a = 0.0522099, c = 1.57, alpha = 0.00316\n"
     ]
    },
    {
     "name": "stderr",
     "output_type": "stream",
     "text": [
      "\r",
      "                                                                                                   \r",
      "\r",
      " 20% ( 20 of 100) |########                                   | Elapsed Time: 2:04:43 ETA: --:--:--"
     ]
    },
    {
     "name": "stdout",
     "output_type": "stream",
     "text": [
      "pattern\n",
      "a = 0.0522075, c = 1.59, alpha = 0.00316\n"
     ]
    },
    {
     "name": "stderr",
     "output_type": "stream",
     "text": [
      "\r",
      "                                                                                                   \r",
      "\r",
      " 20% ( 20 of 100) |########                                   | Elapsed Time: 2:05:11 ETA: --:--:--"
     ]
    },
    {
     "name": "stdout",
     "output_type": "stream",
     "text": [
      "pattern\n",
      "a = 0.0522056, c = 1.61, alpha = 0.00316\n"
     ]
    },
    {
     "name": "stderr",
     "output_type": "stream",
     "text": [
      "\r",
      "                                                                                                   \r",
      "\r",
      " 20% ( 20 of 100) |########                                   | Elapsed Time: 2:05:40 ETA: --:--:--"
     ]
    },
    {
     "name": "stdout",
     "output_type": "stream",
     "text": [
      "pattern\n",
      "a = 0.0522032, c = 1.63, alpha = 0.00316\n"
     ]
    },
    {
     "name": "stderr",
     "output_type": "stream",
     "text": [
      "\r",
      "                                                                                                   \r",
      "\r",
      " 20% ( 20 of 100) |########                                   | Elapsed Time: 2:06:06 ETA: --:--:--"
     ]
    },
    {
     "name": "stdout",
     "output_type": "stream",
     "text": [
      "pattern\n",
      "a = 0.0522013, c = 1.65, alpha = 0.00316\n"
     ]
    },
    {
     "name": "stderr",
     "output_type": "stream",
     "text": [
      "\r",
      "                                                                                                   \r",
      "\r",
      " 20% ( 20 of 100) |########                                   | Elapsed Time: 2:06:34 ETA: --:--:--"
     ]
    },
    {
     "name": "stdout",
     "output_type": "stream",
     "text": [
      "pattern\n",
      "a = 0.0521989, c = 1.67, alpha = 0.00316\n"
     ]
    },
    {
     "name": "stderr",
     "output_type": "stream",
     "text": [
      "\r",
      "                                                                                                   \r",
      "\r",
      " 20% ( 20 of 100) |########                                   | Elapsed Time: 2:07:01 ETA: --:--:--"
     ]
    },
    {
     "name": "stdout",
     "output_type": "stream",
     "text": [
      "pattern\n",
      "a = 0.0521970, c = 1.69, alpha = 0.00316\n"
     ]
    },
    {
     "name": "stderr",
     "output_type": "stream",
     "text": [
      "\r",
      "                                                                                                   \r",
      "\r",
      " 20% ( 20 of 100) |########                                   | Elapsed Time: 2:07:30 ETA: --:--:--"
     ]
    },
    {
     "name": "stdout",
     "output_type": "stream",
     "text": [
      "pattern\n",
      "a = 0.0521946, c = 1.71, alpha = 0.00316\n"
     ]
    },
    {
     "name": "stderr",
     "output_type": "stream",
     "text": [
      "\r",
      "                                                                                                   \r",
      "\r",
      " 20% ( 20 of 100) |########                                   | Elapsed Time: 2:07:55 ETA: --:--:--"
     ]
    },
    {
     "name": "stdout",
     "output_type": "stream",
     "text": [
      "pattern\n",
      "a = 0.0521927, c = 1.73, alpha = 0.00316\n"
     ]
    },
    {
     "name": "stderr",
     "output_type": "stream",
     "text": [
      "\r",
      "                                                                                                   \r",
      "\r",
      " 20% ( 20 of 100) |########                                   | Elapsed Time: 2:08:17 ETA: --:--:--"
     ]
    },
    {
     "name": "stdout",
     "output_type": "stream",
     "text": [
      "pattern\n",
      "a = 0.0521908, c = 1.75, alpha = 0.00316\n"
     ]
    },
    {
     "name": "stderr",
     "output_type": "stream",
     "text": [
      "\r",
      "                                                                                                   \r",
      "\r",
      " 20% ( 20 of 100) |########                                   | Elapsed Time: 2:08:43 ETA: --:--:--"
     ]
    },
    {
     "name": "stdout",
     "output_type": "stream",
     "text": [
      "pattern\n",
      "a = 0.0521884, c = 1.77, alpha = 0.00316\n"
     ]
    },
    {
     "name": "stderr",
     "output_type": "stream",
     "text": [
      "\r",
      "                                                                                                   \r",
      "\r",
      " 20% ( 20 of 100) |########                                   | Elapsed Time: 2:09:11 ETA: --:--:--"
     ]
    },
    {
     "name": "stdout",
     "output_type": "stream",
     "text": [
      "pattern\n",
      "a = 0.0521860, c = 1.79, alpha = 0.00316\n"
     ]
    },
    {
     "name": "stderr",
     "output_type": "stream",
     "text": [
      "\r",
      "                                                                                                   \r",
      "\r",
      " 20% ( 20 of 100) |########                                   | Elapsed Time: 2:09:39 ETA: --:--:--"
     ]
    },
    {
     "name": "stdout",
     "output_type": "stream",
     "text": [
      "pattern\n",
      "a = 0.0521841, c = 1.81, alpha = 0.00316\n"
     ]
    },
    {
     "name": "stderr",
     "output_type": "stream",
     "text": [
      "\r",
      "                                                                                                   \r",
      "\r",
      " 20% ( 20 of 100) |########                                   | Elapsed Time: 2:10:04 ETA: --:--:--"
     ]
    },
    {
     "name": "stdout",
     "output_type": "stream",
     "text": [
      "pattern\n",
      "a = 0.0521822, c = 1.83, alpha = 0.00316\n"
     ]
    },
    {
     "name": "stderr",
     "output_type": "stream",
     "text": [
      "\r",
      "                                                                                                   \r",
      "\r",
      " 20% ( 20 of 100) |########                                   | Elapsed Time: 2:10:30 ETA: --:--:--"
     ]
    },
    {
     "name": "stdout",
     "output_type": "stream",
     "text": [
      "pattern\n",
      "a = 0.0521798, c = 1.85, alpha = 0.00316\n"
     ]
    },
    {
     "name": "stderr",
     "output_type": "stream",
     "text": [
      "\r",
      "                                                                                                   \r",
      "\r",
      " 20% ( 20 of 100) |########                                   | Elapsed Time: 2:10:57 ETA: --:--:--"
     ]
    },
    {
     "name": "stdout",
     "output_type": "stream",
     "text": [
      "pattern\n",
      "a = 0.0521779, c = 1.87, alpha = 0.00316\n"
     ]
    },
    {
     "name": "stderr",
     "output_type": "stream",
     "text": [
      "\r",
      "                                                                                                   \r",
      "\r",
      " 20% ( 20 of 100) |########                                   | Elapsed Time: 2:11:26 ETA: --:--:--"
     ]
    },
    {
     "name": "stdout",
     "output_type": "stream",
     "text": [
      "pattern\n",
      "a = 0.0521755, c = 1.89, alpha = 0.00316\n"
     ]
    },
    {
     "name": "stderr",
     "output_type": "stream",
     "text": [
      "\r",
      "                                                                                                   \r",
      "\r",
      " 20% ( 20 of 100) |########                                   | Elapsed Time: 2:11:50 ETA: --:--:--"
     ]
    },
    {
     "name": "stdout",
     "output_type": "stream",
     "text": [
      "pattern\n",
      "a = 0.0521736, c = 1.91, alpha = 0.00316\n"
     ]
    },
    {
     "name": "stderr",
     "output_type": "stream",
     "text": [
      "\r",
      "                                                                                                   \r",
      "\r",
      " 20% ( 20 of 100) |########                                   | Elapsed Time: 2:12:14 ETA: --:--:--"
     ]
    },
    {
     "name": "stdout",
     "output_type": "stream",
     "text": [
      "pattern\n",
      "a = 0.0521717, c = 1.93, alpha = 0.00316\n"
     ]
    },
    {
     "name": "stderr",
     "output_type": "stream",
     "text": [
      "\r",
      "                                                                                                   \r",
      "\r",
      " 20% ( 20 of 100) |########                                   | Elapsed Time: 2:12:39 ETA: --:--:--"
     ]
    },
    {
     "name": "stdout",
     "output_type": "stream",
     "text": [
      "pattern\n",
      "a = 0.0521698, c = 1.95, alpha = 0.00316\n"
     ]
    },
    {
     "name": "stderr",
     "output_type": "stream",
     "text": [
      "\r",
      "                                                                                                   \r",
      "\r",
      " 20% ( 20 of 100) |########                                   | Elapsed Time: 2:13:00 ETA: --:--:--"
     ]
    },
    {
     "name": "stdout",
     "output_type": "stream",
     "text": [
      "pattern\n",
      "a = 0.0521674, c = 1.97, alpha = 0.00316\n"
     ]
    },
    {
     "name": "stderr",
     "output_type": "stream",
     "text": [
      "\r",
      "                                                                                                   \r",
      "\r",
      " 20% ( 20 of 100) |########                                   | Elapsed Time: 2:13:28 ETA: --:--:--"
     ]
    },
    {
     "name": "stdout",
     "output_type": "stream",
     "text": [
      "pattern\n",
      "a = 0.0521655, c = 1.99, alpha = 0.00316\n"
     ]
    },
    {
     "name": "stderr",
     "output_type": "stream",
     "text": [
      "\r",
      "                                                                                                   \r",
      "\r",
      " 20% ( 20 of 100) |########                                   | Elapsed Time: 2:13:55 ETA: --:--:--"
     ]
    },
    {
     "name": "stdout",
     "output_type": "stream",
     "text": [
      "pattern\n",
      "a = 0.0521631, c = 2.01, alpha = 0.00316\n"
     ]
    },
    {
     "name": "stderr",
     "output_type": "stream",
     "text": [
      "\r",
      "                                                                                                   \r",
      "\r",
      " 20% ( 20 of 100) |########                                   | Elapsed Time: 2:14:23 ETA: --:--:--"
     ]
    },
    {
     "name": "stdout",
     "output_type": "stream",
     "text": [
      "pattern\n",
      "a = 0.0521612, c = 2.03, alpha = 0.00316\n"
     ]
    },
    {
     "name": "stderr",
     "output_type": "stream",
     "text": [
      "\r",
      "                                                                                                   \r",
      "\r",
      " 20% ( 20 of 100) |########                                   | Elapsed Time: 2:14:49 ETA: --:--:--"
     ]
    },
    {
     "name": "stdout",
     "output_type": "stream",
     "text": [
      "pattern\n",
      "a = 0.0521593, c = 2.05, alpha = 0.00316\n"
     ]
    },
    {
     "name": "stderr",
     "output_type": "stream",
     "text": [
      "\r",
      "                                                                                                   \r",
      "\r",
      " 20% ( 20 of 100) |########                                   | Elapsed Time: 2:15:16 ETA: --:--:--"
     ]
    },
    {
     "name": "stdout",
     "output_type": "stream",
     "text": [
      "pattern\n",
      "a = 0.0521574, c = 2.07, alpha = 0.00316\n"
     ]
    },
    {
     "name": "stderr",
     "output_type": "stream",
     "text": [
      "\r",
      "                                                                                                   \r",
      "\r",
      " 20% ( 20 of 100) |########                                   | Elapsed Time: 2:15:43 ETA: --:--:--"
     ]
    },
    {
     "name": "stdout",
     "output_type": "stream",
     "text": [
      "pattern\n",
      "a = 0.0521555, c = 2.09, alpha = 0.00316\n",
      "[  4.76837158e-07   4.76837158e-07   4.76837158e-07   4.76837158e-07\n",
      "   0.00000000e+00   0.00000000e+00   0.00000000e+00   0.00000000e+00\n",
      "   0.00000000e+00   0.00000000e+00   0.00000000e+00   0.00000000e+00\n",
      "   0.00000000e+00   0.00000000e+00   0.00000000e+00   0.00000000e+00\n",
      "   0.00000000e+00   0.00000000e+00   0.00000000e+00   0.00000000e+00\n",
      "   0.00000000e+00   0.00000000e+00   0.00000000e+00   0.00000000e+00\n",
      "   0.00000000e+00   0.00000000e+00   0.00000000e+00   0.00000000e+00\n",
      "   0.00000000e+00   0.00000000e+00   0.00000000e+00   0.00000000e+00\n",
      "   0.00000000e+00   0.00000000e+00   0.00000000e+00   0.00000000e+00\n",
      "   0.00000000e+00   0.00000000e+00   0.00000000e+00   0.00000000e+00\n",
      "   0.00000000e+00   0.00000000e+00   0.00000000e+00   0.00000000e+00\n",
      "   0.00000000e+00   0.00000000e+00   0.00000000e+00   0.00000000e+00\n",
      "   0.00000000e+00   0.00000000e+00   0.00000000e+00   0.00000000e+00\n",
      "   0.00000000e+00   0.00000000e+00   0.00000000e+00   0.00000000e+00\n",
      "   0.00000000e+00   0.00000000e+00   0.00000000e+00   0.00000000e+00\n",
      "   0.00000000e+00   0.00000000e+00   0.00000000e+00   0.00000000e+00\n",
      "   0.00000000e+00   0.00000000e+00   0.00000000e+00   0.00000000e+00\n",
      "   0.00000000e+00   0.00000000e+00   0.00000000e+00   0.00000000e+00\n",
      "   0.00000000e+00   0.00000000e+00   0.00000000e+00   0.00000000e+00\n",
      "   0.00000000e+00   0.00000000e+00   0.00000000e+00   0.00000000e+00\n",
      "   0.00000000e+00   0.00000000e+00   0.00000000e+00   0.00000000e+00\n",
      "   0.00000000e+00   0.00000000e+00   0.00000000e+00   0.00000000e+00\n",
      "   0.00000000e+00   0.00000000e+00   0.00000000e+00   0.00000000e+00\n",
      "   0.00000000e+00   0.00000000e+00   0.00000000e+00   0.00000000e+00\n",
      "   0.00000000e+00   0.00000000e+00   0.00000000e+00   0.00000000e+00\n",
      "   0.00000000e+00   0.00000000e+00   0.00000000e+00   0.00000000e+00\n",
      "   0.00000000e+00]\n"
     ]
    },
    {
     "name": "stderr",
     "output_type": "stream",
     "text": [
      " 30% ( 30 of 100) |#############                               | Elapsed Time: 2:17:09 ETA: 0:22:29"
     ]
    },
    {
     "name": "stdout",
     "output_type": "stream",
     "text": [
      "pattern\n",
      "a = 0.0139923, c = 0.09, alpha = 0.01000\n"
     ]
    },
    {
     "name": "stderr",
     "output_type": "stream",
     "text": [
      "\r",
      "                                                                                                   \r",
      "\r",
      " 30% ( 30 of 100) |#############                               | Elapsed Time: 2:17:29 ETA: 0:21:34"
     ]
    },
    {
     "name": "stdout",
     "output_type": "stream",
     "text": [
      "pattern\n",
      "a = 0.0339966, c = 0.11, alpha = 0.01000\n"
     ]
    },
    {
     "name": "stderr",
     "output_type": "stream",
     "text": [
      "\r",
      "                                                                                                   \r",
      "\r",
      " 30% ( 30 of 100) |#############                               | Elapsed Time: 2:17:47 ETA: 0:20:39"
     ]
    },
    {
     "name": "stdout",
     "output_type": "stream",
     "text": [
      "pattern\n",
      "a = 0.0511780, c = 0.13, alpha = 0.01000\n"
     ]
    },
    {
     "name": "stderr",
     "output_type": "stream",
     "text": [
      "\r",
      "                                                                                                   \r",
      "\r",
      " 30% ( 30 of 100) |#############                               | Elapsed Time: 2:18:07 ETA: 0:19:48"
     ]
    },
    {
     "name": "stdout",
     "output_type": "stream",
     "text": [
      "pattern\n",
      "a = 0.0530882, c = 0.15, alpha = 0.01000\n"
     ]
    },
    {
     "name": "stderr",
     "output_type": "stream",
     "text": [
      "\r",
      "                                                                                                   \r",
      "\r",
      " 30% ( 30 of 100) |#############                               | Elapsed Time: 2:18:33 ETA: 0:19:40"
     ]
    },
    {
     "name": "stdout",
     "output_type": "stream",
     "text": [
      "pattern\n",
      "a = 0.0532403, c = 0.17, alpha = 0.01000\n"
     ]
    },
    {
     "name": "stderr",
     "output_type": "stream",
     "text": [
      "\r",
      "                                                                                                   \r",
      "\r",
      " 30% ( 30 of 100) |#############                               | Elapsed Time: 2:19:03 ETA: 8:41:22"
     ]
    },
    {
     "name": "stdout",
     "output_type": "stream",
     "text": [
      "pattern\n",
      "a = 0.0533657, c = 0.19, alpha = 0.01000\n"
     ]
    },
    {
     "name": "stderr",
     "output_type": "stream",
     "text": [
      "\r",
      "                                                                                                   \r",
      "\r",
      " 30% ( 30 of 100) |#############                              | Elapsed Time: 2:19:28 ETA: 12:19:17"
     ]
    },
    {
     "name": "stdout",
     "output_type": "stream",
     "text": [
      "pattern\n",
      "a = 0.0534725, c = 0.21, alpha = 0.01000\n"
     ]
    },
    {
     "name": "stderr",
     "output_type": "stream",
     "text": [
      "\r",
      "                                                                                                   \r",
      "\r",
      " 30% ( 30 of 100) |#############                              | Elapsed Time: 2:19:54 ETA: 19:39:00"
     ]
    },
    {
     "name": "stdout",
     "output_type": "stream",
     "text": [
      "pattern\n",
      "a = 0.0535641, c = 0.23, alpha = 0.01000\n"
     ]
    },
    {
     "name": "stderr",
     "output_type": "stream",
     "text": [
      "\r",
      "                                                                                                   \r",
      "\r",
      " 30% ( 30 of 100) |##########                          | Elapsed Time: 2:20:19 ETA: 1 day, 17:23:32"
     ]
    },
    {
     "name": "stdout",
     "output_type": "stream",
     "text": [
      "pattern\n",
      "a = 0.0536451, c = 0.25, alpha = 0.01000\n"
     ]
    },
    {
     "name": "stderr",
     "output_type": "stream",
     "text": [
      "\r",
      "                                                                                                   \r",
      "\r",
      " 30% ( 30 of 100) |#############                              | Elapsed Time: 2:20:44 ETA: --:--:--"
     ]
    },
    {
     "name": "stdout",
     "output_type": "stream",
     "text": [
      "pattern\n",
      "a = 0.0537167, c = 0.27, alpha = 0.01000\n"
     ]
    },
    {
     "name": "stderr",
     "output_type": "stream",
     "text": [
      "\r",
      "                                                                                                   \r",
      "\r",
      " 30% ( 30 of 100) |#############                              | Elapsed Time: 2:21:11 ETA: --:--:--"
     ]
    },
    {
     "name": "stdout",
     "output_type": "stream",
     "text": [
      "pattern\n",
      "a = 0.0537806, c = 0.29, alpha = 0.01000\n"
     ]
    },
    {
     "name": "stderr",
     "output_type": "stream",
     "text": [
      "\r",
      "                                                                                                   \r",
      "\r",
      " 30% ( 30 of 100) |#############                              | Elapsed Time: 2:21:39 ETA: --:--:--"
     ]
    },
    {
     "name": "stdout",
     "output_type": "stream",
     "text": [
      "pattern\n",
      "a = 0.0538387, c = 0.31, alpha = 0.01000\n"
     ]
    },
    {
     "name": "stderr",
     "output_type": "stream",
     "text": [
      "\r",
      "                                                                                                   \r",
      "\r",
      " 30% ( 30 of 100) |#############                              | Elapsed Time: 2:22:05 ETA: --:--:--"
     ]
    },
    {
     "name": "stdout",
     "output_type": "stream",
     "text": [
      "pattern\n",
      "a = 0.0538912, c = 0.33, alpha = 0.01000\n"
     ]
    },
    {
     "name": "stderr",
     "output_type": "stream",
     "text": [
      "\r",
      "                                                                                                   \r",
      "\r",
      " 30% ( 30 of 100) |#############                              | Elapsed Time: 2:22:31 ETA: --:--:--"
     ]
    },
    {
     "name": "stdout",
     "output_type": "stream",
     "text": [
      "pattern\n",
      "a = 0.0539389, c = 0.35, alpha = 0.01000\n"
     ]
    },
    {
     "name": "stderr",
     "output_type": "stream",
     "text": [
      "\r",
      "                                                                                                   \r",
      "\r",
      " 30% ( 30 of 100) |#############                              | Elapsed Time: 2:22:56 ETA: --:--:--"
     ]
    },
    {
     "name": "stdout",
     "output_type": "stream",
     "text": [
      "pattern\n",
      "a = 0.0539837, c = 0.37, alpha = 0.01000\n"
     ]
    },
    {
     "name": "stderr",
     "output_type": "stream",
     "text": [
      "\r",
      "                                                                                                   \r",
      "\r",
      " 30% ( 30 of 100) |#############                              | Elapsed Time: 2:23:21 ETA: --:--:--"
     ]
    },
    {
     "name": "stdout",
     "output_type": "stream",
     "text": [
      "pattern\n",
      "a = 0.0540242, c = 0.39, alpha = 0.01000\n"
     ]
    },
    {
     "name": "stderr",
     "output_type": "stream",
     "text": [
      "\r",
      "                                                                                                   \r",
      "\r",
      " 30% ( 30 of 100) |#############                              | Elapsed Time: 2:23:50 ETA: --:--:--"
     ]
    },
    {
     "name": "stdout",
     "output_type": "stream",
     "text": [
      "pattern\n",
      "a = 0.0540619, c = 0.41, alpha = 0.01000\n"
     ]
    },
    {
     "name": "stderr",
     "output_type": "stream",
     "text": [
      "\r",
      "                                                                                                   \r",
      "\r",
      " 30% ( 30 of 100) |#############                              | Elapsed Time: 2:24:10 ETA: --:--:--"
     ]
    },
    {
     "name": "stdout",
     "output_type": "stream",
     "text": [
      "pattern\n",
      "a = 0.0540972, c = 0.43, alpha = 0.01000\n"
     ]
    },
    {
     "name": "stderr",
     "output_type": "stream",
     "text": [
      "\r",
      "                                                                                                   \r",
      "\r",
      " 30% ( 30 of 100) |#############                              | Elapsed Time: 2:24:36 ETA: --:--:--"
     ]
    },
    {
     "name": "stdout",
     "output_type": "stream",
     "text": [
      "pattern\n",
      "a = 0.0541296, c = 0.45, alpha = 0.01000\n"
     ]
    },
    {
     "name": "stderr",
     "output_type": "stream",
     "text": [
      "\r",
      "                                                                                                   \r",
      "\r",
      " 30% ( 30 of 100) |#############                              | Elapsed Time: 2:25:02 ETA: --:--:--"
     ]
    },
    {
     "name": "stdout",
     "output_type": "stream",
     "text": [
      "pattern\n",
      "a = 0.0541606, c = 0.47, alpha = 0.01000\n"
     ]
    },
    {
     "name": "stderr",
     "output_type": "stream",
     "text": [
      "\r",
      "                                                                                                   \r",
      "\r",
      " 30% ( 30 of 100) |#############                              | Elapsed Time: 2:25:29 ETA: --:--:--"
     ]
    },
    {
     "name": "stdout",
     "output_type": "stream",
     "text": [
      "pattern\n",
      "a = 0.0541897, c = 0.49, alpha = 0.01000\n"
     ]
    },
    {
     "name": "stderr",
     "output_type": "stream",
     "text": [
      "\r",
      "                                                                                                   \r",
      "\r",
      " 30% ( 30 of 100) |#############                              | Elapsed Time: 2:25:52 ETA: --:--:--"
     ]
    },
    {
     "name": "stdout",
     "output_type": "stream",
     "text": [
      "pattern\n",
      "a = 0.0542164, c = 0.51, alpha = 0.01000\n"
     ]
    },
    {
     "name": "stderr",
     "output_type": "stream",
     "text": [
      "\r",
      "                                                                                                   \r",
      "\r",
      " 30% ( 30 of 100) |#############                              | Elapsed Time: 2:26:18 ETA: --:--:--"
     ]
    },
    {
     "name": "stdout",
     "output_type": "stream",
     "text": [
      "pattern\n",
      "a = 0.0542421, c = 0.53, alpha = 0.01000\n"
     ]
    },
    {
     "name": "stderr",
     "output_type": "stream",
     "text": [
      "\r",
      "                                                                                                   \r",
      "\r",
      " 30% ( 30 of 100) |#############                              | Elapsed Time: 2:26:45 ETA: --:--:--"
     ]
    },
    {
     "name": "stdout",
     "output_type": "stream",
     "text": [
      "pattern\n",
      "a = 0.0542660, c = 0.55, alpha = 0.01000\n"
     ]
    },
    {
     "name": "stderr",
     "output_type": "stream",
     "text": [
      "\r",
      "                                                                                                   \r",
      "\r",
      " 30% ( 30 of 100) |#############                              | Elapsed Time: 2:27:10 ETA: --:--:--"
     ]
    },
    {
     "name": "stdout",
     "output_type": "stream",
     "text": [
      "pattern\n",
      "a = 0.0542889, c = 0.57, alpha = 0.01000\n"
     ]
    },
    {
     "name": "stderr",
     "output_type": "stream",
     "text": [
      "\r",
      "                                                                                                   \r",
      "\r",
      " 30% ( 30 of 100) |#############                              | Elapsed Time: 2:27:35 ETA: --:--:--"
     ]
    },
    {
     "name": "stdout",
     "output_type": "stream",
     "text": [
      "pattern\n",
      "a = 0.0543103, c = 0.59, alpha = 0.01000\n"
     ]
    },
    {
     "name": "stderr",
     "output_type": "stream",
     "text": [
      "\r",
      "                                                                                                   \r",
      "\r",
      " 30% ( 30 of 100) |#############                              | Elapsed Time: 2:28:03 ETA: --:--:--"
     ]
    },
    {
     "name": "stdout",
     "output_type": "stream",
     "text": [
      "pattern\n",
      "a = 0.0543308, c = 0.61, alpha = 0.01000\n"
     ]
    },
    {
     "name": "stderr",
     "output_type": "stream",
     "text": [
      "\r",
      "                                                                                                   \r",
      "\r",
      " 30% ( 30 of 100) |#############                              | Elapsed Time: 2:28:28 ETA: --:--:--"
     ]
    },
    {
     "name": "stdout",
     "output_type": "stream",
     "text": [
      "pattern\n",
      "a = 0.0543499, c = 0.63, alpha = 0.01000\n"
     ]
    },
    {
     "name": "stderr",
     "output_type": "stream",
     "text": [
      "\r",
      "                                                                                                   \r",
      "\r",
      " 30% ( 30 of 100) |#############                              | Elapsed Time: 2:28:52 ETA: --:--:--"
     ]
    },
    {
     "name": "stdout",
     "output_type": "stream",
     "text": [
      "pattern\n",
      "a = 0.0543690, c = 0.65, alpha = 0.01000\n"
     ]
    },
    {
     "name": "stderr",
     "output_type": "stream",
     "text": [
      "\r",
      "                                                                                                   \r",
      "\r",
      " 30% ( 30 of 100) |#############                              | Elapsed Time: 2:29:17 ETA: --:--:--"
     ]
    },
    {
     "name": "stdout",
     "output_type": "stream",
     "text": [
      "pattern\n",
      "a = 0.0543861, c = 0.67, alpha = 0.01000\n"
     ]
    },
    {
     "name": "stderr",
     "output_type": "stream",
     "text": [
      "\r",
      "                                                                                                   \r",
      "\r",
      " 30% ( 30 of 100) |#############                              | Elapsed Time: 2:29:40 ETA: --:--:--"
     ]
    },
    {
     "name": "stdout",
     "output_type": "stream",
     "text": [
      "pattern\n",
      "a = 0.0544033, c = 0.69, alpha = 0.01000\n"
     ]
    },
    {
     "name": "stderr",
     "output_type": "stream",
     "text": [
      "\r",
      "                                                                                                   \r",
      "\r",
      " 30% ( 30 of 100) |#############                              | Elapsed Time: 2:30:05 ETA: --:--:--"
     ]
    },
    {
     "name": "stdout",
     "output_type": "stream",
     "text": [
      "pattern\n",
      "a = 0.0544190, c = 0.71, alpha = 0.01000\n"
     ]
    },
    {
     "name": "stderr",
     "output_type": "stream",
     "text": [
      "\r",
      "                                                                                                   \r",
      "\r",
      " 30% ( 30 of 100) |#############                              | Elapsed Time: 2:30:32 ETA: --:--:--"
     ]
    },
    {
     "name": "stdout",
     "output_type": "stream",
     "text": [
      "pattern\n",
      "a = 0.0544348, c = 0.73, alpha = 0.01000\n"
     ]
    },
    {
     "name": "stderr",
     "output_type": "stream",
     "text": [
      "\r",
      "                                                                                                   \r",
      "\r",
      " 30% ( 30 of 100) |#############                              | Elapsed Time: 2:30:57 ETA: --:--:--"
     ]
    },
    {
     "name": "stdout",
     "output_type": "stream",
     "text": [
      "pattern\n",
      "a = 0.0544491, c = 0.75, alpha = 0.01000\n"
     ]
    },
    {
     "name": "stderr",
     "output_type": "stream",
     "text": [
      "\r",
      "                                                                                                   \r",
      "\r",
      " 30% ( 30 of 100) |#############                              | Elapsed Time: 2:31:22 ETA: --:--:--"
     ]
    },
    {
     "name": "stdout",
     "output_type": "stream",
     "text": [
      "pattern\n",
      "a = 0.0544634, c = 0.77, alpha = 0.01000\n"
     ]
    },
    {
     "name": "stderr",
     "output_type": "stream",
     "text": [
      "\r",
      "                                                                                                   \r",
      "\r",
      " 30% ( 30 of 100) |#############                              | Elapsed Time: 2:31:49 ETA: --:--:--"
     ]
    },
    {
     "name": "stdout",
     "output_type": "stream",
     "text": [
      "pattern\n",
      "a = 0.0544767, c = 0.79, alpha = 0.01000\n"
     ]
    },
    {
     "name": "stderr",
     "output_type": "stream",
     "text": [
      "\r",
      "                                                                                                   \r",
      "\r",
      " 30% ( 30 of 100) |#############                              | Elapsed Time: 2:32:15 ETA: --:--:--"
     ]
    },
    {
     "name": "stdout",
     "output_type": "stream",
     "text": [
      "pattern\n",
      "a = 0.0544896, c = 0.81, alpha = 0.01000\n"
     ]
    },
    {
     "name": "stderr",
     "output_type": "stream",
     "text": [
      "\r",
      "                                                                                                   \r",
      "\r",
      " 30% ( 30 of 100) |#############                              | Elapsed Time: 2:32:44 ETA: --:--:--"
     ]
    },
    {
     "name": "stdout",
     "output_type": "stream",
     "text": [
      "pattern\n",
      "a = 0.0545020, c = 0.83, alpha = 0.01000\n"
     ]
    },
    {
     "name": "stderr",
     "output_type": "stream",
     "text": [
      "\r",
      "                                                                                                   \r",
      "\r",
      " 30% ( 30 of 100) |#############                              | Elapsed Time: 2:33:11 ETA: --:--:--"
     ]
    },
    {
     "name": "stdout",
     "output_type": "stream",
     "text": [
      "pattern\n",
      "a = 0.0545139, c = 0.85, alpha = 0.01000\n"
     ]
    },
    {
     "name": "stderr",
     "output_type": "stream",
     "text": [
      "\r",
      "                                                                                                   \r",
      "\r",
      " 30% ( 30 of 100) |#############                              | Elapsed Time: 2:33:35 ETA: --:--:--"
     ]
    },
    {
     "name": "stdout",
     "output_type": "stream",
     "text": [
      "pattern\n",
      "a = 0.0545254, c = 0.87, alpha = 0.01000\n"
     ]
    },
    {
     "name": "stderr",
     "output_type": "stream",
     "text": [
      "\r",
      "                                                                                                   \r",
      "\r",
      " 30% ( 30 of 100) |#############                              | Elapsed Time: 2:33:59 ETA: --:--:--"
     ]
    },
    {
     "name": "stdout",
     "output_type": "stream",
     "text": [
      "pattern\n",
      "a = 0.0545363, c = 0.89, alpha = 0.01000\n"
     ]
    },
    {
     "name": "stderr",
     "output_type": "stream",
     "text": [
      "\r",
      "                                                                                                   \r",
      "\r",
      " 30% ( 30 of 100) |#############                              | Elapsed Time: 2:34:27 ETA: --:--:--"
     ]
    },
    {
     "name": "stdout",
     "output_type": "stream",
     "text": [
      "pattern\n",
      "a = 0.0545473, c = 0.91, alpha = 0.01000\n"
     ]
    },
    {
     "name": "stderr",
     "output_type": "stream",
     "text": [
      "\r",
      "                                                                                                   \r",
      "\r",
      " 30% ( 30 of 100) |#############                              | Elapsed Time: 2:34:53 ETA: --:--:--"
     ]
    },
    {
     "name": "stdout",
     "output_type": "stream",
     "text": [
      "pattern\n",
      "a = 0.0545573, c = 0.93, alpha = 0.01000\n"
     ]
    },
    {
     "name": "stderr",
     "output_type": "stream",
     "text": [
      "\r",
      "                                                                                                   \r",
      "\r",
      " 30% ( 30 of 100) |#############                              | Elapsed Time: 2:35:19 ETA: --:--:--"
     ]
    },
    {
     "name": "stdout",
     "output_type": "stream",
     "text": [
      "pattern\n",
      "a = 0.0545673, c = 0.95, alpha = 0.01000\n"
     ]
    },
    {
     "name": "stderr",
     "output_type": "stream",
     "text": [
      "\r",
      "                                                                                                   \r",
      "\r",
      " 30% ( 30 of 100) |#############                              | Elapsed Time: 2:35:44 ETA: --:--:--"
     ]
    },
    {
     "name": "stdout",
     "output_type": "stream",
     "text": [
      "pattern\n",
      "a = 0.0545769, c = 0.97, alpha = 0.01000\n"
     ]
    },
    {
     "name": "stderr",
     "output_type": "stream",
     "text": [
      "\r",
      "                                                                                                   \r",
      "\r",
      " 30% ( 30 of 100) |#############                              | Elapsed Time: 2:36:07 ETA: --:--:--"
     ]
    },
    {
     "name": "stdout",
     "output_type": "stream",
     "text": [
      "pattern\n",
      "a = 0.0545855, c = 0.99, alpha = 0.01000\n"
     ]
    },
    {
     "name": "stderr",
     "output_type": "stream",
     "text": [
      "\r",
      "                                                                                                   \r",
      "\r",
      " 30% ( 30 of 100) |#############                              | Elapsed Time: 2:36:33 ETA: --:--:--"
     ]
    },
    {
     "name": "stdout",
     "output_type": "stream",
     "text": [
      "pattern\n",
      "a = 0.0545945, c = 1.01, alpha = 0.01000\n"
     ]
    },
    {
     "name": "stderr",
     "output_type": "stream",
     "text": [
      "\r",
      "                                                                                                   \r",
      "\r",
      " 30% ( 30 of 100) |#############                              | Elapsed Time: 2:37:00 ETA: --:--:--"
     ]
    },
    {
     "name": "stdout",
     "output_type": "stream",
     "text": [
      "pattern\n",
      "a = 0.0546031, c = 1.03, alpha = 0.01000\n"
     ]
    },
    {
     "name": "stderr",
     "output_type": "stream",
     "text": [
      "\r",
      "                                                                                                   \r",
      "\r",
      " 30% ( 30 of 100) |#############                              | Elapsed Time: 2:37:27 ETA: --:--:--"
     ]
    },
    {
     "name": "stdout",
     "output_type": "stream",
     "text": [
      "pattern\n",
      "a = 0.0546112, c = 1.05, alpha = 0.01000\n"
     ]
    },
    {
     "name": "stderr",
     "output_type": "stream",
     "text": [
      "\r",
      "                                                                                                   \r",
      "\r",
      " 30% ( 30 of 100) |#############                              | Elapsed Time: 2:37:46 ETA: --:--:--"
     ]
    },
    {
     "name": "stdout",
     "output_type": "stream",
     "text": [
      "pattern\n",
      "a = 0.0546193, c = 1.07, alpha = 0.01000\n"
     ]
    },
    {
     "name": "stderr",
     "output_type": "stream",
     "text": [
      "\r",
      "                                                                                                   \r",
      "\r",
      " 30% ( 30 of 100) |#############                              | Elapsed Time: 2:38:13 ETA: --:--:--"
     ]
    },
    {
     "name": "stdout",
     "output_type": "stream",
     "text": [
      "pattern\n",
      "a = 0.0546269, c = 1.09, alpha = 0.01000\n"
     ]
    },
    {
     "name": "stderr",
     "output_type": "stream",
     "text": [
      "\r",
      "                                                                                                   \r",
      "\r",
      " 30% ( 30 of 100) |#############                              | Elapsed Time: 2:38:42 ETA: --:--:--"
     ]
    },
    {
     "name": "stdout",
     "output_type": "stream",
     "text": [
      "pattern\n",
      "a = 0.0546346, c = 1.11, alpha = 0.01000\n"
     ]
    },
    {
     "name": "stderr",
     "output_type": "stream",
     "text": [
      "\r",
      "                                                                                                   \r",
      "\r",
      " 30% ( 30 of 100) |#############                              | Elapsed Time: 2:39:10 ETA: --:--:--"
     ]
    },
    {
     "name": "stdout",
     "output_type": "stream",
     "text": [
      "pattern\n",
      "a = 0.0546417, c = 1.13, alpha = 0.01000\n"
     ]
    },
    {
     "name": "stderr",
     "output_type": "stream",
     "text": [
      "\r",
      "                                                                                                   \r",
      "\r",
      " 30% ( 30 of 100) |#############                              | Elapsed Time: 2:39:29 ETA: --:--:--"
     ]
    },
    {
     "name": "stdout",
     "output_type": "stream",
     "text": [
      "pattern\n",
      "a = 0.0546489, c = 1.15, alpha = 0.01000\n"
     ]
    },
    {
     "name": "stderr",
     "output_type": "stream",
     "text": [
      "\r",
      "                                                                                                   \r",
      "\r",
      " 30% ( 30 of 100) |#############                              | Elapsed Time: 2:39:55 ETA: --:--:--"
     ]
    },
    {
     "name": "stdout",
     "output_type": "stream",
     "text": [
      "pattern\n",
      "a = 0.0546556, c = 1.17, alpha = 0.01000\n"
     ]
    },
    {
     "name": "stderr",
     "output_type": "stream",
     "text": [
      "\r",
      "                                                                                                   \r",
      "\r",
      " 30% ( 30 of 100) |#############                              | Elapsed Time: 2:40:21 ETA: --:--:--"
     ]
    },
    {
     "name": "stdout",
     "output_type": "stream",
     "text": [
      "pattern\n",
      "a = 0.0546618, c = 1.19, alpha = 0.01000\n"
     ]
    },
    {
     "name": "stderr",
     "output_type": "stream",
     "text": [
      "\r",
      "                                                                                                   \r",
      "\r",
      " 30% ( 30 of 100) |#############                              | Elapsed Time: 2:40:46 ETA: --:--:--"
     ]
    },
    {
     "name": "stdout",
     "output_type": "stream",
     "text": [
      "pattern\n",
      "a = 0.0546684, c = 1.21, alpha = 0.01000\n"
     ]
    },
    {
     "name": "stderr",
     "output_type": "stream",
     "text": [
      "\r",
      "                                                                                                   \r",
      "\r",
      " 30% ( 30 of 100) |#############                              | Elapsed Time: 2:41:08 ETA: --:--:--"
     ]
    },
    {
     "name": "stdout",
     "output_type": "stream",
     "text": [
      "pattern\n",
      "a = 0.0546746, c = 1.23, alpha = 0.01000\n"
     ]
    },
    {
     "name": "stderr",
     "output_type": "stream",
     "text": [
      "\r",
      "                                                                                                   \r",
      "\r",
      " 30% ( 30 of 100) |#############                              | Elapsed Time: 2:41:35 ETA: --:--:--"
     ]
    },
    {
     "name": "stdout",
     "output_type": "stream",
     "text": [
      "pattern\n",
      "a = 0.0546803, c = 1.25, alpha = 0.01000\n"
     ]
    },
    {
     "name": "stderr",
     "output_type": "stream",
     "text": [
      "\r",
      "                                                                                                   \r",
      "\r",
      " 30% ( 30 of 100) |#############                              | Elapsed Time: 2:42:01 ETA: --:--:--"
     ]
    },
    {
     "name": "stdout",
     "output_type": "stream",
     "text": [
      "pattern\n",
      "a = 0.0546865, c = 1.27, alpha = 0.01000\n"
     ]
    },
    {
     "name": "stderr",
     "output_type": "stream",
     "text": [
      "\r",
      "                                                                                                   \r",
      "\r",
      " 30% ( 30 of 100) |#############                              | Elapsed Time: 2:42:25 ETA: --:--:--"
     ]
    },
    {
     "name": "stdout",
     "output_type": "stream",
     "text": [
      "pattern\n",
      "a = 0.0546918, c = 1.29, alpha = 0.01000\n"
     ]
    },
    {
     "name": "stderr",
     "output_type": "stream",
     "text": [
      "\r",
      "                                                                                                   \r",
      "\r",
      " 30% ( 30 of 100) |#############                              | Elapsed Time: 2:42:57 ETA: --:--:--"
     ]
    },
    {
     "name": "stdout",
     "output_type": "stream",
     "text": [
      "pattern\n",
      "a = 0.0546975, c = 1.31, alpha = 0.01000\n"
     ]
    },
    {
     "name": "stderr",
     "output_type": "stream",
     "text": [
      "\r",
      "                                                                                                   \r",
      "\r",
      " 30% ( 30 of 100) |#############                              | Elapsed Time: 2:43:28 ETA: --:--:--"
     ]
    },
    {
     "name": "stdout",
     "output_type": "stream",
     "text": [
      "pattern\n",
      "a = 0.0547028, c = 1.33, alpha = 0.01000\n"
     ]
    },
    {
     "name": "stderr",
     "output_type": "stream",
     "text": [
      "\r",
      "                                                                                                   \r",
      "\r",
      " 30% ( 30 of 100) |#############                              | Elapsed Time: 2:43:51 ETA: --:--:--"
     ]
    },
    {
     "name": "stdout",
     "output_type": "stream",
     "text": [
      "pattern\n",
      "a = 0.0547075, c = 1.35, alpha = 0.01000\n"
     ]
    },
    {
     "name": "stderr",
     "output_type": "stream",
     "text": [
      "\r",
      "                                                                                                   \r",
      "\r",
      " 30% ( 30 of 100) |#############                              | Elapsed Time: 2:44:20 ETA: --:--:--"
     ]
    },
    {
     "name": "stdout",
     "output_type": "stream",
     "text": [
      "pattern\n",
      "a = 0.0547128, c = 1.37, alpha = 0.01000\n"
     ]
    },
    {
     "name": "stderr",
     "output_type": "stream",
     "text": [
      "\r",
      "                                                                                                   \r",
      "\r",
      " 30% ( 30 of 100) |#############                              | Elapsed Time: 2:44:50 ETA: --:--:--"
     ]
    },
    {
     "name": "stdout",
     "output_type": "stream",
     "text": [
      "pattern\n",
      "a = 0.0547175, c = 1.39, alpha = 0.01000\n"
     ]
    },
    {
     "name": "stderr",
     "output_type": "stream",
     "text": [
      "\r",
      "                                                                                                   \r",
      "\r",
      " 30% ( 30 of 100) |#############                              | Elapsed Time: 2:45:19 ETA: --:--:--"
     ]
    },
    {
     "name": "stdout",
     "output_type": "stream",
     "text": [
      "pattern\n",
      "a = 0.0547223, c = 1.41, alpha = 0.01000\n"
     ]
    },
    {
     "name": "stderr",
     "output_type": "stream",
     "text": [
      "\r",
      "                                                                                                   \r",
      "\r",
      " 30% ( 30 of 100) |#############                              | Elapsed Time: 2:45:50 ETA: --:--:--"
     ]
    },
    {
     "name": "stdout",
     "output_type": "stream",
     "text": [
      "pattern\n",
      "a = 0.0547271, c = 1.43, alpha = 0.01000\n"
     ]
    },
    {
     "name": "stderr",
     "output_type": "stream",
     "text": [
      "\r",
      "                                                                                                   \r",
      "\r",
      " 30% ( 30 of 100) |#############                              | Elapsed Time: 2:46:20 ETA: --:--:--"
     ]
    },
    {
     "name": "stdout",
     "output_type": "stream",
     "text": [
      "pattern\n",
      "a = 0.0547314, c = 1.45, alpha = 0.01000\n"
     ]
    },
    {
     "name": "stderr",
     "output_type": "stream",
     "text": [
      "\r",
      "                                                                                                   \r",
      "\r",
      " 30% ( 30 of 100) |#############                              | Elapsed Time: 2:46:46 ETA: --:--:--"
     ]
    },
    {
     "name": "stdout",
     "output_type": "stream",
     "text": [
      "pattern\n",
      "a = 0.0547357, c = 1.47, alpha = 0.01000\n"
     ]
    },
    {
     "name": "stderr",
     "output_type": "stream",
     "text": [
      "\r",
      "                                                                                                   \r",
      "\r",
      " 30% ( 30 of 100) |#############                              | Elapsed Time: 2:47:17 ETA: --:--:--"
     ]
    },
    {
     "name": "stdout",
     "output_type": "stream",
     "text": [
      "pattern\n",
      "a = 0.0547400, c = 1.49, alpha = 0.01000\n"
     ]
    },
    {
     "name": "stderr",
     "output_type": "stream",
     "text": [
      "\r",
      "                                                                                                   \r",
      "\r",
      " 30% ( 30 of 100) |#############                              | Elapsed Time: 2:47:45 ETA: --:--:--"
     ]
    },
    {
     "name": "stdout",
     "output_type": "stream",
     "text": [
      "pattern\n",
      "a = 0.0547438, c = 1.51, alpha = 0.01000\n"
     ]
    },
    {
     "name": "stderr",
     "output_type": "stream",
     "text": [
      "\r",
      "                                                                                                   \r",
      "\r",
      " 30% ( 30 of 100) |#############                              | Elapsed Time: 2:48:12 ETA: --:--:--"
     ]
    },
    {
     "name": "stdout",
     "output_type": "stream",
     "text": [
      "pattern\n",
      "a = 0.0547481, c = 1.53, alpha = 0.01000\n"
     ]
    },
    {
     "name": "stderr",
     "output_type": "stream",
     "text": [
      "\r",
      "                                                                                                   \r",
      "\r",
      " 30% ( 30 of 100) |#############                              | Elapsed Time: 2:48:41 ETA: --:--:--"
     ]
    },
    {
     "name": "stdout",
     "output_type": "stream",
     "text": [
      "pattern\n",
      "a = 0.0547519, c = 1.55, alpha = 0.01000\n"
     ]
    },
    {
     "name": "stderr",
     "output_type": "stream",
     "text": [
      "\r",
      "                                                                                                   \r",
      "\r",
      " 30% ( 30 of 100) |#############                              | Elapsed Time: 2:49:11 ETA: --:--:--"
     ]
    },
    {
     "name": "stdout",
     "output_type": "stream",
     "text": [
      "pattern\n",
      "a = 0.0547557, c = 1.57, alpha = 0.01000\n"
     ]
    },
    {
     "name": "stderr",
     "output_type": "stream",
     "text": [
      "\r",
      "                                                                                                   \r",
      "\r",
      " 30% ( 30 of 100) |#############                              | Elapsed Time: 2:49:41 ETA: --:--:--"
     ]
    },
    {
     "name": "stdout",
     "output_type": "stream",
     "text": [
      "pattern\n",
      "a = 0.0547590, c = 1.59, alpha = 0.01000\n"
     ]
    },
    {
     "name": "stderr",
     "output_type": "stream",
     "text": [
      "\r",
      "                                                                                                   \r",
      "\r",
      " 30% ( 30 of 100) |#############                              | Elapsed Time: 2:50:09 ETA: --:--:--"
     ]
    },
    {
     "name": "stdout",
     "output_type": "stream",
     "text": [
      "pattern\n",
      "a = 0.0547628, c = 1.61, alpha = 0.01000\n"
     ]
    },
    {
     "name": "stderr",
     "output_type": "stream",
     "text": [
      "\r",
      "                                                                                                   \r",
      "\r",
      " 30% ( 30 of 100) |#############                              | Elapsed Time: 2:50:37 ETA: --:--:--"
     ]
    },
    {
     "name": "stdout",
     "output_type": "stream",
     "text": [
      "pattern\n",
      "a = 0.0547662, c = 1.63, alpha = 0.01000\n"
     ]
    },
    {
     "name": "stderr",
     "output_type": "stream",
     "text": [
      "\r",
      "                                                                                                   \r",
      "\r",
      " 30% ( 30 of 100) |#############                              | Elapsed Time: 2:51:07 ETA: --:--:--"
     ]
    },
    {
     "name": "stdout",
     "output_type": "stream",
     "text": [
      "pattern\n",
      "a = 0.0547695, c = 1.65, alpha = 0.01000\n"
     ]
    },
    {
     "name": "stderr",
     "output_type": "stream",
     "text": [
      "\r",
      "                                                                                                   \r",
      "\r",
      " 30% ( 30 of 100) |#############                              | Elapsed Time: 2:51:34 ETA: --:--:--"
     ]
    },
    {
     "name": "stdout",
     "output_type": "stream",
     "text": [
      "pattern\n",
      "a = 0.0547729, c = 1.67, alpha = 0.01000\n"
     ]
    },
    {
     "name": "stderr",
     "output_type": "stream",
     "text": [
      "\r",
      "                                                                                                   \r",
      "\r",
      " 30% ( 30 of 100) |#############                              | Elapsed Time: 2:52:04 ETA: --:--:--"
     ]
    },
    {
     "name": "stdout",
     "output_type": "stream",
     "text": [
      "pattern\n",
      "a = 0.0547762, c = 1.69, alpha = 0.01000\n"
     ]
    },
    {
     "name": "stderr",
     "output_type": "stream",
     "text": [
      "\r",
      "                                                                                                   \r",
      "\r",
      " 30% ( 30 of 100) |#############                              | Elapsed Time: 2:52:32 ETA: --:--:--"
     ]
    },
    {
     "name": "stdout",
     "output_type": "stream",
     "text": [
      "pattern\n",
      "a = 0.0547795, c = 1.71, alpha = 0.01000\n"
     ]
    },
    {
     "name": "stderr",
     "output_type": "stream",
     "text": [
      "\r",
      "                                                                                                   \r",
      "\r",
      " 30% ( 30 of 100) |#############                              | Elapsed Time: 2:53:02 ETA: --:--:--"
     ]
    },
    {
     "name": "stdout",
     "output_type": "stream",
     "text": [
      "pattern\n",
      "a = 0.0547824, c = 1.73, alpha = 0.01000\n"
     ]
    },
    {
     "name": "stderr",
     "output_type": "stream",
     "text": [
      "\r",
      "                                                                                                   \r",
      "\r",
      " 30% ( 30 of 100) |#############                              | Elapsed Time: 2:53:32 ETA: --:--:--"
     ]
    },
    {
     "name": "stdout",
     "output_type": "stream",
     "text": [
      "pattern\n",
      "a = 0.0547853, c = 1.75, alpha = 0.01000\n"
     ]
    },
    {
     "name": "stderr",
     "output_type": "stream",
     "text": [
      "\r",
      "                                                                                                   \r",
      "\r",
      " 30% ( 30 of 100) |#############                              | Elapsed Time: 2:54:02 ETA: --:--:--"
     ]
    },
    {
     "name": "stdout",
     "output_type": "stream",
     "text": [
      "pattern\n",
      "a = 0.0547881, c = 1.77, alpha = 0.01000\n"
     ]
    },
    {
     "name": "stderr",
     "output_type": "stream",
     "text": [
      "\r",
      "                                                                                                   \r",
      "\r",
      " 30% ( 30 of 100) |#############                              | Elapsed Time: 2:54:31 ETA: --:--:--"
     ]
    },
    {
     "name": "stdout",
     "output_type": "stream",
     "text": [
      "pattern\n",
      "a = 0.0547910, c = 1.79, alpha = 0.01000\n"
     ]
    },
    {
     "name": "stderr",
     "output_type": "stream",
     "text": [
      "\r",
      "                                                                                                   \r",
      "\r",
      " 30% ( 30 of 100) |#############                              | Elapsed Time: 2:55:01 ETA: --:--:--"
     ]
    },
    {
     "name": "stdout",
     "output_type": "stream",
     "text": [
      "pattern\n",
      "a = 0.0547938, c = 1.81, alpha = 0.01000\n"
     ]
    },
    {
     "name": "stderr",
     "output_type": "stream",
     "text": [
      "\r",
      "                                                                                                   \r",
      "\r",
      " 30% ( 30 of 100) |#############                              | Elapsed Time: 2:55:30 ETA: --:--:--"
     ]
    },
    {
     "name": "stdout",
     "output_type": "stream",
     "text": [
      "pattern\n",
      "a = 0.0547962, c = 1.83, alpha = 0.01000\n"
     ]
    },
    {
     "name": "stderr",
     "output_type": "stream",
     "text": [
      "\r",
      "                                                                                                   \r",
      "\r",
      " 30% ( 30 of 100) |#############                              | Elapsed Time: 2:55:56 ETA: --:--:--"
     ]
    },
    {
     "name": "stdout",
     "output_type": "stream",
     "text": [
      "pattern\n",
      "a = 0.0547991, c = 1.85, alpha = 0.01000\n"
     ]
    },
    {
     "name": "stderr",
     "output_type": "stream",
     "text": [
      "\r",
      "                                                                                                   \r",
      "\r",
      " 30% ( 30 of 100) |#############                              | Elapsed Time: 2:56:24 ETA: --:--:--"
     ]
    },
    {
     "name": "stdout",
     "output_type": "stream",
     "text": [
      "pattern\n",
      "a = 0.0548015, c = 1.87, alpha = 0.01000\n"
     ]
    },
    {
     "name": "stderr",
     "output_type": "stream",
     "text": [
      "\r",
      "                                                                                                   \r",
      "\r",
      " 30% ( 30 of 100) |#############                              | Elapsed Time: 2:56:53 ETA: --:--:--"
     ]
    },
    {
     "name": "stdout",
     "output_type": "stream",
     "text": [
      "pattern\n",
      "a = 0.0548038, c = 1.89, alpha = 0.01000\n"
     ]
    },
    {
     "name": "stderr",
     "output_type": "stream",
     "text": [
      "\r",
      "                                                                                                   \r",
      "\r",
      " 30% ( 30 of 100) |#############                              | Elapsed Time: 2:57:19 ETA: --:--:--"
     ]
    },
    {
     "name": "stdout",
     "output_type": "stream",
     "text": [
      "pattern\n",
      "a = 0.0548067, c = 1.91, alpha = 0.01000\n"
     ]
    },
    {
     "name": "stderr",
     "output_type": "stream",
     "text": [
      "\r",
      "                                                                                                   \r",
      "\r",
      " 30% ( 30 of 100) |#############                              | Elapsed Time: 2:57:46 ETA: --:--:--"
     ]
    },
    {
     "name": "stdout",
     "output_type": "stream",
     "text": [
      "pattern\n",
      "a = 0.0548086, c = 1.93, alpha = 0.01000\n"
     ]
    },
    {
     "name": "stderr",
     "output_type": "stream",
     "text": [
      "\r",
      "                                                                                                   \r",
      "\r",
      " 30% ( 30 of 100) |#############                              | Elapsed Time: 2:58:13 ETA: --:--:--"
     ]
    },
    {
     "name": "stdout",
     "output_type": "stream",
     "text": [
      "pattern\n",
      "a = 0.0548110, c = 1.95, alpha = 0.01000\n"
     ]
    },
    {
     "name": "stderr",
     "output_type": "stream",
     "text": [
      "\r",
      "                                                                                                   \r",
      "\r",
      " 30% ( 30 of 100) |#############                              | Elapsed Time: 2:58:44 ETA: --:--:--"
     ]
    },
    {
     "name": "stdout",
     "output_type": "stream",
     "text": [
      "pattern\n",
      "a = 0.0548134, c = 1.97, alpha = 0.01000\n"
     ]
    },
    {
     "name": "stderr",
     "output_type": "stream",
     "text": [
      "\r",
      "                                                                                                   \r",
      "\r",
      " 30% ( 30 of 100) |#############                              | Elapsed Time: 2:59:09 ETA: --:--:--"
     ]
    },
    {
     "name": "stdout",
     "output_type": "stream",
     "text": [
      "pattern\n",
      "a = 0.0548158, c = 1.99, alpha = 0.01000\n"
     ]
    },
    {
     "name": "stderr",
     "output_type": "stream",
     "text": [
      "\r",
      "                                                                                                   \r",
      "\r",
      " 30% ( 30 of 100) |#############                              | Elapsed Time: 2:59:40 ETA: --:--:--"
     ]
    },
    {
     "name": "stdout",
     "output_type": "stream",
     "text": [
      "pattern\n",
      "a = 0.0548177, c = 2.01, alpha = 0.01000\n"
     ]
    },
    {
     "name": "stderr",
     "output_type": "stream",
     "text": [
      "\r",
      "                                                                                                   \r",
      "\r",
      " 30% ( 30 of 100) |#############                              | Elapsed Time: 3:00:11 ETA: --:--:--"
     ]
    },
    {
     "name": "stdout",
     "output_type": "stream",
     "text": [
      "pattern\n",
      "a = 0.0548201, c = 2.03, alpha = 0.01000\n"
     ]
    },
    {
     "name": "stderr",
     "output_type": "stream",
     "text": [
      "\r",
      "                                                                                                   \r",
      "\r",
      " 30% ( 30 of 100) |#############                              | Elapsed Time: 3:00:39 ETA: --:--:--"
     ]
    },
    {
     "name": "stdout",
     "output_type": "stream",
     "text": [
      "pattern\n",
      "a = 0.0548220, c = 2.05, alpha = 0.01000\n"
     ]
    },
    {
     "name": "stderr",
     "output_type": "stream",
     "text": [
      "\r",
      "                                                                                                   \r",
      "\r",
      " 30% ( 30 of 100) |#############                              | Elapsed Time: 3:01:07 ETA: --:--:--"
     ]
    },
    {
     "name": "stdout",
     "output_type": "stream",
     "text": [
      "pattern\n",
      "a = 0.0548239, c = 2.07, alpha = 0.01000\n"
     ]
    },
    {
     "name": "stderr",
     "output_type": "stream",
     "text": [
      "\r",
      "                                                                                                   \r",
      "\r",
      " 30% ( 30 of 100) |#############                              | Elapsed Time: 3:01:35 ETA: --:--:--"
     ]
    },
    {
     "name": "stdout",
     "output_type": "stream",
     "text": [
      "pattern\n",
      "a = 0.0548258, c = 2.09, alpha = 0.01000\n",
      "[  4.76837158e-07   4.76837158e-07   4.76837158e-07   4.76837158e-07\n",
      "   0.00000000e+00   0.00000000e+00   0.00000000e+00   0.00000000e+00\n",
      "   0.00000000e+00   0.00000000e+00   0.00000000e+00   0.00000000e+00\n",
      "   0.00000000e+00   0.00000000e+00   0.00000000e+00   0.00000000e+00\n",
      "   0.00000000e+00   0.00000000e+00   0.00000000e+00   0.00000000e+00\n",
      "   0.00000000e+00   0.00000000e+00   0.00000000e+00   0.00000000e+00\n",
      "   0.00000000e+00   0.00000000e+00   0.00000000e+00   0.00000000e+00\n",
      "   0.00000000e+00   0.00000000e+00   0.00000000e+00   0.00000000e+00\n",
      "   0.00000000e+00   0.00000000e+00   0.00000000e+00   0.00000000e+00\n",
      "   0.00000000e+00   0.00000000e+00   0.00000000e+00   0.00000000e+00\n",
      "   0.00000000e+00   0.00000000e+00   0.00000000e+00   0.00000000e+00\n",
      "   0.00000000e+00   0.00000000e+00   0.00000000e+00   0.00000000e+00\n",
      "   0.00000000e+00   0.00000000e+00   0.00000000e+00   0.00000000e+00\n",
      "   0.00000000e+00   0.00000000e+00   0.00000000e+00   0.00000000e+00\n",
      "   0.00000000e+00   0.00000000e+00   0.00000000e+00   0.00000000e+00\n",
      "   0.00000000e+00   0.00000000e+00   0.00000000e+00   0.00000000e+00\n",
      "   0.00000000e+00   0.00000000e+00   0.00000000e+00   0.00000000e+00\n",
      "   0.00000000e+00   0.00000000e+00   0.00000000e+00   0.00000000e+00\n",
      "   0.00000000e+00   0.00000000e+00   0.00000000e+00   0.00000000e+00\n",
      "   0.00000000e+00   0.00000000e+00   0.00000000e+00   0.00000000e+00\n",
      "   0.00000000e+00   0.00000000e+00   0.00000000e+00   0.00000000e+00\n",
      "   0.00000000e+00   0.00000000e+00   0.00000000e+00   0.00000000e+00\n",
      "   0.00000000e+00   0.00000000e+00   0.00000000e+00   0.00000000e+00\n",
      "   0.00000000e+00   0.00000000e+00   0.00000000e+00   0.00000000e+00\n",
      "   0.00000000e+00   0.00000000e+00   0.00000000e+00   0.00000000e+00\n",
      "   0.00000000e+00   0.00000000e+00   0.00000000e+00   0.00000000e+00\n",
      "   0.00000000e+00]\n"
     ]
    },
    {
     "name": "stderr",
     "output_type": "stream",
     "text": [
      " 40% ( 40 of 100) |#################                           | Elapsed Time: 3:03:02 ETA: 0:20:02"
     ]
    },
    {
     "name": "stdout",
     "output_type": "stream",
     "text": [
      "pattern\n",
      "a = 0.0139923, c = 0.09, alpha = 0.03162\n"
     ]
    },
    {
     "name": "stderr",
     "output_type": "stream",
     "text": [
      "\r",
      "                                                                                                   \r",
      "\r",
      " 40% ( 40 of 100) |#################                           | Elapsed Time: 3:03:21 ETA: 0:18:53"
     ]
    },
    {
     "name": "stdout",
     "output_type": "stream",
     "text": [
      "pattern\n",
      "a = 0.0339966, c = 0.11, alpha = 0.03162\n"
     ]
    },
    {
     "name": "stderr",
     "output_type": "stream",
     "text": [
      "\r",
      "                                                                                                   \r",
      "\r",
      " 40% ( 40 of 100) |#################                           | Elapsed Time: 3:03:40 ETA: 0:17:55"
     ]
    },
    {
     "name": "stdout",
     "output_type": "stream",
     "text": [
      "pattern\n",
      "a = 0.0502930, c = 0.13, alpha = 0.03162\n"
     ]
    },
    {
     "name": "stderr",
     "output_type": "stream",
     "text": [
      "\r",
      "                                                                                                   \r",
      "\r",
      " 40% ( 40 of 100) |#################                           | Elapsed Time: 3:03:53 ETA: 0:16:26"
     ]
    },
    {
     "name": "stdout",
     "output_type": "stream",
     "text": [
      "pattern\n",
      "a = 0.0565081, c = 0.15, alpha = 0.03162\n"
     ]
    },
    {
     "name": "stderr",
     "output_type": "stream",
     "text": [
      " 40% ( 40 of 100) |#################                           | Elapsed Time: 3:04:49 ETA: 5:42:33"
     ]
    },
    {
     "name": "stdout",
     "output_type": "stream",
     "text": [
      "pattern\n",
      "a = 0.0601130, c = 0.19, alpha = 0.03162\n"
     ]
    },
    {
     "name": "stderr",
     "output_type": "stream",
     "text": [
      "\r",
      "                                                                                                   \r",
      "\r",
      " 40% ( 40 of 100) |#################                           | Elapsed Time: 3:05:15 ETA: 7:38:55"
     ]
    },
    {
     "name": "stdout",
     "output_type": "stream",
     "text": [
      "pattern\n",
      "a = 0.0604539, c = 0.21, alpha = 0.03162\n"
     ]
    },
    {
     "name": "stderr",
     "output_type": "stream",
     "text": [
      " 40% ( 40 of 100) |##################                          | Elapsed Time: 3:07:37 ETA: 8:09:24"
     ]
    },
    {
     "name": "stdout",
     "output_type": "stream",
     "text": [
      "pattern\n",
      "a = 0.0615005, c = 0.31, alpha = 0.03162\n"
     ]
    },
    {
     "name": "stderr",
     "output_type": "stream",
     "text": [
      "\r",
      "                                                                                                   \r",
      "\r",
      " 40% ( 40 of 100) |##################                          | Elapsed Time: 3:07:57 ETA: 8:24:11"
     ]
    },
    {
     "name": "stdout",
     "output_type": "stream",
     "text": [
      "pattern\n",
      "a = 0.0616446, c = 0.33, alpha = 0.03162\n"
     ]
    },
    {
     "name": "stderr",
     "output_type": "stream",
     "text": [
      "\r",
      "                                                                                                   \r",
      "\r",
      " 40% ( 40 of 100) |##################                          | Elapsed Time: 3:08:22 ETA: 8:21:11"
     ]
    },
    {
     "name": "stdout",
     "output_type": "stream",
     "text": [
      "pattern\n",
      "a = 0.0617757, c = 0.35, alpha = 0.03162\n"
     ]
    },
    {
     "name": "stderr",
     "output_type": "stream",
     "text": [
      "\r",
      "                                                                                                   \r",
      "\r",
      " 40% ( 40 of 100) |#################                          | Elapsed Time: 3:08:51 ETA: 10:25:10"
     ]
    },
    {
     "name": "stdout",
     "output_type": "stream",
     "text": [
      "pattern\n",
      "a = 0.0618958, c = 0.37, alpha = 0.03162\n"
     ]
    },
    {
     "name": "stderr",
     "output_type": "stream",
     "text": [
      "\r",
      "                                                                                                   \r",
      "\r",
      " 40% ( 40 of 100) |#################                          | Elapsed Time: 3:09:18 ETA: 10:28:23"
     ]
    },
    {
     "name": "stdout",
     "output_type": "stream",
     "text": [
      "pattern\n",
      "a = 0.0620070, c = 0.39, alpha = 0.03162\n"
     ]
    },
    {
     "name": "stderr",
     "output_type": "stream",
     "text": [
      "\r",
      "                                                                                                   \r",
      "\r",
      " 40% ( 40 of 100) |#################                          | Elapsed Time: 3:09:42 ETA: 10:19:58"
     ]
    },
    {
     "name": "stdout",
     "output_type": "stream",
     "text": [
      "pattern\n",
      "a = 0.0621099, c = 0.41, alpha = 0.03162\n"
     ]
    },
    {
     "name": "stderr",
     "output_type": "stream",
     "text": [
      "\r",
      "                                                                                                   \r",
      "\r",
      " 40% ( 40 of 100) |#################                          | Elapsed Time: 3:10:08 ETA: 13:39:49"
     ]
    },
    {
     "name": "stdout",
     "output_type": "stream",
     "text": [
      "pattern\n",
      "a = 0.0622058, c = 0.43, alpha = 0.03162\n"
     ]
    },
    {
     "name": "stderr",
     "output_type": "stream",
     "text": [
      "\r",
      "                                                                                                   \r",
      "\r",
      " 40% ( 40 of 100) |#################                          | Elapsed Time: 3:10:34 ETA: 20:20:29"
     ]
    },
    {
     "name": "stdout",
     "output_type": "stream",
     "text": [
      "pattern\n",
      "a = 0.0622959, c = 0.45, alpha = 0.03162\n"
     ]
    },
    {
     "name": "stderr",
     "output_type": "stream",
     "text": [
      " 41% ( 41 of 100) |##############                      | Elapsed Time: 3:11:27 ETA: 1 day, 15:40:57"
     ]
    },
    {
     "name": "stdout",
     "output_type": "stream",
     "text": [
      "pattern\n",
      "a = 0.0624595, c = 0.49, alpha = 0.03162\n"
     ]
    },
    {
     "name": "stderr",
     "output_type": "stream",
     "text": [
      " 41% ( 41 of 100) |#################                          | Elapsed Time: 3:12:28 ETA: 21:07:06"
     ]
    },
    {
     "name": "stdout",
     "output_type": "stream",
     "text": [
      "pattern\n",
      "a = 0.0626054, c = 0.53, alpha = 0.03162\n"
     ]
    },
    {
     "name": "stderr",
     "output_type": "stream",
     "text": [
      "\r",
      "                                                                                                   \r",
      "\r",
      " 41% ( 41 of 100) |#################                          | Elapsed Time: 3:12:59 ETA: 21:18:42"
     ]
    },
    {
     "name": "stdout",
     "output_type": "stream",
     "text": [
      "pattern\n",
      "a = 0.0626731, c = 0.55, alpha = 0.03162\n"
     ]
    },
    {
     "name": "stderr",
     "output_type": "stream",
     "text": [
      "\r",
      "                                                                                                   \r",
      "\r",
      " 41% ( 41 of 100) |#################                          | Elapsed Time: 3:13:30 ETA: 21:37:56"
     ]
    },
    {
     "name": "stdout",
     "output_type": "stream",
     "text": [
      "pattern\n",
      "a = 0.0627370, c = 0.57, alpha = 0.03162\n"
     ]
    },
    {
     "name": "stderr",
     "output_type": "stream",
     "text": [
      "\r",
      "                                                                                                   \r",
      "\r",
      " 41% ( 41 of 100) |#################                          | Elapsed Time: 3:14:02 ETA: 22:19:16"
     ]
    },
    {
     "name": "stdout",
     "output_type": "stream",
     "text": [
      "pattern\n",
      "a = 0.0627980, c = 0.59, alpha = 0.03162\n"
     ]
    },
    {
     "name": "stderr",
     "output_type": "stream",
     "text": [
      "\r",
      "                                                                                                   \r",
      "\r",
      " 41% ( 41 of 100) |#################                          | Elapsed Time: 3:14:34 ETA: 22:50:25"
     ]
    },
    {
     "name": "stdout",
     "output_type": "stream",
     "text": [
      "pattern\n",
      "a = 0.0628562, c = 0.61, alpha = 0.03162\n"
     ]
    },
    {
     "name": "stderr",
     "output_type": "stream",
     "text": [
      "\r",
      "                                                                                                   \r",
      "\r",
      " 41% ( 41 of 100) |#################                          | Elapsed Time: 3:15:05 ETA: 23:12:34"
     ]
    },
    {
     "name": "stdout",
     "output_type": "stream",
     "text": [
      "pattern\n",
      "a = 0.0629120, c = 0.63, alpha = 0.03162\n"
     ]
    },
    {
     "name": "stderr",
     "output_type": "stream",
     "text": [
      "\r",
      "                                                                                                   \r",
      "\r",
      " 41% ( 41 of 100) |#################                          | Elapsed Time: 3:15:28 ETA: 23:09:22"
     ]
    },
    {
     "name": "stdout",
     "output_type": "stream",
     "text": [
      "pattern\n",
      "a = 0.0629654, c = 0.65, alpha = 0.03162\n"
     ]
    },
    {
     "name": "stderr",
     "output_type": "stream",
     "text": [
      "\r",
      "                                                                                                   \r",
      "\r",
      " 41% ( 41 of 100) |##############                      | Elapsed Time: 3:15:53 ETA: 1 day, 21:34:57"
     ]
    },
    {
     "name": "stdout",
     "output_type": "stream",
     "text": [
      "pattern\n",
      "a = 0.0630164, c = 0.67, alpha = 0.03162\n"
     ]
    },
    {
     "name": "stderr",
     "output_type": "stream",
     "text": [
      "\r",
      "                                                                                                   \r",
      "\r",
      " 41% ( 41 of 100) |##############                      | Elapsed Time: 3:16:24 ETA: 1 day, 22:30:25"
     ]
    },
    {
     "name": "stdout",
     "output_type": "stream",
     "text": [
      "pattern\n",
      "a = 0.0630655, c = 0.69, alpha = 0.03162\n"
     ]
    },
    {
     "name": "stderr",
     "output_type": "stream",
     "text": [
      "\r",
      "                                                                                                   \r",
      "\r",
      " 41% ( 41 of 100) |#################                          | Elapsed Time: 3:16:55 ETA: --:--:--"
     ]
    },
    {
     "name": "stdout",
     "output_type": "stream",
     "text": [
      "pattern\n",
      "a = 0.0631127, c = 0.71, alpha = 0.03162\n"
     ]
    },
    {
     "name": "stderr",
     "output_type": "stream",
     "text": [
      "\r",
      "                                                                                                   \r",
      "\r",
      " 41% ( 41 of 100) |#################                          | Elapsed Time: 3:17:28 ETA: --:--:--"
     ]
    },
    {
     "name": "stdout",
     "output_type": "stream",
     "text": [
      "pattern\n",
      "a = 0.0631580, c = 0.73, alpha = 0.03162\n"
     ]
    },
    {
     "name": "stderr",
     "output_type": "stream",
     "text": [
      "\r",
      "                                                                                                   \r",
      "\r",
      " 41% ( 41 of 100) |#################                          | Elapsed Time: 3:17:56 ETA: --:--:--"
     ]
    },
    {
     "name": "stdout",
     "output_type": "stream",
     "text": [
      "pattern\n",
      "a = 0.0632019, c = 0.75, alpha = 0.03162\n"
     ]
    },
    {
     "name": "stderr",
     "output_type": "stream",
     "text": [
      "\r",
      "                                                                                                   \r",
      "\r",
      " 41% ( 41 of 100) |#################                          | Elapsed Time: 3:18:18 ETA: --:--:--"
     ]
    },
    {
     "name": "stdout",
     "output_type": "stream",
     "text": [
      "pattern\n",
      "a = 0.0632439, c = 0.77, alpha = 0.03162\n"
     ]
    },
    {
     "name": "stderr",
     "output_type": "stream",
     "text": [
      "\r",
      "                                                                                                   \r",
      "\r",
      " 41% ( 41 of 100) |#################                          | Elapsed Time: 3:18:45 ETA: --:--:--"
     ]
    },
    {
     "name": "stdout",
     "output_type": "stream",
     "text": [
      "pattern\n",
      "a = 0.0632844, c = 0.79, alpha = 0.03162\n"
     ]
    },
    {
     "name": "stderr",
     "output_type": "stream",
     "text": [
      "\r",
      "                                                                                                   \r",
      "\r",
      " 41% ( 41 of 100) |#################                          | Elapsed Time: 3:19:16 ETA: --:--:--"
     ]
    },
    {
     "name": "stdout",
     "output_type": "stream",
     "text": [
      "pattern\n",
      "a = 0.0633240, c = 0.81, alpha = 0.03162\n"
     ]
    },
    {
     "name": "stderr",
     "output_type": "stream",
     "text": [
      " 41% ( 41 of 100) |##############                      | Elapsed Time: 3:20:09 ETA: 1 day, 19:53:28"
     ]
    },
    {
     "name": "stdout",
     "output_type": "stream",
     "text": [
      "pattern\n",
      "a = 0.0633988, c = 0.85, alpha = 0.03162\n"
     ]
    },
    {
     "name": "stderr",
     "output_type": "stream",
     "text": [
      "\r",
      "                                                                                                   \r",
      "\r",
      " 41% ( 41 of 100) |##############                      | Elapsed Time: 3:20:39 ETA: 1 day, 19:40:25"
     ]
    },
    {
     "name": "stdout",
     "output_type": "stream",
     "text": [
      "pattern\n",
      "a = 0.0634341, c = 0.87, alpha = 0.03162\n"
     ]
    },
    {
     "name": "stderr",
     "output_type": "stream",
     "text": [
      "\r",
      "                                                                                                   \r",
      "\r",
      " 41% ( 41 of 100) |##############                      | Elapsed Time: 3:21:09 ETA: 1 day, 19:34:46"
     ]
    },
    {
     "name": "stdout",
     "output_type": "stream",
     "text": [
      "pattern\n",
      "a = 0.0634689, c = 0.89, alpha = 0.03162\n"
     ]
    },
    {
     "name": "stderr",
     "output_type": "stream",
     "text": [
      "\r",
      "                                                                                                   \r",
      "\r",
      " 41% ( 41 of 100) |##############                      | Elapsed Time: 3:21:33 ETA: 1 day, 17:59:00"
     ]
    },
    {
     "name": "stdout",
     "output_type": "stream",
     "text": [
      "pattern\n",
      "a = 0.0635023, c = 0.91, alpha = 0.03162\n"
     ]
    },
    {
     "name": "stderr",
     "output_type": "stream",
     "text": [
      "\r",
      "                                                                                                   \r",
      "\r",
      " 41% ( 41 of 100) |##############                      | Elapsed Time: 3:22:03 ETA: 1 day, 18:18:19"
     ]
    },
    {
     "name": "stdout",
     "output_type": "stream",
     "text": [
      "pattern\n",
      "a = 0.0635347, c = 0.93, alpha = 0.03162\n"
     ]
    },
    {
     "name": "stderr",
     "output_type": "stream",
     "text": [
      "\r",
      "                                                                                                   \r",
      "\r",
      " 41% ( 41 of 100) |##############                      | Elapsed Time: 3:22:33 ETA: 1 day, 19:36:32"
     ]
    },
    {
     "name": "stdout",
     "output_type": "stream",
     "text": [
      "pattern\n",
      "a = 0.0635662, c = 0.95, alpha = 0.03162\n"
     ]
    },
    {
     "name": "stderr",
     "output_type": "stream",
     "text": [
      "\r",
      "                                                                                                   \r",
      "\r",
      " 41% ( 41 of 100) |##############                      | Elapsed Time: 3:23:00 ETA: 1 day, 19:42:31"
     ]
    },
    {
     "name": "stdout",
     "output_type": "stream",
     "text": [
      "pattern\n",
      "a = 0.0635967, c = 0.97, alpha = 0.03162\n"
     ]
    },
    {
     "name": "stderr",
     "output_type": "stream",
     "text": [
      "\r",
      "                                                                                                   \r",
      "\r",
      " 41% ( 41 of 100) |##############                      | Elapsed Time: 3:23:28 ETA: 1 day, 19:07:35"
     ]
    },
    {
     "name": "stdout",
     "output_type": "stream",
     "text": [
      "pattern\n",
      "a = 0.0636268, c = 0.99, alpha = 0.03162\n"
     ]
    },
    {
     "name": "stderr",
     "output_type": "stream",
     "text": [
      "\r",
      "                                                                                                   \r",
      "\r",
      " 41% ( 41 of 100) |##############                      | Elapsed Time: 3:23:58 ETA: 1 day, 20:40:40"
     ]
    },
    {
     "name": "stdout",
     "output_type": "stream",
     "text": [
      "pattern\n",
      "a = 0.0636554, c = 1.01, alpha = 0.03162\n"
     ]
    },
    {
     "name": "stderr",
     "output_type": "stream",
     "text": [
      "\r",
      "                                                                                                   \r",
      "\r",
      " 41% ( 41 of 100) |#################                          | Elapsed Time: 3:24:29 ETA: --:--:--"
     ]
    },
    {
     "name": "stdout",
     "output_type": "stream",
     "text": [
      "pattern\n",
      "a = 0.0636835, c = 1.03, alpha = 0.03162\n"
     ]
    },
    {
     "name": "stderr",
     "output_type": "stream",
     "text": [
      "\r",
      "                                                                                                   \r",
      "\r",
      " 41% ( 41 of 100) |#################                          | Elapsed Time: 3:24:58 ETA: --:--:--"
     ]
    },
    {
     "name": "stdout",
     "output_type": "stream",
     "text": [
      "pattern\n",
      "a = 0.0637112, c = 1.05, alpha = 0.03162\n"
     ]
    },
    {
     "name": "stderr",
     "output_type": "stream",
     "text": [
      "\r",
      "                                                                                                   \r",
      "\r",
      " 41% ( 41 of 100) |#################                          | Elapsed Time: 3:25:26 ETA: --:--:--"
     ]
    },
    {
     "name": "stdout",
     "output_type": "stream",
     "text": [
      "pattern\n",
      "a = 0.0637379, c = 1.07, alpha = 0.03162\n"
     ]
    },
    {
     "name": "stderr",
     "output_type": "stream",
     "text": [
      "\r",
      "                                                                                                   \r",
      "\r",
      " 41% ( 41 of 100) |#################                          | Elapsed Time: 3:25:55 ETA: --:--:--"
     ]
    },
    {
     "name": "stdout",
     "output_type": "stream",
     "text": [
      "pattern\n",
      "a = 0.0637641, c = 1.09, alpha = 0.03162\n"
     ]
    },
    {
     "name": "stderr",
     "output_type": "stream",
     "text": [
      "\r",
      "                                                                                                   \r",
      "\r",
      " 41% ( 41 of 100) |#################                          | Elapsed Time: 3:26:25 ETA: --:--:--"
     ]
    },
    {
     "name": "stdout",
     "output_type": "stream",
     "text": [
      "pattern\n",
      "a = 0.0637894, c = 1.11, alpha = 0.03162\n"
     ]
    },
    {
     "name": "stderr",
     "output_type": "stream",
     "text": [
      "\r",
      "                                                                                                   \r",
      "\r",
      " 41% ( 41 of 100) |#################                          | Elapsed Time: 3:26:51 ETA: --:--:--"
     ]
    },
    {
     "name": "stdout",
     "output_type": "stream",
     "text": [
      "pattern\n",
      "a = 0.0638142, c = 1.13, alpha = 0.03162\n"
     ]
    },
    {
     "name": "stderr",
     "output_type": "stream",
     "text": [
      " 41% ( 41 of 100) |##############                      | Elapsed Time: 3:27:50 ETA: 1 day, 20:54:31"
     ]
    },
    {
     "name": "stdout",
     "output_type": "stream",
     "text": [
      "pattern\n",
      "a = 0.0638618, c = 1.17, alpha = 0.03162\n"
     ]
    },
    {
     "name": "stderr",
     "output_type": "stream",
     "text": [
      "\r",
      "                                                                                                   \r",
      "\r",
      " 41% ( 41 of 100) |##############                      | Elapsed Time: 3:28:17 ETA: 1 day, 20:11:52"
     ]
    },
    {
     "name": "stdout",
     "output_type": "stream",
     "text": [
      "pattern\n",
      "a = 0.0638847, c = 1.19, alpha = 0.03162\n"
     ]
    },
    {
     "name": "stderr",
     "output_type": "stream",
     "text": [
      "\r",
      "                                                                                                   \r",
      "\r",
      " 41% ( 41 of 100) |##############                      | Elapsed Time: 3:28:43 ETA: 1 day, 19:28:39"
     ]
    },
    {
     "name": "stdout",
     "output_type": "stream",
     "text": [
      "pattern\n",
      "a = 0.0639071, c = 1.21, alpha = 0.03162\n"
     ]
    },
    {
     "name": "stderr",
     "output_type": "stream",
     "text": [
      " 41% ( 41 of 100) |#################                          | Elapsed Time: 3:29:44 ETA: 22:06:23"
     ]
    },
    {
     "name": "stdout",
     "output_type": "stream",
     "text": [
      "pattern\n",
      "a = 0.0639510, c = 1.25, alpha = 0.03162\n"
     ]
    },
    {
     "name": "stderr",
     "output_type": "stream",
     "text": [
      "\r",
      "                                                                                                   \r",
      "\r",
      " 41% ( 41 of 100) |#################                          | Elapsed Time: 3:30:15 ETA: 22:12:29"
     ]
    },
    {
     "name": "stdout",
     "output_type": "stream",
     "text": [
      "pattern\n",
      "a = 0.0639720, c = 1.27, alpha = 0.03162\n"
     ]
    },
    {
     "name": "stderr",
     "output_type": "stream",
     "text": [
      "\r",
      "                                                                                                   \r",
      "\r",
      " 41% ( 41 of 100) |#################                          | Elapsed Time: 3:30:46 ETA: 22:16:01"
     ]
    },
    {
     "name": "stdout",
     "output_type": "stream",
     "text": [
      "pattern\n",
      "a = 0.0639925, c = 1.29, alpha = 0.03162\n"
     ]
    },
    {
     "name": "stderr",
     "output_type": "stream",
     "text": [
      "\r",
      "                                                                                                   \r",
      "\r",
      " 41% ( 41 of 100) |#################                          | Elapsed Time: 3:31:16 ETA: 22:37:51"
     ]
    },
    {
     "name": "stdout",
     "output_type": "stream",
     "text": [
      "pattern\n",
      "a = 0.0640125, c = 1.31, alpha = 0.03162\n"
     ]
    },
    {
     "name": "stderr",
     "output_type": "stream",
     "text": [
      "\r",
      "                                                                                                   \r",
      "\r",
      " 41% ( 41 of 100) |#################                          | Elapsed Time: 3:31:44 ETA: 22:37:26"
     ]
    },
    {
     "name": "stdout",
     "output_type": "stream",
     "text": [
      "pattern\n",
      "a = 0.0640321, c = 1.33, alpha = 0.03162\n"
     ]
    },
    {
     "name": "stderr",
     "output_type": "stream",
     "text": [
      "\r",
      "                                                                                                   \r",
      "\r",
      " 41% ( 41 of 100) |##############                      | Elapsed Time: 3:32:15 ETA: 1 day, 21:20:07"
     ]
    },
    {
     "name": "stdout",
     "output_type": "stream",
     "text": [
      "pattern\n",
      "a = 0.0640516, c = 1.35, alpha = 0.03162\n"
     ]
    },
    {
     "name": "stderr",
     "output_type": "stream",
     "text": [
      "\r",
      "                                                                                                   \r",
      "\r",
      " 41% ( 41 of 100) |##############                      | Elapsed Time: 3:32:44 ETA: 1 day, 21:44:16"
     ]
    },
    {
     "name": "stdout",
     "output_type": "stream",
     "text": [
      "pattern\n",
      "a = 0.0640702, c = 1.37, alpha = 0.03162\n"
     ]
    },
    {
     "name": "stderr",
     "output_type": "stream",
     "text": [
      "\r",
      "                                                                                                   \r",
      "\r",
      " 41% ( 41 of 100) |##############                      | Elapsed Time: 3:33:15 ETA: 1 day, 22:27:38"
     ]
    },
    {
     "name": "stdout",
     "output_type": "stream",
     "text": [
      "pattern\n",
      "a = 0.0640888, c = 1.39, alpha = 0.03162\n"
     ]
    },
    {
     "name": "stderr",
     "output_type": "stream",
     "text": [
      "\r",
      "                                                                                                   \r",
      "\r",
      " 41% ( 41 of 100) |##############                      | Elapsed Time: 3:33:44 ETA: 1 day, 22:10:48"
     ]
    },
    {
     "name": "stdout",
     "output_type": "stream",
     "text": [
      "pattern\n",
      "a = 0.0641069, c = 1.41, alpha = 0.03162\n"
     ]
    },
    {
     "name": "stderr",
     "output_type": "stream",
     "text": [
      "\r",
      "                                                                                                   \r",
      "\r",
      " 41% ( 41 of 100) |#################                          | Elapsed Time: 3:34:13 ETA: --:--:--"
     ]
    },
    {
     "name": "stdout",
     "output_type": "stream",
     "text": [
      "pattern\n",
      "a = 0.0641246, c = 1.43, alpha = 0.03162\n"
     ]
    },
    {
     "name": "stderr",
     "output_type": "stream",
     "text": [
      "\r",
      "                                                                                                   \r",
      "\r",
      " 41% ( 41 of 100) |#################                          | Elapsed Time: 3:34:44 ETA: --:--:--"
     ]
    },
    {
     "name": "stdout",
     "output_type": "stream",
     "text": [
      "pattern\n",
      "a = 0.0641422, c = 1.45, alpha = 0.03162\n"
     ]
    },
    {
     "name": "stderr",
     "output_type": "stream",
     "text": [
      "\r",
      "                                                                                                   \r",
      "\r",
      " 41% ( 41 of 100) |#################                          | Elapsed Time: 3:35:11 ETA: --:--:--"
     ]
    },
    {
     "name": "stdout",
     "output_type": "stream",
     "text": [
      "pattern\n",
      "a = 0.0641594, c = 1.47, alpha = 0.03162\n"
     ]
    },
    {
     "name": "stderr",
     "output_type": "stream",
     "text": [
      "\r",
      "                                                                                                   \r",
      "\r",
      " 41% ( 41 of 100) |#################                          | Elapsed Time: 3:35:37 ETA: --:--:--"
     ]
    },
    {
     "name": "stdout",
     "output_type": "stream",
     "text": [
      "pattern\n",
      "a = 0.0641761, c = 1.49, alpha = 0.03162\n"
     ]
    },
    {
     "name": "stderr",
     "output_type": "stream",
     "text": [
      "\r",
      "                                                                                                   \r",
      "\r",
      " 41% ( 41 of 100) |#################                          | Elapsed Time: 3:36:06 ETA: --:--:--"
     ]
    },
    {
     "name": "stdout",
     "output_type": "stream",
     "text": [
      "pattern\n",
      "a = 0.0641923, c = 1.51, alpha = 0.03162\n"
     ]
    },
    {
     "name": "stderr",
     "output_type": "stream",
     "text": [
      "\r",
      "                                                                                                   \r",
      "\r",
      " 41% ( 41 of 100) |#################                          | Elapsed Time: 3:36:36 ETA: --:--:--"
     ]
    },
    {
     "name": "stdout",
     "output_type": "stream",
     "text": [
      "pattern\n",
      "a = 0.0642085, c = 1.53, alpha = 0.03162\n"
     ]
    },
    {
     "name": "stderr",
     "output_type": "stream",
     "text": [
      "\r",
      "                                                                                                   \r",
      "\r",
      " 41% ( 41 of 100) |#################                          | Elapsed Time: 3:37:04 ETA: --:--:--"
     ]
    },
    {
     "name": "stdout",
     "output_type": "stream",
     "text": [
      "pattern\n",
      "a = 0.0642242, c = 1.55, alpha = 0.03162\n"
     ]
    },
    {
     "name": "stderr",
     "output_type": "stream",
     "text": [
      "\r",
      "                                                                                                   \r",
      "\r",
      " 41% ( 41 of 100) |#################                          | Elapsed Time: 3:37:28 ETA: --:--:--"
     ]
    },
    {
     "name": "stdout",
     "output_type": "stream",
     "text": [
      "pattern\n",
      "a = 0.0642400, c = 1.57, alpha = 0.03162\n"
     ]
    },
    {
     "name": "stderr",
     "output_type": "stream",
     "text": [
      "\r",
      "                                                                                                   \r",
      "\r",
      " 41% ( 41 of 100) |#################                          | Elapsed Time: 3:38:00 ETA: --:--:--"
     ]
    },
    {
     "name": "stdout",
     "output_type": "stream",
     "text": [
      "pattern\n",
      "a = 0.0642552, c = 1.59, alpha = 0.03162\n"
     ]
    },
    {
     "name": "stderr",
     "output_type": "stream",
     "text": [
      "\r",
      "                                                                                                   \r",
      "\r",
      " 41% ( 41 of 100) |#################                          | Elapsed Time: 3:38:31 ETA: --:--:--"
     ]
    },
    {
     "name": "stdout",
     "output_type": "stream",
     "text": [
      "pattern\n",
      "a = 0.0642700, c = 1.61, alpha = 0.03162\n"
     ]
    },
    {
     "name": "stderr",
     "output_type": "stream",
     "text": [
      "\r",
      "                                                                                                   \r",
      "\r",
      " 41% ( 41 of 100) |#################                          | Elapsed Time: 3:38:51 ETA: --:--:--"
     ]
    },
    {
     "name": "stdout",
     "output_type": "stream",
     "text": [
      "pattern\n",
      "a = 0.0642848, c = 1.63, alpha = 0.03162\n"
     ]
    },
    {
     "name": "stderr",
     "output_type": "stream",
     "text": [
      " 41% ( 41 of 100) |##############                      | Elapsed Time: 3:39:51 ETA: 1 day, 19:19:32"
     ]
    },
    {
     "name": "stdout",
     "output_type": "stream",
     "text": [
      "pattern\n",
      "a = 0.0643134, c = 1.67, alpha = 0.03162\n"
     ]
    },
    {
     "name": "stderr",
     "output_type": "stream",
     "text": [
      "\r",
      "                                                                                                   \r",
      "\r",
      " 41% ( 41 of 100) |##############                      | Elapsed Time: 3:40:20 ETA: 1 day, 19:16:00"
     ]
    },
    {
     "name": "stdout",
     "output_type": "stream",
     "text": [
      "pattern\n",
      "a = 0.0643277, c = 1.69, alpha = 0.03162\n"
     ]
    },
    {
     "name": "stderr",
     "output_type": "stream",
     "text": [
      "\r",
      "                                                                                                   \r",
      "\r",
      " 41% ( 41 of 100) |##############                      | Elapsed Time: 3:40:50 ETA: 1 day, 19:16:07"
     ]
    },
    {
     "name": "stdout",
     "output_type": "stream",
     "text": [
      "pattern\n",
      "a = 0.0643411, c = 1.71, alpha = 0.03162\n"
     ]
    },
    {
     "name": "stderr",
     "output_type": "stream",
     "text": [
      "\r",
      "                                                                                                   \r",
      "\r",
      " 41% ( 41 of 100) |##############                      | Elapsed Time: 3:41:20 ETA: 1 day, 19:40:07"
     ]
    },
    {
     "name": "stdout",
     "output_type": "stream",
     "text": [
      "pattern\n",
      "a = 0.0643549, c = 1.73, alpha = 0.03162\n"
     ]
    },
    {
     "name": "stderr",
     "output_type": "stream",
     "text": [
      " 41% ( 41 of 100) |#################                          | Elapsed Time: 3:42:20 ETA: 22:09:41"
     ]
    },
    {
     "name": "stdout",
     "output_type": "stream",
     "text": [
      "pattern\n",
      "a = 0.0643811, c = 1.77, alpha = 0.03162\n"
     ]
    },
    {
     "name": "stderr",
     "output_type": "stream",
     "text": [
      "\r",
      "                                                                                                   \r",
      "\r",
      " 41% ( 41 of 100) |#################                          | Elapsed Time: 3:42:50 ETA: 22:04:09"
     ]
    },
    {
     "name": "stdout",
     "output_type": "stream",
     "text": [
      "pattern\n",
      "a = 0.0643940, c = 1.79, alpha = 0.03162\n"
     ]
    },
    {
     "name": "stderr",
     "output_type": "stream",
     "text": [
      "\r",
      "                                                                                                   \r",
      "\r",
      " 41% ( 41 of 100) |#################                          | Elapsed Time: 3:43:18 ETA: 22:45:10"
     ]
    },
    {
     "name": "stdout",
     "output_type": "stream",
     "text": [
      "pattern\n",
      "a = 0.0644064, c = 1.81, alpha = 0.03162\n"
     ]
    },
    {
     "name": "stderr",
     "output_type": "stream",
     "text": [
      "\r",
      "                                                                                                   \r",
      "\r",
      " 41% ( 41 of 100) |#################                          | Elapsed Time: 3:43:46 ETA: 22:35:58"
     ]
    },
    {
     "name": "stdout",
     "output_type": "stream",
     "text": [
      "pattern\n",
      "a = 0.0644188, c = 1.83, alpha = 0.03162\n"
     ]
    },
    {
     "name": "stderr",
     "output_type": "stream",
     "text": [
      "\r",
      "                                                                                                   \r",
      "\r",
      " 41% ( 41 of 100) |##############                      | Elapsed Time: 3:44:11 ETA: 1 day, 20:16:02"
     ]
    },
    {
     "name": "stdout",
     "output_type": "stream",
     "text": [
      "pattern\n",
      "a = 0.0644312, c = 1.85, alpha = 0.03162\n"
     ]
    },
    {
     "name": "stderr",
     "output_type": "stream",
     "text": [
      "\r",
      "                                                                                                   \r",
      "\r",
      " 41% ( 41 of 100) |##############                      | Elapsed Time: 3:44:39 ETA: 1 day, 20:08:16"
     ]
    },
    {
     "name": "stdout",
     "output_type": "stream",
     "text": [
      "pattern\n",
      "a = 0.0644431, c = 1.87, alpha = 0.03162\n"
     ]
    },
    {
     "name": "stderr",
     "output_type": "stream",
     "text": [
      "\r",
      "                                                                                                   \r",
      "\r",
      " 41% ( 41 of 100) |##############                      | Elapsed Time: 3:45:08 ETA: 1 day, 20:03:19"
     ]
    },
    {
     "name": "stdout",
     "output_type": "stream",
     "text": [
      "pattern\n",
      "a = 0.0644550, c = 1.89, alpha = 0.03162\n"
     ]
    },
    {
     "name": "stderr",
     "output_type": "stream",
     "text": [
      "\r",
      "                                                                                                   \r",
      "\r",
      " 41% ( 41 of 100) |##############                      | Elapsed Time: 3:45:39 ETA: 1 day, 19:57:53"
     ]
    },
    {
     "name": "stdout",
     "output_type": "stream",
     "text": [
      "pattern\n",
      "a = 0.0644665, c = 1.91, alpha = 0.03162\n"
     ]
    },
    {
     "name": "stderr",
     "output_type": "stream",
     "text": [
      "\r",
      "                                                                                                   \r",
      "\r",
      " 41% ( 41 of 100) |##############                      | Elapsed Time: 3:46:08 ETA: 1 day, 19:58:23"
     ]
    },
    {
     "name": "stdout",
     "output_type": "stream",
     "text": [
      "pattern\n",
      "a = 0.0644779, c = 1.93, alpha = 0.03162\n"
     ]
    },
    {
     "name": "stderr",
     "output_type": "stream",
     "text": [
      "\r",
      "                                                                                                   \r",
      "\r",
      " 41% ( 41 of 100) |#################                          | Elapsed Time: 3:46:37 ETA: --:--:--"
     ]
    },
    {
     "name": "stdout",
     "output_type": "stream",
     "text": [
      "pattern\n",
      "a = 0.0644894, c = 1.95, alpha = 0.03162\n"
     ]
    },
    {
     "name": "stderr",
     "output_type": "stream",
     "text": [
      "\r",
      "                                                                                                   \r",
      "\r",
      " 41% ( 41 of 100) |#################                          | Elapsed Time: 3:47:06 ETA: --:--:--"
     ]
    },
    {
     "name": "stdout",
     "output_type": "stream",
     "text": [
      "pattern\n",
      "a = 0.0645003, c = 1.97, alpha = 0.03162\n"
     ]
    },
    {
     "name": "stderr",
     "output_type": "stream",
     "text": [
      "\r",
      "                                                                                                   \r",
      "\r",
      " 41% ( 41 of 100) |#################                          | Elapsed Time: 3:47:38 ETA: --:--:--"
     ]
    },
    {
     "name": "stdout",
     "output_type": "stream",
     "text": [
      "pattern\n",
      "a = 0.0645113, c = 1.99, alpha = 0.03162\n"
     ]
    },
    {
     "name": "stderr",
     "output_type": "stream",
     "text": [
      "\r",
      "                                                                                                   \r",
      "\r",
      " 41% ( 41 of 100) |#################                          | Elapsed Time: 3:48:07 ETA: --:--:--"
     ]
    },
    {
     "name": "stdout",
     "output_type": "stream",
     "text": [
      "pattern\n",
      "a = 0.0645223, c = 2.01, alpha = 0.03162\n"
     ]
    },
    {
     "name": "stderr",
     "output_type": "stream",
     "text": [
      "\r",
      "                                                                                                   \r",
      "\r",
      " 41% ( 41 of 100) |#################                          | Elapsed Time: 3:48:40 ETA: --:--:--"
     ]
    },
    {
     "name": "stdout",
     "output_type": "stream",
     "text": [
      "pattern\n",
      "a = 0.0645328, c = 2.03, alpha = 0.03162\n"
     ]
    },
    {
     "name": "stderr",
     "output_type": "stream",
     "text": [
      "\r",
      "                                                                                                   \r",
      "\r",
      " 41% ( 41 of 100) |#################                          | Elapsed Time: 3:49:11 ETA: --:--:--"
     ]
    },
    {
     "name": "stdout",
     "output_type": "stream",
     "text": [
      "pattern\n",
      "a = 0.0645432, c = 2.05, alpha = 0.03162\n"
     ]
    },
    {
     "name": "stderr",
     "output_type": "stream",
     "text": [
      "\r",
      "                                                                                                   \r",
      "\r",
      " 41% ( 41 of 100) |#################                          | Elapsed Time: 3:49:42 ETA: --:--:--"
     ]
    },
    {
     "name": "stdout",
     "output_type": "stream",
     "text": [
      "pattern\n",
      "a = 0.0645537, c = 2.07, alpha = 0.03162\n"
     ]
    },
    {
     "name": "stderr",
     "output_type": "stream",
     "text": [
      "\r",
      "                                                                                                   \r",
      "\r",
      " 41% ( 41 of 100) |#################                          | Elapsed Time: 3:50:13 ETA: --:--:--"
     ]
    },
    {
     "name": "stdout",
     "output_type": "stream",
     "text": [
      "pattern\n",
      "a = 0.0645638, c = 2.09, alpha = 0.03162\n",
      "[  4.76837158e-07   4.76837158e-07   4.76837158e-07   4.76837158e-07\n",
      "   5.96494675e-02   6.07295036e-02   6.09622002e-02   6.11639023e-02\n",
      "   6.13417625e-02   6.23803139e-02   6.25348091e-02   6.33621216e-02\n",
      "   6.38384819e-02   6.39295578e-02   6.42995834e-02   6.43682480e-02\n",
      "   0.00000000e+00   0.00000000e+00   0.00000000e+00   0.00000000e+00\n",
      "   0.00000000e+00   0.00000000e+00   0.00000000e+00   0.00000000e+00\n",
      "   0.00000000e+00   0.00000000e+00   0.00000000e+00   0.00000000e+00\n",
      "   0.00000000e+00   0.00000000e+00   0.00000000e+00   0.00000000e+00\n",
      "   0.00000000e+00   0.00000000e+00   0.00000000e+00   0.00000000e+00\n",
      "   0.00000000e+00   0.00000000e+00   0.00000000e+00   0.00000000e+00\n",
      "   0.00000000e+00   0.00000000e+00   0.00000000e+00   0.00000000e+00\n",
      "   0.00000000e+00   0.00000000e+00   0.00000000e+00   0.00000000e+00\n",
      "   0.00000000e+00   0.00000000e+00   0.00000000e+00   0.00000000e+00\n",
      "   0.00000000e+00   0.00000000e+00   0.00000000e+00   0.00000000e+00\n",
      "   0.00000000e+00   0.00000000e+00   0.00000000e+00   0.00000000e+00\n",
      "   0.00000000e+00   0.00000000e+00   0.00000000e+00   0.00000000e+00\n",
      "   0.00000000e+00   0.00000000e+00   0.00000000e+00   0.00000000e+00\n",
      "   0.00000000e+00   0.00000000e+00   0.00000000e+00   0.00000000e+00\n",
      "   0.00000000e+00   0.00000000e+00   0.00000000e+00   0.00000000e+00\n",
      "   0.00000000e+00   0.00000000e+00   0.00000000e+00   0.00000000e+00\n",
      "   0.00000000e+00   0.00000000e+00   0.00000000e+00   0.00000000e+00\n",
      "   0.00000000e+00   0.00000000e+00   0.00000000e+00   0.00000000e+00\n",
      "   0.00000000e+00   0.00000000e+00   0.00000000e+00   0.00000000e+00\n",
      "   0.00000000e+00   0.00000000e+00   0.00000000e+00   0.00000000e+00\n",
      "   0.00000000e+00   0.00000000e+00   0.00000000e+00   0.00000000e+00\n",
      "   0.00000000e+00   0.00000000e+00   0.00000000e+00   0.00000000e+00\n",
      "   0.00000000e+00]\n"
     ]
    },
    {
     "name": "stderr",
     "output_type": "stream",
     "text": [
      " 50% ( 50 of 100) |######################                      | Elapsed Time: 3:51:38 ETA: 0:19:38"
     ]
    },
    {
     "name": "stdout",
     "output_type": "stream",
     "text": [
      "pattern\n",
      "a = 0.0139923, c = 0.09, alpha = 0.10000\n"
     ]
    },
    {
     "name": "stderr",
     "output_type": "stream",
     "text": [
      "\r",
      "                                                                                                   \r",
      "\r",
      " 50% ( 50 of 100) |######################                      | Elapsed Time: 3:51:57 ETA: 0:18:24"
     ]
    },
    {
     "name": "stdout",
     "output_type": "stream",
     "text": [
      "pattern\n",
      "a = 0.0339966, c = 0.11, alpha = 0.10000\n"
     ]
    },
    {
     "name": "stderr",
     "output_type": "stream",
     "text": [
      "\r",
      "                                                                                                   \r",
      "\r",
      " 50% ( 50 of 100) |######################                      | Elapsed Time: 3:52:16 ETA: 0:17:14"
     ]
    },
    {
     "name": "stdout",
     "output_type": "stream",
     "text": [
      "pattern\n",
      "a = 0.0495110, c = 0.13, alpha = 0.10000\n"
     ]
    },
    {
     "name": "stderr",
     "output_type": "stream",
     "text": [
      "\r",
      "                                                                                                   \r",
      "\r",
      " 50% ( 50 of 100) |######################                      | Elapsed Time: 3:52:40 ETA: 0:16:37"
     ]
    },
    {
     "name": "stdout",
     "output_type": "stream",
     "text": [
      "pattern\n",
      "a = 0.0562706, c = 0.15, alpha = 0.10000\n"
     ]
    },
    {
     "name": "stderr",
     "output_type": "stream",
     "text": [
      " 51% ( 51 of 100) |######################                      | Elapsed Time: 4:00:45 ETA: 4:18:51"
     ]
    },
    {
     "name": "stdout",
     "output_type": "stream",
     "text": [
      "pattern\n",
      "a = 0.1048031, c = 0.47, alpha = 0.10000\n"
     ]
    },
    {
     "name": "stderr",
     "output_type": "stream",
     "text": [
      " 52% ( 52 of 100) |######################                      | Elapsed Time: 4:02:41 ETA: 4:39:38"
     ]
    },
    {
     "name": "stdout",
     "output_type": "stream",
     "text": [
      "pattern\n",
      "a = 0.1053982, c = 0.55, alpha = 0.10000\n"
     ]
    },
    {
     "name": "stderr",
     "output_type": "stream",
     "text": [
      " 52% ( 52 of 100) |#######################                     | Elapsed Time: 4:06:14 ETA: 4:42:40"
     ]
    },
    {
     "name": "stdout",
     "output_type": "stream",
     "text": [
      "pattern\n",
      "a = 0.1062264, c = 0.69, alpha = 0.10000\n"
     ]
    },
    {
     "name": "stderr",
     "output_type": "stream",
     "text": [
      " 53% ( 53 of 100) |#######################                     | Elapsed Time: 4:08:13 ETA: 4:42:30"
     ]
    },
    {
     "name": "stdout",
     "output_type": "stream",
     "text": [
      "pattern\n",
      "a = 0.1066160, c = 0.77, alpha = 0.10000\n"
     ]
    },
    {
     "name": "stderr",
     "output_type": "stream",
     "text": [
      " 53% ( 53 of 100) |#######################                     | Elapsed Time: 4:10:12 ETA: 5:11:32"
     ]
    },
    {
     "name": "stdout",
     "output_type": "stream",
     "text": [
      "pattern\n",
      "a = 0.1069613, c = 0.85, alpha = 0.10000\n"
     ]
    },
    {
     "name": "stderr",
     "output_type": "stream",
     "text": [
      " 53% ( 53 of 100) |#######################                     | Elapsed Time: 4:11:10 ETA: 5:09:51"
     ]
    },
    {
     "name": "stdout",
     "output_type": "stream",
     "text": [
      "pattern\n",
      "a = 0.1071200, c = 0.89, alpha = 0.10000\n"
     ]
    },
    {
     "name": "stderr",
     "output_type": "stream",
     "text": [
      " 53% ( 53 of 100) |#######################                     | Elapsed Time: 4:12:38 ETA: 5:58:23"
     ]
    },
    {
     "name": "stdout",
     "output_type": "stream",
     "text": [
      "pattern\n",
      "a = 0.1073437, c = 0.95, alpha = 0.10000\n"
     ]
    },
    {
     "name": "stderr",
     "output_type": "stream",
     "text": [
      " 53% ( 53 of 100) |#######################                     | Elapsed Time: 4:13:31 ETA: 5:50:01"
     ]
    },
    {
     "name": "stdout",
     "output_type": "stream",
     "text": [
      "pattern\n",
      "a = 0.1074839, c = 0.99, alpha = 0.10000\n"
     ]
    },
    {
     "name": "stderr",
     "output_type": "stream",
     "text": [
      " 53% ( 53 of 100) |#######################                     | Elapsed Time: 4:15:01 ETA: 5:52:10"
     ]
    },
    {
     "name": "stdout",
     "output_type": "stream",
     "text": [
      "pattern\n",
      "a = 0.1076822, c = 1.05, alpha = 0.10000\n"
     ]
    },
    {
     "name": "stderr",
     "output_type": "stream",
     "text": [
      "\r",
      "                                                                                                   \r",
      "\r",
      " 53% ( 53 of 100) |#######################                     | Elapsed Time: 4:15:30 ETA: 7:00:45"
     ]
    },
    {
     "name": "stdout",
     "output_type": "stream",
     "text": [
      "pattern\n",
      "a = 0.1077456, c = 1.07, alpha = 0.10000\n"
     ]
    },
    {
     "name": "stderr",
     "output_type": "stream",
     "text": [
      "\r",
      "                                                                                                   \r",
      "\r",
      " 53% ( 53 of 100) |#######################                     | Elapsed Time: 4:15:59 ETA: 7:00:59"
     ]
    },
    {
     "name": "stdout",
     "output_type": "stream",
     "text": [
      "pattern\n",
      "a = 0.1078076, c = 1.09, alpha = 0.10000\n"
     ]
    },
    {
     "name": "stderr",
     "output_type": "stream",
     "text": [
      "\r",
      "                                                                                                   \r",
      "\r",
      " 53% ( 53 of 100) |#######################                     | Elapsed Time: 4:16:29 ETA: 8:46:21"
     ]
    },
    {
     "name": "stdout",
     "output_type": "stream",
     "text": [
      "pattern\n",
      "a = 0.1078682, c = 1.11, alpha = 0.10000\n"
     ]
    },
    {
     "name": "stderr",
     "output_type": "stream",
     "text": [
      " 54% ( 54 of 100) |#######################                     | Elapsed Time: 4:18:53 ETA: 6:58:28"
     ]
    },
    {
     "name": "stdout",
     "output_type": "stream",
     "text": [
      "pattern\n",
      "a = 0.1081538, c = 1.21, alpha = 0.10000\n"
     ]
    },
    {
     "name": "stderr",
     "output_type": "stream",
     "text": [
      "\r",
      "                                                                                                   \r",
      "\r",
      " 54% ( 54 of 100) |#######################                     | Elapsed Time: 4:19:20 ETA: 8:37:10"
     ]
    },
    {
     "name": "stdout",
     "output_type": "stream",
     "text": [
      "pattern\n",
      "a = 0.1082077, c = 1.23, alpha = 0.10000\n"
     ]
    },
    {
     "name": "stderr",
     "output_type": "stream",
     "text": [
      " 54% ( 54 of 100) |########################                    | Elapsed Time: 4:22:09 ETA: 4:47:34"
     ]
    },
    {
     "name": "stdout",
     "output_type": "stream",
     "text": [
      "pattern\n",
      "a = 0.1085110, c = 1.35, alpha = 0.10000\n"
     ]
    },
    {
     "name": "stderr",
     "output_type": "stream",
     "text": [
      "\r",
      "                                                                                                   \r",
      "\r",
      " 54% ( 54 of 100) |########################                    | Elapsed Time: 4:22:34 ETA: 5:29:30"
     ]
    },
    {
     "name": "stdout",
     "output_type": "stream",
     "text": [
      "pattern\n",
      "a = 0.1085587, c = 1.37, alpha = 0.10000\n"
     ]
    },
    {
     "name": "stderr",
     "output_type": "stream",
     "text": [
      "\r",
      "                                                                                                   \r",
      "\r",
      " 54% ( 54 of 100) |########################                    | Elapsed Time: 4:22:57 ETA: 6:26:56"
     ]
    },
    {
     "name": "stdout",
     "output_type": "stream",
     "text": [
      "pattern\n",
      "a = 0.1086054, c = 1.39, alpha = 0.10000\n"
     ]
    },
    {
     "name": "stderr",
     "output_type": "stream",
     "text": [
      " 54% ( 54 of 100) |########################                    | Elapsed Time: 4:23:55 ETA: 5:32:36"
     ]
    },
    {
     "name": "stdout",
     "output_type": "stream",
     "text": [
      "pattern\n",
      "a = 0.1086965, c = 1.43, alpha = 0.10000\n"
     ]
    },
    {
     "name": "stderr",
     "output_type": "stream",
     "text": [
      " 55% ( 55 of 100) |########################                    | Elapsed Time: 4:25:23 ETA: 6:40:14"
     ]
    },
    {
     "name": "stdout",
     "output_type": "stream",
     "text": [
      "pattern\n",
      "a = 0.1088281, c = 1.49, alpha = 0.10000\n"
     ]
    },
    {
     "name": "stderr",
     "output_type": "stream",
     "text": [
      "\r",
      "                                                                                                   \r",
      "\r",
      " 55% ( 55 of 100) |########################                    | Elapsed Time: 4:25:52 ETA: 8:19:18"
     ]
    },
    {
     "name": "stdout",
     "output_type": "stream",
     "text": [
      "pattern\n",
      "a = 0.1088705, c = 1.51, alpha = 0.10000\n"
     ]
    },
    {
     "name": "stderr",
     "output_type": "stream",
     "text": [
      " 55% ( 55 of 100) |########################                    | Elapsed Time: 4:26:47 ETA: 8:15:54"
     ]
    },
    {
     "name": "stdout",
     "output_type": "stream",
     "text": [
      "pattern\n",
      "a = 0.1089535, c = 1.55, alpha = 0.10000\n"
     ]
    },
    {
     "name": "stderr",
     "output_type": "stream",
     "text": [
      " 55% ( 55 of 100) |########################                    | Elapsed Time: 4:27:42 ETA: 6:44:33"
     ]
    },
    {
     "name": "stdout",
     "output_type": "stream",
     "text": [
      "pattern\n",
      "a = 0.1090341, c = 1.59, alpha = 0.10000\n"
     ]
    },
    {
     "name": "stderr",
     "output_type": "stream",
     "text": [
      "\r",
      "                                                                                                   \r",
      "\r",
      " 55% ( 55 of 100) |########################                    | Elapsed Time: 4:28:11 ETA: 8:20:59"
     ]
    },
    {
     "name": "stdout",
     "output_type": "stream",
     "text": [
      "pattern\n",
      "a = 0.1090736, c = 1.61, alpha = 0.10000\n"
     ]
    },
    {
     "name": "stderr",
     "output_type": "stream",
     "text": [
      " 55% ( 55 of 100) |########################                    | Elapsed Time: 4:29:33 ETA: 8:08:23"
     ]
    },
    {
     "name": "stdout",
     "output_type": "stream",
     "text": [
      "pattern\n",
      "a = 0.1091886, c = 1.67, alpha = 0.10000\n"
     ]
    },
    {
     "name": "stderr",
     "output_type": "stream",
     "text": [
      "\r",
      "                                                                                                   \r",
      "\r",
      " 55% ( 55 of 100) |########################                    | Elapsed Time: 4:30:01 ETA: 8:05:55"
     ]
    },
    {
     "name": "stdout",
     "output_type": "stream",
     "text": [
      "pattern\n",
      "a = 0.1092257, c = 1.69, alpha = 0.10000\n"
     ]
    },
    {
     "name": "stderr",
     "output_type": "stream",
     "text": [
      "\r",
      "                                                                                                   \r",
      "\r",
      " 55% ( 55 of 100) |########################                    | Elapsed Time: 4:30:29 ETA: 8:10:28"
     ]
    },
    {
     "name": "stdout",
     "output_type": "stream",
     "text": [
      "pattern\n",
      "a = 0.1092625, c = 1.71, alpha = 0.10000\n"
     ]
    },
    {
     "name": "stderr",
     "output_type": "stream",
     "text": [
      " 55% ( 55 of 100) |########################                    | Elapsed Time: 4:33:23 ETA: 5:33:36"
     ]
    },
    {
     "name": "stdout",
     "output_type": "stream",
     "text": [
      "pattern\n",
      "a = 0.1094732, c = 1.83, alpha = 0.10000\n"
     ]
    },
    {
     "name": "stderr",
     "output_type": "stream",
     "text": [
      "\r",
      "                                                                                                   \r",
      "\r",
      " 55% ( 55 of 100) |########################                    | Elapsed Time: 4:33:52 ETA: 6:39:12"
     ]
    },
    {
     "name": "stdout",
     "output_type": "stream",
     "text": [
      "pattern\n",
      "a = 0.1095066, c = 1.85, alpha = 0.10000\n"
     ]
    },
    {
     "name": "stderr",
     "output_type": "stream",
     "text": [
      " 56% ( 56 of 100) |########################                    | Elapsed Time: 4:34:52 ETA: 5:37:19"
     ]
    },
    {
     "name": "stdout",
     "output_type": "stream",
     "text": [
      "pattern\n",
      "a = 0.1095724, c = 1.89, alpha = 0.10000\n"
     ]
    },
    {
     "name": "stderr",
     "output_type": "stream",
     "text": [
      "\r",
      "                                                                                                   \r",
      "\r",
      " 56% ( 56 of 100) |########################                    | Elapsed Time: 4:35:20 ETA: 5:41:16"
     ]
    },
    {
     "name": "stdout",
     "output_type": "stream",
     "text": [
      "pattern\n",
      "a = 0.1096048, c = 1.91, alpha = 0.10000\n"
     ]
    },
    {
     "name": "stderr",
     "output_type": "stream",
     "text": [
      "\r",
      "                                                                                                   \r",
      "\r",
      " 56% ( 56 of 100) |########################                    | Elapsed Time: 4:35:49 ETA: 6:48:41"
     ]
    },
    {
     "name": "stdout",
     "output_type": "stream",
     "text": [
      "pattern\n",
      "a = 0.1096368, c = 1.93, alpha = 0.10000\n"
     ]
    },
    {
     "name": "stderr",
     "output_type": "stream",
     "text": [
      "\r",
      "                                                                                                   \r",
      "\r",
      " 56% ( 56 of 100) |########################                    | Elapsed Time: 4:36:20 ETA: 8:37:41"
     ]
    },
    {
     "name": "stdout",
     "output_type": "stream",
     "text": [
      "pattern\n",
      "a = 0.1096683, c = 1.95, alpha = 0.10000\n"
     ]
    },
    {
     "name": "stderr",
     "output_type": "stream",
     "text": [
      " 56% ( 56 of 100) |########################                   | Elapsed Time: 4:37:23 ETA: 11:37:46"
     ]
    },
    {
     "name": "stdout",
     "output_type": "stream",
     "text": [
      "pattern\n",
      "a = 0.1097302, c = 1.99, alpha = 0.10000\n"
     ]
    },
    {
     "name": "stderr",
     "output_type": "stream",
     "text": [
      "\r",
      "                                                                                                   \r",
      "\r",
      " 56% ( 56 of 100) |########################                   | Elapsed Time: 4:37:53 ETA: 17:17:31"
     ]
    },
    {
     "name": "stdout",
     "output_type": "stream",
     "text": [
      "pattern\n",
      "a = 0.1097608, c = 2.01, alpha = 0.10000\n"
     ]
    },
    {
     "name": "stderr",
     "output_type": "stream",
     "text": [
      "\r",
      "                                                                                                   \r",
      "\r",
      " 56% ( 56 of 100) |########################                   | Elapsed Time: 4:38:24 ETA: 17:24:56"
     ]
    },
    {
     "name": "stdout",
     "output_type": "stream",
     "text": [
      "pattern\n",
      "a = 0.1097908, c = 2.03, alpha = 0.10000\n"
     ]
    },
    {
     "name": "stderr",
     "output_type": "stream",
     "text": [
      "\r",
      "                                                                                                   \r",
      "\r",
      " 56% ( 56 of 100) |########################                   | Elapsed Time: 4:38:49 ETA: 17:13:21"
     ]
    },
    {
     "name": "stdout",
     "output_type": "stream",
     "text": [
      "pattern\n",
      "a = 0.1098204, c = 2.05, alpha = 0.10000\n"
     ]
    },
    {
     "name": "stderr",
     "output_type": "stream",
     "text": [
      "\r",
      "                                                                                                   \r",
      "\r",
      " 56% ( 56 of 100) |####################                | Elapsed Time: 4:39:17 ETA: 1 day, 10:02:59"
     ]
    },
    {
     "name": "stdout",
     "output_type": "stream",
     "text": [
      "pattern\n",
      "a = 0.1098499, c = 2.07, alpha = 0.10000\n"
     ]
    },
    {
     "name": "stderr",
     "output_type": "stream",
     "text": [
      "\r",
      "                                                                                                   \r",
      "\r",
      " 56% ( 56 of 100) |####################                 | Elapsed Time: 4:39:44 ETA: 1 day, 9:48:56"
     ]
    },
    {
     "name": "stdout",
     "output_type": "stream",
     "text": [
      "pattern\n",
      "a = 0.1098790, c = 2.09, alpha = 0.10000\n",
      "[  4.76837158e-07   4.76837158e-07   4.76837158e-07   4.76837158e-07\n",
      "   6.35027885e-02   7.08780289e-02   7.82685280e-02   8.56614113e-02\n",
      "   9.30547714e-02   1.00448132e-01   1.02786541e-01   1.03096962e-01\n",
      "   1.03372574e-01   1.03622913e-01   1.03853703e-01   1.04068279e-01\n",
      "   1.04269028e-01   1.04457378e-01   1.04635239e-01   1.04962826e-01\n",
      "   1.05114937e-01   1.05259895e-01   1.05531216e-01   1.05658531e-01\n",
      "   1.05780602e-01   1.05898380e-01   1.06011868e-01   1.06121063e-01\n",
      "   1.06328964e-01   1.06427670e-01   1.06523514e-01   1.06706142e-01\n",
      "   1.06793880e-01   1.06878757e-01   1.07041836e-01   1.07196808e-01\n",
      "   1.07271194e-01   1.07414722e-01   1.07551575e-01   1.07617855e-01\n",
      "   1.07927799e-01   1.07985973e-01   1.08043194e-01   1.08098984e-01\n",
      "   1.08260632e-01   1.08312607e-01   1.08363628e-01   1.08413696e-01\n",
      "   1.08462811e-01   1.08651638e-01   1.08741283e-01   1.08785152e-01\n",
      "   1.08912468e-01   1.08994484e-01   1.09112740e-01   1.09150887e-01\n",
      "   1.09299183e-01   1.09334946e-01   1.09370232e-01   1.09405041e-01\n",
      "   1.09439373e-01   1.09539986e-01   1.09699726e-01   0.00000000e+00\n",
      "   0.00000000e+00   0.00000000e+00   0.00000000e+00   0.00000000e+00\n",
      "   0.00000000e+00   0.00000000e+00   0.00000000e+00   0.00000000e+00\n",
      "   0.00000000e+00   0.00000000e+00   0.00000000e+00   0.00000000e+00\n",
      "   0.00000000e+00   0.00000000e+00   0.00000000e+00   0.00000000e+00\n",
      "   0.00000000e+00   0.00000000e+00   0.00000000e+00   0.00000000e+00\n",
      "   0.00000000e+00   0.00000000e+00   0.00000000e+00   0.00000000e+00\n",
      "   0.00000000e+00   0.00000000e+00   0.00000000e+00   0.00000000e+00\n",
      "   0.00000000e+00   0.00000000e+00   0.00000000e+00   0.00000000e+00\n",
      "   0.00000000e+00   0.00000000e+00   0.00000000e+00   0.00000000e+00\n",
      "   0.00000000e+00   0.00000000e+00   0.00000000e+00   0.00000000e+00\n",
      "   0.00000000e+00]\n"
     ]
    },
    {
     "name": "stderr",
     "output_type": "stream",
     "text": [
      " 60% ( 60 of 100) |##########################                  | Elapsed Time: 4:41:14 ETA: 0:30:17"
     ]
    },
    {
     "name": "stdout",
     "output_type": "stream",
     "text": [
      "pattern\n",
      "a = 0.0139923, c = 0.09, alpha = 0.31623\n"
     ]
    },
    {
     "name": "stderr",
     "output_type": "stream",
     "text": [
      "\r",
      "                                                                                                   \r",
      "\r",
      " 60% ( 60 of 100) |##########################                  | Elapsed Time: 4:41:34 ETA: 0:28:33"
     ]
    },
    {
     "name": "stdout",
     "output_type": "stream",
     "text": [
      "pattern\n",
      "a = 0.0339966, c = 0.11, alpha = 0.31623\n"
     ]
    },
    {
     "name": "stderr",
     "output_type": "stream",
     "text": [
      "\r",
      "                                                                                                   \r",
      "\r",
      " 60% ( 60 of 100) |##########################                  | Elapsed Time: 4:41:52 ETA: 0:27:34"
     ]
    },
    {
     "name": "stdout",
     "output_type": "stream",
     "text": [
      "pattern\n",
      "a = 0.0489273, c = 0.13, alpha = 0.31623\n"
     ]
    },
    {
     "name": "stderr",
     "output_type": "stream",
     "text": [
      "\r",
      "                                                                                                   \r",
      "\r",
      " 60% ( 60 of 100) |##########################                  | Elapsed Time: 4:42:16 ETA: 0:26:50"
     ]
    },
    {
     "name": "stdout",
     "output_type": "stream",
     "text": [
      "pattern\n",
      "a = 0.0561566, c = 0.15, alpha = 0.31623\n"
     ]
    },
    {
     "name": "stderr",
     "output_type": "stream",
     "text": [
      " 68% ( 68 of 100) |##############################              | Elapsed Time: 5:29:59 ETA: 2:55:05"
     ]
    },
    {
     "name": "stdout",
     "output_type": "stream",
     "text": [
      "pattern\n",
      "a = 0.5943003, c = 1.93, alpha = 0.31623\n"
     ]
    },
    {
     "name": "stderr",
     "output_type": "stream",
     "text": [
      " 69% ( 69 of 100) |#############################              | Elapsed Time: 6:04:21 ETA: 23:16:44"
     ]
    },
    {
     "name": "stdout",
     "output_type": "stream",
     "text": [
      "[  4.76837158e-07   4.76837158e-07   4.76837158e-07   4.76837158e-07\n",
      "   6.34908676e-02   7.08765984e-02   7.82685280e-02   8.56614113e-02\n",
      "   9.30552483e-02   1.00448132e-01   1.07841492e-01   1.15234375e-01\n",
      "   1.22627735e-01   1.30021095e-01   1.37413979e-01   1.44807339e-01\n",
      "   1.52200699e-01   1.59593582e-01   1.66987419e-01   1.74380779e-01\n",
      "   1.81774139e-01   1.89167023e-01   1.96560383e-01   2.03953743e-01\n",
      "   2.11347103e-01   2.18739986e-01   2.26133347e-01   2.33526707e-01\n",
      "   2.40919590e-01   2.48312473e-01   2.55705833e-01   2.63099194e-01\n",
      "   2.70492077e-01   2.77885437e-01   2.85278797e-01   2.92672157e-01\n",
      "   3.00065041e-01   3.07458401e-01   3.14851761e-01   3.22244644e-01\n",
      "   3.29638004e-01   3.37031364e-01   3.44424248e-01   3.51817608e-01\n",
      "   3.59210968e-01   3.66604328e-01   3.73997211e-01   3.81390572e-01\n",
      "   3.88783932e-01   3.96176815e-01   4.03570175e-01   4.10963535e-01\n",
      "   4.18356895e-01   4.25749779e-01   4.33143139e-01   4.40536022e-01\n",
      "   4.47929382e-01   4.55322742e-01   4.62716103e-01   4.70109463e-01\n",
      "   4.77502346e-01   4.84895706e-01   4.92288589e-01   4.99681950e-01\n",
      "   5.07075310e-01   5.14468670e-01   5.21861553e-01   5.29254913e-01\n",
      "   5.36648273e-01   5.44041157e-01   5.51434517e-01   5.58827877e-01\n",
      "   5.66221237e-01   5.73616505e-01   5.81009865e-01   5.88402748e-01\n",
      "   5.90279579e-01   5.90577126e-01   5.90861320e-01   5.91137409e-01\n",
      "   5.91407299e-01   5.91670513e-01   5.91929436e-01   5.92183590e-01\n",
      "   5.92432976e-01   5.92678547e-01   5.92920303e-01   5.93158722e-01\n",
      "   5.93393326e-01   5.93624592e-01   5.93852997e-01   5.94078064e-01\n",
      "   5.94520092e-01   5.94736576e-01   5.94950676e-01   5.95161915e-01\n",
      "   5.95371246e-01   5.95577717e-01   5.95781803e-01   5.95983505e-01\n",
      "   0.00000000e+00   0.00000000e+00   0.00000000e+00   0.00000000e+00\n",
      "   0.00000000e+00]\n"
     ]
    },
    {
     "name": "stderr",
     "output_type": "stream",
     "text": [
      " 70% ( 70 of 100) |##############################             | Elapsed Time: 6:05:53 ETA: 12:24:33"
     ]
    },
    {
     "name": "stdout",
     "output_type": "stream",
     "text": [
      "pattern\n",
      "a = 0.0139923, c = 0.09, alpha = 1.00000\n"
     ]
    },
    {
     "name": "stderr",
     "output_type": "stream",
     "text": [
      "\r",
      "                                                                                                   \r",
      "\r",
      " 70% ( 70 of 100) |##############################             | Elapsed Time: 6:06:12 ETA: 13:15:44"
     ]
    },
    {
     "name": "stdout",
     "output_type": "stream",
     "text": [
      "pattern\n",
      "a = 0.0339813, c = 0.11, alpha = 1.00000\n"
     ]
    },
    {
     "name": "stderr",
     "output_type": "stream",
     "text": [
      "\r",
      "                                                                                                   \r",
      "\r",
      " 70% ( 70 of 100) |##############################             | Elapsed Time: 6:06:32 ETA: 14:16:36"
     ]
    },
    {
     "name": "stdout",
     "output_type": "stream",
     "text": [
      "pattern\n",
      "a = 0.0485783, c = 0.13, alpha = 1.00000\n"
     ]
    },
    {
     "name": "stderr",
     "output_type": "stream",
     "text": [
      "\r",
      "                                                                                                   \r",
      "\r",
      " 70% ( 70 of 100) |###############################             | Elapsed Time: 6:06:55 ETA: 1:29:29"
     ]
    },
    {
     "name": "stdout",
     "output_type": "stream",
     "text": [
      "pattern\n",
      "a = 0.0561047, c = 0.15, alpha = 1.00000\n"
     ]
    },
    {
     "name": "stderr",
     "output_type": "stream",
     "text": [
      " 72% ( 72 of 100) |###############################             | Elapsed Time: 6:16:04 ETA: 2:35:52"
     ]
    },
    {
     "name": "stdout",
     "output_type": "stream",
     "text": [
      "pattern\n",
      "a = 0.1891665, c = 0.51, alpha = 1.00000\n"
     ]
    },
    {
     "name": "stderr",
     "output_type": "stream",
     "text": [
      " 78% ( 78 of 100) |##################################          | Elapsed Time: 6:51:11 ETA: 2:06:38"
     ]
    },
    {
     "name": "stdout",
     "output_type": "stream",
     "text": [
      "pattern\n",
      "a = 0.6697264, c = 1.81, alpha = 1.00000\n"
     ]
    },
    {
     "name": "stderr",
     "output_type": "stream",
     "text": [
      " 79% ( 79 of 100) |##################################          | Elapsed Time: 6:56:47 ETA: 2:04:46"
     ]
    },
    {
     "name": "stdout",
     "output_type": "stream",
     "text": [
      "pattern\n",
      "a = 0.7436585, c = 2.01, alpha = 1.00000\n"
     ]
    },
    {
     "name": "stderr",
     "output_type": "stream",
     "text": [
      " 79% ( 79 of 100) |##################################          | Elapsed Time: 6:59:09 ETA: 2:22:52"
     ]
    },
    {
     "name": "stdout",
     "output_type": "stream",
     "text": [
      "[  4.76837158e-07   4.76837158e-07   4.76837158e-07   4.76837158e-07\n",
      "   6.34846687e-02   7.08756447e-02   7.82685280e-02   8.56618881e-02\n",
      "   9.30547714e-02   1.00448132e-01   1.07841015e-01   1.15234375e-01\n",
      "   1.22627735e-01   1.30021095e-01   1.37414455e-01   1.44807816e-01\n",
      "   1.52201176e-01   1.59594059e-01   1.66987419e-01   1.74380302e-01\n",
      "   1.81773663e-01   1.96559906e-01   2.03953266e-01   2.11346626e-01\n",
      "   2.18739510e-01   2.26132870e-01   2.33526230e-01   2.40919113e-01\n",
      "   2.48312473e-01   2.55705833e-01   2.63098717e-01   2.70492077e-01\n",
      "   2.77885437e-01   2.85278320e-01   2.92671680e-01   3.00065041e-01\n",
      "   3.07458401e-01   3.14851284e-01   3.22244644e-01   3.29638004e-01\n",
      "   3.37030888e-01   3.44425678e-01   3.51819038e-01   3.59211922e-01\n",
      "   3.66605282e-01   3.73998642e-01   3.81392002e-01   3.88784885e-01\n",
      "   3.96178246e-01   4.03571606e-01   4.10964489e-01   4.18357849e-01\n",
      "   4.25751209e-01   4.33144569e-01   4.40537453e-01   4.47930813e-01\n",
      "   4.55324173e-01   4.62717056e-01   4.70110416e-01   4.77503777e-01\n",
      "   4.84897137e-01   4.92290020e-01   4.99683380e-01   5.07076740e-01\n",
      "   5.14470100e-01   5.21862984e-01   5.29256344e-01   5.36649704e-01\n",
      "   5.44043064e-01   5.51435947e-01   5.58829308e-01   5.66222668e-01\n",
      "   5.73615551e-01   5.81008911e-01   5.88402271e-01   5.95795155e-01\n",
      "   6.03188515e-01   6.10581875e-01   6.17975235e-01   6.25368118e-01\n",
      "   6.32761478e-01   6.40154839e-01   6.47548199e-01   6.54941082e-01\n",
      "   6.62333488e-01   6.77120209e-01   6.84513092e-01   6.91906929e-01\n",
      "   6.99299335e-01   7.06692696e-01   7.14086056e-01   7.21479893e-01\n",
      "   7.28872299e-01   7.36266136e-01   7.51051903e-01   7.58445263e-01\n",
      "   7.65839100e-01   7.73231983e-01   0.00000000e+00   0.00000000e+00\n",
      "   0.00000000e+00   0.00000000e+00   0.00000000e+00   0.00000000e+00\n",
      "   0.00000000e+00]\n"
     ]
    },
    {
     "name": "stderr",
     "output_type": "stream",
     "text": [
      " 80% ( 80 of 100) |###################################         | Elapsed Time: 7:00:44 ETA: 0:54:00"
     ]
    },
    {
     "name": "stdout",
     "output_type": "stream",
     "text": [
      "pattern\n",
      "a = 0.0139923, c = 0.09, alpha = 3.16228\n"
     ]
    },
    {
     "name": "stderr",
     "output_type": "stream",
     "text": [
      "\r",
      "                                                                                                   \r",
      "\r",
      " 80% ( 80 of 100) |###################################         | Elapsed Time: 7:01:04 ETA: 0:50:53"
     ]
    },
    {
     "name": "stdout",
     "output_type": "stream",
     "text": [
      "pattern\n",
      "a = 0.0339813, c = 0.11, alpha = 3.16228\n"
     ]
    },
    {
     "name": "stderr",
     "output_type": "stream",
     "text": [
      "\r",
      "                                                                                                   \r",
      "\r",
      " 80% ( 80 of 100) |###################################         | Elapsed Time: 7:01:26 ETA: 0:51:11"
     ]
    },
    {
     "name": "stdout",
     "output_type": "stream",
     "text": [
      "pattern\n",
      "a = 0.0483952, c = 0.13, alpha = 3.16228\n"
     ]
    },
    {
     "name": "stderr",
     "output_type": "stream",
     "text": [
      " 81% ( 81 of 100) |###################################         | Elapsed Time: 7:07:40 ETA: 1:41:36"
     ]
    },
    {
     "name": "stdout",
     "output_type": "stream",
     "text": [
      "pattern\n",
      "a = 0.1374140, c = 0.37, alpha = 3.16228\n"
     ]
    },
    {
     "name": "stderr",
     "output_type": "stream",
     "text": [
      " 85% ( 85 of 100) |#####################################       | Elapsed Time: 7:31:17 ETA: 1:17:13"
     ]
    },
    {
     "name": "stdout",
     "output_type": "stream",
     "text": [
      "pattern\n",
      "a = 0.4775023, c = 1.29, alpha = 3.16228\n"
     ]
    },
    {
     "name": "stderr",
     "output_type": "stream",
     "text": [
      " 89% ( 89 of 100) |#######################################     | Elapsed Time: 7:54:30 ETA: 1:08:45"
     ]
    },
    {
     "name": "stdout",
     "output_type": "stream",
     "text": [
      "[  4.76837158e-07   4.76837158e-07   4.76837158e-07   4.76837158e-07\n",
      "   5.60803413e-02   6.34813309e-02   7.08751678e-02   7.82685280e-02\n",
      "   8.56614113e-02   9.30547714e-02   1.00448132e-01   1.07841492e-01\n",
      "   1.15234852e-01   1.22628212e-01   1.30021095e-01   1.44807339e-01\n",
      "   1.52200699e-01   1.59594059e-01   1.66986942e-01   1.74380302e-01\n",
      "   1.81773663e-01   1.89166546e-01   1.96559906e-01   2.03953266e-01\n",
      "   2.11346149e-01   2.18739510e-01   2.26133823e-01   2.33526707e-01\n",
      "   2.40920067e-01   2.48313427e-01   2.55706787e-01   2.63099670e-01\n",
      "   2.70493031e-01   2.77885914e-01   2.85279274e-01   2.92672634e-01\n",
      "   3.00065994e-01   3.07458878e-01   3.14852238e-01   3.22245598e-01\n",
      "   3.29638958e-01   3.37031841e-01   3.44425201e-01   3.51818562e-01\n",
      "   3.59211445e-01   3.66604805e-01   3.73998165e-01   3.81391048e-01\n",
      "   3.88783932e-01   3.96177292e-01   4.03570652e-01   4.10964012e-01\n",
      "   4.18356895e-01   4.25750256e-01   4.33143616e-01   4.40536499e-01\n",
      "   4.47929859e-01   4.55322742e-01   4.62716103e-01   4.70109463e-01\n",
      "   4.84896183e-01   4.92289066e-01   4.99682426e-01   5.07075787e-01\n",
      "   5.14468670e-01   5.21862030e-01   5.29255390e-01   5.36648273e-01\n",
      "   5.44041634e-01   5.51434994e-01   5.58828354e-01   5.66221237e-01\n",
      "   5.73614120e-01   5.81007957e-01   5.88400841e-01   5.95794201e-01\n",
      "   6.03187561e-01   6.10580444e-01   6.17973804e-01   6.25367165e-01\n",
      "   6.32760525e-01   6.40153885e-01   6.47546768e-01   6.54939651e-01\n",
      "   6.62333012e-01   6.69726372e-01   6.77119732e-01   6.84513092e-01\n",
      "   6.91905975e-01   6.99299335e-01   7.06692696e-01   7.14085579e-01\n",
      "   7.21478939e-01   7.28871822e-01   7.36265182e-01   7.43658543e-01\n",
      "   7.51051426e-01   7.58445263e-01   7.65838146e-01   7.73231506e-01\n",
      "   0.00000000e+00   0.00000000e+00   0.00000000e+00   0.00000000e+00\n",
      "   0.00000000e+00]\n"
     ]
    },
    {
     "name": "stderr",
     "output_type": "stream",
     "text": [
      " 90% ( 90 of 100) |#######################################     | Elapsed Time: 7:56:12 ETA: 0:31:35"
     ]
    },
    {
     "name": "stdout",
     "output_type": "stream",
     "text": [
      "pattern\n",
      "a = 0.0139923, c = 0.09, alpha = 10.00000\n"
     ]
    },
    {
     "name": "stderr",
     "output_type": "stream",
     "text": [
      "\r",
      "                                                                                                   \r",
      "\r",
      " 90% ( 90 of 100) |#######################################     | Elapsed Time: 7:56:34 ETA: 0:31:43"
     ]
    },
    {
     "name": "stdout",
     "output_type": "stream",
     "text": [
      "pattern\n",
      "a = 0.0339813, c = 0.11, alpha = 10.00000\n"
     ]
    },
    {
     "name": "stderr",
     "output_type": "stream",
     "text": [
      "\r",
      "                                                                                                   \r",
      "\r",
      " 90% ( 90 of 100) |#######################################     | Elapsed Time: 7:56:58 ETA: 0:31:50"
     ]
    },
    {
     "name": "stdout",
     "output_type": "stream",
     "text": [
      "pattern\n",
      "a = 0.0482960, c = 0.13, alpha = 10.00000\n"
     ]
    },
    {
     "name": "stderr",
     "output_type": "stream",
     "text": [
      " 91% ( 91 of 100) |########################################    | Elapsed Time: 8:03:20 ETA: 0:53:27"
     ]
    },
    {
     "name": "stdout",
     "output_type": "stream",
     "text": [
      "pattern\n",
      "a = 0.1300201, c = 0.35, alpha = 10.00000\n"
     ]
    },
    {
     "name": "stderr",
     "output_type": "stream",
     "text": [
      " 92% ( 92 of 100) |########################################    | Elapsed Time: 8:10:06 ETA: 0:43:28"
     ]
    },
    {
     "name": "stdout",
     "output_type": "stream",
     "text": [
      "pattern\n",
      "a = 0.2187400, c = 0.59, alpha = 10.00000\n"
     ]
    },
    {
     "name": "stderr",
     "output_type": "stream",
     "text": [
      " 92% ( 92 of 100) |########################################    | Elapsed Time: 8:11:39 ETA: 0:47:09"
     ]
    },
    {
     "name": "stdout",
     "output_type": "stream",
     "text": [
      "pattern\n",
      "a = 0.2409196, c = 0.65, alpha = 10.00000\n"
     ]
    },
    {
     "name": "stderr",
     "output_type": "stream",
     "text": [
      "\r",
      "                                                                                                   \r",
      "\r",
      " 92% ( 92 of 100) |########################################    | Elapsed Time: 8:12:10 ETA: 0:53:19"
     ]
    },
    {
     "name": "stdout",
     "output_type": "stream",
     "text": [
      "pattern\n",
      "a = 0.2483125, c = 0.67, alpha = 10.00000\n"
     ]
    },
    {
     "name": "stderr",
     "output_type": "stream",
     "text": [
      " 92% ( 92 of 100) |########################################    | Elapsed Time: 8:14:23 ETA: 0:59:27"
     ]
    },
    {
     "name": "stdout",
     "output_type": "stream",
     "text": [
      "pattern\n",
      "a = 0.2778854, c = 0.75, alpha = 10.00000\n"
     ]
    },
    {
     "name": "stderr",
     "output_type": "stream",
     "text": [
      "\r",
      "                                                                                                   \r",
      "\r",
      " 92% ( 92 of 100) |########################################    | Elapsed Time: 8:14:49 ETA: 1:09:47"
     ]
    },
    {
     "name": "stdout",
     "output_type": "stream",
     "text": [
      "pattern\n",
      "a = 0.2852788, c = 0.77, alpha = 10.00000\n"
     ]
    },
    {
     "name": "stderr",
     "output_type": "stream",
     "text": [
      " 93% ( 93 of 100) |########################################    | Elapsed Time: 8:16:38 ETA: 1:11:43"
     ]
    },
    {
     "name": "stdout",
     "output_type": "stream",
     "text": [
      "pattern\n",
      "a = 0.3074584, c = 0.83, alpha = 10.00000\n"
     ]
    },
    {
     "name": "stderr",
     "output_type": "stream",
     "text": [
      " 93% ( 93 of 100) |#########################################   | Elapsed Time: 8:17:46 ETA: 1:00:08"
     ]
    },
    {
     "name": "stdout",
     "output_type": "stream",
     "text": [
      "pattern\n",
      "a = 0.3222446, c = 0.87, alpha = 10.00000\n"
     ]
    },
    {
     "name": "stderr",
     "output_type": "stream",
     "text": [
      "\r",
      "                                                                                                   \r",
      "\r",
      " 93% ( 93 of 100) |#########################################   | Elapsed Time: 8:18:15 ETA: 1:11:05"
     ]
    },
    {
     "name": "stdout",
     "output_type": "stream",
     "text": [
      "pattern\n",
      "a = 0.3296380, c = 0.89, alpha = 10.00000\n"
     ]
    },
    {
     "name": "stderr",
     "output_type": "stream",
     "text": [
      " 93% ( 93 of 100) |#########################################   | Elapsed Time: 8:19:58 ETA: 1:10:54"
     ]
    },
    {
     "name": "stdout",
     "output_type": "stream",
     "text": [
      "pattern\n",
      "a = 0.3518176, c = 0.95, alpha = 10.00000\n"
     ]
    },
    {
     "name": "stderr",
     "output_type": "stream",
     "text": [
      " 93% ( 93 of 100) |#########################################   | Elapsed Time: 8:21:36 ETA: 1:06:34"
     ]
    },
    {
     "name": "stdout",
     "output_type": "stream",
     "text": [
      "pattern\n",
      "a = 0.3739972, c = 1.01, alpha = 10.00000\n"
     ]
    },
    {
     "name": "stderr",
     "output_type": "stream",
     "text": [
      " 93% ( 93 of 100) |#########################################   | Elapsed Time: 8:22:42 ETA: 1:05:01"
     ]
    },
    {
     "name": "stdout",
     "output_type": "stream",
     "text": [
      "pattern\n",
      "a = 0.3887835, c = 1.05, alpha = 10.00000\n"
     ]
    },
    {
     "name": "stderr",
     "output_type": "stream",
     "text": [
      " 94% ( 94 of 100) |#########################################   | Elapsed Time: 8:24:54 ETA: 0:51:54"
     ]
    },
    {
     "name": "stdout",
     "output_type": "stream",
     "text": [
      "pattern\n",
      "a = 0.4183564, c = 1.13, alpha = 10.00000\n"
     ]
    },
    {
     "name": "stderr",
     "output_type": "stream",
     "text": [
      " 94% ( 94 of 100) |#########################################   | Elapsed Time: 8:26:31 ETA: 0:49:54"
     ]
    },
    {
     "name": "stdout",
     "output_type": "stream",
     "text": [
      "pattern\n",
      "a = 0.4405360, c = 1.19, alpha = 10.00000\n"
     ]
    },
    {
     "name": "stderr",
     "output_type": "stream",
     "text": [
      " 94% ( 94 of 100) |#########################################   | Elapsed Time: 8:28:46 ETA: 0:41:21"
     ]
    },
    {
     "name": "stdout",
     "output_type": "stream",
     "text": [
      "pattern\n",
      "a = 0.4701090, c = 1.27, alpha = 10.00000\n"
     ]
    },
    {
     "name": "stderr",
     "output_type": "stream",
     "text": [
      " 94% ( 94 of 100) |#########################################   | Elapsed Time: 8:29:52 ETA: 0:47:07"
     ]
    },
    {
     "name": "stdout",
     "output_type": "stream",
     "text": [
      "pattern\n",
      "a = 0.4848952, c = 1.31, alpha = 10.00000\n"
     ]
    },
    {
     "name": "stderr",
     "output_type": "stream",
     "text": [
      "\r",
      "                                                                                                   \r",
      "\r",
      " 94% ( 94 of 100) |#########################################   | Elapsed Time: 8:30:26 ETA: 0:47:17"
     ]
    },
    {
     "name": "stdout",
     "output_type": "stream",
     "text": [
      "pattern\n",
      "a = 0.4922886, c = 1.33, alpha = 10.00000\n"
     ]
    },
    {
     "name": "stderr",
     "output_type": "stream",
     "text": [
      "\r",
      "                                                                                                   \r",
      "\r",
      " 94% ( 94 of 100) |#########################################   | Elapsed Time: 8:30:55 ETA: 0:56:27"
     ]
    },
    {
     "name": "stdout",
     "output_type": "stream",
     "text": [
      "pattern\n",
      "a = 0.4996819, c = 1.35, alpha = 10.00000\n"
     ]
    },
    {
     "name": "stderr",
     "output_type": "stream",
     "text": [
      " 95% ( 95 of 100) |##########################################  | Elapsed Time: 8:37:17 ETA: 0:27:33"
     ]
    },
    {
     "name": "stdout",
     "output_type": "stream",
     "text": [
      "pattern\n",
      "a = 0.5810094, c = 1.57, alpha = 10.00000\n"
     ]
    },
    {
     "name": "stderr",
     "output_type": "stream",
     "text": [
      " 95% ( 95 of 100) |##########################################  | Elapsed Time: 8:40:15 ETA: 0:28:24"
     ]
    },
    {
     "name": "stdout",
     "output_type": "stream",
     "text": [
      "pattern\n",
      "a = 0.6179757, c = 1.67, alpha = 10.00000\n"
     ]
    },
    {
     "name": "stderr",
     "output_type": "stream",
     "text": [
      " 97% ( 97 of 100) |##########################################  | Elapsed Time: 8:50:08 ETA: 0:15:36"
     ]
    },
    {
     "name": "stdout",
     "output_type": "stream",
     "text": [
      "pattern\n",
      "a = 0.7436604, c = 2.01, alpha = 10.00000\n"
     ]
    },
    {
     "name": "stderr",
     "output_type": "stream",
     "text": [
      " 97% ( 97 of 100) |##########################################  | Elapsed Time: 8:52:00 ETA: 0:16:37"
     ]
    },
    {
     "name": "stdout",
     "output_type": "stream",
     "text": [
      "pattern\n",
      "a = 0.7658401, c = 2.07, alpha = 10.00000\n"
     ]
    },
    {
     "name": "stderr",
     "output_type": "stream",
     "text": [
      "\r",
      "                                                                                                   \r",
      "\r",
      " 97% ( 97 of 100) |##########################################  | Elapsed Time: 8:52:36 ETA: 0:19:01"
     ]
    },
    {
     "data": {
      "image/png": "[encoded data removed]",
      "text/plain": [
       "<matplotlib.figure.Figure at 0x10f5d4ac8>"
      ]
     },
     "metadata": {},
     "output_type": "display_data"
    }
   ],
   "source": [
    "def write_kernel(a,c,alpha):\n",
    "\n",
    "    kernel = open('kernels.cl','w+')\n",
    "    f1 = open('kernel1.cl','r')\n",
    "    for i in f1:\n",
    "        kernel.write(i)\n",
    "\n",
    "    f1.close()\n",
    "    kernel.write('    const float a   = ')\n",
    "    kernel.write(str(a))\n",
    "    \n",
    "    f2 = open('kernel2.cl','r')\n",
    "    for i in f2:\n",
    "        kernel.write(i)\n",
    "    \n",
    "    f2.close()\n",
    "    kernel.write('    const float c   =')\n",
    "    kernel.write(' '+str(c))\n",
    "    \n",
    "    f3 = open('kernel3.cl','r')\n",
    "    for i in f3:\n",
    "        kernel.write(i)\n",
    "    \n",
    "    kernel.write('    const float alpha =')\n",
    "    \n",
    "    f3.close()\n",
    "    kernel.write(' '+str(alpha))\n",
    "    \n",
    "    f4 = open('kernel4.cl','r')\n",
    "    for i in f4:\n",
    "        kernel.write(i)\n",
    "    \n",
    "    \n",
    "    f4.close()\n",
    "\n",
    "    kernel.close()\n",
    "    \n",
    "    \n",
    "    \n",
    "def check_pattern():\n",
    "    path = '/Users/Winston/test/gpudep-master/OUTPUT/'\n",
    "    image = 'output_000003.bmp'\n",
    "\n",
    "    im = Image.open(path+image)\n",
    "    im.load()\n",
    "    height, width = im.size\n",
    "\n",
    "    data = np.array(im)\n",
    "    hist = skimage.exposure.histogram(data)\n",
    "\n",
    "    if hist[0][0] > 7000:\n",
    "        return 'black'\n",
    "    elif hist[0][255] > 7000:\n",
    "        return 'white' \n",
    "    else:\n",
    "        return 'pattern'\n",
    "bar = progressbar.ProgressBar(redirect_stdout=True)\n",
    "c_list = np.arange(0.01,2.1,0.02)\n",
    "alpha_list = np.logspace(-3.5, 1, 10)\n",
    "for alpha in range(len(alpha_list)):\n",
    "    \n",
    "    a_list = np.zeros(len(c_list))\n",
    "    count = 0\n",
    "    for c in c_list:  \n",
    "        bar.update(((alpha)*len(c_list)+count+1)*100/(len(alpha_list)*len(a_list)))\n",
    "        a = 4.0 \n",
    "        write_kernel(a,c,alpha_list[alpha])\n",
    "        subprocess.call(shlex.split('./gpudep -b -g 50 -f 1 -t 7056'))\n",
    "        code = 1\n",
    "        power = 2\n",
    "        while code:\n",
    "            pattern = check_pattern()\n",
    "            if pattern =='black':\n",
    "\n",
    "                if a-2**power> 0:\n",
    "                    a = a-2**power\n",
    "                    write_kernel(a,c,alpha_list[alpha])\n",
    "                    subprocess.call(shlex.split('./gpudep -b -g 50 -f 1 -t 7056'))\n",
    "                else:\n",
    "                    power = power - 1\n",
    "            elif pattern == 'white':\n",
    "\n",
    "                a = a+2**power  \n",
    "                power = power - 1\n",
    "                write_kernel(a,c,alpha_list[alpha])\n",
    "                subprocess.call(shlex.split('./gpudep -b -g 50 -f 1 -t 7056'))\n",
    "            elif pattern == 'pattern':\n",
    "                print('pattern')\n",
    "                print(\"a = %.7f, c = %.2f, alpha = %.5f\" %(a,c,alpha_list[alpha]))\n",
    "                code = 0\n",
    "             \n",
    "\n",
    "            if power == -22:\n",
    "                code = 0\n",
    "                a_list[count] = a\n",
    "                count +=1\n",
    "            \n",
    "    plt.plot(c_list,a_list,'.-', color = colors[alpha],label=\"alpha = %.3f\"%alpha_list[alpha])\n",
    "    print(a_list)\n",
    "    plt.legend(bbox_to_anchor= (1.3,1) )\n",
    "plt.xlabel('c')\n",
    "plt.ylabel('a')\n",
    "plt.title('d =0.002')\n",
    "plt.show()\n",
    "\n",
    "    "
   ]
  },
  {
   "cell_type": "code",
   "execution_count": 7,
   "metadata": {
    "collapsed": false
   },
   "outputs": [
    {
     "name": "stderr",
     "output_type": "stream",
     "text": [
      "  0% (  0 of 100) |                                          | Elapsed Time: 0:00:00 ETA:  --:--:--//anaconda/lib/python3.5/site-packages/skimage/exposure/exposure.py:63: UserWarning: This might be a color image. The histogram will be computed on the flattened image. You can instead apply this function to each color channel.\n",
      "  warn(\"This might be a color image. The histogram will be \"\n",
      "100% (100 of 100) |###########################################| Elapsed Time: 7:59:03 ETA:  0:00:00"
     ]
    },
    {
     "data": {
      "image/png": "[encoded data removed]",
      "text/plain": [
       "<matplotlib.figure.Figure at 0x10f938630>"
      ]
     },
     "metadata": {},
     "output_type": "display_data"
    }
   ],
   "source": [
    "def write_kernel(a,c,alpha):\n",
    "\n",
    "    kernel = open('kernels.cl','w+')\n",
    "    f1 = open('kernel1.cl','r')\n",
    "    for i in f1:\n",
    "        kernel.write(i)\n",
    "\n",
    "    f1.close()\n",
    "    kernel.write('    const float a   = ')\n",
    "    kernel.write(str(a))\n",
    "    \n",
    "    f2 = open('kernel2.cl','r')\n",
    "    for i in f2:\n",
    "        kernel.write(i)\n",
    "    \n",
    "    f2.close()\n",
    "    kernel.write('    const float c   =')\n",
    "    kernel.write(' '+str(c))\n",
    "    \n",
    "    f3 = open('kernel3.cl','r')\n",
    "    for i in f3:\n",
    "        kernel.write(i)\n",
    "    \n",
    "    kernel.write('    const float alpha =')\n",
    "    \n",
    "    f3.close()\n",
    "    kernel.write(' '+str(alpha))\n",
    "    \n",
    "    f4 = open('kernel4.cl','r')\n",
    "    for i in f4:\n",
    "        kernel.write(i)\n",
    "    \n",
    "    \n",
    "    f4.close()\n",
    "\n",
    "    kernel.close()\n",
    "    \n",
    "    \n",
    "    \n",
    "def check_pattern():\n",
    "    path = '/Users/Winston/test/gpudep-master/OUTPUT/'\n",
    "    image = 'output_000003.bmp'\n",
    "\n",
    "    im = Image.open(path+image)\n",
    "    im.load()\n",
    "    height, width = im.size\n",
    "\n",
    "    data = np.array(im)\n",
    "    hist = skimage.exposure.histogram(data)\n",
    "\n",
    "    if hist[0][0] > 7000:\n",
    "        return 'black'\n",
    "    elif hist[0][255] > 7000:\n",
    "        return 'white' \n",
    "    else:\n",
    "        return 'pattern'\n",
    "bar = progressbar.ProgressBar(redirect_stdout=True)\n",
    "c_list = np.arange(0.01,2.1,0.05)\n",
    "alpha_list = np.logspace(-3.5, 1, 10)\n",
    "for alpha in range(len(alpha_list)):\n",
    "    \n",
    "    a_list = np.zeros(len(c_list))\n",
    "    count = 0\n",
    "    for c in c_list:  \n",
    "        bar.update(((alpha)*len(c_list)+count+1)*100/(len(alpha_list)*len(a_list)))\n",
    "        a = 4.0 \n",
    "        write_kernel(a,c,alpha_list[alpha])\n",
    "        subprocess.call(shlex.split('./gpudep -b -g 50 -f 1 -t 7056'))\n",
    "        code = 1\n",
    "        power = 2\n",
    "        while code:\n",
    "            pattern = check_pattern()\n",
    "            if pattern =='black':\n",
    "\n",
    "                if a-2**power> 0:\n",
    "                    a = a-2**power\n",
    "                    write_kernel(a,c,alpha_list[alpha])\n",
    "                    subprocess.call(shlex.split('./gpudep -b -g 50 -f 1 -t 7056'))\n",
    "                else:\n",
    "                    power = power - 1\n",
    "            elif pattern == 'white':\n",
    "\n",
    "                a = a+2**power  \n",
    "                power = power - 1\n",
    "                write_kernel(a,c,alpha_list[alpha])\n",
    "                subprocess.call(shlex.split('./gpudep -b -g 50 -f 1 -t 7056'))\n",
    "            elif pattern == 'pattern':\n",
    "                print('pattern')\n",
    "                print(\"a = %.7f, c = %.2f, alpha = %.5f\" %(a,c,alpha_list[alpha]))\n",
    "                subprocess.call(shlex.split('./gpudep -b -g 300 -f 1 -t 7056'))\n",
    "                copyfile('/Users/Winston/test/gpudep-master/OUTPUT/output_000002.bmp', '/Users/Winston/test/gpudep-master/pattern_check/%.5f_%.5f_%.5f.bmp'%(a,c,alpha))\n",
    "                code = 0\n",
    "                a_list[count] = a\n",
    "                count +=1\n",
    "\n",
    "            if power == -21:\n",
    "                code = 0\n",
    "                a_list[count] = a\n",
    "                count +=1\n",
    "            \n",
    "    plt.plot(c_list,a_list,'.-', color = colors[alpha],label=\"alpha = %.4f\"%alpha_list[alpha])\n",
    "    print(a_list)\n",
    "    plt.legend(bbox_to_anchor= (1.3,1) )\n",
    "plt.xlabel('c')\n",
    "plt.ylabel('a')\n",
    "plt.title('d =0.002')\n",
    "plt.show()\n",
    "\n",
    "    "
   ]
  },
  {
   "cell_type": "code",
   "execution_count": 8,
   "metadata": {
    "collapsed": false
   },
   "outputs": [
    {
     "name": "stderr",
     "output_type": "stream",
     "text": [
      "  0% (  0 of 100) |                                          | Elapsed Time: 0:00:00 ETA:  --:--:--//anaconda/lib/python3.5/site-packages/skimage/exposure/exposure.py:63: UserWarning: This might be a color image. The histogram will be computed on the flattened image. You can instead apply this function to each color channel.\n",
      "  warn(\"This might be a color image. The histogram will be \"\n",
      "100% (100 of 100) |###########################################| Elapsed Time: 3:45:06 ETA:  0:00:00"
     ]
    },
    {
     "data": {
      "image/png": "[encoded data removed]",
      "text/plain": [
       "<matplotlib.figure.Figure at 0x10fbaf828>"
      ]
     },
     "metadata": {},
     "output_type": "display_data"
    }
   ],
   "source": [
    "def write_kernel(a,c,alpha):\n",
    "\n",
    "    kernel = open('kernels.cl','w+')\n",
    "    f1 = open('kernel1.cl','r')\n",
    "    for i in f1:\n",
    "        kernel.write(i)\n",
    "\n",
    "    f1.close()\n",
    "    kernel.write('    const float a   = ')\n",
    "    kernel.write(str(a))\n",
    "    \n",
    "    f2 = open('kernel2.cl','r')\n",
    "    for i in f2:\n",
    "        kernel.write(i)\n",
    "    \n",
    "    f2.close()\n",
    "    kernel.write('    const float c   =')\n",
    "    kernel.write(' '+str(c))\n",
    "    \n",
    "    f3 = open('kernel3.cl','r')\n",
    "    for i in f3:\n",
    "        kernel.write(i)\n",
    "    \n",
    "    kernel.write('    const float alpha =')\n",
    "    \n",
    "    f3.close()\n",
    "    kernel.write(' '+str(alpha))\n",
    "    \n",
    "    f4 = open('kernel4.cl','r')\n",
    "    for i in f4:\n",
    "        kernel.write(i)\n",
    "    \n",
    "    \n",
    "    f4.close()\n",
    "\n",
    "    kernel.close()\n",
    "    \n",
    "    \n",
    "    \n",
    "def check_pattern():\n",
    "    path = '/Users/Winston/test/gpudep-master/OUTPUT/'\n",
    "    image = 'output_000003.bmp'\n",
    "\n",
    "    im = Image.open(path+image)\n",
    "    im.load()\n",
    "    height, width = im.size\n",
    "\n",
    "    data = np.array(im)\n",
    "    hist = skimage.exposure.histogram(data)\n",
    "\n",
    "    if hist[0][0] > 7000:\n",
    "        return 'black'\n",
    "    elif hist[0][255] > 7000:\n",
    "        return 'white' \n",
    "    else:\n",
    "        return 'pattern'\n",
    "bar = progressbar.ProgressBar(redirect_stdout=True)\n",
    "c_list = np.arange(0.01,2.1,0.05)\n",
    "alpha_list = np.logspace(-3.5, 1, 10)\n",
    "for alpha in range(len(alpha_list)):\n",
    "    \n",
    "    a_list = np.zeros(len(c_list))\n",
    "    count = 0\n",
    "    for c in c_list:  \n",
    "        bar.update(((alpha)*len(c_list)+count+1)*100/(len(alpha_list)*len(a_list)))\n",
    "        a = 4.0 \n",
    "        write_kernel(a,c,alpha_list[alpha])\n",
    "        subprocess.call(shlex.split('./gpudep -b -g 50 -f 1 -t 7056'))\n",
    "        code = 1\n",
    "        power = 2\n",
    "        while code:\n",
    "            pattern = check_pattern()\n",
    "            if pattern =='black':\n",
    "\n",
    "                if a-2**power> 0:\n",
    "                    a = a-2**power\n",
    "                    write_kernel(a,c,alpha_list[alpha])\n",
    "                    subprocess.call(shlex.split('./gpudep -b -g 50 -f 1 -t 7056'))\n",
    "                else:\n",
    "                    power = power - 1\n",
    "            elif pattern == 'white':\n",
    "\n",
    "                a = a+2**power  \n",
    "                power = power - 1\n",
    "                write_kernel(a,c,alpha_list[alpha])\n",
    "                subprocess.call(shlex.split('./gpudep -b -g 50 -f 1 -t 7056'))\n",
    "            elif pattern == 'pattern':\n",
    "                print('pattern')\n",
    "                print(\"a = %.7f, c = %.2f, alpha = %.5f\" %(a,c,alpha_list[alpha]))\n",
    "                subprocess.call(shlex.split('./gpudep -b -g 300 -f 1 -t 7056'))\n",
    "                copyfile('/Users/Winston/test/gpudep-master/OUTPUT/output_000002.bmp', '/Users/Winston/test/gpudep-master/pattern_check/%.5f_%.5f_%.5f.bmp'%(a,c,alpha))\n",
    "                code = 0\n",
    "                a_list[count] = a\n",
    "                count +=1\n",
    "\n",
    "            if power == -21:\n",
    "                code = 0\n",
    "                a_list[count] = a\n",
    "                count +=1\n",
    "            \n",
    "    plt.plot(c_list,a_list,'.-', color = colors[alpha],label=\"alpha = %.4f\"%alpha_list[alpha])\n",
    "    print(a_list)\n",
    "    plt.legend(bbox_to_anchor= (1.3,1) )\n",
    "plt.xlabel('c')\n",
    "plt.ylabel('a')\n",
    "plt.title(' b = 0.001 d =0.002')\n",
    "plt.show()\n",
    "\n",
    "    "
   ]
  },
  {
   "cell_type": "code",
   "execution_count": 9,
   "metadata": {
    "collapsed": false
   },
   "outputs": [
    {
     "name": "stderr",
     "output_type": "stream",
     "text": [
      "  0% (  0 of 100) |                                          | Elapsed Time: 0:00:00 ETA:  --:--:--//anaconda/lib/python3.5/site-packages/skimage/exposure/exposure.py:63: UserWarning: This might be a color image. The histogram will be computed on the flattened image. You can instead apply this function to each color channel.\n",
      "  warn(\"This might be a color image. The histogram will be \"\n",
      "  0% (  0 of 100) |                                            | Elapsed Time: 0:00:15 ETA: 0:53:46"
     ]
    },
    {
     "ename": "KeyboardInterrupt",
     "evalue": "",
     "output_type": "error",
     "traceback": [
      "\u001b[0;31m---------------------------------------------------------------------------\u001b[0m",
      "\u001b[0;31mKeyboardInterrupt\u001b[0m                         Traceback (most recent call last)",
      "\u001b[0;32m<ipython-input-9-70d79e8bab19>\u001b[0m in \u001b[0;36m<module>\u001b[0;34m()\u001b[0m\n\u001b[1;32m     76\u001b[0m                     \u001b[0ma\u001b[0m \u001b[0;34m=\u001b[0m \u001b[0ma\u001b[0m\u001b[0;34m-\u001b[0m\u001b[0;36m2\u001b[0m\u001b[0;34m**\u001b[0m\u001b[0mpower\u001b[0m\u001b[0;34m\u001b[0m\u001b[0m\n\u001b[1;32m     77\u001b[0m                     \u001b[0mwrite_kernel\u001b[0m\u001b[0;34m(\u001b[0m\u001b[0ma\u001b[0m\u001b[0;34m,\u001b[0m\u001b[0mc\u001b[0m\u001b[0;34m,\u001b[0m\u001b[0malpha_list\u001b[0m\u001b[0;34m[\u001b[0m\u001b[0malpha\u001b[0m\u001b[0;34m]\u001b[0m\u001b[0;34m)\u001b[0m\u001b[0;34m\u001b[0m\u001b[0m\n\u001b[0;32m---> 78\u001b[0;31m                     \u001b[0msubprocess\u001b[0m\u001b[0;34m.\u001b[0m\u001b[0mcall\u001b[0m\u001b[0;34m(\u001b[0m\u001b[0mshlex\u001b[0m\u001b[0;34m.\u001b[0m\u001b[0msplit\u001b[0m\u001b[0;34m(\u001b[0m\u001b[0;34m'./gpudep -b -g 50 -f 1 -t 7056'\u001b[0m\u001b[0;34m)\u001b[0m\u001b[0;34m)\u001b[0m\u001b[0;34m\u001b[0m\u001b[0m\n\u001b[0m\u001b[1;32m     79\u001b[0m                 \u001b[0;32melse\u001b[0m\u001b[0;34m:\u001b[0m\u001b[0;34m\u001b[0m\u001b[0m\n\u001b[1;32m     80\u001b[0m                     \u001b[0mpower\u001b[0m \u001b[0;34m=\u001b[0m \u001b[0mpower\u001b[0m \u001b[0;34m-\u001b[0m \u001b[0;36m1\u001b[0m\u001b[0;34m\u001b[0m\u001b[0m\n",
      "\u001b[0;32m//anaconda/lib/python3.5/subprocess.py\u001b[0m in \u001b[0;36mcall\u001b[0;34m(timeout, *popenargs, **kwargs)\u001b[0m\n\u001b[1;32m    557\u001b[0m     \u001b[0;32mwith\u001b[0m \u001b[0mPopen\u001b[0m\u001b[0;34m(\u001b[0m\u001b[0;34m*\u001b[0m\u001b[0mpopenargs\u001b[0m\u001b[0;34m,\u001b[0m \u001b[0;34m**\u001b[0m\u001b[0mkwargs\u001b[0m\u001b[0;34m)\u001b[0m \u001b[0;32mas\u001b[0m \u001b[0mp\u001b[0m\u001b[0;34m:\u001b[0m\u001b[0;34m\u001b[0m\u001b[0m\n\u001b[1;32m    558\u001b[0m         \u001b[0;32mtry\u001b[0m\u001b[0;34m:\u001b[0m\u001b[0;34m\u001b[0m\u001b[0m\n\u001b[0;32m--> 559\u001b[0;31m             \u001b[0;32mreturn\u001b[0m \u001b[0mp\u001b[0m\u001b[0;34m.\u001b[0m\u001b[0mwait\u001b[0m\u001b[0;34m(\u001b[0m\u001b[0mtimeout\u001b[0m\u001b[0;34m=\u001b[0m\u001b[0mtimeout\u001b[0m\u001b[0;34m)\u001b[0m\u001b[0;34m\u001b[0m\u001b[0m\n\u001b[0m\u001b[1;32m    560\u001b[0m         \u001b[0;32mexcept\u001b[0m\u001b[0;34m:\u001b[0m\u001b[0;34m\u001b[0m\u001b[0m\n\u001b[1;32m    561\u001b[0m             \u001b[0mp\u001b[0m\u001b[0;34m.\u001b[0m\u001b[0mkill\u001b[0m\u001b[0;34m(\u001b[0m\u001b[0;34m)\u001b[0m\u001b[0;34m\u001b[0m\u001b[0m\n",
      "\u001b[0;32m//anaconda/lib/python3.5/subprocess.py\u001b[0m in \u001b[0;36mwait\u001b[0;34m(self, timeout, endtime)\u001b[0m\n\u001b[1;32m   1656\u001b[0m                         \u001b[0;32mif\u001b[0m \u001b[0mself\u001b[0m\u001b[0;34m.\u001b[0m\u001b[0mreturncode\u001b[0m \u001b[0;32mis\u001b[0m \u001b[0;32mnot\u001b[0m \u001b[0;32mNone\u001b[0m\u001b[0;34m:\u001b[0m\u001b[0;34m\u001b[0m\u001b[0m\n\u001b[1;32m   1657\u001b[0m                             \u001b[0;32mbreak\u001b[0m  \u001b[0;31m# Another thread waited.\u001b[0m\u001b[0;34m\u001b[0m\u001b[0m\n\u001b[0;32m-> 1658\u001b[0;31m                         \u001b[0;34m(\u001b[0m\u001b[0mpid\u001b[0m\u001b[0;34m,\u001b[0m \u001b[0msts\u001b[0m\u001b[0;34m)\u001b[0m \u001b[0;34m=\u001b[0m \u001b[0mself\u001b[0m\u001b[0;34m.\u001b[0m\u001b[0m_try_wait\u001b[0m\u001b[0;34m(\u001b[0m\u001b[0;36m0\u001b[0m\u001b[0;34m)\u001b[0m\u001b[0;34m\u001b[0m\u001b[0m\n\u001b[0m\u001b[1;32m   1659\u001b[0m                         \u001b[0;31m# Check the pid and loop as waitpid has been known to\u001b[0m\u001b[0;34m\u001b[0m\u001b[0;34m\u001b[0m\u001b[0m\n\u001b[1;32m   1660\u001b[0m                         \u001b[0;31m# return 0 even without WNOHANG in odd situations.\u001b[0m\u001b[0;34m\u001b[0m\u001b[0;34m\u001b[0m\u001b[0m\n",
      "\u001b[0;32m//anaconda/lib/python3.5/subprocess.py\u001b[0m in \u001b[0;36m_try_wait\u001b[0;34m(self, wait_flags)\u001b[0m\n\u001b[1;32m   1606\u001b[0m             \u001b[0;34m\"\"\"All callers to this function MUST hold self._waitpid_lock.\"\"\"\u001b[0m\u001b[0;34m\u001b[0m\u001b[0m\n\u001b[1;32m   1607\u001b[0m             \u001b[0;32mtry\u001b[0m\u001b[0;34m:\u001b[0m\u001b[0;34m\u001b[0m\u001b[0m\n\u001b[0;32m-> 1608\u001b[0;31m                 \u001b[0;34m(\u001b[0m\u001b[0mpid\u001b[0m\u001b[0;34m,\u001b[0m \u001b[0msts\u001b[0m\u001b[0;34m)\u001b[0m \u001b[0;34m=\u001b[0m \u001b[0mos\u001b[0m\u001b[0;34m.\u001b[0m\u001b[0mwaitpid\u001b[0m\u001b[0;34m(\u001b[0m\u001b[0mself\u001b[0m\u001b[0;34m.\u001b[0m\u001b[0mpid\u001b[0m\u001b[0;34m,\u001b[0m \u001b[0mwait_flags\u001b[0m\u001b[0;34m)\u001b[0m\u001b[0;34m\u001b[0m\u001b[0m\n\u001b[0m\u001b[1;32m   1609\u001b[0m             \u001b[0;32mexcept\u001b[0m \u001b[0mChildProcessError\u001b[0m\u001b[0;34m:\u001b[0m\u001b[0;34m\u001b[0m\u001b[0m\n\u001b[1;32m   1610\u001b[0m                 \u001b[0;31m# This happens if SIGCLD is set to be ignored or waiting\u001b[0m\u001b[0;34m\u001b[0m\u001b[0;34m\u001b[0m\u001b[0m\n",
      "\u001b[0;31mKeyboardInterrupt\u001b[0m: "
     ]
    }
   ],
   "source": [
    "def write_kernel(a,c,alpha):\n",
    "\n",
    "    kernel = open('kernels.cl','w+')\n",
    "    f1 = open('kernel1.cl','r')\n",
    "    for i in f1:\n",
    "        kernel.write(i)\n",
    "\n",
    "    f1.close()\n",
    "    kernel.write('    const float a   = ')\n",
    "    kernel.write(str(a))\n",
    "    \n",
    "    f2 = open('kernel2.cl','r')\n",
    "    for i in f2:\n",
    "        kernel.write(i)\n",
    "    \n",
    "    f2.close()\n",
    "    kernel.write('    const float c   =')\n",
    "    kernel.write(' '+str(c))\n",
    "    \n",
    "    f3 = open('kernel3.cl','r')\n",
    "    for i in f3:\n",
    "        kernel.write(i)\n",
    "    \n",
    "    kernel.write('    const float alpha =')\n",
    "    \n",
    "    f3.close()\n",
    "    kernel.write(' '+str(alpha))\n",
    "    \n",
    "    f4 = open('kernel4.cl','r')\n",
    "    for i in f4:\n",
    "        kernel.write(i)\n",
    "    \n",
    "    \n",
    "    f4.close()\n",
    "\n",
    "    kernel.close()\n",
    "    \n",
    "    \n",
    "    \n",
    "def check_pattern():\n",
    "    path = '/Users/Winston/test/gpudep-master/OUTPUT/'\n",
    "    image = 'output_000003.bmp'\n",
    "\n",
    "    im = Image.open(path+image)\n",
    "    im.load()\n",
    "    height, width = im.size\n",
    "\n",
    "    data = np.array(im)\n",
    "    hist = skimage.exposure.histogram(data)\n",
    "\n",
    "    if hist[0][0] > 7000:\n",
    "        return 'black'\n",
    "    elif hist[0][255] > 7000:\n",
    "        return 'white' \n",
    "    else:\n",
    "        return 'pattern'\n",
    "bar = progressbar.ProgressBar(redirect_stdout=True)\n",
    "c_list = np.arange(0.01,2.1,0.05)\n",
    "alpha_list = np.logspace(-3.5, 1, 10)\n",
    "for alpha in range(len(alpha_list)):\n",
    "    \n",
    "    a_list = np.zeros(len(c_list))\n",
    "    count = 0\n",
    "    for c in c_list:  \n",
    "        bar.update(((alpha)*len(c_list)+count+1)*100/(len(alpha_list)*len(a_list)))\n",
    "        a = 4.0 \n",
    "        write_kernel(a,c,alpha_list[alpha])\n",
    "        subprocess.call(shlex.split('./gpudep -b -g 50 -f 1 -t 7056'))\n",
    "        code = 1\n",
    "        power = 2\n",
    "        while code:\n",
    "            pattern = check_pattern()\n",
    "            if pattern =='black':\n",
    "\n",
    "                if a-2**power> 0:\n",
    "                    a = a-2**power\n",
    "                    write_kernel(a,c,alpha_list[alpha])\n",
    "                    subprocess.call(shlex.split('./gpudep -b -g 50 -f 1 -t 7056'))\n",
    "                else:\n",
    "                    power = power - 1\n",
    "            elif pattern == 'white':\n",
    "\n",
    "                a = a+2**power  \n",
    "                power = power - 1\n",
    "                write_kernel(a,c,alpha_list[alpha])\n",
    "                subprocess.call(shlex.split('./gpudep -b -g 50 -f 1 -t 7056'))\n",
    "            elif pattern == 'pattern':\n",
    "                print('pattern')\n",
    "                print(\"a = %.7f, c = %.2f, alpha = %.5f\" %(a,c,alpha_list[alpha]))\n",
    "                subprocess.call(shlex.split('./gpudep -b -g 300 -f 1 -t 7056'))\n",
    "                copyfile('/Users/Winston/test/gpudep-master/OUTPUT/output_000002.bmp', '/Users/Winston/test/gpudep-master/pattern_check/%.5f_%.5f_%.5f.bmp'%(a,c,alpha))\n",
    "                code = 0\n",
    "                a_list[count] = a\n",
    "                count +=1\n",
    "\n",
    "            if power == -21:\n",
    "                code = 0\n",
    "                a_list[count] = a\n",
    "                count +=1\n",
    "            \n",
    "    plt.plot(c_list,a_list,'.-', color = colors[alpha],label=\"alpha = %.4f\"%alpha_list[alpha])\n",
    "    print(a_list)\n",
    "    plt.legend(bbox_to_anchor= (1.3,1) )\n",
    "plt.xlabel('c')\n",
    "plt.ylabel('a')\n",
    "plt.title(' b = 0.00001 d =0.002')\n",
    "plt.show()\n",
    "\n",
    "    "
   ]
  },
  {
   "cell_type": "code",
   "execution_count": null,
   "metadata": {
    "collapsed": true
   },
   "outputs": [],
   "source": []
  },
  {
   "cell_type": "code",
   "execution_count": null,
   "metadata": {
    "collapsed": false
   },
   "outputs": [],
   "source": [
    "c_list = np.array([0.8])\n",
    "alpha_list = np.array([0.6])\n",
    "for alpha in range(len(alpha_list)):\n",
    "    \n",
    "    a_list = np.zeros(len(c_list))\n",
    "    count = 0\n",
    "    for c in c_list:  \n",
    "        #bar.update(((alpha)*len(c_list)+count)*100/(len(alpha_list)*len(a_list)))\n",
    "        a = 4.0 \n",
    "        write_kernel(a,c,alpha_list[alpha])\n",
    "        subprocess.call(shlex.split('./gpudep -b -g 50 -f 1 -t 7056'))\n",
    "        code = 1\n",
    "        power = 2\n",
    "        while code:\n",
    "            pattern = check_pattern()\n",
    "            if pattern =='black':\n",
    "\n",
    "                if a-2**power> 0:\n",
    "                    a = a-2**power\n",
    "                    write_kernel(a,c,alpha_list[alpha])\n",
    "                    subprocess.call(shlex.split('./gpudep -b -g 50 -f 1 -t 7056'))\n",
    "                else:\n",
    "                    power = power - 1\n",
    "            elif pattern == 'white':\n",
    "\n",
    "                a = a+2**power  \n",
    "                power = power - 1\n",
    "            elif pattern == 'pattern':\n",
    "                print('pattern')\n",
    "                print(\"a = %.7f, c = %.2f\"%(a,c))\n",
    "                code = 0\n",
    "             \n",
    "\n",
    "            if power == -20:\n",
    "                code = 0\n",
    "                a_list[count] =a\n",
    "                count +=1\n",
    "        print(a)"
   ]
  },
  {
   "cell_type": "code",
   "execution_count": 19,
   "metadata": {
    "collapsed": true
   },
   "outputs": [],
   "source": [
    "print(a)"
   ]
  },
  {
   "cell_type": "code",
   "execution_count": 20,
   "metadata": {
    "collapsed": true
   },
   "outputs": [],
   "source": [
    "help(print)"
   ]
  },
  {
   "cell_type": "markdown",
   "metadata": {
    "collapsed": true
   },
   "source": [
    "# whiching equation\n",
    "\n"
   ]
  },
  {
   "cell_type": "code",
   "execution_count": 11,
   "metadata": {
    "collapsed": false
   },
   "outputs": [
    {
     "name": "stderr",
     "output_type": "stream",
     "text": [
      "  0% (  0 of 100) |                                          | Elapsed Time: 0:00:00 ETA:  --:--:--//anaconda/lib/python3.5/site-packages/skimage/exposure/exposure.py:63: UserWarning: This might be a color image. The histogram will be computed on the flattened image. You can instead apply this function to each color channel.\n",
      "  warn(\"This might be a color image. The histogram will be \"\n",
      "100% (100 of 100) |####################################| Elapsed Time: 1 day, 1:58:18 ETA:  0:00:00"
     ]
    },
    {
     "data": {
      "image/png": "[encoded data removed]",
      "text/plain": [
       "<matplotlib.figure.Figure at 0x10f940908>"
      ]
     },
     "metadata": {},
     "output_type": "display_data"
    }
   ],
   "source": [
    "def write_kernel(a,c,alpha):\n",
    "\n",
    "    kernel = open('kernels.cl','w+')\n",
    "    f1 = open('kernel1.cl','r')\n",
    "    for i in f1:\n",
    "        kernel.write(i)\n",
    "\n",
    "    f1.close()\n",
    "    kernel.write('    const float a   = ')\n",
    "    kernel.write(str(a))\n",
    "    \n",
    "    f2 = open('kernel2.cl','r')\n",
    "    for i in f2:\n",
    "        kernel.write(i)\n",
    "    \n",
    "    f2.close()\n",
    "    kernel.write('    const float c   =')\n",
    "    kernel.write(' '+str(c))\n",
    "    \n",
    "    f3 = open('kernel3.cl','r')\n",
    "    for i in f3:\n",
    "        kernel.write(i)\n",
    "    \n",
    "    kernel.write('    const float alpha =')\n",
    "    \n",
    "    f3.close()\n",
    "    kernel.write(' '+str(alpha))\n",
    "    \n",
    "    f4 = open('kernel4.cl','r')\n",
    "    for i in f4:\n",
    "        kernel.write(i)\n",
    "    \n",
    "    \n",
    "    f4.close()\n",
    "\n",
    "    kernel.close()\n",
    "    \n",
    "    \n",
    "    \n",
    "def check_pattern():\n",
    "    path = '/Users/Winston/test/gpudep-master/OUTPUT/'\n",
    "    image = 'output_000003.bmp'\n",
    "\n",
    "    im = Image.open(path+image)\n",
    "    im.load()\n",
    "    height, width = im.size\n",
    "\n",
    "    data = np.array(im)\n",
    "    hist = skimage.exposure.histogram(data)\n",
    "\n",
    "    if hist[0][0] > 7000:\n",
    "        return 'black'\n",
    "    elif hist[0][255] > 7000:\n",
    "        return 'white' \n",
    "    else:\n",
    "        return 'pattern'\n",
    "bar = progressbar.ProgressBar(redirect_stdout=True)\n",
    "c_list = np.arange(0.01,2.1,0.05)\n",
    "alpha_list = np.logspace(-3.5, 1, 10)\n",
    "for alpha in range(len(alpha_list)):\n",
    "    \n",
    "    a_list = np.zeros(len(c_list))\n",
    "    count = 0\n",
    "    for c in c_list:  \n",
    "        bar.update(((alpha)*len(c_list)+count+1)*100/(len(alpha_list)*len(a_list)))\n",
    "        a = 4.0 \n",
    "        write_kernel(a,c,alpha_list[alpha])\n",
    "        subprocess.call(shlex.split('./gpudep -b -g 50 -f 1 -t 7056'))\n",
    "        code = 1\n",
    "        power = 2\n",
    "        while code:\n",
    "            pattern = check_pattern()\n",
    "            if pattern =='black':\n",
    "\n",
    "                if a-2**power> 0:\n",
    "                    a = a-2**power\n",
    "                    write_kernel(a,c,alpha_list[alpha])\n",
    "                    subprocess.call(shlex.split('./gpudep -b -g 50 -f 1 -t 7056'))\n",
    "                else:\n",
    "                    power = power - 1\n",
    "            elif pattern == 'white':\n",
    "\n",
    "                a = a+2**power  \n",
    "                power = power - 1\n",
    "                write_kernel(a,c,alpha_list[alpha])\n",
    "                subprocess.call(shlex.split('./gpudep -b -g 50 -f 1 -t 7056'))\n",
    "            elif pattern == 'pattern':\n",
    "                print('pattern')\n",
    "                print(\"a = %.7f, c = %.2f, alpha = %.5f\" %(a,c,alpha_list[alpha]))\n",
    "                subprocess.call(shlex.split('./gpudep -b -g 300 -f 1 -t 7056'))\n",
    "                copyfile('/Users/Winston/test/gpudep-master/OUTPUT/output_000002.bmp', '/Users/Winston/test/gpudep-master/pattern_check/%.5f_%.5f_%.5f.bmp'%(a,c,alpha))\n",
    "                code = 0\n",
    "                a_list[count] = a\n",
    "                count +=1\n",
    "\n",
    "            if power == -21:\n",
    "                code = 0\n",
    "                a_list[count] = a\n",
    "                count +=1\n",
    "            \n",
    "    plt.plot(c_list,a_list,'.-', color = colors[alpha],label=\"alpha = %.4f\"%alpha_list[alpha])\n",
    "    print(a_list)\n",
    "    plt.legend(bbox_to_anchor= (1.3,1) )\n",
    "plt.xlabel('c')\n",
    "plt.ylabel('a')\n",
    "plt.title(' b = 0.001 d =0.002')\n",
    "plt.show()\n",
    "\n",
    "    "
   ]
  },
  {
   "cell_type": "code",
   "execution_count": null,
   "metadata": {
    "collapsed": true
   },
   "outputs": [],
   "source": []
  }
 ],
 "metadata": {
  "anaconda-cloud": {},
  "kernelspec": {
   "display_name": "Python [conda root]",
   "language": "python",
   "name": "conda-root-py"
  },
  "language_info": {
   "codemirror_mode": {
    "name": "ipython",
    "version": 3
   },
   "file_extension": ".py",
   "mimetype": "text/x-python",
   "name": "python",
   "nbconvert_exporter": "python",
   "pygments_lexer": "ipython3",
   "version": "3.5.2"
  }
 },
 "nbformat": 4,
 "nbformat_minor": 1
}
